{
 "cells": [
  {
   "cell_type": "markdown",
   "metadata": {},
   "source": [
    "# Определение выгодного тарифа для телеком-компании"
   ]
  },
  {
   "cell_type": "markdown",
   "metadata": {},
   "source": [
    "Комерческому департаменту федерального оператора сотовой связи «Мегалайн» необходимо скорректировать рекламный бюджет. Компания предлагает клиентам два тарифных плана: «Смарт» и «Ультра». \n",
    "\n",
    "**Цель проекта**\n",
    "\n",
    "- на основе анализа поведения клиентов выявить,  какой тариф прибыльнее с точки зрения компании\n",
    "\n",
    "\n",
    "**Задачи:**\n",
    "- предварительный анализ поведения клиентов, пользующихся тарифными планами \"Смарт\" и \"Ультра\". В распоряжении есть данные 500 пользователей «Мегалайна»: кто они, откуда, каким тарифом пользуются, сколько звонков и сообщений каждый отправил за 2018 год. \n",
    "- Определить, какой тариф прибыльнее с точки зрения компании.  Для ответа на этот вопрос будут проверены две гипотезы:\n",
    "\n",
    "-  средняя выручка пользователей тарифов «Ультра» и «Смарт» различаются;\n",
    "-  средняя выручка пользователей из Москвы отличается от выручки пользователей из других регионов.\n",
    "\n",
    "**Описание данных:**\n",
    "\n",
    "**Тариф «Смарт»**\n",
    "\n",
    "- Ежемесячная плата: 550 рублей\n",
    "- Включено 500 минут разговора, 50 сообщений и 15 Гб интернет-трафика\n",
    "- Стоимость услуг сверх тарифного пакета:\n",
    "-  минута разговора: 3 рубля\n",
    "-  сообщение: 3 рубля\n",
    "-  1 Гб интернет-трафика: 200 рублей\n",
    "\n",
    "\n",
    "**Тариф «Ультра»**\n",
    "\n",
    "- Ежемесячная плата: 1950 рублей\n",
    "- Включено 3000 минут разговора, 1000 сообщений и 30 Гб интернет-трафика\n",
    "- Стоимость услуг сверх тарифного пакета:\n",
    "-  минута разговора: 1 рубль\n",
    "-  сообщение: 1 рубль\n",
    "-  1 Гб интернет-трафика: 150 рублей\n",
    "\n",
    "\n",
    "**Таблица users — информация о пользователях:**\n",
    "- user_id — уникальный идентификатор пользователя\n",
    "- first_name — имя пользователя\n",
    "- last_name — фамилия пользователя\n",
    "- age — возраст пользователя (годы)\n",
    "- reg_date — дата подключения тарифа (день, месяц, год)\n",
    "- churn_date — дата прекращения пользования тарифом (если значение пропущено, значит, тариф ещё действовал на момент выгрузки данных)\n",
    "- city — город проживания пользователя\n",
    "- tarif — название тарифного плана\n",
    "\n",
    "**Таблица calls — информация о звонках:**\n",
    "- id — уникальный номер звонка\n",
    "- call_date — дата звонка\n",
    "- duration — длительность звонка в минутах\n",
    "- user_id — идентификатор пользователя, сделавшего звонок\n",
    "\n",
    "**Таблица messages — информация о сообщениях:**\n",
    "- id — уникальный номер звонка\n",
    "- message_date — дата сообщения\n",
    "- user_id — идентификатор пользователя, отправившего сообщение\n",
    "\n",
    "**Таблица internet — информация об интернет-сессиях:**\n",
    "- id — уникальный номер сессии\n",
    "- mb_used — объём потраченного за сессию интернет-трафика (в мегабайтах)\n",
    "- session_date — дата интернет-сессии\n",
    "- user_id — идентификатор пользователя\n",
    "\n",
    "**Таблица tariffs — информация о тарифах:**\n",
    "- tariff_name — название тарифа\n",
    "- rub_monthly_fee — ежемесячная абонентская плата в рублях\n",
    "- minutes_included — количество минут разговора в месяц, включённых в абонентскую плату\n",
    "- messages_included — количество сообщений в месяц, включённых в абонентскую плату\n",
    "- mb_per_month_included — объём интернет-трафика, включённого в абонентскую плату (в мегабайтах)\n",
    "- rub_per_minute — стоимость минуты разговора сверх тарифного пакета (например, если в тарифе 100 минут разговора в месяц, то со 101 минуты будет взиматься плата)\n",
    "- rub_per_message — стоимость отправки сообщения сверх тарифного пакета\n",
    "- rub_per_gb — стоимость дополнительного гигабайта интернет-трафика сверх тарифного пакета (1 гигабайт = 1024 мегабайта)\n",
    "\n",
    "\n",
    "\n",
    "**Исследование пройдёт в пять этапов:**\n",
    "\n",
    "- Обзор данных;\n",
    "- Предобработка данных;\n",
    "- Расчеты;\n",
    "- Анализ данных;\n",
    "- Проверка гипотез."
   ]
  },
  {
   "cell_type": "markdown",
   "metadata": {},
   "source": [
    "# Обзор данных"
   ]
  },
  {
   "cell_type": "code",
   "execution_count": 1,
   "metadata": {
    "deletable": false,
    "id": "RrVHWePG_oCV"
   },
   "outputs": [],
   "source": [
    "# импорт библиотек\n",
    "import pandas as pd\n",
    "import numpy as np\n",
    "import seaborn as sns\n",
    "import matplotlib.pyplot as plt\n",
    "from scipy import stats as st"
   ]
  },
  {
   "cell_type": "markdown",
   "metadata": {
    "id": "NzOeQM6C_oCY"
   },
   "source": [
    "### Открываем файл с данными и изучаем общую информацию"
   ]
  },
  {
   "cell_type": "markdown",
   "metadata": {
    "id": "NzOeQM6C_oCY"
   },
   "source": [
    "Откроем файл `/datasets/calls.csv`, сохраним датафрейм в переменную `calls`."
   ]
  },
  {
   "cell_type": "code",
   "execution_count": 2,
   "metadata": {
    "deletable": false,
    "id": "lPo8_mWg_oCZ"
   },
   "outputs": [],
   "source": [
    "try:\n",
    "    calls=pd.read_csv('/datasets/calls.csv')\n",
    "except:\n",
    "    calls = pd.read_csv('https://code.s3.yandex.net/datasets/calls.csv')"
   ]
  },
  {
   "cell_type": "markdown",
   "metadata": {
    "id": "NzOeQM6C_oCY"
   },
   "source": [
    "Выведем первые 5 строк датафрейма `calls`."
   ]
  },
  {
   "cell_type": "code",
   "execution_count": 3,
   "metadata": {
    "deletable": false,
    "id": "mdxHj-qz_oCZ"
   },
   "outputs": [
    {
     "data": {
      "text/html": [
       "<div>\n",
       "<style scoped>\n",
       "    .dataframe tbody tr th:only-of-type {\n",
       "        vertical-align: middle;\n",
       "    }\n",
       "\n",
       "    .dataframe tbody tr th {\n",
       "        vertical-align: top;\n",
       "    }\n",
       "\n",
       "    .dataframe thead th {\n",
       "        text-align: right;\n",
       "    }\n",
       "</style>\n",
       "<table border=\"1\" class=\"dataframe\">\n",
       "  <thead>\n",
       "    <tr style=\"text-align: right;\">\n",
       "      <th></th>\n",
       "      <th>id</th>\n",
       "      <th>call_date</th>\n",
       "      <th>duration</th>\n",
       "      <th>user_id</th>\n",
       "    </tr>\n",
       "  </thead>\n",
       "  <tbody>\n",
       "    <tr>\n",
       "      <th>0</th>\n",
       "      <td>1000_0</td>\n",
       "      <td>2018-07-25</td>\n",
       "      <td>0.00</td>\n",
       "      <td>1000</td>\n",
       "    </tr>\n",
       "    <tr>\n",
       "      <th>1</th>\n",
       "      <td>1000_1</td>\n",
       "      <td>2018-08-17</td>\n",
       "      <td>0.00</td>\n",
       "      <td>1000</td>\n",
       "    </tr>\n",
       "    <tr>\n",
       "      <th>2</th>\n",
       "      <td>1000_2</td>\n",
       "      <td>2018-06-11</td>\n",
       "      <td>2.85</td>\n",
       "      <td>1000</td>\n",
       "    </tr>\n",
       "    <tr>\n",
       "      <th>3</th>\n",
       "      <td>1000_3</td>\n",
       "      <td>2018-09-21</td>\n",
       "      <td>13.80</td>\n",
       "      <td>1000</td>\n",
       "    </tr>\n",
       "    <tr>\n",
       "      <th>4</th>\n",
       "      <td>1000_4</td>\n",
       "      <td>2018-12-15</td>\n",
       "      <td>5.18</td>\n",
       "      <td>1000</td>\n",
       "    </tr>\n",
       "  </tbody>\n",
       "</table>\n",
       "</div>"
      ],
      "text/plain": [
       "       id   call_date  duration  user_id\n",
       "0  1000_0  2018-07-25      0.00     1000\n",
       "1  1000_1  2018-08-17      0.00     1000\n",
       "2  1000_2  2018-06-11      2.85     1000\n",
       "3  1000_3  2018-09-21     13.80     1000\n",
       "4  1000_4  2018-12-15      5.18     1000"
      ]
     },
     "metadata": {},
     "output_type": "display_data"
    }
   ],
   "source": [
    "display(calls.head())"
   ]
  },
  {
   "cell_type": "markdown",
   "metadata": {
    "id": "NzOeQM6C_oCY"
   },
   "source": [
    "Выведем основную информацию для датафрейма `calls` с помощью метода `info()`."
   ]
  },
  {
   "cell_type": "code",
   "execution_count": 4,
   "metadata": {
    "deletable": false,
    "id": "wiDgaGnA_oCa"
   },
   "outputs": [
    {
     "name": "stdout",
     "output_type": "stream",
     "text": [
      "<class 'pandas.core.frame.DataFrame'>\n",
      "RangeIndex: 202607 entries, 0 to 202606\n",
      "Data columns (total 4 columns):\n",
      " #   Column     Non-Null Count   Dtype  \n",
      "---  ------     --------------   -----  \n",
      " 0   id         202607 non-null  object \n",
      " 1   call_date  202607 non-null  object \n",
      " 2   duration   202607 non-null  float64\n",
      " 3   user_id    202607 non-null  int64  \n",
      "dtypes: float64(1), int64(1), object(2)\n",
      "memory usage: 6.2+ MB\n"
     ]
    }
   ],
   "source": [
    "calls.info()"
   ]
  },
  {
   "cell_type": "markdown",
   "metadata": {
    "id": "NzOeQM6C_oCY"
   },
   "source": [
    "С помощью метода `hist()` выведем гистограмму для столбца с продолжительностью звонков."
   ]
  },
  {
   "cell_type": "code",
   "execution_count": 5,
   "metadata": {
    "deletable": false,
    "id": "sKOklkAe_oCa"
   },
   "outputs": [
    {
     "data": {
      "text/plain": [
       "<Axes: >"
      ]
     },
     "execution_count": 5,
     "metadata": {},
     "output_type": "execute_result"
    },
    {
     "data": {
      "image/png": "[encoded data removed]",
      "text/plain": [
       "<Figure size 640x480 with 1 Axes>"
      ]
     },
     "metadata": {},
     "output_type": "display_data"
    }
   ],
   "source": [
    "calls['duration'].hist()"
   ]
  },
  {
   "cell_type": "markdown",
   "metadata": {
    "id": "NzOeQM6C_oCY"
   },
   "source": [
    "Откроем файл `/datasets/internet.csv`, сохраним датафрейм в переменную `sessions`."
   ]
  },
  {
   "cell_type": "code",
   "execution_count": 6,
   "metadata": {
    "deletable": false,
    "id": "Wf_f3Vkc_oCa"
   },
   "outputs": [],
   "source": [
    "try:\n",
    "    sessions=pd.read_csv('/datasets/internet.csv')\n",
    "except:\n",
    "    sessions = pd.read_csv('https://code.s3.yandex.net/datasets/internet.csv')"
   ]
  },
  {
   "cell_type": "markdown",
   "metadata": {
    "id": "NzOeQM6C_oCY"
   },
   "source": [
    "Выведем первые 5 строк датафрейма `sessions`."
   ]
  },
  {
   "cell_type": "code",
   "execution_count": 7,
   "metadata": {
    "deletable": false,
    "id": "LsRkGeG7_oCb"
   },
   "outputs": [
    {
     "data": {
      "text/html": [
       "<div>\n",
       "<style scoped>\n",
       "    .dataframe tbody tr th:only-of-type {\n",
       "        vertical-align: middle;\n",
       "    }\n",
       "\n",
       "    .dataframe tbody tr th {\n",
       "        vertical-align: top;\n",
       "    }\n",
       "\n",
       "    .dataframe thead th {\n",
       "        text-align: right;\n",
       "    }\n",
       "</style>\n",
       "<table border=\"1\" class=\"dataframe\">\n",
       "  <thead>\n",
       "    <tr style=\"text-align: right;\">\n",
       "      <th></th>\n",
       "      <th>Unnamed: 0</th>\n",
       "      <th>id</th>\n",
       "      <th>mb_used</th>\n",
       "      <th>session_date</th>\n",
       "      <th>user_id</th>\n",
       "    </tr>\n",
       "  </thead>\n",
       "  <tbody>\n",
       "    <tr>\n",
       "      <th>0</th>\n",
       "      <td>0</td>\n",
       "      <td>1000_0</td>\n",
       "      <td>112.95</td>\n",
       "      <td>2018-11-25</td>\n",
       "      <td>1000</td>\n",
       "    </tr>\n",
       "    <tr>\n",
       "      <th>1</th>\n",
       "      <td>1</td>\n",
       "      <td>1000_1</td>\n",
       "      <td>1052.81</td>\n",
       "      <td>2018-09-07</td>\n",
       "      <td>1000</td>\n",
       "    </tr>\n",
       "    <tr>\n",
       "      <th>2</th>\n",
       "      <td>2</td>\n",
       "      <td>1000_2</td>\n",
       "      <td>1197.26</td>\n",
       "      <td>2018-06-25</td>\n",
       "      <td>1000</td>\n",
       "    </tr>\n",
       "    <tr>\n",
       "      <th>3</th>\n",
       "      <td>3</td>\n",
       "      <td>1000_3</td>\n",
       "      <td>550.27</td>\n",
       "      <td>2018-08-22</td>\n",
       "      <td>1000</td>\n",
       "    </tr>\n",
       "    <tr>\n",
       "      <th>4</th>\n",
       "      <td>4</td>\n",
       "      <td>1000_4</td>\n",
       "      <td>302.56</td>\n",
       "      <td>2018-09-24</td>\n",
       "      <td>1000</td>\n",
       "    </tr>\n",
       "  </tbody>\n",
       "</table>\n",
       "</div>"
      ],
      "text/plain": [
       "   Unnamed: 0      id  mb_used session_date  user_id\n",
       "0           0  1000_0   112.95   2018-11-25     1000\n",
       "1           1  1000_1  1052.81   2018-09-07     1000\n",
       "2           2  1000_2  1197.26   2018-06-25     1000\n",
       "3           3  1000_3   550.27   2018-08-22     1000\n",
       "4           4  1000_4   302.56   2018-09-24     1000"
      ]
     },
     "metadata": {},
     "output_type": "display_data"
    }
   ],
   "source": [
    "display(sessions.head())"
   ]
  },
  {
   "cell_type": "markdown",
   "metadata": {
    "id": "NzOeQM6C_oCY"
   },
   "source": [
    "Выведем основную информацию для датафрейма `sessions` с помощью метода `info()`. "
   ]
  },
  {
   "cell_type": "code",
   "execution_count": 8,
   "metadata": {
    "deletable": false,
    "id": "0fLAUTTQ_oCb"
   },
   "outputs": [
    {
     "name": "stdout",
     "output_type": "stream",
     "text": [
      "<class 'pandas.core.frame.DataFrame'>\n",
      "RangeIndex: 149396 entries, 0 to 149395\n",
      "Data columns (total 5 columns):\n",
      " #   Column        Non-Null Count   Dtype  \n",
      "---  ------        --------------   -----  \n",
      " 0   Unnamed: 0    149396 non-null  int64  \n",
      " 1   id            149396 non-null  object \n",
      " 2   mb_used       149396 non-null  float64\n",
      " 3   session_date  149396 non-null  object \n",
      " 4   user_id       149396 non-null  int64  \n",
      "dtypes: float64(1), int64(2), object(2)\n",
      "memory usage: 5.7+ MB\n"
     ]
    }
   ],
   "source": [
    "sessions.info()"
   ]
  },
  {
   "cell_type": "markdown",
   "metadata": {
    "id": "NzOeQM6C_oCY"
   },
   "source": [
    "С помощью метода `hist()` выведем гистограмму для столбца с количеством потраченных мегабайт."
   ]
  },
  {
   "cell_type": "code",
   "execution_count": 9,
   "metadata": {
    "deletable": false,
    "id": "_uke6m2-_oCb"
   },
   "outputs": [
    {
     "data": {
      "text/plain": [
       "<Axes: >"
      ]
     },
     "execution_count": 9,
     "metadata": {},
     "output_type": "execute_result"
    },
    {
     "data": {
      "image/png": "[encoded data removed]",
      "text/plain": [
       "<Figure size 640x480 with 1 Axes>"
      ]
     },
     "metadata": {},
     "output_type": "display_data"
    }
   ],
   "source": [
    "sessions['mb_used'].hist()"
   ]
  },
  {
   "cell_type": "markdown",
   "metadata": {
    "id": "NzOeQM6C_oCY"
   },
   "source": [
    "Откроем файл `/datasets/messages.csv`, сохраним датафрейм в переменную `messages`."
   ]
  },
  {
   "cell_type": "code",
   "execution_count": 10,
   "metadata": {
    "deletable": false,
    "id": "UKrQhgvV_oCc"
   },
   "outputs": [],
   "source": [
    "try:\n",
    "    messages=pd.read_csv('/datasets/messages.csv')\n",
    "except:\n",
    "    messages = pd.read_csv('https://code.s3.yandex.net/datasets/messages.csv')"
   ]
  },
  {
   "cell_type": "markdown",
   "metadata": {
    "id": "NzOeQM6C_oCY"
   },
   "source": [
    "Выведем первые 5 строк датафрейма `messages`."
   ]
  },
  {
   "cell_type": "code",
   "execution_count": 11,
   "metadata": {
    "deletable": false,
    "id": "1_zOkvJO_oCc"
   },
   "outputs": [
    {
     "data": {
      "text/html": [
       "<div>\n",
       "<style scoped>\n",
       "    .dataframe tbody tr th:only-of-type {\n",
       "        vertical-align: middle;\n",
       "    }\n",
       "\n",
       "    .dataframe tbody tr th {\n",
       "        vertical-align: top;\n",
       "    }\n",
       "\n",
       "    .dataframe thead th {\n",
       "        text-align: right;\n",
       "    }\n",
       "</style>\n",
       "<table border=\"1\" class=\"dataframe\">\n",
       "  <thead>\n",
       "    <tr style=\"text-align: right;\">\n",
       "      <th></th>\n",
       "      <th>id</th>\n",
       "      <th>message_date</th>\n",
       "      <th>user_id</th>\n",
       "    </tr>\n",
       "  </thead>\n",
       "  <tbody>\n",
       "    <tr>\n",
       "      <th>0</th>\n",
       "      <td>1000_0</td>\n",
       "      <td>2018-06-27</td>\n",
       "      <td>1000</td>\n",
       "    </tr>\n",
       "    <tr>\n",
       "      <th>1</th>\n",
       "      <td>1000_1</td>\n",
       "      <td>2018-10-08</td>\n",
       "      <td>1000</td>\n",
       "    </tr>\n",
       "    <tr>\n",
       "      <th>2</th>\n",
       "      <td>1000_2</td>\n",
       "      <td>2018-08-04</td>\n",
       "      <td>1000</td>\n",
       "    </tr>\n",
       "    <tr>\n",
       "      <th>3</th>\n",
       "      <td>1000_3</td>\n",
       "      <td>2018-06-16</td>\n",
       "      <td>1000</td>\n",
       "    </tr>\n",
       "    <tr>\n",
       "      <th>4</th>\n",
       "      <td>1000_4</td>\n",
       "      <td>2018-12-05</td>\n",
       "      <td>1000</td>\n",
       "    </tr>\n",
       "  </tbody>\n",
       "</table>\n",
       "</div>"
      ],
      "text/plain": [
       "       id message_date  user_id\n",
       "0  1000_0   2018-06-27     1000\n",
       "1  1000_1   2018-10-08     1000\n",
       "2  1000_2   2018-08-04     1000\n",
       "3  1000_3   2018-06-16     1000\n",
       "4  1000_4   2018-12-05     1000"
      ]
     },
     "metadata": {},
     "output_type": "display_data"
    }
   ],
   "source": [
    "display(messages.head())"
   ]
  },
  {
   "cell_type": "markdown",
   "metadata": {
    "id": "NzOeQM6C_oCY"
   },
   "source": [
    "Выведем основную информацию для датафрейма `messages` с помощью метода `info()`. "
   ]
  },
  {
   "cell_type": "code",
   "execution_count": 12,
   "metadata": {
    "deletable": false,
    "id": "wrgl0LdX_oCc"
   },
   "outputs": [
    {
     "name": "stdout",
     "output_type": "stream",
     "text": [
      "<class 'pandas.core.frame.DataFrame'>\n",
      "RangeIndex: 123036 entries, 0 to 123035\n",
      "Data columns (total 3 columns):\n",
      " #   Column        Non-Null Count   Dtype \n",
      "---  ------        --------------   ----- \n",
      " 0   id            123036 non-null  object\n",
      " 1   message_date  123036 non-null  object\n",
      " 2   user_id       123036 non-null  int64 \n",
      "dtypes: int64(1), object(2)\n",
      "memory usage: 2.8+ MB\n"
     ]
    }
   ],
   "source": [
    "messages.info()"
   ]
  },
  {
   "cell_type": "markdown",
   "metadata": {
    "id": "NzOeQM6C_oCY"
   },
   "source": [
    "Откройем файл `/datasets/tariffs.csv`, сохраним датафрейм в переменную `tariffs`."
   ]
  },
  {
   "cell_type": "code",
   "execution_count": 13,
   "metadata": {
    "deletable": false,
    "id": "3V2mBbx5_oCc"
   },
   "outputs": [],
   "source": [
    "try:\n",
    "    tariffs=pd.read_csv('/datasets/tariffs.csv')\n",
    "except:\n",
    "    tariffs = pd.read_csv('https://code.s3.yandex.net/datasets/tariffs.csv')"
   ]
  },
  {
   "cell_type": "markdown",
   "metadata": {
    "id": "NzOeQM6C_oCY"
   },
   "source": [
    "Выведем весь датафрейм `tariffs`."
   ]
  },
  {
   "cell_type": "code",
   "execution_count": 14,
   "metadata": {
    "deletable": false,
    "id": "aa6cdOI9_oCd"
   },
   "outputs": [
    {
     "data": {
      "text/html": [
       "<div>\n",
       "<style scoped>\n",
       "    .dataframe tbody tr th:only-of-type {\n",
       "        vertical-align: middle;\n",
       "    }\n",
       "\n",
       "    .dataframe tbody tr th {\n",
       "        vertical-align: top;\n",
       "    }\n",
       "\n",
       "    .dataframe thead th {\n",
       "        text-align: right;\n",
       "    }\n",
       "</style>\n",
       "<table border=\"1\" class=\"dataframe\">\n",
       "  <thead>\n",
       "    <tr style=\"text-align: right;\">\n",
       "      <th></th>\n",
       "      <th>messages_included</th>\n",
       "      <th>mb_per_month_included</th>\n",
       "      <th>minutes_included</th>\n",
       "      <th>rub_monthly_fee</th>\n",
       "      <th>rub_per_gb</th>\n",
       "      <th>rub_per_message</th>\n",
       "      <th>rub_per_minute</th>\n",
       "      <th>tariff_name</th>\n",
       "    </tr>\n",
       "  </thead>\n",
       "  <tbody>\n",
       "    <tr>\n",
       "      <th>0</th>\n",
       "      <td>50</td>\n",
       "      <td>15360</td>\n",
       "      <td>500</td>\n",
       "      <td>550</td>\n",
       "      <td>200</td>\n",
       "      <td>3</td>\n",
       "      <td>3</td>\n",
       "      <td>smart</td>\n",
       "    </tr>\n",
       "    <tr>\n",
       "      <th>1</th>\n",
       "      <td>1000</td>\n",
       "      <td>30720</td>\n",
       "      <td>3000</td>\n",
       "      <td>1950</td>\n",
       "      <td>150</td>\n",
       "      <td>1</td>\n",
       "      <td>1</td>\n",
       "      <td>ultra</td>\n",
       "    </tr>\n",
       "  </tbody>\n",
       "</table>\n",
       "</div>"
      ],
      "text/plain": [
       "   messages_included  mb_per_month_included  minutes_included  \\\n",
       "0                 50                  15360               500   \n",
       "1               1000                  30720              3000   \n",
       "\n",
       "   rub_monthly_fee  rub_per_gb  rub_per_message  rub_per_minute tariff_name  \n",
       "0              550         200                3               3       smart  \n",
       "1             1950         150                1               1       ultra  "
      ]
     },
     "metadata": {},
     "output_type": "display_data"
    }
   ],
   "source": [
    "display(tariffs)"
   ]
  },
  {
   "cell_type": "markdown",
   "metadata": {
    "id": "NzOeQM6C_oCY"
   },
   "source": [
    "Выведем основную информацию для датафрейма `tariffs` с помощью метода `info()`."
   ]
  },
  {
   "cell_type": "code",
   "execution_count": 15,
   "metadata": {
    "deletable": false,
    "id": "YgK7d8XT_oCd"
   },
   "outputs": [
    {
     "name": "stdout",
     "output_type": "stream",
     "text": [
      "<class 'pandas.core.frame.DataFrame'>\n",
      "RangeIndex: 2 entries, 0 to 1\n",
      "Data columns (total 8 columns):\n",
      " #   Column                 Non-Null Count  Dtype \n",
      "---  ------                 --------------  ----- \n",
      " 0   messages_included      2 non-null      int64 \n",
      " 1   mb_per_month_included  2 non-null      int64 \n",
      " 2   minutes_included       2 non-null      int64 \n",
      " 3   rub_monthly_fee        2 non-null      int64 \n",
      " 4   rub_per_gb             2 non-null      int64 \n",
      " 5   rub_per_message        2 non-null      int64 \n",
      " 6   rub_per_minute         2 non-null      int64 \n",
      " 7   tariff_name            2 non-null      object\n",
      "dtypes: int64(7), object(1)\n",
      "memory usage: 256.0+ bytes\n"
     ]
    }
   ],
   "source": [
    "tariffs.info()"
   ]
  },
  {
   "cell_type": "markdown",
   "metadata": {
    "id": "NzOeQM6C_oCY"
   },
   "source": [
    "Откроем файл `/datasets/users.csv`, сохраним датафрейм в переменную `users`."
   ]
  },
  {
   "cell_type": "code",
   "execution_count": 16,
   "metadata": {
    "deletable": false,
    "id": "v5NwQmKo_oCd"
   },
   "outputs": [],
   "source": [
    "try:\n",
    "    users=pd.read_csv('/datasets/users.csv')\n",
    "except:\n",
    "    users = pd.read_csv('https://code.s3.yandex.net/datasets/users.csv')"
   ]
  },
  {
   "cell_type": "markdown",
   "metadata": {
    "id": "q0SqMiTs_oCd",
    "tags": [
     "start_task"
    ]
   },
   "source": [
    "Выведем первые 5 строк датафрейма `users`."
   ]
  },
  {
   "cell_type": "code",
   "execution_count": 17,
   "metadata": {
    "id": "NzOeQM6C_oCY"
   },
   "outputs": [
    {
     "data": {
      "text/html": [
       "<div>\n",
       "<style scoped>\n",
       "    .dataframe tbody tr th:only-of-type {\n",
       "        vertical-align: middle;\n",
       "    }\n",
       "\n",
       "    .dataframe tbody tr th {\n",
       "        vertical-align: top;\n",
       "    }\n",
       "\n",
       "    .dataframe thead th {\n",
       "        text-align: right;\n",
       "    }\n",
       "</style>\n",
       "<table border=\"1\" class=\"dataframe\">\n",
       "  <thead>\n",
       "    <tr style=\"text-align: right;\">\n",
       "      <th></th>\n",
       "      <th>user_id</th>\n",
       "      <th>age</th>\n",
       "      <th>churn_date</th>\n",
       "      <th>city</th>\n",
       "      <th>first_name</th>\n",
       "      <th>last_name</th>\n",
       "      <th>reg_date</th>\n",
       "      <th>tariff</th>\n",
       "    </tr>\n",
       "  </thead>\n",
       "  <tbody>\n",
       "    <tr>\n",
       "      <th>0</th>\n",
       "      <td>1000</td>\n",
       "      <td>52</td>\n",
       "      <td>NaN</td>\n",
       "      <td>Краснодар</td>\n",
       "      <td>Рафаил</td>\n",
       "      <td>Верещагин</td>\n",
       "      <td>2018-05-25</td>\n",
       "      <td>ultra</td>\n",
       "    </tr>\n",
       "    <tr>\n",
       "      <th>1</th>\n",
       "      <td>1001</td>\n",
       "      <td>41</td>\n",
       "      <td>NaN</td>\n",
       "      <td>Москва</td>\n",
       "      <td>Иван</td>\n",
       "      <td>Ежов</td>\n",
       "      <td>2018-11-01</td>\n",
       "      <td>smart</td>\n",
       "    </tr>\n",
       "    <tr>\n",
       "      <th>2</th>\n",
       "      <td>1002</td>\n",
       "      <td>59</td>\n",
       "      <td>NaN</td>\n",
       "      <td>Стерлитамак</td>\n",
       "      <td>Евгений</td>\n",
       "      <td>Абрамович</td>\n",
       "      <td>2018-06-17</td>\n",
       "      <td>smart</td>\n",
       "    </tr>\n",
       "    <tr>\n",
       "      <th>3</th>\n",
       "      <td>1003</td>\n",
       "      <td>23</td>\n",
       "      <td>NaN</td>\n",
       "      <td>Москва</td>\n",
       "      <td>Белла</td>\n",
       "      <td>Белякова</td>\n",
       "      <td>2018-08-17</td>\n",
       "      <td>ultra</td>\n",
       "    </tr>\n",
       "    <tr>\n",
       "      <th>4</th>\n",
       "      <td>1004</td>\n",
       "      <td>68</td>\n",
       "      <td>NaN</td>\n",
       "      <td>Новокузнецк</td>\n",
       "      <td>Татьяна</td>\n",
       "      <td>Авдеенко</td>\n",
       "      <td>2018-05-14</td>\n",
       "      <td>ultra</td>\n",
       "    </tr>\n",
       "  </tbody>\n",
       "</table>\n",
       "</div>"
      ],
      "text/plain": [
       "   user_id  age churn_date         city first_name  last_name    reg_date  \\\n",
       "0     1000   52        NaN    Краснодар     Рафаил  Верещагин  2018-05-25   \n",
       "1     1001   41        NaN       Москва       Иван       Ежов  2018-11-01   \n",
       "2     1002   59        NaN  Стерлитамак    Евгений  Абрамович  2018-06-17   \n",
       "3     1003   23        NaN       Москва      Белла   Белякова  2018-08-17   \n",
       "4     1004   68        NaN  Новокузнецк    Татьяна   Авдеенко  2018-05-14   \n",
       "\n",
       "  tariff  \n",
       "0  ultra  \n",
       "1  smart  \n",
       "2  smart  \n",
       "3  ultra  \n",
       "4  ultra  "
      ]
     },
     "metadata": {},
     "output_type": "display_data"
    }
   ],
   "source": [
    "display(users.head())"
   ]
  },
  {
   "cell_type": "markdown",
   "metadata": {
    "id": "NzOeQM6C_oCY"
   },
   "source": [
    "Выведем основную информацию для датафрейма `users` с помощью метода `info()`."
   ]
  },
  {
   "cell_type": "code",
   "execution_count": 18,
   "metadata": {
    "deletable": false,
    "id": "WgiCfvjJ_oCe"
   },
   "outputs": [
    {
     "name": "stdout",
     "output_type": "stream",
     "text": [
      "<class 'pandas.core.frame.DataFrame'>\n",
      "RangeIndex: 500 entries, 0 to 499\n",
      "Data columns (total 8 columns):\n",
      " #   Column      Non-Null Count  Dtype \n",
      "---  ------      --------------  ----- \n",
      " 0   user_id     500 non-null    int64 \n",
      " 1   age         500 non-null    int64 \n",
      " 2   churn_date  38 non-null     object\n",
      " 3   city        500 non-null    object\n",
      " 4   first_name  500 non-null    object\n",
      " 5   last_name   500 non-null    object\n",
      " 6   reg_date    500 non-null    object\n",
      " 7   tariff      500 non-null    object\n",
      "dtypes: int64(2), object(6)\n",
      "memory usage: 31.4+ KB\n"
     ]
    }
   ],
   "source": [
    "users.info()"
   ]
  },
  {
   "cell_type": "markdown",
   "metadata": {
    "id": "NzOeQM6C_oCY"
   },
   "source": [
    "### Подготка данных"
   ]
  },
  {
   "cell_type": "markdown",
   "metadata": {
    "id": "NzOeQM6C_oCY"
   },
   "source": [
    "Приведем столбцы\n",
    "\n",
    "- `reg_date` из таблицы `users`\n",
    "- `churn_date` из таблицы `users`\n",
    "- `call_date` из таблицы `calls`\n",
    "- `message_date` из таблицы `messages`\n",
    "- `session_date` из таблицы `sessions`\n",
    "\n",
    "к новому типу с помощью метода `to_datetime()`."
   ]
  },
  {
   "cell_type": "code",
   "execution_count": 19,
   "metadata": {
    "deletable": false,
    "id": "Ig2hAtil_oCh"
   },
   "outputs": [],
   "source": [
    "users['reg_date']=pd.to_datetime(users['reg_date'],format='%Y-%m-%d')# обработка столбца reg_date\n",
    "users['churn_date']=pd.to_datetime(users['churn_date'],format='%Y-%m-%d')# обработка столбца churn_date\n",
    "\n",
    "calls['call_date']=pd.to_datetime(calls['call_date'],format='%Y-%m-%d')# обработка столбца call_date\n",
    "\n",
    "messages['message_date']=pd.to_datetime(messages['message_date'],format='%Y-%m-%d')# обработка столбца message_date\n",
    "sessions['session_date']=pd.to_datetime(sessions['session_date'],format='%Y-%m-%d')# обработка столбца session_date"
   ]
  },
  {
   "cell_type": "markdown",
   "metadata": {
    "id": "NzOeQM6C_oCY"
   },
   "source": [
    "В данных есть звонки с нулевой продолжительностью. Это не ошибка: нулями обозначены пропущенные звонки, поэтому их не нужно удалять.\n",
    "\n",
    "Однако в столбце `duration` датафрейма `calls` значения дробные. Округлим значения столбца `duration` вверх с помощью метода `numpy.ceil()` и приведем столбец `duration` к типу `int`."
   ]
  },
  {
   "cell_type": "code",
   "execution_count": 20,
   "metadata": {
    "deletable": false,
    "id": "7Msb3UqS_oCj"
   },
   "outputs": [],
   "source": [
    "\n",
    "calls['duration']=np.ceil(calls['duration']).astype(int)\n",
    "# округление значений столбца duration с помощью np.ceil() и приведение типа к int"
   ]
  },
  {
   "cell_type": "markdown",
   "metadata": {
    "id": "NzOeQM6C_oCY"
   },
   "source": [
    "Удалим столбец `Unnamed: 0` из датафрейма `sessions`. Столбец с таким названием возникает, когда данные сохраняют с указанием индекса (`df.to_csv(..., index=column)`). Он сейчас не понадобится."
   ]
  },
  {
   "cell_type": "code",
   "execution_count": 21,
   "metadata": {
    "deletable": false,
    "id": "0qBUTIJK_oCj"
   },
   "outputs": [],
   "source": [
    "sessions=sessions.drop(columns='Unnamed: 0')"
   ]
  },
  {
   "cell_type": "markdown",
   "metadata": {
    "id": "NzOeQM6C_oCY"
   },
   "source": [
    "Создадим столбец `month` в датафрейме `calls` с номером месяца из столбца `call_date`."
   ]
  },
  {
   "cell_type": "code",
   "execution_count": 22,
   "metadata": {
    "deletable": false,
    "id": "qepFbMhq_oCj"
   },
   "outputs": [],
   "source": [
    "calls['month']=calls['call_date'].dt.month"
   ]
  },
  {
   "cell_type": "markdown",
   "metadata": {
    "id": "NzOeQM6C_oCY"
   },
   "source": [
    "Создадим столбец `month` в датафрейме `messages` с номером месяца из столбца `message_date`."
   ]
  },
  {
   "cell_type": "code",
   "execution_count": 23,
   "metadata": {
    "deletable": false,
    "id": "2evOzw_K_oCk"
   },
   "outputs": [],
   "source": [
    "messages['month']=messages['message_date'].dt.month"
   ]
  },
  {
   "cell_type": "markdown",
   "metadata": {
    "id": "NzOeQM6C_oCY"
   },
   "source": [
    "Создадим столбец `month` в датафрейме `sessions` с номером месяца из столбца `session_date`."
   ]
  },
  {
   "cell_type": "code",
   "execution_count": 24,
   "metadata": {
    "deletable": false,
    "id": "dKZPB_eo_oCk"
   },
   "outputs": [],
   "source": [
    "sessions['month']=sessions['session_date'].dt.month"
   ]
  },
  {
   "cell_type": "markdown",
   "metadata": {
    "id": "NzOeQM6C_oCY"
   },
   "source": [
    "Посчитаем количество сделанных звонков разговора для каждого пользователя по месяцам."
   ]
  },
  {
   "cell_type": "code",
   "execution_count": 25,
   "metadata": {
    "deletable": false,
    "id": "tMAmcPhC_oCl"
   },
   "outputs": [],
   "source": [
    "calls_per_month=calls.groupby(['user_id','month']).agg(calls=('duration', 'count'))# подсчёт количества звонков для каждого пользователя по месяцам"
   ]
  },
  {
   "cell_type": "code",
   "execution_count": 26,
   "metadata": {
    "deletable": false,
    "id": "r8pvxWhj_oCl"
   },
   "outputs": [
    {
     "data": {
      "text/html": [
       "<div>\n",
       "<style scoped>\n",
       "    .dataframe tbody tr th:only-of-type {\n",
       "        vertical-align: middle;\n",
       "    }\n",
       "\n",
       "    .dataframe tbody tr th {\n",
       "        vertical-align: top;\n",
       "    }\n",
       "\n",
       "    .dataframe thead th {\n",
       "        text-align: right;\n",
       "    }\n",
       "</style>\n",
       "<table border=\"1\" class=\"dataframe\">\n",
       "  <thead>\n",
       "    <tr style=\"text-align: right;\">\n",
       "      <th></th>\n",
       "      <th></th>\n",
       "      <th>calls</th>\n",
       "    </tr>\n",
       "    <tr>\n",
       "      <th>user_id</th>\n",
       "      <th>month</th>\n",
       "      <th></th>\n",
       "    </tr>\n",
       "  </thead>\n",
       "  <tbody>\n",
       "    <tr>\n",
       "      <th rowspan=\"8\" valign=\"top\">1000</th>\n",
       "      <th>5</th>\n",
       "      <td>22</td>\n",
       "    </tr>\n",
       "    <tr>\n",
       "      <th>6</th>\n",
       "      <td>43</td>\n",
       "    </tr>\n",
       "    <tr>\n",
       "      <th>7</th>\n",
       "      <td>47</td>\n",
       "    </tr>\n",
       "    <tr>\n",
       "      <th>8</th>\n",
       "      <td>52</td>\n",
       "    </tr>\n",
       "    <tr>\n",
       "      <th>9</th>\n",
       "      <td>58</td>\n",
       "    </tr>\n",
       "    <tr>\n",
       "      <th>10</th>\n",
       "      <td>57</td>\n",
       "    </tr>\n",
       "    <tr>\n",
       "      <th>11</th>\n",
       "      <td>43</td>\n",
       "    </tr>\n",
       "    <tr>\n",
       "      <th>12</th>\n",
       "      <td>46</td>\n",
       "    </tr>\n",
       "    <tr>\n",
       "      <th rowspan=\"2\" valign=\"top\">1001</th>\n",
       "      <th>11</th>\n",
       "      <td>59</td>\n",
       "    </tr>\n",
       "    <tr>\n",
       "      <th>12</th>\n",
       "      <td>63</td>\n",
       "    </tr>\n",
       "    <tr>\n",
       "      <th rowspan=\"7\" valign=\"top\">1002</th>\n",
       "      <th>6</th>\n",
       "      <td>15</td>\n",
       "    </tr>\n",
       "    <tr>\n",
       "      <th>7</th>\n",
       "      <td>26</td>\n",
       "    </tr>\n",
       "    <tr>\n",
       "      <th>8</th>\n",
       "      <td>42</td>\n",
       "    </tr>\n",
       "    <tr>\n",
       "      <th>9</th>\n",
       "      <td>36</td>\n",
       "    </tr>\n",
       "    <tr>\n",
       "      <th>10</th>\n",
       "      <td>33</td>\n",
       "    </tr>\n",
       "    <tr>\n",
       "      <th>11</th>\n",
       "      <td>32</td>\n",
       "    </tr>\n",
       "    <tr>\n",
       "      <th>12</th>\n",
       "      <td>33</td>\n",
       "    </tr>\n",
       "    <tr>\n",
       "      <th rowspan=\"5\" valign=\"top\">1003</th>\n",
       "      <th>8</th>\n",
       "      <td>55</td>\n",
       "    </tr>\n",
       "    <tr>\n",
       "      <th>9</th>\n",
       "      <td>134</td>\n",
       "    </tr>\n",
       "    <tr>\n",
       "      <th>10</th>\n",
       "      <td>108</td>\n",
       "    </tr>\n",
       "    <tr>\n",
       "      <th>11</th>\n",
       "      <td>115</td>\n",
       "    </tr>\n",
       "    <tr>\n",
       "      <th>12</th>\n",
       "      <td>108</td>\n",
       "    </tr>\n",
       "    <tr>\n",
       "      <th rowspan=\"8\" valign=\"top\">1004</th>\n",
       "      <th>5</th>\n",
       "      <td>9</td>\n",
       "    </tr>\n",
       "    <tr>\n",
       "      <th>6</th>\n",
       "      <td>31</td>\n",
       "    </tr>\n",
       "    <tr>\n",
       "      <th>7</th>\n",
       "      <td>22</td>\n",
       "    </tr>\n",
       "    <tr>\n",
       "      <th>8</th>\n",
       "      <td>19</td>\n",
       "    </tr>\n",
       "    <tr>\n",
       "      <th>9</th>\n",
       "      <td>26</td>\n",
       "    </tr>\n",
       "    <tr>\n",
       "      <th>10</th>\n",
       "      <td>29</td>\n",
       "    </tr>\n",
       "    <tr>\n",
       "      <th>11</th>\n",
       "      <td>19</td>\n",
       "    </tr>\n",
       "    <tr>\n",
       "      <th>12</th>\n",
       "      <td>21</td>\n",
       "    </tr>\n",
       "  </tbody>\n",
       "</table>\n",
       "</div>"
      ],
      "text/plain": [
       "               calls\n",
       "user_id month       \n",
       "1000    5         22\n",
       "        6         43\n",
       "        7         47\n",
       "        8         52\n",
       "        9         58\n",
       "        10        57\n",
       "        11        43\n",
       "        12        46\n",
       "1001    11        59\n",
       "        12        63\n",
       "1002    6         15\n",
       "        7         26\n",
       "        8         42\n",
       "        9         36\n",
       "        10        33\n",
       "        11        32\n",
       "        12        33\n",
       "1003    8         55\n",
       "        9        134\n",
       "        10       108\n",
       "        11       115\n",
       "        12       108\n",
       "1004    5          9\n",
       "        6         31\n",
       "        7         22\n",
       "        8         19\n",
       "        9         26\n",
       "        10        29\n",
       "        11        19\n",
       "        12        21"
      ]
     },
     "metadata": {},
     "output_type": "display_data"
    }
   ],
   "source": [
    "display(calls_per_month.head(30))# вывод 30 первых строк на экран"
   ]
  },
  {
   "cell_type": "markdown",
   "metadata": {
    "id": "NzOeQM6C_oCY"
   },
   "source": [
    "Посчитаем количество израсходованных минут разговора для каждого пользователя по месяцам и сохраним в переменную `minutes_per_month`. нам понадобится\n",
    "\n",
    "- сгруппировать датафрейм с информацией о звонках по двум столбцам — с идентификаторами пользователей и номерами месяцев;\n",
    "- после группировки выбрать столбец `duration`\n",
    "- затем применить метод для подсчёта суммы.\n",
    "\n",
    "Выведем первые 30 строчек `minutes_per_month`."
   ]
  },
  {
   "cell_type": "code",
   "execution_count": 27,
   "metadata": {
    "deletable": false,
    "id": "ehr5Lhq-_oCl"
   },
   "outputs": [],
   "source": [
    "minutes_per_month=calls.groupby(['user_id','month']).agg(minutes=('duration', 'sum'))# подсчёт израсходованных минут для каждого пользователя по месяцам"
   ]
  },
  {
   "cell_type": "code",
   "execution_count": 28,
   "metadata": {
    "deletable": false,
    "id": "-vbsnfVq_oCl"
   },
   "outputs": [
    {
     "data": {
      "text/html": [
       "<div>\n",
       "<style scoped>\n",
       "    .dataframe tbody tr th:only-of-type {\n",
       "        vertical-align: middle;\n",
       "    }\n",
       "\n",
       "    .dataframe tbody tr th {\n",
       "        vertical-align: top;\n",
       "    }\n",
       "\n",
       "    .dataframe thead th {\n",
       "        text-align: right;\n",
       "    }\n",
       "</style>\n",
       "<table border=\"1\" class=\"dataframe\">\n",
       "  <thead>\n",
       "    <tr style=\"text-align: right;\">\n",
       "      <th></th>\n",
       "      <th></th>\n",
       "      <th>minutes</th>\n",
       "    </tr>\n",
       "    <tr>\n",
       "      <th>user_id</th>\n",
       "      <th>month</th>\n",
       "      <th></th>\n",
       "    </tr>\n",
       "  </thead>\n",
       "  <tbody>\n",
       "    <tr>\n",
       "      <th rowspan=\"8\" valign=\"top\">1000</th>\n",
       "      <th>5</th>\n",
       "      <td>159</td>\n",
       "    </tr>\n",
       "    <tr>\n",
       "      <th>6</th>\n",
       "      <td>172</td>\n",
       "    </tr>\n",
       "    <tr>\n",
       "      <th>7</th>\n",
       "      <td>340</td>\n",
       "    </tr>\n",
       "    <tr>\n",
       "      <th>8</th>\n",
       "      <td>408</td>\n",
       "    </tr>\n",
       "    <tr>\n",
       "      <th>9</th>\n",
       "      <td>466</td>\n",
       "    </tr>\n",
       "    <tr>\n",
       "      <th>10</th>\n",
       "      <td>350</td>\n",
       "    </tr>\n",
       "    <tr>\n",
       "      <th>11</th>\n",
       "      <td>338</td>\n",
       "    </tr>\n",
       "    <tr>\n",
       "      <th>12</th>\n",
       "      <td>333</td>\n",
       "    </tr>\n",
       "    <tr>\n",
       "      <th rowspan=\"2\" valign=\"top\">1001</th>\n",
       "      <th>11</th>\n",
       "      <td>430</td>\n",
       "    </tr>\n",
       "    <tr>\n",
       "      <th>12</th>\n",
       "      <td>414</td>\n",
       "    </tr>\n",
       "    <tr>\n",
       "      <th rowspan=\"7\" valign=\"top\">1002</th>\n",
       "      <th>6</th>\n",
       "      <td>117</td>\n",
       "    </tr>\n",
       "    <tr>\n",
       "      <th>7</th>\n",
       "      <td>214</td>\n",
       "    </tr>\n",
       "    <tr>\n",
       "      <th>8</th>\n",
       "      <td>289</td>\n",
       "    </tr>\n",
       "    <tr>\n",
       "      <th>9</th>\n",
       "      <td>206</td>\n",
       "    </tr>\n",
       "    <tr>\n",
       "      <th>10</th>\n",
       "      <td>212</td>\n",
       "    </tr>\n",
       "    <tr>\n",
       "      <th>11</th>\n",
       "      <td>243</td>\n",
       "    </tr>\n",
       "    <tr>\n",
       "      <th>12</th>\n",
       "      <td>236</td>\n",
       "    </tr>\n",
       "    <tr>\n",
       "      <th rowspan=\"5\" valign=\"top\">1003</th>\n",
       "      <th>8</th>\n",
       "      <td>380</td>\n",
       "    </tr>\n",
       "    <tr>\n",
       "      <th>9</th>\n",
       "      <td>961</td>\n",
       "    </tr>\n",
       "    <tr>\n",
       "      <th>10</th>\n",
       "      <td>855</td>\n",
       "    </tr>\n",
       "    <tr>\n",
       "      <th>11</th>\n",
       "      <td>824</td>\n",
       "    </tr>\n",
       "    <tr>\n",
       "      <th>12</th>\n",
       "      <td>802</td>\n",
       "    </tr>\n",
       "    <tr>\n",
       "      <th rowspan=\"8\" valign=\"top\">1004</th>\n",
       "      <th>5</th>\n",
       "      <td>35</td>\n",
       "    </tr>\n",
       "    <tr>\n",
       "      <th>6</th>\n",
       "      <td>171</td>\n",
       "    </tr>\n",
       "    <tr>\n",
       "      <th>7</th>\n",
       "      <td>135</td>\n",
       "    </tr>\n",
       "    <tr>\n",
       "      <th>8</th>\n",
       "      <td>137</td>\n",
       "    </tr>\n",
       "    <tr>\n",
       "      <th>9</th>\n",
       "      <td>117</td>\n",
       "    </tr>\n",
       "    <tr>\n",
       "      <th>10</th>\n",
       "      <td>145</td>\n",
       "    </tr>\n",
       "    <tr>\n",
       "      <th>11</th>\n",
       "      <td>117</td>\n",
       "    </tr>\n",
       "    <tr>\n",
       "      <th>12</th>\n",
       "      <td>130</td>\n",
       "    </tr>\n",
       "  </tbody>\n",
       "</table>\n",
       "</div>"
      ],
      "text/plain": [
       "               minutes\n",
       "user_id month         \n",
       "1000    5          159\n",
       "        6          172\n",
       "        7          340\n",
       "        8          408\n",
       "        9          466\n",
       "        10         350\n",
       "        11         338\n",
       "        12         333\n",
       "1001    11         430\n",
       "        12         414\n",
       "1002    6          117\n",
       "        7          214\n",
       "        8          289\n",
       "        9          206\n",
       "        10         212\n",
       "        11         243\n",
       "        12         236\n",
       "1003    8          380\n",
       "        9          961\n",
       "        10         855\n",
       "        11         824\n",
       "        12         802\n",
       "1004    5           35\n",
       "        6          171\n",
       "        7          135\n",
       "        8          137\n",
       "        9          117\n",
       "        10         145\n",
       "        11         117\n",
       "        12         130"
      ]
     },
     "metadata": {},
     "output_type": "display_data"
    }
   ],
   "source": [
    "display(minutes_per_month.head(30))# вывод первых 30 строк на экран"
   ]
  },
  {
   "cell_type": "markdown",
   "metadata": {
    "id": "NzOeQM6C_oCY"
   },
   "source": [
    "Посчитаем количество отправленных сообщений по месяцам для каждого пользователя и сохраним в переменную `messages_per_month`. Нам понадобится\n",
    "\n",
    "- сгруппировать датафрейм с информацией о сообщениях по двум столбцам — с идентификаторами пользователей и номерами месяцев;\n",
    "- после группировки выбрать столбец `message_date`;\n",
    "- затем применить метод для подсчёта количества.\n",
    "\n",
    "Выведем первые 30 строчек `messages_per_month`."
   ]
  },
  {
   "cell_type": "code",
   "execution_count": 29,
   "metadata": {
    "deletable": false,
    "id": "YiS9waG7_oCl"
   },
   "outputs": [],
   "source": [
    "messages_per_month=messages.groupby(['user_id','month']).agg(messages=('message_date','count'))# подсчёт количества отправленных сообщений для каждого пользователя по месяцам"
   ]
  },
  {
   "cell_type": "code",
   "execution_count": 30,
   "metadata": {
    "deletable": false,
    "id": "aaDNanZ0_oCm"
   },
   "outputs": [
    {
     "data": {
      "text/html": [
       "<div>\n",
       "<style scoped>\n",
       "    .dataframe tbody tr th:only-of-type {\n",
       "        vertical-align: middle;\n",
       "    }\n",
       "\n",
       "    .dataframe tbody tr th {\n",
       "        vertical-align: top;\n",
       "    }\n",
       "\n",
       "    .dataframe thead th {\n",
       "        text-align: right;\n",
       "    }\n",
       "</style>\n",
       "<table border=\"1\" class=\"dataframe\">\n",
       "  <thead>\n",
       "    <tr style=\"text-align: right;\">\n",
       "      <th></th>\n",
       "      <th></th>\n",
       "      <th>messages</th>\n",
       "    </tr>\n",
       "    <tr>\n",
       "      <th>user_id</th>\n",
       "      <th>month</th>\n",
       "      <th></th>\n",
       "    </tr>\n",
       "  </thead>\n",
       "  <tbody>\n",
       "    <tr>\n",
       "      <th rowspan=\"8\" valign=\"top\">1000</th>\n",
       "      <th>5</th>\n",
       "      <td>22</td>\n",
       "    </tr>\n",
       "    <tr>\n",
       "      <th>6</th>\n",
       "      <td>60</td>\n",
       "    </tr>\n",
       "    <tr>\n",
       "      <th>7</th>\n",
       "      <td>75</td>\n",
       "    </tr>\n",
       "    <tr>\n",
       "      <th>8</th>\n",
       "      <td>81</td>\n",
       "    </tr>\n",
       "    <tr>\n",
       "      <th>9</th>\n",
       "      <td>57</td>\n",
       "    </tr>\n",
       "    <tr>\n",
       "      <th>10</th>\n",
       "      <td>73</td>\n",
       "    </tr>\n",
       "    <tr>\n",
       "      <th>11</th>\n",
       "      <td>58</td>\n",
       "    </tr>\n",
       "    <tr>\n",
       "      <th>12</th>\n",
       "      <td>70</td>\n",
       "    </tr>\n",
       "    <tr>\n",
       "      <th rowspan=\"7\" valign=\"top\">1002</th>\n",
       "      <th>6</th>\n",
       "      <td>4</td>\n",
       "    </tr>\n",
       "    <tr>\n",
       "      <th>7</th>\n",
       "      <td>11</td>\n",
       "    </tr>\n",
       "    <tr>\n",
       "      <th>8</th>\n",
       "      <td>13</td>\n",
       "    </tr>\n",
       "    <tr>\n",
       "      <th>9</th>\n",
       "      <td>4</td>\n",
       "    </tr>\n",
       "    <tr>\n",
       "      <th>10</th>\n",
       "      <td>10</td>\n",
       "    </tr>\n",
       "    <tr>\n",
       "      <th>11</th>\n",
       "      <td>16</td>\n",
       "    </tr>\n",
       "    <tr>\n",
       "      <th>12</th>\n",
       "      <td>12</td>\n",
       "    </tr>\n",
       "    <tr>\n",
       "      <th rowspan=\"5\" valign=\"top\">1003</th>\n",
       "      <th>8</th>\n",
       "      <td>37</td>\n",
       "    </tr>\n",
       "    <tr>\n",
       "      <th>9</th>\n",
       "      <td>91</td>\n",
       "    </tr>\n",
       "    <tr>\n",
       "      <th>10</th>\n",
       "      <td>83</td>\n",
       "    </tr>\n",
       "    <tr>\n",
       "      <th>11</th>\n",
       "      <td>94</td>\n",
       "    </tr>\n",
       "    <tr>\n",
       "      <th>12</th>\n",
       "      <td>75</td>\n",
       "    </tr>\n",
       "    <tr>\n",
       "      <th rowspan=\"8\" valign=\"top\">1004</th>\n",
       "      <th>5</th>\n",
       "      <td>95</td>\n",
       "    </tr>\n",
       "    <tr>\n",
       "      <th>6</th>\n",
       "      <td>134</td>\n",
       "    </tr>\n",
       "    <tr>\n",
       "      <th>7</th>\n",
       "      <td>181</td>\n",
       "    </tr>\n",
       "    <tr>\n",
       "      <th>8</th>\n",
       "      <td>151</td>\n",
       "    </tr>\n",
       "    <tr>\n",
       "      <th>9</th>\n",
       "      <td>146</td>\n",
       "    </tr>\n",
       "    <tr>\n",
       "      <th>10</th>\n",
       "      <td>165</td>\n",
       "    </tr>\n",
       "    <tr>\n",
       "      <th>11</th>\n",
       "      <td>158</td>\n",
       "    </tr>\n",
       "    <tr>\n",
       "      <th>12</th>\n",
       "      <td>162</td>\n",
       "    </tr>\n",
       "    <tr>\n",
       "      <th rowspan=\"2\" valign=\"top\">1005</th>\n",
       "      <th>1</th>\n",
       "      <td>7</td>\n",
       "    </tr>\n",
       "    <tr>\n",
       "      <th>2</th>\n",
       "      <td>38</td>\n",
       "    </tr>\n",
       "  </tbody>\n",
       "</table>\n",
       "</div>"
      ],
      "text/plain": [
       "               messages\n",
       "user_id month          \n",
       "1000    5            22\n",
       "        6            60\n",
       "        7            75\n",
       "        8            81\n",
       "        9            57\n",
       "        10           73\n",
       "        11           58\n",
       "        12           70\n",
       "1002    6             4\n",
       "        7            11\n",
       "        8            13\n",
       "        9             4\n",
       "        10           10\n",
       "        11           16\n",
       "        12           12\n",
       "1003    8            37\n",
       "        9            91\n",
       "        10           83\n",
       "        11           94\n",
       "        12           75\n",
       "1004    5            95\n",
       "        6           134\n",
       "        7           181\n",
       "        8           151\n",
       "        9           146\n",
       "        10          165\n",
       "        11          158\n",
       "        12          162\n",
       "1005    1             7\n",
       "        2            38"
      ]
     },
     "metadata": {},
     "output_type": "display_data"
    }
   ],
   "source": [
    "display(messages_per_month.head(30))# вывод первых 30 строк на экран"
   ]
  },
  {
   "cell_type": "markdown",
   "metadata": {
    "id": "NzOeQM6C_oCY"
   },
   "source": [
    "Посчитаем количество потраченных мегабайт по месяцам для каждого пользователя и сохраним в переменную `sessions_per_month`. Нам понадобится\n",
    "\n",
    "- сгруппировать датафрейм с информацией о сообщениях по двум столбцам — с идентификаторами пользователей и номерами месяцев;\n",
    "- затем применить метод для подсчёта суммы: `.agg({'mb_used': 'sum'})`"
   ]
  },
  {
   "cell_type": "code",
   "execution_count": 31,
   "metadata": {
    "deletable": false,
    "id": "-ITlvcsU_oCm"
   },
   "outputs": [],
   "source": [
    "sessions_per_month=sessions.groupby(['user_id','month']).agg({'mb_used': 'sum'})# подсчёт потраченных мегабайт для каждого пользователя по месяцам"
   ]
  },
  {
   "cell_type": "code",
   "execution_count": 32,
   "metadata": {
    "deletable": false,
    "id": "YF7FQfXf_oCm"
   },
   "outputs": [
    {
     "data": {
      "text/html": [
       "<div>\n",
       "<style scoped>\n",
       "    .dataframe tbody tr th:only-of-type {\n",
       "        vertical-align: middle;\n",
       "    }\n",
       "\n",
       "    .dataframe tbody tr th {\n",
       "        vertical-align: top;\n",
       "    }\n",
       "\n",
       "    .dataframe thead th {\n",
       "        text-align: right;\n",
       "    }\n",
       "</style>\n",
       "<table border=\"1\" class=\"dataframe\">\n",
       "  <thead>\n",
       "    <tr style=\"text-align: right;\">\n",
       "      <th></th>\n",
       "      <th></th>\n",
       "      <th>mb_used</th>\n",
       "    </tr>\n",
       "    <tr>\n",
       "      <th>user_id</th>\n",
       "      <th>month</th>\n",
       "      <th></th>\n",
       "    </tr>\n",
       "  </thead>\n",
       "  <tbody>\n",
       "    <tr>\n",
       "      <th rowspan=\"8\" valign=\"top\">1000</th>\n",
       "      <th>5</th>\n",
       "      <td>2253.49</td>\n",
       "    </tr>\n",
       "    <tr>\n",
       "      <th>6</th>\n",
       "      <td>23233.77</td>\n",
       "    </tr>\n",
       "    <tr>\n",
       "      <th>7</th>\n",
       "      <td>14003.64</td>\n",
       "    </tr>\n",
       "    <tr>\n",
       "      <th>8</th>\n",
       "      <td>14055.93</td>\n",
       "    </tr>\n",
       "    <tr>\n",
       "      <th>9</th>\n",
       "      <td>14568.91</td>\n",
       "    </tr>\n",
       "    <tr>\n",
       "      <th>10</th>\n",
       "      <td>14702.49</td>\n",
       "    </tr>\n",
       "    <tr>\n",
       "      <th>11</th>\n",
       "      <td>14756.47</td>\n",
       "    </tr>\n",
       "    <tr>\n",
       "      <th>12</th>\n",
       "      <td>9817.61</td>\n",
       "    </tr>\n",
       "    <tr>\n",
       "      <th rowspan=\"2\" valign=\"top\">1001</th>\n",
       "      <th>11</th>\n",
       "      <td>18429.34</td>\n",
       "    </tr>\n",
       "    <tr>\n",
       "      <th>12</th>\n",
       "      <td>14036.66</td>\n",
       "    </tr>\n",
       "    <tr>\n",
       "      <th rowspan=\"7\" valign=\"top\">1002</th>\n",
       "      <th>6</th>\n",
       "      <td>10856.82</td>\n",
       "    </tr>\n",
       "    <tr>\n",
       "      <th>7</th>\n",
       "      <td>17580.10</td>\n",
       "    </tr>\n",
       "    <tr>\n",
       "      <th>8</th>\n",
       "      <td>20319.26</td>\n",
       "    </tr>\n",
       "    <tr>\n",
       "      <th>9</th>\n",
       "      <td>16691.08</td>\n",
       "    </tr>\n",
       "    <tr>\n",
       "      <th>10</th>\n",
       "      <td>13888.25</td>\n",
       "    </tr>\n",
       "    <tr>\n",
       "      <th>11</th>\n",
       "      <td>18587.28</td>\n",
       "    </tr>\n",
       "    <tr>\n",
       "      <th>12</th>\n",
       "      <td>18113.73</td>\n",
       "    </tr>\n",
       "    <tr>\n",
       "      <th rowspan=\"5\" valign=\"top\">1003</th>\n",
       "      <th>8</th>\n",
       "      <td>8565.21</td>\n",
       "    </tr>\n",
       "    <tr>\n",
       "      <th>9</th>\n",
       "      <td>12468.87</td>\n",
       "    </tr>\n",
       "    <tr>\n",
       "      <th>10</th>\n",
       "      <td>14768.14</td>\n",
       "    </tr>\n",
       "    <tr>\n",
       "      <th>11</th>\n",
       "      <td>11356.89</td>\n",
       "    </tr>\n",
       "    <tr>\n",
       "      <th>12</th>\n",
       "      <td>10121.53</td>\n",
       "    </tr>\n",
       "    <tr>\n",
       "      <th rowspan=\"8\" valign=\"top\">1004</th>\n",
       "      <th>5</th>\n",
       "      <td>13403.98</td>\n",
       "    </tr>\n",
       "    <tr>\n",
       "      <th>6</th>\n",
       "      <td>17600.02</td>\n",
       "    </tr>\n",
       "    <tr>\n",
       "      <th>7</th>\n",
       "      <td>22229.58</td>\n",
       "    </tr>\n",
       "    <tr>\n",
       "      <th>8</th>\n",
       "      <td>28584.37</td>\n",
       "    </tr>\n",
       "    <tr>\n",
       "      <th>9</th>\n",
       "      <td>15109.03</td>\n",
       "    </tr>\n",
       "    <tr>\n",
       "      <th>10</th>\n",
       "      <td>18475.44</td>\n",
       "    </tr>\n",
       "    <tr>\n",
       "      <th>11</th>\n",
       "      <td>15616.02</td>\n",
       "    </tr>\n",
       "    <tr>\n",
       "      <th>12</th>\n",
       "      <td>18021.04</td>\n",
       "    </tr>\n",
       "  </tbody>\n",
       "</table>\n",
       "</div>"
      ],
      "text/plain": [
       "                mb_used\n",
       "user_id month          \n",
       "1000    5       2253.49\n",
       "        6      23233.77\n",
       "        7      14003.64\n",
       "        8      14055.93\n",
       "        9      14568.91\n",
       "        10     14702.49\n",
       "        11     14756.47\n",
       "        12      9817.61\n",
       "1001    11     18429.34\n",
       "        12     14036.66\n",
       "1002    6      10856.82\n",
       "        7      17580.10\n",
       "        8      20319.26\n",
       "        9      16691.08\n",
       "        10     13888.25\n",
       "        11     18587.28\n",
       "        12     18113.73\n",
       "1003    8       8565.21\n",
       "        9      12468.87\n",
       "        10     14768.14\n",
       "        11     11356.89\n",
       "        12     10121.53\n",
       "1004    5      13403.98\n",
       "        6      17600.02\n",
       "        7      22229.58\n",
       "        8      28584.37\n",
       "        9      15109.03\n",
       "        10     18475.44\n",
       "        11     15616.02\n",
       "        12     18021.04"
      ]
     },
     "metadata": {},
     "output_type": "display_data"
    }
   ],
   "source": [
    "display(sessions_per_month.head(30))# вывод первых 30 строк на экран# вывод первых 30 строк на экран"
   ]
  },
  {
   "cell_type": "markdown",
   "metadata": {
    "deletable": false,
    "editable": false,
    "id": "GF37Inq-_oCn"
   },
   "source": [
    "### Анализ данных и подсчёт выручки"
   ]
  },
  {
   "cell_type": "markdown",
   "metadata": {
    "id": "NzOeQM6C_oCY"
   },
   "source": [
    "Объединяем все посчитанные выше значения в один датафрейм `user_behavior`.\n",
    "Для каждой пары «пользователь — месяц» будут доступны информация о тарифе, количестве звонков, сообщений и потраченных мегабайтах."
   ]
  },
  {
   "cell_type": "code",
   "execution_count": 33,
   "metadata": {
    "deletable": false,
    "id": "SDchqQI5_oCn",
    "outputId": "760b21d8-9344-46a3-9c6e-a3cbbc7dd542"
   },
   "outputs": [
    {
     "data": {
      "text/plain": [
       "7.6"
      ]
     },
     "execution_count": 33,
     "metadata": {},
     "output_type": "execute_result"
    }
   ],
   "source": [
    "users['churn_date'].count() / users['churn_date'].shape[0] * 100"
   ]
  },
  {
   "cell_type": "markdown",
   "metadata": {
    "deletable": false,
    "editable": false,
    "id": "7jb0qJhe_oCn"
   },
   "source": [
    "Расторгли договор 7.6% клиентов из датасета"
   ]
  },
  {
   "cell_type": "code",
   "execution_count": 34,
   "metadata": {
    "deletable": false,
    "id": "QJuiD1cd_oCo",
    "outputId": "60af33ba-196b-464c-e15d-239dd446a4f4"
   },
   "outputs": [
    {
     "data": {
      "text/html": [
       "<div>\n",
       "<style scoped>\n",
       "    .dataframe tbody tr th:only-of-type {\n",
       "        vertical-align: middle;\n",
       "    }\n",
       "\n",
       "    .dataframe tbody tr th {\n",
       "        vertical-align: top;\n",
       "    }\n",
       "\n",
       "    .dataframe thead th {\n",
       "        text-align: right;\n",
       "    }\n",
       "</style>\n",
       "<table border=\"1\" class=\"dataframe\">\n",
       "  <thead>\n",
       "    <tr style=\"text-align: right;\">\n",
       "      <th></th>\n",
       "      <th>user_id</th>\n",
       "      <th>month</th>\n",
       "      <th>calls</th>\n",
       "      <th>messages</th>\n",
       "      <th>mb_used</th>\n",
       "      <th>minutes</th>\n",
       "      <th>age</th>\n",
       "      <th>churn_date</th>\n",
       "      <th>city</th>\n",
       "      <th>first_name</th>\n",
       "      <th>last_name</th>\n",
       "      <th>reg_date</th>\n",
       "      <th>tariff</th>\n",
       "    </tr>\n",
       "  </thead>\n",
       "  <tbody>\n",
       "    <tr>\n",
       "      <th>0</th>\n",
       "      <td>1000</td>\n",
       "      <td>5</td>\n",
       "      <td>22.0</td>\n",
       "      <td>22.0</td>\n",
       "      <td>2253.49</td>\n",
       "      <td>159.0</td>\n",
       "      <td>52</td>\n",
       "      <td>NaT</td>\n",
       "      <td>Краснодар</td>\n",
       "      <td>Рафаил</td>\n",
       "      <td>Верещагин</td>\n",
       "      <td>2018-05-25</td>\n",
       "      <td>ultra</td>\n",
       "    </tr>\n",
       "    <tr>\n",
       "      <th>1</th>\n",
       "      <td>1000</td>\n",
       "      <td>6</td>\n",
       "      <td>43.0</td>\n",
       "      <td>60.0</td>\n",
       "      <td>23233.77</td>\n",
       "      <td>172.0</td>\n",
       "      <td>52</td>\n",
       "      <td>NaT</td>\n",
       "      <td>Краснодар</td>\n",
       "      <td>Рафаил</td>\n",
       "      <td>Верещагин</td>\n",
       "      <td>2018-05-25</td>\n",
       "      <td>ultra</td>\n",
       "    </tr>\n",
       "    <tr>\n",
       "      <th>2</th>\n",
       "      <td>1000</td>\n",
       "      <td>7</td>\n",
       "      <td>47.0</td>\n",
       "      <td>75.0</td>\n",
       "      <td>14003.64</td>\n",
       "      <td>340.0</td>\n",
       "      <td>52</td>\n",
       "      <td>NaT</td>\n",
       "      <td>Краснодар</td>\n",
       "      <td>Рафаил</td>\n",
       "      <td>Верещагин</td>\n",
       "      <td>2018-05-25</td>\n",
       "      <td>ultra</td>\n",
       "    </tr>\n",
       "    <tr>\n",
       "      <th>3</th>\n",
       "      <td>1000</td>\n",
       "      <td>8</td>\n",
       "      <td>52.0</td>\n",
       "      <td>81.0</td>\n",
       "      <td>14055.93</td>\n",
       "      <td>408.0</td>\n",
       "      <td>52</td>\n",
       "      <td>NaT</td>\n",
       "      <td>Краснодар</td>\n",
       "      <td>Рафаил</td>\n",
       "      <td>Верещагин</td>\n",
       "      <td>2018-05-25</td>\n",
       "      <td>ultra</td>\n",
       "    </tr>\n",
       "    <tr>\n",
       "      <th>4</th>\n",
       "      <td>1000</td>\n",
       "      <td>9</td>\n",
       "      <td>58.0</td>\n",
       "      <td>57.0</td>\n",
       "      <td>14568.91</td>\n",
       "      <td>466.0</td>\n",
       "      <td>52</td>\n",
       "      <td>NaT</td>\n",
       "      <td>Краснодар</td>\n",
       "      <td>Рафаил</td>\n",
       "      <td>Верещагин</td>\n",
       "      <td>2018-05-25</td>\n",
       "      <td>ultra</td>\n",
       "    </tr>\n",
       "  </tbody>\n",
       "</table>\n",
       "</div>"
      ],
      "text/plain": [
       "   user_id  month  calls  messages   mb_used  minutes  age churn_date  \\\n",
       "0     1000      5   22.0      22.0   2253.49    159.0   52        NaT   \n",
       "1     1000      6   43.0      60.0  23233.77    172.0   52        NaT   \n",
       "2     1000      7   47.0      75.0  14003.64    340.0   52        NaT   \n",
       "3     1000      8   52.0      81.0  14055.93    408.0   52        NaT   \n",
       "4     1000      9   58.0      57.0  14568.91    466.0   52        NaT   \n",
       "\n",
       "        city first_name  last_name   reg_date tariff  \n",
       "0  Краснодар     Рафаил  Верещагин 2018-05-25  ultra  \n",
       "1  Краснодар     Рафаил  Верещагин 2018-05-25  ultra  \n",
       "2  Краснодар     Рафаил  Верещагин 2018-05-25  ultra  \n",
       "3  Краснодар     Рафаил  Верещагин 2018-05-25  ultra  \n",
       "4  Краснодар     Рафаил  Верещагин 2018-05-25  ultra  "
      ]
     },
     "execution_count": 34,
     "metadata": {},
     "output_type": "execute_result"
    }
   ],
   "source": [
    "user_behavior = calls_per_month\\\n",
    "    .merge(messages_per_month, left_index=True, right_index=True, how='outer')\\\n",
    "    .merge(sessions_per_month, left_index=True, right_index=True, how='outer')\\\n",
    "    .merge(minutes_per_month, left_index=True, right_index=True, how='outer')\\\n",
    "    .reset_index()\\\n",
    "    .merge(users, how='left', left_on='user_id', right_on='user_id')\\\n",
    "\n",
    "user_behavior.head()"
   ]
  },
  {
   "cell_type": "markdown",
   "metadata": {
    "deletable": false,
    "editable": false,
    "id": "9Kif7-vi_oCo"
   },
   "source": [
    "Проверим пропуски в таблице `user_behavior` после объединения:"
   ]
  },
  {
   "cell_type": "code",
   "execution_count": 35,
   "metadata": {
    "deletable": false,
    "id": "MExwRr6x_oCo",
    "outputId": "1362c11d-ba78-47b6-8495-ba877c2cae38"
   },
   "outputs": [
    {
     "data": {
      "text/plain": [
       "user_id          0\n",
       "month            0\n",
       "calls           40\n",
       "messages       497\n",
       "mb_used         11\n",
       "minutes         40\n",
       "age              0\n",
       "churn_date    3027\n",
       "city             0\n",
       "first_name       0\n",
       "last_name        0\n",
       "reg_date         0\n",
       "tariff           0\n",
       "dtype: int64"
      ]
     },
     "execution_count": 35,
     "metadata": {},
     "output_type": "execute_result"
    }
   ],
   "source": [
    "user_behavior.isna().sum()"
   ]
  },
  {
   "cell_type": "markdown",
   "metadata": {
    "deletable": false,
    "editable": false,
    "id": "eNUHBFPI_oCo"
   },
   "source": [
    "Заполним образовавшиеся пропуски в данных:"
   ]
  },
  {
   "cell_type": "code",
   "execution_count": 36,
   "metadata": {
    "deletable": false,
    "id": "2aCyfvNX_oCo"
   },
   "outputs": [],
   "source": [
    "user_behavior['calls'] = user_behavior['calls'].fillna(0)\n",
    "user_behavior['minutes'] = user_behavior['minutes'].fillna(0)\n",
    "user_behavior['messages'] = user_behavior['messages'].fillna(0)\n",
    "user_behavior['mb_used'] = user_behavior['mb_used'].fillna(0)"
   ]
  },
  {
   "cell_type": "markdown",
   "metadata": {
    "deletable": false,
    "editable": false,
    "id": "JTszP_Iy_oCo"
   },
   "source": [
    "Присоединяем информацию о тарифах"
   ]
  },
  {
   "cell_type": "code",
   "execution_count": 37,
   "metadata": {
    "deletable": false,
    "id": "zmnnqTIq_oCo"
   },
   "outputs": [],
   "source": [
    "# переименование столбца tariff_name на более простое tariff\n",
    "\n",
    "tariffs = tariffs.rename(\n",
    "    columns={\n",
    "        'tariff_name': 'tariff'\n",
    "    }\n",
    ")"
   ]
  },
  {
   "cell_type": "code",
   "execution_count": 38,
   "metadata": {
    "deletable": false,
    "id": "hop7kFhB_oCp"
   },
   "outputs": [],
   "source": [
    "user_behavior = user_behavior.merge(tariffs, on='tariff')"
   ]
  },
  {
   "cell_type": "markdown",
   "metadata": {
    "deletable": false,
    "editable": false,
    "id": "aJZeqJwL_oCp"
   },
   "source": [
    "Считаем количество минут разговора, сообщений и мегабайт, превышающих включённые в тариф\n"
   ]
  },
  {
   "cell_type": "code",
   "execution_count": 39,
   "metadata": {
    "deletable": false,
    "id": "1Tcf3IxI_oCp"
   },
   "outputs": [],
   "source": [
    "user_behavior['paid_minutes'] = user_behavior['minutes'] - user_behavior['minutes_included']\n",
    "user_behavior['paid_messages'] = user_behavior['messages'] - user_behavior['messages_included']\n",
    "user_behavior['paid_mb'] = user_behavior['mb_used'] - user_behavior['mb_per_month_included']\n",
    "\n",
    "for col in ['paid_messages', 'paid_minutes', 'paid_mb']:\n",
    "    user_behavior.loc[user_behavior[col] < 0, col] = 0"
   ]
  },
  {
   "cell_type": "markdown",
   "metadata": {
    "deletable": false,
    "editable": false,
    "id": "9mf7Pko9_oCp"
   },
   "source": [
    "Переводим превышающие тариф мегабайты в гигабайты и сохраняем в столбец `paid_gb`"
   ]
  },
  {
   "cell_type": "code",
   "execution_count": 40,
   "metadata": {
    "deletable": false,
    "id": "cct5ZB60_oCp"
   },
   "outputs": [],
   "source": [
    "user_behavior['paid_gb'] = np.ceil(user_behavior['paid_mb'] / 1024).astype(int)"
   ]
  },
  {
   "cell_type": "markdown",
   "metadata": {
    "deletable": false,
    "editable": false,
    "id": "KEZ1rO-r_oCp"
   },
   "source": [
    "Считаем выручку за минуты разговора, сообщения и интернет"
   ]
  },
  {
   "cell_type": "code",
   "execution_count": 41,
   "metadata": {
    "deletable": false,
    "id": "U302RLm6_oCp"
   },
   "outputs": [],
   "source": [
    "user_behavior['cost_minutes'] = user_behavior['paid_minutes'] * user_behavior['rub_per_minute']\n",
    "user_behavior['cost_messages'] = user_behavior['paid_messages'] * user_behavior['rub_per_message']\n",
    "user_behavior['cost_gb'] = user_behavior['paid_gb'] * user_behavior['rub_per_gb']"
   ]
  },
  {
   "cell_type": "markdown",
   "metadata": {
    "deletable": false,
    "editable": false,
    "id": "18ruYfTJ_oCp"
   },
   "source": [
    "Считаем помесячную выручку с каждого пользователя, она будет храниться в столбце `total_cost`"
   ]
  },
  {
   "cell_type": "code",
   "execution_count": 42,
   "metadata": {
    "deletable": false,
    "id": "Uf2YyazE_oCp"
   },
   "outputs": [],
   "source": [
    "user_behavior['total_cost'] = \\\n",
    "      user_behavior['rub_monthly_fee']\\\n",
    "    + user_behavior['cost_minutes']\\\n",
    "    + user_behavior['cost_messages']\\\n",
    "    + user_behavior['cost_gb']"
   ]
  },
  {
   "cell_type": "code",
   "execution_count": 43,
   "metadata": {},
   "outputs": [
    {
     "data": {
      "text/html": [
       "<div>\n",
       "<style scoped>\n",
       "    .dataframe tbody tr th:only-of-type {\n",
       "        vertical-align: middle;\n",
       "    }\n",
       "\n",
       "    .dataframe tbody tr th {\n",
       "        vertical-align: top;\n",
       "    }\n",
       "\n",
       "    .dataframe thead th {\n",
       "        text-align: right;\n",
       "    }\n",
       "</style>\n",
       "<table border=\"1\" class=\"dataframe\">\n",
       "  <thead>\n",
       "    <tr style=\"text-align: right;\">\n",
       "      <th></th>\n",
       "      <th>user_id</th>\n",
       "      <th>month</th>\n",
       "      <th>calls</th>\n",
       "      <th>messages</th>\n",
       "      <th>mb_used</th>\n",
       "      <th>minutes</th>\n",
       "      <th>age</th>\n",
       "      <th>churn_date</th>\n",
       "      <th>city</th>\n",
       "      <th>first_name</th>\n",
       "      <th>...</th>\n",
       "      <th>rub_per_message</th>\n",
       "      <th>rub_per_minute</th>\n",
       "      <th>paid_minutes</th>\n",
       "      <th>paid_messages</th>\n",
       "      <th>paid_mb</th>\n",
       "      <th>paid_gb</th>\n",
       "      <th>cost_minutes</th>\n",
       "      <th>cost_messages</th>\n",
       "      <th>cost_gb</th>\n",
       "      <th>total_cost</th>\n",
       "    </tr>\n",
       "  </thead>\n",
       "  <tbody>\n",
       "    <tr>\n",
       "      <th>0</th>\n",
       "      <td>1000</td>\n",
       "      <td>5</td>\n",
       "      <td>22.0</td>\n",
       "      <td>22.0</td>\n",
       "      <td>2253.49</td>\n",
       "      <td>159.0</td>\n",
       "      <td>52</td>\n",
       "      <td>NaT</td>\n",
       "      <td>Краснодар</td>\n",
       "      <td>Рафаил</td>\n",
       "      <td>...</td>\n",
       "      <td>1</td>\n",
       "      <td>1</td>\n",
       "      <td>0.0</td>\n",
       "      <td>0.0</td>\n",
       "      <td>0.0</td>\n",
       "      <td>0</td>\n",
       "      <td>0.0</td>\n",
       "      <td>0.0</td>\n",
       "      <td>0</td>\n",
       "      <td>1950.0</td>\n",
       "    </tr>\n",
       "    <tr>\n",
       "      <th>1</th>\n",
       "      <td>1000</td>\n",
       "      <td>6</td>\n",
       "      <td>43.0</td>\n",
       "      <td>60.0</td>\n",
       "      <td>23233.77</td>\n",
       "      <td>172.0</td>\n",
       "      <td>52</td>\n",
       "      <td>NaT</td>\n",
       "      <td>Краснодар</td>\n",
       "      <td>Рафаил</td>\n",
       "      <td>...</td>\n",
       "      <td>1</td>\n",
       "      <td>1</td>\n",
       "      <td>0.0</td>\n",
       "      <td>0.0</td>\n",
       "      <td>0.0</td>\n",
       "      <td>0</td>\n",
       "      <td>0.0</td>\n",
       "      <td>0.0</td>\n",
       "      <td>0</td>\n",
       "      <td>1950.0</td>\n",
       "    </tr>\n",
       "    <tr>\n",
       "      <th>2</th>\n",
       "      <td>1000</td>\n",
       "      <td>7</td>\n",
       "      <td>47.0</td>\n",
       "      <td>75.0</td>\n",
       "      <td>14003.64</td>\n",
       "      <td>340.0</td>\n",
       "      <td>52</td>\n",
       "      <td>NaT</td>\n",
       "      <td>Краснодар</td>\n",
       "      <td>Рафаил</td>\n",
       "      <td>...</td>\n",
       "      <td>1</td>\n",
       "      <td>1</td>\n",
       "      <td>0.0</td>\n",
       "      <td>0.0</td>\n",
       "      <td>0.0</td>\n",
       "      <td>0</td>\n",
       "      <td>0.0</td>\n",
       "      <td>0.0</td>\n",
       "      <td>0</td>\n",
       "      <td>1950.0</td>\n",
       "    </tr>\n",
       "    <tr>\n",
       "      <th>3</th>\n",
       "      <td>1000</td>\n",
       "      <td>8</td>\n",
       "      <td>52.0</td>\n",
       "      <td>81.0</td>\n",
       "      <td>14055.93</td>\n",
       "      <td>408.0</td>\n",
       "      <td>52</td>\n",
       "      <td>NaT</td>\n",
       "      <td>Краснодар</td>\n",
       "      <td>Рафаил</td>\n",
       "      <td>...</td>\n",
       "      <td>1</td>\n",
       "      <td>1</td>\n",
       "      <td>0.0</td>\n",
       "      <td>0.0</td>\n",
       "      <td>0.0</td>\n",
       "      <td>0</td>\n",
       "      <td>0.0</td>\n",
       "      <td>0.0</td>\n",
       "      <td>0</td>\n",
       "      <td>1950.0</td>\n",
       "    </tr>\n",
       "    <tr>\n",
       "      <th>4</th>\n",
       "      <td>1000</td>\n",
       "      <td>9</td>\n",
       "      <td>58.0</td>\n",
       "      <td>57.0</td>\n",
       "      <td>14568.91</td>\n",
       "      <td>466.0</td>\n",
       "      <td>52</td>\n",
       "      <td>NaT</td>\n",
       "      <td>Краснодар</td>\n",
       "      <td>Рафаил</td>\n",
       "      <td>...</td>\n",
       "      <td>1</td>\n",
       "      <td>1</td>\n",
       "      <td>0.0</td>\n",
       "      <td>0.0</td>\n",
       "      <td>0.0</td>\n",
       "      <td>0</td>\n",
       "      <td>0.0</td>\n",
       "      <td>0.0</td>\n",
       "      <td>0</td>\n",
       "      <td>1950.0</td>\n",
       "    </tr>\n",
       "  </tbody>\n",
       "</table>\n",
       "<p>5 rows × 28 columns</p>\n",
       "</div>"
      ],
      "text/plain": [
       "   user_id  month  calls  messages   mb_used  minutes  age churn_date  \\\n",
       "0     1000      5   22.0      22.0   2253.49    159.0   52        NaT   \n",
       "1     1000      6   43.0      60.0  23233.77    172.0   52        NaT   \n",
       "2     1000      7   47.0      75.0  14003.64    340.0   52        NaT   \n",
       "3     1000      8   52.0      81.0  14055.93    408.0   52        NaT   \n",
       "4     1000      9   58.0      57.0  14568.91    466.0   52        NaT   \n",
       "\n",
       "        city first_name  ... rub_per_message rub_per_minute paid_minutes  \\\n",
       "0  Краснодар     Рафаил  ...               1              1          0.0   \n",
       "1  Краснодар     Рафаил  ...               1              1          0.0   \n",
       "2  Краснодар     Рафаил  ...               1              1          0.0   \n",
       "3  Краснодар     Рафаил  ...               1              1          0.0   \n",
       "4  Краснодар     Рафаил  ...               1              1          0.0   \n",
       "\n",
       "   paid_messages  paid_mb  paid_gb  cost_minutes  cost_messages  cost_gb  \\\n",
       "0            0.0      0.0        0           0.0            0.0        0   \n",
       "1            0.0      0.0        0           0.0            0.0        0   \n",
       "2            0.0      0.0        0           0.0            0.0        0   \n",
       "3            0.0      0.0        0           0.0            0.0        0   \n",
       "4            0.0      0.0        0           0.0            0.0        0   \n",
       "\n",
       "   total_cost  \n",
       "0      1950.0  \n",
       "1      1950.0  \n",
       "2      1950.0  \n",
       "3      1950.0  \n",
       "4      1950.0  \n",
       "\n",
       "[5 rows x 28 columns]"
      ]
     },
     "metadata": {},
     "output_type": "display_data"
    }
   ],
   "source": [
    "display(user_behavior.head())"
   ]
  },
  {
   "cell_type": "code",
   "execution_count": 44,
   "metadata": {},
   "outputs": [
    {
     "name": "stdout",
     "output_type": "stream",
     "text": [
      "<class 'pandas.core.frame.DataFrame'>\n",
      "Int64Index: 3214 entries, 0 to 3213\n",
      "Data columns (total 28 columns):\n",
      " #   Column                 Non-Null Count  Dtype         \n",
      "---  ------                 --------------  -----         \n",
      " 0   user_id                3214 non-null   int64         \n",
      " 1   month                  3214 non-null   int64         \n",
      " 2   calls                  3214 non-null   float64       \n",
      " 3   messages               3214 non-null   float64       \n",
      " 4   mb_used                3214 non-null   float64       \n",
      " 5   minutes                3214 non-null   float64       \n",
      " 6   age                    3214 non-null   int64         \n",
      " 7   churn_date             187 non-null    datetime64[ns]\n",
      " 8   city                   3214 non-null   object        \n",
      " 9   first_name             3214 non-null   object        \n",
      " 10  last_name              3214 non-null   object        \n",
      " 11  reg_date               3214 non-null   datetime64[ns]\n",
      " 12  tariff                 3214 non-null   object        \n",
      " 13  messages_included      3214 non-null   int64         \n",
      " 14  mb_per_month_included  3214 non-null   int64         \n",
      " 15  minutes_included       3214 non-null   int64         \n",
      " 16  rub_monthly_fee        3214 non-null   int64         \n",
      " 17  rub_per_gb             3214 non-null   int64         \n",
      " 18  rub_per_message        3214 non-null   int64         \n",
      " 19  rub_per_minute         3214 non-null   int64         \n",
      " 20  paid_minutes           3214 non-null   float64       \n",
      " 21  paid_messages          3214 non-null   float64       \n",
      " 22  paid_mb                3214 non-null   float64       \n",
      " 23  paid_gb                3214 non-null   int32         \n",
      " 24  cost_minutes           3214 non-null   float64       \n",
      " 25  cost_messages          3214 non-null   float64       \n",
      " 26  cost_gb                3214 non-null   int64         \n",
      " 27  total_cost             3214 non-null   float64       \n",
      "dtypes: datetime64[ns](2), float64(10), int32(1), int64(11), object(4)\n",
      "memory usage: 715.6+ KB\n"
     ]
    }
   ],
   "source": [
    "user_behavior.info()"
   ]
  },
  {
   "cell_type": "markdown",
   "metadata": {
    "deletable": false,
    "editable": false,
    "id": "49WKdXmA_oCp"
   },
   "source": [
    "Датафрейм `stats_df` для каждой пары «месяц — тариф» будет хранить основные характеристики"
   ]
  },
  {
   "cell_type": "code",
   "execution_count": 45,
   "metadata": {
    "deletable": false,
    "id": "4V-Kl67S_oCp",
    "outputId": "ed8b1220-debd-42f0-9941-3acb27e94db1"
   },
   "outputs": [
    {
     "data": {
      "text/html": [
       "<div>\n",
       "<style scoped>\n",
       "    .dataframe tbody tr th:only-of-type {\n",
       "        vertical-align: middle;\n",
       "    }\n",
       "\n",
       "    .dataframe tbody tr th {\n",
       "        vertical-align: top;\n",
       "    }\n",
       "\n",
       "    .dataframe thead th {\n",
       "        text-align: right;\n",
       "    }\n",
       "</style>\n",
       "<table border=\"1\" class=\"dataframe\">\n",
       "  <thead>\n",
       "    <tr style=\"text-align: right;\">\n",
       "      <th></th>\n",
       "      <th>month</th>\n",
       "      <th>tariff</th>\n",
       "      <th>calls_mean</th>\n",
       "      <th>sessions_mean</th>\n",
       "      <th>messages_mean</th>\n",
       "      <th>minutes_mean</th>\n",
       "      <th>calls_std</th>\n",
       "      <th>sessions_std</th>\n",
       "      <th>messages_std</th>\n",
       "      <th>minutes_std</th>\n",
       "      <th>calls_median</th>\n",
       "      <th>sessions_median</th>\n",
       "      <th>messages_median</th>\n",
       "      <th>minutes_median</th>\n",
       "    </tr>\n",
       "  </thead>\n",
       "  <tbody>\n",
       "    <tr>\n",
       "      <th>0</th>\n",
       "      <td>1</td>\n",
       "      <td>smart</td>\n",
       "      <td>27.68</td>\n",
       "      <td>8513.72</td>\n",
       "      <td>18.24</td>\n",
       "      <td>203.85</td>\n",
       "      <td>20.81</td>\n",
       "      <td>6444.68</td>\n",
       "      <td>16.20</td>\n",
       "      <td>154.23</td>\n",
       "      <td>20.5</td>\n",
       "      <td>7096.18</td>\n",
       "      <td>15.0</td>\n",
       "      <td>162.5</td>\n",
       "    </tr>\n",
       "    <tr>\n",
       "      <th>1</th>\n",
       "      <td>1</td>\n",
       "      <td>ultra</td>\n",
       "      <td>59.44</td>\n",
       "      <td>13140.68</td>\n",
       "      <td>33.78</td>\n",
       "      <td>428.11</td>\n",
       "      <td>41.64</td>\n",
       "      <td>6865.35</td>\n",
       "      <td>30.67</td>\n",
       "      <td>269.76</td>\n",
       "      <td>51.0</td>\n",
       "      <td>14791.37</td>\n",
       "      <td>32.0</td>\n",
       "      <td>382.0</td>\n",
       "    </tr>\n",
       "    <tr>\n",
       "      <th>2</th>\n",
       "      <td>2</td>\n",
       "      <td>smart</td>\n",
       "      <td>40.19</td>\n",
       "      <td>11597.05</td>\n",
       "      <td>24.09</td>\n",
       "      <td>298.69</td>\n",
       "      <td>25.39</td>\n",
       "      <td>6247.35</td>\n",
       "      <td>21.75</td>\n",
       "      <td>190.82</td>\n",
       "      <td>38.5</td>\n",
       "      <td>12553.71</td>\n",
       "      <td>20.0</td>\n",
       "      <td>258.0</td>\n",
       "    </tr>\n",
       "    <tr>\n",
       "      <th>3</th>\n",
       "      <td>2</td>\n",
       "      <td>ultra</td>\n",
       "      <td>41.54</td>\n",
       "      <td>11775.94</td>\n",
       "      <td>21.96</td>\n",
       "      <td>297.12</td>\n",
       "      <td>40.97</td>\n",
       "      <td>10644.64</td>\n",
       "      <td>26.77</td>\n",
       "      <td>296.51</td>\n",
       "      <td>25.0</td>\n",
       "      <td>7327.12</td>\n",
       "      <td>5.5</td>\n",
       "      <td>168.0</td>\n",
       "    </tr>\n",
       "    <tr>\n",
       "      <th>4</th>\n",
       "      <td>3</td>\n",
       "      <td>smart</td>\n",
       "      <td>54.32</td>\n",
       "      <td>15104.16</td>\n",
       "      <td>31.86</td>\n",
       "      <td>390.05</td>\n",
       "      <td>25.54</td>\n",
       "      <td>5828.24</td>\n",
       "      <td>26.80</td>\n",
       "      <td>191.89</td>\n",
       "      <td>59.0</td>\n",
       "      <td>15670.25</td>\n",
       "      <td>23.0</td>\n",
       "      <td>409.0</td>\n",
       "    </tr>\n",
       "    <tr>\n",
       "      <th>5</th>\n",
       "      <td>3</td>\n",
       "      <td>ultra</td>\n",
       "      <td>67.68</td>\n",
       "      <td>17535.55</td>\n",
       "      <td>32.30</td>\n",
       "      <td>489.65</td>\n",
       "      <td>44.84</td>\n",
       "      <td>10951.79</td>\n",
       "      <td>41.62</td>\n",
       "      <td>333.74</td>\n",
       "      <td>57.0</td>\n",
       "      <td>17495.18</td>\n",
       "      <td>20.0</td>\n",
       "      <td>403.0</td>\n",
       "    </tr>\n",
       "    <tr>\n",
       "      <th>6</th>\n",
       "      <td>4</td>\n",
       "      <td>smart</td>\n",
       "      <td>51.31</td>\n",
       "      <td>13462.18</td>\n",
       "      <td>30.74</td>\n",
       "      <td>367.13</td>\n",
       "      <td>25.70</td>\n",
       "      <td>5698.25</td>\n",
       "      <td>24.54</td>\n",
       "      <td>186.49</td>\n",
       "      <td>52.0</td>\n",
       "      <td>14087.65</td>\n",
       "      <td>28.0</td>\n",
       "      <td>368.5</td>\n",
       "    </tr>\n",
       "    <tr>\n",
       "      <th>7</th>\n",
       "      <td>4</td>\n",
       "      <td>ultra</td>\n",
       "      <td>64.09</td>\n",
       "      <td>16828.13</td>\n",
       "      <td>31.56</td>\n",
       "      <td>458.02</td>\n",
       "      <td>36.27</td>\n",
       "      <td>9718.65</td>\n",
       "      <td>37.51</td>\n",
       "      <td>267.68</td>\n",
       "      <td>61.0</td>\n",
       "      <td>16645.78</td>\n",
       "      <td>17.0</td>\n",
       "      <td>453.0</td>\n",
       "    </tr>\n",
       "    <tr>\n",
       "      <th>8</th>\n",
       "      <td>5</td>\n",
       "      <td>smart</td>\n",
       "      <td>55.24</td>\n",
       "      <td>15805.18</td>\n",
       "      <td>33.77</td>\n",
       "      <td>387.36</td>\n",
       "      <td>25.38</td>\n",
       "      <td>5978.23</td>\n",
       "      <td>27.04</td>\n",
       "      <td>186.60</td>\n",
       "      <td>59.0</td>\n",
       "      <td>16323.94</td>\n",
       "      <td>30.0</td>\n",
       "      <td>433.0</td>\n",
       "    </tr>\n",
       "    <tr>\n",
       "      <th>9</th>\n",
       "      <td>5</td>\n",
       "      <td>ultra</td>\n",
       "      <td>72.51</td>\n",
       "      <td>19363.15</td>\n",
       "      <td>37.85</td>\n",
       "      <td>510.33</td>\n",
       "      <td>41.08</td>\n",
       "      <td>10046.11</td>\n",
       "      <td>40.31</td>\n",
       "      <td>289.60</td>\n",
       "      <td>75.0</td>\n",
       "      <td>18696.43</td>\n",
       "      <td>25.0</td>\n",
       "      <td>519.0</td>\n",
       "    </tr>\n",
       "  </tbody>\n",
       "</table>\n",
       "</div>"
      ],
      "text/plain": [
       "   month tariff  calls_mean  sessions_mean  messages_mean  minutes_mean  \\\n",
       "0      1  smart       27.68        8513.72          18.24        203.85   \n",
       "1      1  ultra       59.44       13140.68          33.78        428.11   \n",
       "2      2  smart       40.19       11597.05          24.09        298.69   \n",
       "3      2  ultra       41.54       11775.94          21.96        297.12   \n",
       "4      3  smart       54.32       15104.16          31.86        390.05   \n",
       "5      3  ultra       67.68       17535.55          32.30        489.65   \n",
       "6      4  smart       51.31       13462.18          30.74        367.13   \n",
       "7      4  ultra       64.09       16828.13          31.56        458.02   \n",
       "8      5  smart       55.24       15805.18          33.77        387.36   \n",
       "9      5  ultra       72.51       19363.15          37.85        510.33   \n",
       "\n",
       "   calls_std  sessions_std  messages_std  minutes_std  calls_median  \\\n",
       "0      20.81       6444.68         16.20       154.23          20.5   \n",
       "1      41.64       6865.35         30.67       269.76          51.0   \n",
       "2      25.39       6247.35         21.75       190.82          38.5   \n",
       "3      40.97      10644.64         26.77       296.51          25.0   \n",
       "4      25.54       5828.24         26.80       191.89          59.0   \n",
       "5      44.84      10951.79         41.62       333.74          57.0   \n",
       "6      25.70       5698.25         24.54       186.49          52.0   \n",
       "7      36.27       9718.65         37.51       267.68          61.0   \n",
       "8      25.38       5978.23         27.04       186.60          59.0   \n",
       "9      41.08      10046.11         40.31       289.60          75.0   \n",
       "\n",
       "   sessions_median  messages_median  minutes_median  \n",
       "0          7096.18             15.0           162.5  \n",
       "1         14791.37             32.0           382.0  \n",
       "2         12553.71             20.0           258.0  \n",
       "3          7327.12              5.5           168.0  \n",
       "4         15670.25             23.0           409.0  \n",
       "5         17495.18             20.0           403.0  \n",
       "6         14087.65             28.0           368.5  \n",
       "7         16645.78             17.0           453.0  \n",
       "8         16323.94             30.0           433.0  \n",
       "9         18696.43             25.0           519.0  "
      ]
     },
     "execution_count": 45,
     "metadata": {},
     "output_type": "execute_result"
    }
   ],
   "source": [
    "# сохранение статистических метрик для каждой пары месяц-тариф\n",
    "# в одной таблице stats_df (среднее значение, стандартное отклонение, медиана)\n",
    "\n",
    "stats_df = user_behavior.pivot_table(\n",
    "            index=['month', 'tariff'],\\\n",
    "            values=['calls', 'minutes', 'messages', 'mb_used'],\\\n",
    "            aggfunc=['mean', 'std', 'median']\\\n",
    ").round(2).reset_index()\n",
    "\n",
    "stats_df.columns=['month', 'tariff', 'calls_mean', 'sessions_mean', 'messages_mean', 'minutes_mean',\n",
    "                                     'calls_std',  'sessions_std', 'messages_std', 'minutes_std', \n",
    "                                     'calls_median', 'sessions_median', 'messages_median',  'minutes_median']\n",
    "\n",
    "stats_df.head(10)"
   ]
  },
  {
   "cell_type": "markdown",
   "metadata": {
    "deletable": false,
    "editable": false,
    "id": "HBjTHsiq_oCq"
   },
   "source": [
    "Распределение среднего количества звонков по видам тарифов и месяцам"
   ]
  },
  {
   "cell_type": "code",
   "execution_count": 46,
   "metadata": {
    "deletable": false,
    "id": "HKlQp7la_oCq",
    "outputId": "18ba7a99-d460-44f5-9c08-a67e71e18aa2"
   },
   "outputs": [
    {
     "data": {
      "image/png": "[encoded data removed]",
      "text/plain": [
       "<Figure size 640x480 with 1 Axes>"
      ]
     },
     "metadata": {},
     "output_type": "display_data"
    }
   ],
   "source": [
    "ax = sns.barplot(x='month',\n",
    "            y='calls_mean',\n",
    "            hue=\"tariff\",\n",
    "            data=stats_df,\n",
    "            palette=['lightblue', 'blue'])\n",
    "\n",
    "ax.set_title('Распределение количества звонков по видам тарифов и месяцам')\n",
    "ax.set(xlabel='Номер месяца', ylabel='Среднее количество звонков');"
   ]
  },
  {
   "cell_type": "code",
   "execution_count": 47,
   "metadata": {
    "deletable": false,
    "id": "LBzNZDS1_oCq",
    "outputId": "12f9ceca-41e4-4ff9-ebf7-1a778751b299"
   },
   "outputs": [
    {
     "data": {
      "image/png": "[encoded data removed]",
      "text/plain": [
       "<Figure size 640x480 with 1 Axes>"
      ]
     },
     "metadata": {},
     "output_type": "display_data"
    }
   ],
   "source": [
    "\n",
    "user_behavior.groupby('tariff')['calls'].plot(kind='hist', bins=35, alpha=0.5)\n",
    "plt.legend(['Smart', 'Ultra'])\n",
    "plt.xlabel('Количество звонков')\n",
    "plt.ylabel('Количество клиентов')\n",
    "plt.show()"
   ]
  },
  {
   "cell_type": "markdown",
   "metadata": {
    "deletable": false,
    "editable": false,
    "id": "6ApNiP3G_oCq"
   },
   "source": [
    "Распределение средней продолжительности звонков по видам тарифов и месяцам"
   ]
  },
  {
   "cell_type": "code",
   "execution_count": 48,
   "metadata": {
    "deletable": false,
    "id": "NB9xuopA_oCq",
    "outputId": "f4f1696b-7a58-41b3-8085-f86e0c866bc9"
   },
   "outputs": [
    {
     "data": {
      "image/png": "[encoded data removed]",
      "text/plain": [
       "<Figure size 640x480 with 1 Axes>"
      ]
     },
     "metadata": {},
     "output_type": "display_data"
    }
   ],
   "source": [
    "ax = sns.barplot(x='month',\n",
    "            y='minutes_mean',\n",
    "            hue=\"tariff\",\n",
    "            data=stats_df,\n",
    "            palette=['lightblue', 'blue'])\n",
    "\n",
    "ax.set_title('Распределение продолжительности звонков по видам тарифов и месяцам')\n",
    "ax.set(xlabel='Номер месяца', ylabel='Средняя продолжительность звонков');"
   ]
  },
  {
   "cell_type": "code",
   "execution_count": 49,
   "metadata": {
    "deletable": false,
    "id": "eL5SHsdq_oCq",
    "outputId": "21d15fb2-0f41-46cb-b0ab-a31874d3d201"
   },
   "outputs": [
    {
     "data": {
      "image/png": "[encoded data removed]",
      "text/plain": [
       "<Figure size 640x480 with 1 Axes>"
      ]
     },
     "metadata": {},
     "output_type": "display_data"
    }
   ],
   "source": [
    "user_behavior[user_behavior['tariff'] =='smart']['minutes'].hist(bins=35, alpha=0.5, color='green')\n",
    "user_behavior[user_behavior['tariff'] =='ultra']['minutes'].hist(bins=35, alpha=0.5, color='blue');"
   ]
  },
  {
   "cell_type": "markdown",
   "metadata": {
    "deletable": false,
    "editable": false,
    "id": "G3NDyWZy_oCq"
   },
   "source": [
    "Средняя длительность разговоров у абонентов тарифа Ultra больше, чем у абонентов тарифа Smart. В течение года пользователи обоих тарифов увеличивают среднюю продолжительность своих разговоров. Рост средней длительности разговоров у абонентов тарифа Smart равномерный в течение года. Пользователи тарифа Ultra не проявляют подобной линейной стабильности. Стоит отметить, что феврале у абонентов обоих тарифных планов наблюдались самые низкие показатели."
   ]
  },
  {
   "cell_type": "markdown",
   "metadata": {
    "deletable": false,
    "editable": false,
    "id": "ils1vnE7_oCq"
   },
   "source": [
    "Распределение среднего количества сообщений по видам тарифов и месяцам"
   ]
  },
  {
   "cell_type": "code",
   "execution_count": 50,
   "metadata": {
    "deletable": false,
    "id": "zkSEsDH__oCq",
    "outputId": "34370df8-5375-4a80-b1f5-ad6d556f6a54"
   },
   "outputs": [
    {
     "data": {
      "image/png": "[encoded data removed]",
      "text/plain": [
       "<Figure size 640x480 with 1 Axes>"
      ]
     },
     "metadata": {},
     "output_type": "display_data"
    }
   ],
   "source": [
    "ax = sns.barplot(x='month',\n",
    "            y='messages_mean',\n",
    "            hue=\"tariff\",\n",
    "            data=stats_df,\n",
    "            palette=['lightblue', 'blue']\n",
    ")\n",
    "\n",
    "ax.set_title('Распределение количества сообщений по видам тарифов и месяцам')\n",
    "ax.set(xlabel='Номер месяца', ylabel='Среднее количество сообщений');"
   ]
  },
  {
   "cell_type": "code",
   "execution_count": 51,
   "metadata": {
    "deletable": false,
    "id": "I97vMndq_oCq",
    "outputId": "87f68d2f-ac58-4253-ccbb-70e81f073a41"
   },
   "outputs": [
    {
     "data": {
      "image/png": "[encoded data removed]",
      "text/plain": [
       "<Figure size 640x480 with 1 Axes>"
      ]
     },
     "metadata": {},
     "output_type": "display_data"
    }
   ],
   "source": [
    "user_behavior[user_behavior['tariff'] =='smart']['messages'].hist(bins=35, alpha=0.5, color='green')\n",
    "user_behavior[user_behavior['tariff'] =='ultra']['messages'].hist(bins=35, alpha=0.5, color='blue');"
   ]
  },
  {
   "cell_type": "markdown",
   "metadata": {
    "id": "IKu7ZqEy_oCq"
   },
   "source": [
    "В среднем пользователи тарифа Ultra отправляют больше сообщений — почти на 20 сообщений больше, чем пользователи тарифа Smart. Количество сообщений в течение года на обоих тарифах растёт. Динамика по отправке сообщений схожа с тенденциями по длительности разговоров: в феврале отмечено наименьшее количество сообщений за год и пользователи тарифа Ultra также проявляют нелинейную положительную динамику."
   ]
  },
  {
   "cell_type": "code",
   "execution_count": 52,
   "metadata": {
    "deletable": false,
    "id": "q866NzDW_oCr",
    "outputId": "18a00f1a-0227-4176-da41-47d448aecc0b"
   },
   "outputs": [
    {
     "data": {
      "image/png": "[encoded data removed]",
      "text/plain": [
       "<Figure size 640x480 with 1 Axes>"
      ]
     },
     "metadata": {},
     "output_type": "display_data"
    }
   ],
   "source": [
    "ax = sns.barplot(x='month',\n",
    "            y='sessions_mean',\n",
    "            hue='tariff',\n",
    "            data=stats_df,\n",
    "            palette=['lightblue', 'blue']\n",
    ")\n",
    "\n",
    "ax.set_title('Распределение количества потраченного трафика (Мб) по видам тарифов и месяцам')\n",
    "ax.set(xlabel='Номер месяца', ylabel='Среднее количество мегабайт');"
   ]
  },
  {
   "cell_type": "markdown",
   "metadata": {
    "deletable": false,
    "editable": false,
    "id": "an1c3noO_oCr"
   },
   "source": [
    "Сравнение потраченных мегабайт среди пользователей тарифов Smart и Ultra"
   ]
  },
  {
   "cell_type": "code",
   "execution_count": 53,
   "metadata": {
    "deletable": false,
    "id": "Czm2mIhd_oCr",
    "outputId": "af40db5d-21b7-4991-bcfb-cd57eec6bb3d"
   },
   "outputs": [
    {
     "data": {
      "image/png": "[encoded data removed]",
      "text/plain": [
       "<Figure size 640x480 with 1 Axes>"
      ]
     },
     "metadata": {},
     "output_type": "display_data"
    }
   ],
   "source": [
    "user_behavior[user_behavior['tariff'] =='smart']['mb_used'].hist(bins=35, alpha=0.5, color='green')\n",
    "user_behavior[user_behavior['tariff'] =='ultra']['mb_used'].hist(bins=35, alpha=0.5, color='blue');"
   ]
  },
  {
   "cell_type": "markdown",
   "metadata": {
    "deletable": false,
    "editable": false,
    "id": "DQp_KGw1_oCr"
   },
   "source": [
    "Меньше всего пользователи использовали интернет в январе, феврале и апреле. Чаще всего абоненты тарифа Smart тратят 15–17 Гб, а абоненты тарифного плана Ultra — 19–21 ГБ."
   ]
  },
  {
   "cell_type": "markdown",
   "metadata": {
    "deletable": false,
    "editable": false,
    "id": "aKJz6DhN_oCr"
   },
   "source": [
    "### Проверка гипотез"
   ]
  },
  {
   "cell_type": "markdown",
   "metadata": {
    "id": "NzOeQM6C_oCY"
   },
   "source": [
    "Проверка гипотезы: средняя выручка пользователей тарифов «Ультра» и «Смарт» различается;\n",
    "\n",
    "```\n",
    "H_0: Выручка (total_cost) пользователей \"Ультра\" = выручка (total_cost) пользователей \"Смарт\"`\n",
    "H_a: Выручка (total_cost) пользователей \"Ультра\" ≠ выручка (total_cost) пользователей \"Смарт\"`\n",
    "alpha = 0.05\n",
    "```"
   ]
  },
  {
   "cell_type": "code",
   "execution_count": 54,
   "metadata": {
    "deletable": false,
    "id": "OxsrhJXE_oCr"
   },
   "outputs": [
    {
     "name": "stdout",
     "output_type": "stream",
     "text": [
      "p-значение: 4.2606313931076085e-250\n",
      "Отвергаем нулевую гипотезу\n"
     ]
    }
   ],
   "source": [
    "ultra = user_behavior[user_behavior['tariff'] =='ultra']\n",
    "smart = user_behavior[user_behavior['tariff'] =='smart']\n",
    "\n",
    "results=st.ttest_ind(ultra['total_cost'],smart['total_cost'],equal_var=False)# results = вызов метода для проверки гипотезы\n",
    "\n",
    "alpha=0.05# alpha = задайте значение уровня значимости\n",
    "\n",
    "print('p-значение:', results.pvalue)# вывод значения p-value на экран \n",
    "if (results.pvalue < alpha):\n",
    "    print(\"Отвергаем нулевую гипотезу\")\n",
    "else:\n",
    "    print(\"Не получилось отвергнуть нулевую гипотезу\")# условный оператор с выводом строки с ответом"
   ]
  },
  {
   "cell_type": "markdown",
   "metadata": {
    "id": "NzOeQM6C_oCY"
   },
   "source": [
    "Проверка гипотезы: средняя выручка с пользователей из Москвы отличается от выручки c пользователей других регионов; \n",
    "\n",
    "```\n",
    "H_0: Выручка (total_cost) пользователей из Москвы = выручка (total_cost) пользователей не из Москвы`\n",
    "H_1: Выручка (total_cost) пользователей из Москвы ≠ выручка (total_cost) пользователей не из Москвы`\n",
    "alpha = 0.05\n",
    "```"
   ]
  },
  {
   "cell_type": "code",
   "execution_count": 55,
   "metadata": {
    "deletable": false,
    "id": "RznkRUuu_oCr"
   },
   "outputs": [
    {
     "name": "stdout",
     "output_type": "stream",
     "text": [
      "p-значение: 0.5440152911670224\n",
      "Не получилось отвергнуть нулевую гипотезу\n"
     ]
    }
   ],
   "source": [
    "moscow = user_behavior[user_behavior['city'] == 'Москва']\n",
    "province = user_behavior[user_behavior['city'] != 'Москва']\n",
    "\n",
    "results=st.ttest_ind(moscow['total_cost'],province['total_cost'])# results = вызов метода для проверки гипотезы\n",
    "\n",
    "alpha=0.05# alpha = задайте значение уровня значимости\n",
    "\n",
    "print('p-значение:', results.pvalue)# вывод значения p-value на экран \n",
    "if (results.pvalue < alpha):\n",
    "    print(\"Отвергаем нулевую гипотезу\")\n",
    "else:\n",
    "    print(\"Не получилось отвергнуть нулевую гипотезу\")# условный оператор с выводом строки с ответом"
   ]
  },
  {
   "cell_type": "markdown",
   "metadata": {},
   "source": [
    "Не получилось отвергнуть нулевую гипотезу-значит средняя выручка пользователей из Москвы и других регионов  не имеет статистически значимого различия. А уровень значимости (P-value) равняется 54%, что означает, что с вероятностью 54% мы можем получить примерно такой же результат, если нулевая гипотеза верна."
   ]
  },
  {
   "cell_type": "markdown",
   "metadata": {},
   "source": [
    "## Общий вывод"
   ]
  },
  {
   "cell_type": "markdown",
   "metadata": {},
   "source": [
    "В данном исследовании были  полученны данные из файлов, проведена предподготовка данных для исследования и изучена информация о том,  как пользователи из выборки в 500 человек пользуются услугами оператора на тарифных планах Smart и Ultra.\n",
    "\n",
    "Итоги исследования:\n",
    "\n",
    "- Пользователи обоих тарифов в большинстве случаев укладываются в лимиты тарифа по минутам, однако часть пользователей smart выходит за пределы лимита, в то время как только малая часть пользователей тарифа ultra доходят до середины лимита своего тарифа.\n",
    "\n",
    "- Большую часть времени пользователи обоих тарифов не используют сообщения, а если используют, то не выходят за лимит тарифа smart. Лишь малая часть пользователей в редких случаях отправляют много сообщений, но максимальное количество сообщений достигает всего четверти лимита тарифа ultra.\n",
    "\n",
    "- Пользователи обоих тарифов активно используют интернет-трафик, но пользователи тарифа smart часто выходят за пределы лимита и докупают дополнительный трафик. Пользователей тарифа ultra в очень редких случаях докупают дополнительный трафик.\n",
    "\n",
    "\n",
    "Так же, мы провели проверку гипотез и выяснили, что:\n",
    "\n",
    "Средняя выручка между пользователями тарифа smart и ultra различается.\n",
    "Средняя выручка между пользователями обоих тарифов в Моске равняется средней выручки совокупности других регионов."
   ]
  }
 ],
 "metadata": {
  "ExecuteTimeLog": [
   {
    "duration": 46,
    "start_time": "2023-02-15T16:14:54.751Z"
   },
   {
    "duration": 383,
    "start_time": "2023-02-15T16:15:05.020Z"
   },
   {
    "duration": 232,
    "start_time": "2023-02-15T16:15:07.356Z"
   },
   {
    "duration": 14,
    "start_time": "2023-02-15T16:15:39.554Z"
   },
   {
    "duration": 24,
    "start_time": "2023-02-15T16:16:05.959Z"
   },
   {
    "duration": 530,
    "start_time": "2023-02-15T16:17:11.914Z"
   },
   {
    "duration": 412,
    "start_time": "2023-02-15T16:19:18.896Z"
   },
   {
    "duration": 9,
    "start_time": "2023-02-15T16:20:06.074Z"
   },
   {
    "duration": 21,
    "start_time": "2023-02-15T16:20:38.693Z"
   },
   {
    "duration": 150,
    "start_time": "2023-02-15T16:21:31.296Z"
   },
   {
    "duration": 50,
    "start_time": "2023-02-15T16:22:19.629Z"
   },
   {
    "duration": 148,
    "start_time": "2023-02-15T16:22:26.812Z"
   },
   {
    "duration": 100,
    "start_time": "2023-02-15T16:25:13.683Z"
   },
   {
    "duration": 153,
    "start_time": "2023-02-15T16:27:25.691Z"
   },
   {
    "duration": 419,
    "start_time": "2023-02-15T16:27:37.075Z"
   },
   {
    "duration": 154,
    "start_time": "2023-02-15T16:27:37.496Z"
   },
   {
    "duration": 14,
    "start_time": "2023-02-15T16:27:37.651Z"
   },
   {
    "duration": 27,
    "start_time": "2023-02-15T16:27:37.667Z"
   },
   {
    "duration": 366,
    "start_time": "2023-02-15T16:27:37.696Z"
   },
   {
    "duration": 126,
    "start_time": "2023-02-15T16:27:38.063Z"
   },
   {
    "duration": 9,
    "start_time": "2023-02-15T16:27:38.190Z"
   },
   {
    "duration": 23,
    "start_time": "2023-02-15T16:27:38.200Z"
   },
   {
    "duration": 169,
    "start_time": "2023-02-15T16:27:38.224Z"
   },
   {
    "duration": 86,
    "start_time": "2023-02-15T16:27:38.396Z"
   },
   {
    "duration": 2,
    "start_time": "2023-02-15T16:27:38.484Z"
   },
   {
    "duration": 5,
    "start_time": "2023-02-15T16:27:38.488Z"
   },
   {
    "duration": 9,
    "start_time": "2023-02-15T16:27:38.494Z"
   },
   {
    "duration": 23,
    "start_time": "2023-02-15T16:27:38.504Z"
   },
   {
    "duration": 5,
    "start_time": "2023-02-15T16:27:38.528Z"
   },
   {
    "duration": 7,
    "start_time": "2023-02-15T16:27:38.534Z"
   },
   {
    "duration": 6,
    "start_time": "2023-02-15T16:27:38.542Z"
   },
   {
    "duration": 7,
    "start_time": "2023-02-15T16:27:38.549Z"
   },
   {
    "duration": 5,
    "start_time": "2023-02-15T16:27:38.558Z"
   },
   {
    "duration": 5,
    "start_time": "2023-02-15T16:27:38.564Z"
   },
   {
    "duration": 70,
    "start_time": "2023-02-15T16:27:38.570Z"
   },
   {
    "duration": 0,
    "start_time": "2023-02-15T16:27:38.642Z"
   },
   {
    "duration": 0,
    "start_time": "2023-02-15T16:27:38.644Z"
   },
   {
    "duration": 0,
    "start_time": "2023-02-15T16:27:38.645Z"
   },
   {
    "duration": 0,
    "start_time": "2023-02-15T16:27:38.647Z"
   },
   {
    "duration": 0,
    "start_time": "2023-02-15T16:27:38.648Z"
   },
   {
    "duration": 0,
    "start_time": "2023-02-15T16:27:38.649Z"
   },
   {
    "duration": 0,
    "start_time": "2023-02-15T16:27:38.651Z"
   },
   {
    "duration": 0,
    "start_time": "2023-02-15T16:27:38.652Z"
   },
   {
    "duration": 0,
    "start_time": "2023-02-15T16:27:38.653Z"
   },
   {
    "duration": 0,
    "start_time": "2023-02-15T16:27:38.655Z"
   },
   {
    "duration": 0,
    "start_time": "2023-02-15T16:27:38.657Z"
   },
   {
    "duration": 0,
    "start_time": "2023-02-15T16:27:38.658Z"
   },
   {
    "duration": 0,
    "start_time": "2023-02-15T16:27:38.660Z"
   },
   {
    "duration": 0,
    "start_time": "2023-02-15T16:27:38.660Z"
   },
   {
    "duration": 0,
    "start_time": "2023-02-15T16:27:38.661Z"
   },
   {
    "duration": 0,
    "start_time": "2023-02-15T16:27:38.662Z"
   },
   {
    "duration": 0,
    "start_time": "2023-02-15T16:27:38.663Z"
   },
   {
    "duration": 0,
    "start_time": "2023-02-15T16:27:38.693Z"
   },
   {
    "duration": 0,
    "start_time": "2023-02-15T16:27:38.695Z"
   },
   {
    "duration": 0,
    "start_time": "2023-02-15T16:27:38.695Z"
   },
   {
    "duration": 0,
    "start_time": "2023-02-15T16:27:38.696Z"
   },
   {
    "duration": 371,
    "start_time": "2023-02-15T16:29:23.457Z"
   },
   {
    "duration": 166,
    "start_time": "2023-02-15T16:29:27.281Z"
   },
   {
    "duration": 13,
    "start_time": "2023-02-15T16:29:30.196Z"
   },
   {
    "duration": 24,
    "start_time": "2023-02-15T16:29:33.586Z"
   },
   {
    "duration": 367,
    "start_time": "2023-02-15T16:29:36.691Z"
   },
   {
    "duration": 144,
    "start_time": "2023-02-15T16:29:40.297Z"
   },
   {
    "duration": 9,
    "start_time": "2023-02-15T16:29:43.639Z"
   },
   {
    "duration": 22,
    "start_time": "2023-02-15T16:29:46.765Z"
   },
   {
    "duration": 145,
    "start_time": "2023-02-15T16:29:50.772Z"
   },
   {
    "duration": 98,
    "start_time": "2023-02-15T16:30:07.377Z"
   },
   {
    "duration": 7,
    "start_time": "2023-02-15T16:30:33.835Z"
   },
   {
    "duration": 18,
    "start_time": "2023-02-15T16:31:19.629Z"
   },
   {
    "duration": 60,
    "start_time": "2023-02-15T16:32:09.218Z"
   },
   {
    "duration": 65,
    "start_time": "2023-02-15T16:32:40.264Z"
   },
   {
    "duration": 7,
    "start_time": "2023-02-15T16:32:57.150Z"
   },
   {
    "duration": 11,
    "start_time": "2023-02-15T16:33:17.819Z"
   },
   {
    "duration": 79,
    "start_time": "2023-02-15T16:34:14.925Z"
   },
   {
    "duration": 12,
    "start_time": "2023-02-15T16:34:54.801Z"
   },
   {
    "duration": 10,
    "start_time": "2023-02-15T16:35:33.877Z"
   },
   {
    "duration": 44,
    "start_time": "2023-02-15T16:46:11.839Z"
   },
   {
    "duration": 368,
    "start_time": "2023-02-15T16:46:22.748Z"
   },
   {
    "duration": 59,
    "start_time": "2023-02-15T16:46:43.344Z"
   },
   {
    "duration": 11,
    "start_time": "2023-02-15T16:52:50.068Z"
   },
   {
    "duration": 10,
    "start_time": "2023-02-15T16:53:42.875Z"
   },
   {
    "duration": 8,
    "start_time": "2023-02-15T16:58:28.765Z"
   },
   {
    "duration": 9,
    "start_time": "2023-02-15T17:00:06.019Z"
   },
   {
    "duration": 7,
    "start_time": "2023-02-15T17:00:39.562Z"
   },
   {
    "duration": 7,
    "start_time": "2023-02-15T17:01:07.268Z"
   },
   {
    "duration": 47,
    "start_time": "2023-02-15T17:03:15.490Z"
   },
   {
    "duration": 9,
    "start_time": "2023-02-15T17:03:31.740Z"
   },
   {
    "duration": 9,
    "start_time": "2023-02-15T17:04:02.206Z"
   },
   {
    "duration": 9,
    "start_time": "2023-02-15T17:10:55.908Z"
   },
   {
    "duration": 10,
    "start_time": "2023-02-15T17:14:36.034Z"
   },
   {
    "duration": 5,
    "start_time": "2023-02-15T17:15:36.676Z"
   },
   {
    "duration": 5,
    "start_time": "2023-02-15T17:15:47.458Z"
   },
   {
    "duration": 22,
    "start_time": "2023-02-15T18:02:26.973Z"
   },
   {
    "duration": 10,
    "start_time": "2023-02-15T18:02:42.309Z"
   },
   {
    "duration": 662,
    "start_time": "2023-02-15T18:02:56.925Z"
   },
   {
    "duration": 688,
    "start_time": "2023-02-15T18:03:30.797Z"
   },
   {
    "duration": 739,
    "start_time": "2023-02-15T18:05:23.899Z"
   },
   {
    "duration": 10,
    "start_time": "2023-02-15T18:05:46.912Z"
   },
   {
    "duration": 20,
    "start_time": "2023-02-15T18:05:59.407Z"
   },
   {
    "duration": 11,
    "start_time": "2023-02-15T18:07:47.073Z"
   },
   {
    "duration": 12,
    "start_time": "2023-02-15T18:08:18.101Z"
   },
   {
    "duration": 11,
    "start_time": "2023-02-15T18:14:09.403Z"
   },
   {
    "duration": 424,
    "start_time": "2023-02-15T18:15:03.272Z"
   },
   {
    "duration": 159,
    "start_time": "2023-02-15T18:15:03.698Z"
   },
   {
    "duration": 14,
    "start_time": "2023-02-15T18:15:03.858Z"
   },
   {
    "duration": 39,
    "start_time": "2023-02-15T18:15:03.875Z"
   },
   {
    "duration": 454,
    "start_time": "2023-02-15T18:15:03.916Z"
   },
   {
    "duration": 131,
    "start_time": "2023-02-15T18:15:04.372Z"
   },
   {
    "duration": 9,
    "start_time": "2023-02-15T18:15:04.504Z"
   },
   {
    "duration": 22,
    "start_time": "2023-02-15T18:15:04.514Z"
   },
   {
    "duration": 156,
    "start_time": "2023-02-15T18:15:04.538Z"
   },
   {
    "duration": 95,
    "start_time": "2023-02-15T18:15:04.697Z"
   },
   {
    "duration": 7,
    "start_time": "2023-02-15T18:15:04.794Z"
   },
   {
    "duration": 23,
    "start_time": "2023-02-15T18:15:04.802Z"
   },
   {
    "duration": 24,
    "start_time": "2023-02-15T18:15:04.826Z"
   },
   {
    "duration": 7,
    "start_time": "2023-02-15T18:15:04.851Z"
   },
   {
    "duration": 10,
    "start_time": "2023-02-15T18:15:04.860Z"
   },
   {
    "duration": 25,
    "start_time": "2023-02-15T18:15:04.872Z"
   },
   {
    "duration": 9,
    "start_time": "2023-02-15T18:15:04.899Z"
   },
   {
    "duration": 9,
    "start_time": "2023-02-15T18:15:04.910Z"
   },
   {
    "duration": 85,
    "start_time": "2023-02-15T18:15:04.920Z"
   },
   {
    "duration": 5,
    "start_time": "2023-02-15T18:15:05.007Z"
   },
   {
    "duration": 90,
    "start_time": "2023-02-15T18:15:05.014Z"
   },
   {
    "duration": 0,
    "start_time": "2023-02-15T18:15:05.106Z"
   },
   {
    "duration": 0,
    "start_time": "2023-02-15T18:15:05.107Z"
   },
   {
    "duration": 0,
    "start_time": "2023-02-15T18:15:05.108Z"
   },
   {
    "duration": 0,
    "start_time": "2023-02-15T18:15:05.109Z"
   },
   {
    "duration": 0,
    "start_time": "2023-02-15T18:15:05.110Z"
   },
   {
    "duration": 0,
    "start_time": "2023-02-15T18:15:05.111Z"
   },
   {
    "duration": 0,
    "start_time": "2023-02-15T18:15:05.113Z"
   },
   {
    "duration": 0,
    "start_time": "2023-02-15T18:15:05.114Z"
   },
   {
    "duration": 0,
    "start_time": "2023-02-15T18:15:05.115Z"
   },
   {
    "duration": 0,
    "start_time": "2023-02-15T18:15:05.116Z"
   },
   {
    "duration": 0,
    "start_time": "2023-02-15T18:15:05.117Z"
   },
   {
    "duration": 0,
    "start_time": "2023-02-15T18:15:05.119Z"
   },
   {
    "duration": 0,
    "start_time": "2023-02-15T18:15:05.120Z"
   },
   {
    "duration": 0,
    "start_time": "2023-02-15T18:15:05.121Z"
   },
   {
    "duration": 0,
    "start_time": "2023-02-15T18:15:05.122Z"
   },
   {
    "duration": 0,
    "start_time": "2023-02-15T18:15:05.123Z"
   },
   {
    "duration": 0,
    "start_time": "2023-02-15T18:15:05.124Z"
   },
   {
    "duration": 0,
    "start_time": "2023-02-15T18:15:05.125Z"
   },
   {
    "duration": 0,
    "start_time": "2023-02-15T18:15:05.126Z"
   },
   {
    "duration": 0,
    "start_time": "2023-02-15T18:15:05.127Z"
   },
   {
    "duration": 0,
    "start_time": "2023-02-15T18:15:05.128Z"
   },
   {
    "duration": 0,
    "start_time": "2023-02-15T18:15:05.129Z"
   },
   {
    "duration": 0,
    "start_time": "2023-02-15T18:15:05.130Z"
   },
   {
    "duration": 0,
    "start_time": "2023-02-15T18:15:05.131Z"
   },
   {
    "duration": 0,
    "start_time": "2023-02-15T18:15:05.132Z"
   },
   {
    "duration": 0,
    "start_time": "2023-02-15T18:15:05.133Z"
   },
   {
    "duration": 0,
    "start_time": "2023-02-15T18:15:05.134Z"
   },
   {
    "duration": 0,
    "start_time": "2023-02-15T18:15:05.135Z"
   },
   {
    "duration": 0,
    "start_time": "2023-02-15T18:15:05.136Z"
   },
   {
    "duration": 0,
    "start_time": "2023-02-15T18:15:05.137Z"
   },
   {
    "duration": 7,
    "start_time": "2023-02-15T18:19:32.281Z"
   },
   {
    "duration": 23,
    "start_time": "2023-02-15T18:24:25.906Z"
   },
   {
    "duration": 14,
    "start_time": "2023-02-15T18:25:17.898Z"
   },
   {
    "duration": 18,
    "start_time": "2023-02-15T18:26:17.311Z"
   },
   {
    "duration": 8,
    "start_time": "2023-02-15T18:32:07.749Z"
   },
   {
    "duration": 23,
    "start_time": "2023-02-15T18:32:43.419Z"
   },
   {
    "duration": 9,
    "start_time": "2023-02-15T18:33:09.170Z"
   },
   {
    "duration": 24,
    "start_time": "2023-02-15T18:36:58.299Z"
   },
   {
    "duration": 8,
    "start_time": "2023-02-15T18:38:59.820Z"
   },
   {
    "duration": 18,
    "start_time": "2023-02-15T18:41:06.535Z"
   },
   {
    "duration": 9,
    "start_time": "2023-02-15T18:41:25.093Z"
   },
   {
    "duration": 15,
    "start_time": "2023-02-15T18:43:01.530Z"
   },
   {
    "duration": 10,
    "start_time": "2023-02-15T18:43:20.750Z"
   },
   {
    "duration": 52,
    "start_time": "2023-02-16T07:36:55.129Z"
   },
   {
    "duration": 8,
    "start_time": "2023-02-16T07:37:13.265Z"
   },
   {
    "duration": 463,
    "start_time": "2023-02-16T07:37:55.296Z"
   },
   {
    "duration": 212,
    "start_time": "2023-02-16T07:37:55.761Z"
   },
   {
    "duration": 14,
    "start_time": "2023-02-16T07:37:55.975Z"
   },
   {
    "duration": 25,
    "start_time": "2023-02-16T07:37:55.991Z"
   },
   {
    "duration": 546,
    "start_time": "2023-02-16T07:37:56.018Z"
   },
   {
    "duration": 389,
    "start_time": "2023-02-16T07:37:56.566Z"
   },
   {
    "duration": 10,
    "start_time": "2023-02-16T07:37:56.956Z"
   },
   {
    "duration": 24,
    "start_time": "2023-02-16T07:37:56.968Z"
   },
   {
    "duration": 141,
    "start_time": "2023-02-16T07:37:56.993Z"
   },
   {
    "duration": 146,
    "start_time": "2023-02-16T07:37:57.136Z"
   },
   {
    "duration": 11,
    "start_time": "2023-02-16T07:37:57.283Z"
   },
   {
    "duration": 30,
    "start_time": "2023-02-16T07:37:57.295Z"
   },
   {
    "duration": 46,
    "start_time": "2023-02-16T07:37:57.327Z"
   },
   {
    "duration": 10,
    "start_time": "2023-02-16T07:37:57.376Z"
   },
   {
    "duration": 18,
    "start_time": "2023-02-16T07:37:57.388Z"
   },
   {
    "duration": 58,
    "start_time": "2023-02-16T07:37:57.408Z"
   },
   {
    "duration": 18,
    "start_time": "2023-02-16T07:37:57.468Z"
   },
   {
    "duration": 15,
    "start_time": "2023-02-16T07:37:57.488Z"
   },
   {
    "duration": 85,
    "start_time": "2023-02-16T07:37:57.505Z"
   },
   {
    "duration": 5,
    "start_time": "2023-02-16T07:37:57.592Z"
   },
   {
    "duration": 11,
    "start_time": "2023-02-16T07:37:57.609Z"
   },
   {
    "duration": 37,
    "start_time": "2023-02-16T07:37:57.623Z"
   },
   {
    "duration": 10,
    "start_time": "2023-02-16T07:37:57.662Z"
   },
   {
    "duration": 13,
    "start_time": "2023-02-16T07:37:57.674Z"
   },
   {
    "duration": 33,
    "start_time": "2023-02-16T07:37:57.689Z"
   },
   {
    "duration": 8,
    "start_time": "2023-02-16T07:37:57.724Z"
   },
   {
    "duration": 40,
    "start_time": "2023-02-16T07:37:57.735Z"
   },
   {
    "duration": 31,
    "start_time": "2023-02-16T07:37:57.780Z"
   },
   {
    "duration": 18,
    "start_time": "2023-02-16T07:37:57.813Z"
   },
   {
    "duration": 8,
    "start_time": "2023-02-16T07:37:57.833Z"
   },
   {
    "duration": 18,
    "start_time": "2023-02-16T07:37:57.842Z"
   },
   {
    "duration": 9,
    "start_time": "2023-02-16T07:37:57.862Z"
   },
   {
    "duration": 38,
    "start_time": "2023-02-16T07:37:57.873Z"
   },
   {
    "duration": 77,
    "start_time": "2023-02-16T07:37:57.912Z"
   },
   {
    "duration": 9,
    "start_time": "2023-02-16T07:37:58.009Z"
   },
   {
    "duration": 7,
    "start_time": "2023-02-16T07:37:58.020Z"
   },
   {
    "duration": 8,
    "start_time": "2023-02-16T07:37:58.029Z"
   },
   {
    "duration": 13,
    "start_time": "2023-02-16T07:37:58.039Z"
   },
   {
    "duration": 11,
    "start_time": "2023-02-16T07:37:58.054Z"
   },
   {
    "duration": 7,
    "start_time": "2023-02-16T07:37:58.068Z"
   },
   {
    "duration": 8,
    "start_time": "2023-02-16T07:37:58.077Z"
   },
   {
    "duration": 28,
    "start_time": "2023-02-16T07:37:58.086Z"
   },
   {
    "duration": 49,
    "start_time": "2023-02-16T07:37:58.116Z"
   },
   {
    "duration": 795,
    "start_time": "2023-02-16T07:37:58.166Z"
   },
   {
    "duration": 240,
    "start_time": "2023-02-16T07:37:58.962Z"
   },
   {
    "duration": 371,
    "start_time": "2023-02-16T07:37:59.204Z"
   },
   {
    "duration": 213,
    "start_time": "2023-02-16T07:37:59.577Z"
   },
   {
    "duration": 256,
    "start_time": "2023-02-16T07:37:59.792Z"
   },
   {
    "duration": 212,
    "start_time": "2023-02-16T07:38:00.049Z"
   },
   {
    "duration": 293,
    "start_time": "2023-02-16T07:38:00.263Z"
   },
   {
    "duration": 211,
    "start_time": "2023-02-16T07:38:00.558Z"
   },
   {
    "duration": 2,
    "start_time": "2023-02-16T07:38:00.773Z"
   },
   {
    "duration": 31,
    "start_time": "2023-02-16T07:38:00.777Z"
   },
   {
    "duration": 17,
    "start_time": "2023-02-16T07:38:00.810Z"
   },
   {
    "duration": 47,
    "start_time": "2023-02-16T08:10:06.171Z"
   },
   {
    "duration": 24,
    "start_time": "2023-02-16T08:10:11.256Z"
   },
   {
    "duration": 114,
    "start_time": "2023-02-16T08:14:02.596Z"
   },
   {
    "duration": 8,
    "start_time": "2023-02-16T08:15:23.793Z"
   },
   {
    "duration": 12,
    "start_time": "2023-02-16T08:44:48.273Z"
   },
   {
    "duration": 107,
    "start_time": "2023-02-16T08:49:17.193Z"
   },
   {
    "duration": 33,
    "start_time": "2023-02-16T08:49:34.161Z"
   },
   {
    "duration": 418,
    "start_time": "2023-02-16T08:49:42.375Z"
   },
   {
    "duration": 148,
    "start_time": "2023-02-16T08:49:42.795Z"
   },
   {
    "duration": 16,
    "start_time": "2023-02-16T08:49:42.944Z"
   },
   {
    "duration": 25,
    "start_time": "2023-02-16T08:49:42.962Z"
   },
   {
    "duration": 403,
    "start_time": "2023-02-16T08:49:42.989Z"
   },
   {
    "duration": 119,
    "start_time": "2023-02-16T08:49:43.394Z"
   },
   {
    "duration": 9,
    "start_time": "2023-02-16T08:49:43.514Z"
   },
   {
    "duration": 31,
    "start_time": "2023-02-16T08:49:43.524Z"
   },
   {
    "duration": 142,
    "start_time": "2023-02-16T08:49:43.557Z"
   },
   {
    "duration": 87,
    "start_time": "2023-02-16T08:49:43.702Z"
   },
   {
    "duration": 7,
    "start_time": "2023-02-16T08:49:43.790Z"
   },
   {
    "duration": 26,
    "start_time": "2023-02-16T08:49:43.799Z"
   },
   {
    "duration": 21,
    "start_time": "2023-02-16T08:49:43.826Z"
   },
   {
    "duration": 8,
    "start_time": "2023-02-16T08:49:43.848Z"
   },
   {
    "duration": 16,
    "start_time": "2023-02-16T08:49:43.857Z"
   },
   {
    "duration": 26,
    "start_time": "2023-02-16T08:49:43.874Z"
   },
   {
    "duration": 10,
    "start_time": "2023-02-16T08:49:43.901Z"
   },
   {
    "duration": 11,
    "start_time": "2023-02-16T08:49:43.912Z"
   },
   {
    "duration": 92,
    "start_time": "2023-02-16T08:49:43.924Z"
   },
   {
    "duration": 4,
    "start_time": "2023-02-16T08:49:44.018Z"
   },
   {
    "duration": 8,
    "start_time": "2023-02-16T08:49:44.024Z"
   },
   {
    "duration": 18,
    "start_time": "2023-02-16T08:49:44.033Z"
   },
   {
    "duration": 11,
    "start_time": "2023-02-16T08:49:44.053Z"
   },
   {
    "duration": 12,
    "start_time": "2023-02-16T08:49:44.066Z"
   },
   {
    "duration": 50,
    "start_time": "2023-02-16T08:49:44.080Z"
   },
   {
    "duration": 8,
    "start_time": "2023-02-16T08:49:44.132Z"
   },
   {
    "duration": 25,
    "start_time": "2023-02-16T08:49:44.141Z"
   },
   {
    "duration": 8,
    "start_time": "2023-02-16T08:49:44.170Z"
   },
   {
    "duration": 41,
    "start_time": "2023-02-16T08:49:44.179Z"
   },
   {
    "duration": 7,
    "start_time": "2023-02-16T08:49:44.223Z"
   },
   {
    "duration": 16,
    "start_time": "2023-02-16T08:49:44.231Z"
   },
   {
    "duration": 9,
    "start_time": "2023-02-16T08:49:44.249Z"
   },
   {
    "duration": 8,
    "start_time": "2023-02-16T08:49:44.259Z"
   },
   {
    "duration": 65,
    "start_time": "2023-02-16T08:49:44.268Z"
   },
   {
    "duration": 7,
    "start_time": "2023-02-16T08:49:44.335Z"
   },
   {
    "duration": 5,
    "start_time": "2023-02-16T08:49:44.343Z"
   },
   {
    "duration": 6,
    "start_time": "2023-02-16T08:49:44.349Z"
   },
   {
    "duration": 7,
    "start_time": "2023-02-16T08:49:44.357Z"
   },
   {
    "duration": 9,
    "start_time": "2023-02-16T08:49:44.365Z"
   },
   {
    "duration": 35,
    "start_time": "2023-02-16T08:49:44.375Z"
   },
   {
    "duration": 7,
    "start_time": "2023-02-16T08:49:44.413Z"
   },
   {
    "duration": 827,
    "start_time": "2023-02-16T08:49:44.422Z"
   },
   {
    "duration": 0,
    "start_time": "2023-02-16T08:49:45.250Z"
   },
   {
    "duration": 0,
    "start_time": "2023-02-16T08:49:45.251Z"
   },
   {
    "duration": 0,
    "start_time": "2023-02-16T08:49:45.252Z"
   },
   {
    "duration": 0,
    "start_time": "2023-02-16T08:49:45.253Z"
   },
   {
    "duration": 0,
    "start_time": "2023-02-16T08:49:45.254Z"
   },
   {
    "duration": 0,
    "start_time": "2023-02-16T08:49:45.255Z"
   },
   {
    "duration": 0,
    "start_time": "2023-02-16T08:49:45.256Z"
   },
   {
    "duration": 0,
    "start_time": "2023-02-16T08:49:45.257Z"
   },
   {
    "duration": 0,
    "start_time": "2023-02-16T08:49:45.258Z"
   },
   {
    "duration": 0,
    "start_time": "2023-02-16T08:49:45.259Z"
   },
   {
    "duration": 0,
    "start_time": "2023-02-16T08:49:45.260Z"
   },
   {
    "duration": 0,
    "start_time": "2023-02-16T08:49:45.261Z"
   },
   {
    "duration": 0,
    "start_time": "2023-02-16T08:49:45.262Z"
   },
   {
    "duration": 0,
    "start_time": "2023-02-16T08:49:45.263Z"
   },
   {
    "duration": 4,
    "start_time": "2023-02-16T08:50:12.153Z"
   },
   {
    "duration": 23,
    "start_time": "2023-02-16T08:50:14.422Z"
   },
   {
    "duration": 15,
    "start_time": "2023-02-16T08:50:15.595Z"
   },
   {
    "duration": 377,
    "start_time": "2023-02-16T08:50:24.960Z"
   },
   {
    "duration": 148,
    "start_time": "2023-02-16T08:50:25.339Z"
   },
   {
    "duration": 22,
    "start_time": "2023-02-16T08:50:25.488Z"
   },
   {
    "duration": 32,
    "start_time": "2023-02-16T08:50:25.512Z"
   },
   {
    "duration": 364,
    "start_time": "2023-02-16T08:50:25.546Z"
   },
   {
    "duration": 125,
    "start_time": "2023-02-16T08:50:25.912Z"
   },
   {
    "duration": 9,
    "start_time": "2023-02-16T08:50:26.039Z"
   },
   {
    "duration": 37,
    "start_time": "2023-02-16T08:50:26.050Z"
   },
   {
    "duration": 167,
    "start_time": "2023-02-16T08:50:26.089Z"
   },
   {
    "duration": 94,
    "start_time": "2023-02-16T08:50:26.259Z"
   },
   {
    "duration": 8,
    "start_time": "2023-02-16T08:50:26.354Z"
   },
   {
    "duration": 20,
    "start_time": "2023-02-16T08:50:26.363Z"
   },
   {
    "duration": 25,
    "start_time": "2023-02-16T08:50:26.385Z"
   },
   {
    "duration": 8,
    "start_time": "2023-02-16T08:50:26.412Z"
   },
   {
    "duration": 11,
    "start_time": "2023-02-16T08:50:26.421Z"
   },
   {
    "duration": 23,
    "start_time": "2023-02-16T08:50:26.433Z"
   },
   {
    "duration": 9,
    "start_time": "2023-02-16T08:50:26.457Z"
   },
   {
    "duration": 11,
    "start_time": "2023-02-16T08:50:26.467Z"
   },
   {
    "duration": 101,
    "start_time": "2023-02-16T08:50:26.480Z"
   },
   {
    "duration": 6,
    "start_time": "2023-02-16T08:50:26.582Z"
   },
   {
    "duration": 10,
    "start_time": "2023-02-16T08:50:26.609Z"
   },
   {
    "duration": 27,
    "start_time": "2023-02-16T08:50:26.621Z"
   },
   {
    "duration": 22,
    "start_time": "2023-02-16T08:50:26.651Z"
   },
   {
    "duration": 32,
    "start_time": "2023-02-16T08:50:26.674Z"
   },
   {
    "duration": 31,
    "start_time": "2023-02-16T08:50:26.709Z"
   },
   {
    "duration": 11,
    "start_time": "2023-02-16T08:50:26.742Z"
   },
   {
    "duration": 41,
    "start_time": "2023-02-16T08:50:26.755Z"
   },
   {
    "duration": 10,
    "start_time": "2023-02-16T08:50:26.812Z"
   },
   {
    "duration": 26,
    "start_time": "2023-02-16T08:50:26.823Z"
   },
   {
    "duration": 10,
    "start_time": "2023-02-16T08:50:26.851Z"
   },
   {
    "duration": 14,
    "start_time": "2023-02-16T08:50:26.862Z"
   },
   {
    "duration": 40,
    "start_time": "2023-02-16T08:50:26.878Z"
   },
   {
    "duration": 5,
    "start_time": "2023-02-16T08:50:26.920Z"
   },
   {
    "duration": 44,
    "start_time": "2023-02-16T08:50:26.928Z"
   },
   {
    "duration": 37,
    "start_time": "2023-02-16T08:50:26.974Z"
   },
   {
    "duration": 5,
    "start_time": "2023-02-16T08:50:27.012Z"
   },
   {
    "duration": 5,
    "start_time": "2023-02-16T08:50:27.019Z"
   },
   {
    "duration": 11,
    "start_time": "2023-02-16T08:50:27.025Z"
   },
   {
    "duration": 12,
    "start_time": "2023-02-16T08:50:27.038Z"
   },
   {
    "duration": 5,
    "start_time": "2023-02-16T08:50:27.051Z"
   },
   {
    "duration": 8,
    "start_time": "2023-02-16T08:50:27.057Z"
   },
   {
    "duration": 45,
    "start_time": "2023-02-16T08:50:27.066Z"
   },
   {
    "duration": 23,
    "start_time": "2023-02-16T08:50:27.113Z"
   },
   {
    "duration": 14,
    "start_time": "2023-02-16T08:50:27.138Z"
   },
   {
    "duration": 73,
    "start_time": "2023-02-16T08:50:27.153Z"
   },
   {
    "duration": 819,
    "start_time": "2023-02-16T08:50:27.228Z"
   },
   {
    "duration": 249,
    "start_time": "2023-02-16T08:50:28.048Z"
   },
   {
    "duration": 292,
    "start_time": "2023-02-16T08:50:28.298Z"
   },
   {
    "duration": 259,
    "start_time": "2023-02-16T08:50:28.592Z"
   },
   {
    "duration": 242,
    "start_time": "2023-02-16T08:50:28.853Z"
   },
   {
    "duration": 209,
    "start_time": "2023-02-16T08:50:29.096Z"
   },
   {
    "duration": 286,
    "start_time": "2023-02-16T08:50:29.309Z"
   },
   {
    "duration": 205,
    "start_time": "2023-02-16T08:50:29.597Z"
   },
   {
    "duration": 2,
    "start_time": "2023-02-16T08:50:29.810Z"
   },
   {
    "duration": 142,
    "start_time": "2023-02-16T08:50:29.814Z"
   },
   {
    "duration": 0,
    "start_time": "2023-02-16T08:50:29.958Z"
   },
   {
    "duration": 24,
    "start_time": "2023-02-16T08:55:13.791Z"
   },
   {
    "duration": 9,
    "start_time": "2023-02-16T08:55:59.452Z"
   },
   {
    "duration": 6,
    "start_time": "2023-02-16T08:56:11.458Z"
   },
   {
    "duration": 7,
    "start_time": "2023-02-16T08:57:54.298Z"
   },
   {
    "duration": 9,
    "start_time": "2023-02-16T09:03:10.653Z"
   },
   {
    "duration": 417,
    "start_time": "2023-02-16T09:05:14.092Z"
   },
   {
    "duration": 148,
    "start_time": "2023-02-16T09:05:14.511Z"
   },
   {
    "duration": 14,
    "start_time": "2023-02-16T09:05:14.661Z"
   },
   {
    "duration": 38,
    "start_time": "2023-02-16T09:05:14.676Z"
   },
   {
    "duration": 366,
    "start_time": "2023-02-16T09:05:14.716Z"
   },
   {
    "duration": 122,
    "start_time": "2023-02-16T09:05:15.084Z"
   },
   {
    "duration": 9,
    "start_time": "2023-02-16T09:05:15.210Z"
   },
   {
    "duration": 25,
    "start_time": "2023-02-16T09:05:15.220Z"
   },
   {
    "duration": 156,
    "start_time": "2023-02-16T09:05:15.247Z"
   },
   {
    "duration": 90,
    "start_time": "2023-02-16T09:05:15.410Z"
   },
   {
    "duration": 13,
    "start_time": "2023-02-16T09:05:15.501Z"
   },
   {
    "duration": 17,
    "start_time": "2023-02-16T09:05:15.516Z"
   },
   {
    "duration": 22,
    "start_time": "2023-02-16T09:05:15.535Z"
   },
   {
    "duration": 8,
    "start_time": "2023-02-16T09:05:15.559Z"
   },
   {
    "duration": 10,
    "start_time": "2023-02-16T09:05:15.568Z"
   },
   {
    "duration": 24,
    "start_time": "2023-02-16T09:05:15.580Z"
   },
   {
    "duration": 11,
    "start_time": "2023-02-16T09:05:15.606Z"
   },
   {
    "duration": 10,
    "start_time": "2023-02-16T09:05:15.619Z"
   },
   {
    "duration": 98,
    "start_time": "2023-02-16T09:05:15.631Z"
   },
   {
    "duration": 5,
    "start_time": "2023-02-16T09:05:15.730Z"
   },
   {
    "duration": 7,
    "start_time": "2023-02-16T09:05:15.737Z"
   },
   {
    "duration": 16,
    "start_time": "2023-02-16T09:05:15.746Z"
   },
   {
    "duration": 10,
    "start_time": "2023-02-16T09:05:15.763Z"
   },
   {
    "duration": 39,
    "start_time": "2023-02-16T09:05:15.775Z"
   },
   {
    "duration": 25,
    "start_time": "2023-02-16T09:05:15.816Z"
   },
   {
    "duration": 10,
    "start_time": "2023-02-16T09:05:15.843Z"
   },
   {
    "duration": 25,
    "start_time": "2023-02-16T09:05:15.854Z"
   },
   {
    "duration": 9,
    "start_time": "2023-02-16T09:05:15.910Z"
   },
   {
    "duration": 27,
    "start_time": "2023-02-16T09:05:15.921Z"
   },
   {
    "duration": 9,
    "start_time": "2023-02-16T09:05:15.950Z"
   },
   {
    "duration": 17,
    "start_time": "2023-02-16T09:05:15.960Z"
   },
   {
    "duration": 34,
    "start_time": "2023-02-16T09:05:15.978Z"
   },
   {
    "duration": 13,
    "start_time": "2023-02-16T09:05:16.014Z"
   },
   {
    "duration": 42,
    "start_time": "2023-02-16T09:05:16.029Z"
   },
   {
    "duration": 8,
    "start_time": "2023-02-16T09:05:16.073Z"
   },
   {
    "duration": 27,
    "start_time": "2023-02-16T09:05:16.083Z"
   },
   {
    "duration": 4,
    "start_time": "2023-02-16T09:05:16.111Z"
   },
   {
    "duration": 10,
    "start_time": "2023-02-16T09:05:16.116Z"
   },
   {
    "duration": 9,
    "start_time": "2023-02-16T09:05:16.127Z"
   },
   {
    "duration": 5,
    "start_time": "2023-02-16T09:05:16.137Z"
   },
   {
    "duration": 6,
    "start_time": "2023-02-16T09:05:16.146Z"
   },
   {
    "duration": 7,
    "start_time": "2023-02-16T09:05:16.153Z"
   },
   {
    "duration": 57,
    "start_time": "2023-02-16T09:05:16.162Z"
   },
   {
    "duration": 13,
    "start_time": "2023-02-16T09:05:16.220Z"
   },
   {
    "duration": 48,
    "start_time": "2023-02-16T09:05:16.235Z"
   },
   {
    "duration": 850,
    "start_time": "2023-02-16T09:05:16.284Z"
   },
   {
    "duration": 239,
    "start_time": "2023-02-16T09:05:17.135Z"
   },
   {
    "duration": 306,
    "start_time": "2023-02-16T09:05:17.375Z"
   },
   {
    "duration": 270,
    "start_time": "2023-02-16T09:05:17.682Z"
   },
   {
    "duration": 261,
    "start_time": "2023-02-16T09:05:17.953Z"
   },
   {
    "duration": 219,
    "start_time": "2023-02-16T09:05:18.217Z"
   },
   {
    "duration": 308,
    "start_time": "2023-02-16T09:05:18.438Z"
   },
   {
    "duration": 197,
    "start_time": "2023-02-16T09:05:18.747Z"
   },
   {
    "duration": 2,
    "start_time": "2023-02-16T09:05:18.946Z"
   },
   {
    "duration": 30,
    "start_time": "2023-02-16T09:05:18.950Z"
   },
   {
    "duration": 5,
    "start_time": "2023-02-16T09:05:18.982Z"
   },
   {
    "duration": 9,
    "start_time": "2023-02-16T09:05:19.010Z"
   },
   {
    "duration": 28,
    "start_time": "2023-02-16T09:05:49.635Z"
   },
   {
    "duration": 412,
    "start_time": "2023-02-16T09:06:12.865Z"
   },
   {
    "duration": 155,
    "start_time": "2023-02-16T09:06:13.279Z"
   },
   {
    "duration": 15,
    "start_time": "2023-02-16T09:06:13.435Z"
   },
   {
    "duration": 25,
    "start_time": "2023-02-16T09:06:13.452Z"
   },
   {
    "duration": 400,
    "start_time": "2023-02-16T09:06:13.478Z"
   },
   {
    "duration": 122,
    "start_time": "2023-02-16T09:06:13.880Z"
   },
   {
    "duration": 13,
    "start_time": "2023-02-16T09:06:14.003Z"
   },
   {
    "duration": 24,
    "start_time": "2023-02-16T09:06:14.018Z"
   },
   {
    "duration": 176,
    "start_time": "2023-02-16T09:06:14.043Z"
   },
   {
    "duration": 96,
    "start_time": "2023-02-16T09:06:14.222Z"
   },
   {
    "duration": 7,
    "start_time": "2023-02-16T09:06:14.319Z"
   },
   {
    "duration": 25,
    "start_time": "2023-02-16T09:06:14.327Z"
   },
   {
    "duration": 22,
    "start_time": "2023-02-16T09:06:14.353Z"
   },
   {
    "duration": 8,
    "start_time": "2023-02-16T09:06:14.377Z"
   },
   {
    "duration": 30,
    "start_time": "2023-02-16T09:06:14.387Z"
   },
   {
    "duration": 28,
    "start_time": "2023-02-16T09:06:14.419Z"
   },
   {
    "duration": 10,
    "start_time": "2023-02-16T09:06:14.449Z"
   },
   {
    "duration": 14,
    "start_time": "2023-02-16T09:06:14.461Z"
   },
   {
    "duration": 87,
    "start_time": "2023-02-16T09:06:14.476Z"
   },
   {
    "duration": 5,
    "start_time": "2023-02-16T09:06:14.564Z"
   },
   {
    "duration": 12,
    "start_time": "2023-02-16T09:06:14.571Z"
   },
   {
    "duration": 28,
    "start_time": "2023-02-16T09:06:14.585Z"
   },
   {
    "duration": 11,
    "start_time": "2023-02-16T09:06:14.615Z"
   },
   {
    "duration": 13,
    "start_time": "2023-02-16T09:06:14.627Z"
   },
   {
    "duration": 23,
    "start_time": "2023-02-16T09:06:14.641Z"
   },
   {
    "duration": 8,
    "start_time": "2023-02-16T09:06:14.665Z"
   },
   {
    "duration": 53,
    "start_time": "2023-02-16T09:06:14.674Z"
   },
   {
    "duration": 8,
    "start_time": "2023-02-16T09:06:14.731Z"
   },
   {
    "duration": 20,
    "start_time": "2023-02-16T09:06:14.740Z"
   },
   {
    "duration": 14,
    "start_time": "2023-02-16T09:06:14.762Z"
   },
   {
    "duration": 14,
    "start_time": "2023-02-16T09:06:14.810Z"
   },
   {
    "duration": 9,
    "start_time": "2023-02-16T09:06:14.826Z"
   },
   {
    "duration": 5,
    "start_time": "2023-02-16T09:06:14.837Z"
   },
   {
    "duration": 33,
    "start_time": "2023-02-16T09:06:14.844Z"
   },
   {
    "duration": 8,
    "start_time": "2023-02-16T09:06:14.909Z"
   },
   {
    "duration": 5,
    "start_time": "2023-02-16T09:06:14.919Z"
   },
   {
    "duration": 3,
    "start_time": "2023-02-16T09:06:14.927Z"
   },
   {
    "duration": 14,
    "start_time": "2023-02-16T09:06:14.931Z"
   },
   {
    "duration": 19,
    "start_time": "2023-02-16T09:06:14.947Z"
   },
   {
    "duration": 4,
    "start_time": "2023-02-16T09:06:14.967Z"
   },
   {
    "duration": 48,
    "start_time": "2023-02-16T09:06:14.972Z"
   },
   {
    "duration": 21,
    "start_time": "2023-02-16T09:06:15.022Z"
   },
   {
    "duration": 27,
    "start_time": "2023-02-16T09:06:15.044Z"
   },
   {
    "duration": 19,
    "start_time": "2023-02-16T09:06:15.073Z"
   },
   {
    "duration": 53,
    "start_time": "2023-02-16T09:06:15.094Z"
   },
   {
    "duration": 792,
    "start_time": "2023-02-16T09:06:15.149Z"
   },
   {
    "duration": 245,
    "start_time": "2023-02-16T09:06:15.942Z"
   },
   {
    "duration": 301,
    "start_time": "2023-02-16T09:06:16.189Z"
   },
   {
    "duration": 355,
    "start_time": "2023-02-16T09:06:16.492Z"
   },
   {
    "duration": 278,
    "start_time": "2023-02-16T09:06:16.849Z"
   },
   {
    "duration": 201,
    "start_time": "2023-02-16T09:06:17.129Z"
   },
   {
    "duration": 299,
    "start_time": "2023-02-16T09:06:17.332Z"
   },
   {
    "duration": 205,
    "start_time": "2023-02-16T09:06:17.632Z"
   },
   {
    "duration": 3,
    "start_time": "2023-02-16T09:06:17.838Z"
   },
   {
    "duration": 29,
    "start_time": "2023-02-16T09:06:17.843Z"
   },
   {
    "duration": 11,
    "start_time": "2023-02-16T09:06:17.874Z"
   },
   {
    "duration": 40,
    "start_time": "2023-02-16T09:35:28.638Z"
   },
   {
    "duration": 9,
    "start_time": "2023-02-16T09:35:35.680Z"
   }
  ],
  "colab": {
   "provenance": []
  },
  "kernelspec": {
   "display_name": "Python 3 (ipykernel)",
   "language": "python",
   "name": "python3"
  },
  "language_info": {
   "codemirror_mode": {
    "name": "ipython",
    "version": 3
   },
   "file_extension": ".py",
   "mimetype": "text/x-python",
   "name": "python",
   "nbconvert_exporter": "python",
   "pygments_lexer": "ipython3",
   "version": "3.10.9"
  },
  "toc": {
   "base_numbering": 1,
   "nav_menu": {},
   "number_sections": true,
   "sideBar": true,
   "skip_h1_title": true,
   "title_cell": "Table of Contents",
   "title_sidebar": "Contents",
   "toc_cell": false,
   "toc_position": {},
   "toc_section_display": true,
   "toc_window_display": false
  }
 },
 "nbformat": 4,
 "nbformat_minor": 1
}
