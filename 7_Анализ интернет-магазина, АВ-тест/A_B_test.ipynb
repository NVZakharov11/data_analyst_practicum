{
 "cells": [
  {
   "cell_type": "markdown",
   "metadata": {},
   "source": [
    "# Проверка гипотез для увеличения выручки\n",
    "Вместе с отделом маркетинга крупного интернет-магазина был подготовлен список гипотез для увеличения выручки. Нам необходимо приоритизировать гипотезы, провести A/B-тест и проанализировать результаты.\n",
    "\n",
    "Этапы исследования:\n",
    "\n",
    "**1. Откроем файлы с данными, изучим общую информацию и подготовим данные**\n",
    "\n",
    "Файлы:\n",
    "\n",
    "- hypothesis.csv\n",
    "- orders.csv\n",
    "- visitors.csv\n",
    "\n",
    "**2. Проведем приоритизацию гипотез**\n",
    "\n",
    "В файле hypothesis.csv 9 гипотез по увеличению выручки интернет-магазина с указанными параметрами Reach, Impact, Confidence, Effort.\n",
    "\n",
    "1. Применим фреймворк ICE для приоритизации гипотез. Отсортируем их по убыванию приоритета;\n",
    "2. Применим фреймворк RICE для приоритизации гипотез. Отсортируем их по убыванию приоритета;\n",
    "3. Укажем, как изменилась приоритизация гипотез при применении RICE вместо ICE. Объясним, почему так произошло.\n",
    "\n",
    "**3. Анализ A/B-теста**\n",
    "\n",
    "Мы провели A/B-тест и получили результаты, которые описаны в файлах orders.csv и visitors.csv. Проанализируем A/B-тест:\n",
    "\n",
    "1. Построим график кумулятивной выручки по группам. Сделаем выводы и предположения;\n",
    "2. Построим график кумулятивного среднего чека по группам. Сделаем выводы и предположения;\n",
    "3. Построим график относительного изменения кумулятивного среднего чека группы B к группе A. Сделаем выводы и предположения;\n",
    "4. Построим график кумулятивной конверсии по группам. Сделаем выводы и предположения;\n",
    "5. Построим график относительного изменения кумулятивной конверсии группы B к группе A. Сделаем выводы и предположения;\n",
    "6. Построим точечный график количества заказов по пользователям. Сделаем выводы и предположения;\n",
    "7. Посчитаем 95-й и 99-й перцентили количества заказов на пользователя. Выберем границу для определения аномальных пользователей;\n",
    "8. Построим точечный график стоимостей заказов. Сделаем выводы и предположения;\n",
    "9. Посчитаем 95-й и 99-й перцентили стоимости заказов. Выберем границу для определения аномальных заказов;\n",
    "10. Посчитаем статистическую значимость различий в конверсии между группами по «сырым» данным. Сделаем выводы и предположения;\n",
    "11. Посчитаем статистическую значимость различий в среднем чеке заказа между группами по «сырым» данным. Сделаем выводы и предположения;\n",
    "12. Посчитаем статистическую значимость различий в конверсии между группами по «очищенным» данным. Сделаем выводы и предположения;\n",
    "13. Посчитаем статистическую значимость различий в среднем чеке заказа между группами по «очищенным» данным. Сделаем выводы и предположения;\n",
    "14. Примем решение по результатам теста и объясним его. Варианты решений:\n",
    "\n",
    "   - Остановить тест, зафиксировать победу одной из групп.\n",
    "\n",
    "   - Остановить тест, зафиксировать отсутствие различий между группами.\n",
    "\n",
    "   - Продолжить тест.\n",
    "\n",
    "**4. Общий вывод**\n",
    "\n",
    "# Описание данных\n",
    "\n",
    "**Файл hypothesis.csv (гипотезы по увеличению выручки интернет-магазина):**\n",
    "\n",
    "- Hypothesis — краткое описание гипотезы\n",
    "- Reach — охват пользователей по 10-балльной шкале\n",
    "- Impact — влияние на пользователей по 10-балльной шкале\n",
    "- Confidence — уверенность в гипотезе по 10-балльной шкале\n",
    "- Efforts — затраты ресурсов на проверку гипотезы по 10-балльной шкале. Чем больше значение Efforts, тем дороже проверка гипотезы\n",
    "\n",
    "**Файл orders.csv (результаты A/B-теста):**\n",
    "\n",
    "- transactionId — идентификатор заказа\n",
    "- visitorId — идентификатор пользователя, совершившего заказ\n",
    "- date — дата, когда был совершён заказ\n",
    "- revenue — выручка заказа\n",
    "- group — группа A/B-теста, в которую попал заказ\n",
    "\n",
    "**Файл visitors.csv (результаты A/B-теста):**\n",
    "\n",
    "- date — дата\n",
    "- group — группа A/B-теста\n",
    "- visitors — количество пользователей в указанную дату в указанной группе A/B-теста"
   ]
  },
  {
   "cell_type": "markdown",
   "metadata": {},
   "source": [
    "### Откроем файлы с данными, изучим общую информацию и подготовим данные"
   ]
  },
  {
   "cell_type": "code",
   "execution_count": 1,
   "metadata": {},
   "outputs": [],
   "source": [
    "# импортируем необходимые библиотеки\n",
    "import pandas as pd\n",
    "import datetime as dt\n",
    "import numpy as np\n",
    "from matplotlib import pyplot as plt\n",
    "%matplotlib inline\n",
    "from pandas.plotting import register_matplotlib_converters\n",
    "import warnings\n",
    "import scipy.stats as stats"
   ]
  },
  {
   "cell_type": "code",
   "execution_count": 2,
   "metadata": {},
   "outputs": [],
   "source": [
    "# читаем файлы \n",
    "hypothesis = pd.read_csv('https://code.s3.yandex.net/datasets/hypothesis.csv')\n",
    "\n",
    "orders = pd.read_csv('https://code.s3.yandex.net/datasets/orders.csv')\n",
    "\n",
    "visitors = pd.read_csv('https://code.s3.yandex.net/datasets//visitors.csv')  "
   ]
  },
  {
   "cell_type": "code",
   "execution_count": 3,
   "metadata": {},
   "outputs": [],
   "source": [
    "# напишем функцию для обзора данных\n",
    "def df_review(df):\n",
    "    display(df.head())\n",
    "    print('---------------------------------------------------------------------------------------------------------')\n",
    "    print(df.info())\n",
    "    print('---------------------------------------------------------------------------------------------------------')\n",
    "    print(df.isna().sum())\n",
    "    print('---------------------------------------------------------------------------------------------------------')\n",
    "    print(df.duplicated().sum())"
   ]
  },
  {
   "cell_type": "code",
   "execution_count": 4,
   "metadata": {},
   "outputs": [
    {
     "data": {
      "text/html": [
       "<div>\n",
       "<style scoped>\n",
       "    .dataframe tbody tr th:only-of-type {\n",
       "        vertical-align: middle;\n",
       "    }\n",
       "\n",
       "    .dataframe tbody tr th {\n",
       "        vertical-align: top;\n",
       "    }\n",
       "\n",
       "    .dataframe thead th {\n",
       "        text-align: right;\n",
       "    }\n",
       "</style>\n",
       "<table border=\"1\" class=\"dataframe\">\n",
       "  <thead>\n",
       "    <tr style=\"text-align: right;\">\n",
       "      <th></th>\n",
       "      <th>Hypothesis</th>\n",
       "      <th>Reach</th>\n",
       "      <th>Impact</th>\n",
       "      <th>Confidence</th>\n",
       "      <th>Efforts</th>\n",
       "    </tr>\n",
       "  </thead>\n",
       "  <tbody>\n",
       "    <tr>\n",
       "      <th>0</th>\n",
       "      <td>Добавить два новых канала привлечения трафика,...</td>\n",
       "      <td>3</td>\n",
       "      <td>10</td>\n",
       "      <td>8</td>\n",
       "      <td>6</td>\n",
       "    </tr>\n",
       "    <tr>\n",
       "      <th>1</th>\n",
       "      <td>Запустить собственную службу доставки, что сок...</td>\n",
       "      <td>2</td>\n",
       "      <td>5</td>\n",
       "      <td>4</td>\n",
       "      <td>10</td>\n",
       "    </tr>\n",
       "    <tr>\n",
       "      <th>2</th>\n",
       "      <td>Добавить блоки рекомендаций товаров на сайт ин...</td>\n",
       "      <td>8</td>\n",
       "      <td>3</td>\n",
       "      <td>7</td>\n",
       "      <td>3</td>\n",
       "    </tr>\n",
       "    <tr>\n",
       "      <th>3</th>\n",
       "      <td>Изменить структура категорий, что увеличит кон...</td>\n",
       "      <td>8</td>\n",
       "      <td>3</td>\n",
       "      <td>3</td>\n",
       "      <td>8</td>\n",
       "    </tr>\n",
       "    <tr>\n",
       "      <th>4</th>\n",
       "      <td>Изменить цвет фона главной страницы, чтобы уве...</td>\n",
       "      <td>3</td>\n",
       "      <td>1</td>\n",
       "      <td>1</td>\n",
       "      <td>1</td>\n",
       "    </tr>\n",
       "  </tbody>\n",
       "</table>\n",
       "</div>"
      ],
      "text/plain": [
       "                                          Hypothesis  Reach  Impact  \\\n",
       "0  Добавить два новых канала привлечения трафика,...      3      10   \n",
       "1  Запустить собственную службу доставки, что сок...      2       5   \n",
       "2  Добавить блоки рекомендаций товаров на сайт ин...      8       3   \n",
       "3  Изменить структура категорий, что увеличит кон...      8       3   \n",
       "4  Изменить цвет фона главной страницы, чтобы уве...      3       1   \n",
       "\n",
       "   Confidence  Efforts  \n",
       "0           8        6  \n",
       "1           4       10  \n",
       "2           7        3  \n",
       "3           3        8  \n",
       "4           1        1  "
      ]
     },
     "metadata": {},
     "output_type": "display_data"
    },
    {
     "name": "stdout",
     "output_type": "stream",
     "text": [
      "---------------------------------------------------------------------------------------------------------\n",
      "<class 'pandas.core.frame.DataFrame'>\n",
      "RangeIndex: 9 entries, 0 to 8\n",
      "Data columns (total 5 columns):\n",
      " #   Column      Non-Null Count  Dtype \n",
      "---  ------      --------------  ----- \n",
      " 0   Hypothesis  9 non-null      object\n",
      " 1   Reach       9 non-null      int64 \n",
      " 2   Impact      9 non-null      int64 \n",
      " 3   Confidence  9 non-null      int64 \n",
      " 4   Efforts     9 non-null      int64 \n",
      "dtypes: int64(4), object(1)\n",
      "memory usage: 488.0+ bytes\n",
      "None\n",
      "---------------------------------------------------------------------------------------------------------\n",
      "Hypothesis    0\n",
      "Reach         0\n",
      "Impact        0\n",
      "Confidence    0\n",
      "Efforts       0\n",
      "dtype: int64\n",
      "---------------------------------------------------------------------------------------------------------\n",
      "0\n"
     ]
    }
   ],
   "source": [
    "# посмотрим на данные hypothesis\n",
    "df_review(hypothesis)"
   ]
  },
  {
   "cell_type": "code",
   "execution_count": 5,
   "metadata": {},
   "outputs": [
    {
     "data": {
      "text/html": [
       "<div>\n",
       "<style scoped>\n",
       "    .dataframe tbody tr th:only-of-type {\n",
       "        vertical-align: middle;\n",
       "    }\n",
       "\n",
       "    .dataframe tbody tr th {\n",
       "        vertical-align: top;\n",
       "    }\n",
       "\n",
       "    .dataframe thead th {\n",
       "        text-align: right;\n",
       "    }\n",
       "</style>\n",
       "<table border=\"1\" class=\"dataframe\">\n",
       "  <thead>\n",
       "    <tr style=\"text-align: right;\">\n",
       "      <th></th>\n",
       "      <th>transactionId</th>\n",
       "      <th>visitorId</th>\n",
       "      <th>date</th>\n",
       "      <th>revenue</th>\n",
       "      <th>group</th>\n",
       "    </tr>\n",
       "  </thead>\n",
       "  <tbody>\n",
       "    <tr>\n",
       "      <th>0</th>\n",
       "      <td>3667963787</td>\n",
       "      <td>3312258926</td>\n",
       "      <td>2019-08-15</td>\n",
       "      <td>1650</td>\n",
       "      <td>B</td>\n",
       "    </tr>\n",
       "    <tr>\n",
       "      <th>1</th>\n",
       "      <td>2804400009</td>\n",
       "      <td>3642806036</td>\n",
       "      <td>2019-08-15</td>\n",
       "      <td>730</td>\n",
       "      <td>B</td>\n",
       "    </tr>\n",
       "    <tr>\n",
       "      <th>2</th>\n",
       "      <td>2961555356</td>\n",
       "      <td>4069496402</td>\n",
       "      <td>2019-08-15</td>\n",
       "      <td>400</td>\n",
       "      <td>A</td>\n",
       "    </tr>\n",
       "    <tr>\n",
       "      <th>3</th>\n",
       "      <td>3797467345</td>\n",
       "      <td>1196621759</td>\n",
       "      <td>2019-08-15</td>\n",
       "      <td>9759</td>\n",
       "      <td>B</td>\n",
       "    </tr>\n",
       "    <tr>\n",
       "      <th>4</th>\n",
       "      <td>2282983706</td>\n",
       "      <td>2322279887</td>\n",
       "      <td>2019-08-15</td>\n",
       "      <td>2308</td>\n",
       "      <td>B</td>\n",
       "    </tr>\n",
       "  </tbody>\n",
       "</table>\n",
       "</div>"
      ],
      "text/plain": [
       "   transactionId   visitorId        date  revenue group\n",
       "0     3667963787  3312258926  2019-08-15     1650     B\n",
       "1     2804400009  3642806036  2019-08-15      730     B\n",
       "2     2961555356  4069496402  2019-08-15      400     A\n",
       "3     3797467345  1196621759  2019-08-15     9759     B\n",
       "4     2282983706  2322279887  2019-08-15     2308     B"
      ]
     },
     "metadata": {},
     "output_type": "display_data"
    },
    {
     "name": "stdout",
     "output_type": "stream",
     "text": [
      "---------------------------------------------------------------------------------------------------------\n",
      "<class 'pandas.core.frame.DataFrame'>\n",
      "RangeIndex: 1197 entries, 0 to 1196\n",
      "Data columns (total 5 columns):\n",
      " #   Column         Non-Null Count  Dtype \n",
      "---  ------         --------------  ----- \n",
      " 0   transactionId  1197 non-null   int64 \n",
      " 1   visitorId      1197 non-null   int64 \n",
      " 2   date           1197 non-null   object\n",
      " 3   revenue        1197 non-null   int64 \n",
      " 4   group          1197 non-null   object\n",
      "dtypes: int64(3), object(2)\n",
      "memory usage: 46.9+ KB\n",
      "None\n",
      "---------------------------------------------------------------------------------------------------------\n",
      "transactionId    0\n",
      "visitorId        0\n",
      "date             0\n",
      "revenue          0\n",
      "group            0\n",
      "dtype: int64\n",
      "---------------------------------------------------------------------------------------------------------\n",
      "0\n"
     ]
    }
   ],
   "source": [
    "# посмотрим на данные orders\n",
    "df_review(orders)"
   ]
  },
  {
   "cell_type": "code",
   "execution_count": 6,
   "metadata": {},
   "outputs": [
    {
     "data": {
      "text/html": [
       "<div>\n",
       "<style scoped>\n",
       "    .dataframe tbody tr th:only-of-type {\n",
       "        vertical-align: middle;\n",
       "    }\n",
       "\n",
       "    .dataframe tbody tr th {\n",
       "        vertical-align: top;\n",
       "    }\n",
       "\n",
       "    .dataframe thead th {\n",
       "        text-align: right;\n",
       "    }\n",
       "</style>\n",
       "<table border=\"1\" class=\"dataframe\">\n",
       "  <thead>\n",
       "    <tr style=\"text-align: right;\">\n",
       "      <th></th>\n",
       "      <th>date</th>\n",
       "      <th>group</th>\n",
       "      <th>visitors</th>\n",
       "    </tr>\n",
       "  </thead>\n",
       "  <tbody>\n",
       "    <tr>\n",
       "      <th>0</th>\n",
       "      <td>2019-08-01</td>\n",
       "      <td>A</td>\n",
       "      <td>719</td>\n",
       "    </tr>\n",
       "    <tr>\n",
       "      <th>1</th>\n",
       "      <td>2019-08-02</td>\n",
       "      <td>A</td>\n",
       "      <td>619</td>\n",
       "    </tr>\n",
       "    <tr>\n",
       "      <th>2</th>\n",
       "      <td>2019-08-03</td>\n",
       "      <td>A</td>\n",
       "      <td>507</td>\n",
       "    </tr>\n",
       "    <tr>\n",
       "      <th>3</th>\n",
       "      <td>2019-08-04</td>\n",
       "      <td>A</td>\n",
       "      <td>717</td>\n",
       "    </tr>\n",
       "    <tr>\n",
       "      <th>4</th>\n",
       "      <td>2019-08-05</td>\n",
       "      <td>A</td>\n",
       "      <td>756</td>\n",
       "    </tr>\n",
       "  </tbody>\n",
       "</table>\n",
       "</div>"
      ],
      "text/plain": [
       "         date group  visitors\n",
       "0  2019-08-01     A       719\n",
       "1  2019-08-02     A       619\n",
       "2  2019-08-03     A       507\n",
       "3  2019-08-04     A       717\n",
       "4  2019-08-05     A       756"
      ]
     },
     "metadata": {},
     "output_type": "display_data"
    },
    {
     "name": "stdout",
     "output_type": "stream",
     "text": [
      "---------------------------------------------------------------------------------------------------------\n",
      "<class 'pandas.core.frame.DataFrame'>\n",
      "RangeIndex: 62 entries, 0 to 61\n",
      "Data columns (total 3 columns):\n",
      " #   Column    Non-Null Count  Dtype \n",
      "---  ------    --------------  ----- \n",
      " 0   date      62 non-null     object\n",
      " 1   group     62 non-null     object\n",
      " 2   visitors  62 non-null     int64 \n",
      "dtypes: int64(1), object(2)\n",
      "memory usage: 1.6+ KB\n",
      "None\n",
      "---------------------------------------------------------------------------------------------------------\n",
      "date        0\n",
      "group       0\n",
      "visitors    0\n",
      "dtype: int64\n",
      "---------------------------------------------------------------------------------------------------------\n",
      "0\n"
     ]
    }
   ],
   "source": [
    "# посмотрим на данные visitors\n",
    "df_review(visitors)"
   ]
  },
  {
   "cell_type": "markdown",
   "metadata": {},
   "source": [
    "<font color='green'>**Вывод:**</font>\n",
    "\n",
    "Нужно привести названия столбцов к нижнем регистру, необходимо поменять тип данных в столбцах data. Пропусков не обнаружено. Дубликаты отсутствуют."
   ]
  },
  {
   "cell_type": "markdown",
   "metadata": {},
   "source": [
    "#### Предобработка данных"
   ]
  },
  {
   "cell_type": "code",
   "execution_count": 7,
   "metadata": {},
   "outputs": [],
   "source": [
    "# приведем названия столбцов к нижнему регистру и змеиному стилю\n",
    "all_data = [hypothesis, orders, visitors]\n",
    "\n",
    "for data in all_data:\n",
    "    data.columns = [x.lower().replace(' ', '_') for x in data.columns.values]"
   ]
  },
  {
   "cell_type": "code",
   "execution_count": 8,
   "metadata": {},
   "outputs": [
    {
     "data": {
      "text/html": [
       "<div>\n",
       "<style scoped>\n",
       "    .dataframe tbody tr th:only-of-type {\n",
       "        vertical-align: middle;\n",
       "    }\n",
       "\n",
       "    .dataframe tbody tr th {\n",
       "        vertical-align: top;\n",
       "    }\n",
       "\n",
       "    .dataframe thead th {\n",
       "        text-align: right;\n",
       "    }\n",
       "</style>\n",
       "<table border=\"1\" class=\"dataframe\">\n",
       "  <thead>\n",
       "    <tr style=\"text-align: right;\">\n",
       "      <th></th>\n",
       "      <th>hypothesis</th>\n",
       "      <th>reach</th>\n",
       "      <th>impact</th>\n",
       "      <th>confidence</th>\n",
       "      <th>efforts</th>\n",
       "    </tr>\n",
       "  </thead>\n",
       "  <tbody>\n",
       "    <tr>\n",
       "      <th>7</th>\n",
       "      <td>Добавить форму подписки на все основные страни...</td>\n",
       "      <td>10</td>\n",
       "      <td>7</td>\n",
       "      <td>8</td>\n",
       "      <td>5</td>\n",
       "    </tr>\n",
       "    <tr>\n",
       "      <th>1</th>\n",
       "      <td>Запустить собственную службу доставки, что сок...</td>\n",
       "      <td>2</td>\n",
       "      <td>5</td>\n",
       "      <td>4</td>\n",
       "      <td>10</td>\n",
       "    </tr>\n",
       "    <tr>\n",
       "      <th>0</th>\n",
       "      <td>Добавить два новых канала привлечения трафика,...</td>\n",
       "      <td>3</td>\n",
       "      <td>10</td>\n",
       "      <td>8</td>\n",
       "      <td>6</td>\n",
       "    </tr>\n",
       "    <tr>\n",
       "      <th>2</th>\n",
       "      <td>Добавить блоки рекомендаций товаров на сайт ин...</td>\n",
       "      <td>8</td>\n",
       "      <td>3</td>\n",
       "      <td>7</td>\n",
       "      <td>3</td>\n",
       "    </tr>\n",
       "    <tr>\n",
       "      <th>6</th>\n",
       "      <td>Показать на главной странице баннеры с актуаль...</td>\n",
       "      <td>5</td>\n",
       "      <td>3</td>\n",
       "      <td>8</td>\n",
       "      <td>3</td>\n",
       "    </tr>\n",
       "  </tbody>\n",
       "</table>\n",
       "</div>"
      ],
      "text/plain": [
       "                                          hypothesis  reach  impact  \\\n",
       "7  Добавить форму подписки на все основные страни...     10       7   \n",
       "1  Запустить собственную службу доставки, что сок...      2       5   \n",
       "0  Добавить два новых канала привлечения трафика,...      3      10   \n",
       "2  Добавить блоки рекомендаций товаров на сайт ин...      8       3   \n",
       "6  Показать на главной странице баннеры с актуаль...      5       3   \n",
       "\n",
       "   confidence  efforts  \n",
       "7           8        5  \n",
       "1           4       10  \n",
       "0           8        6  \n",
       "2           7        3  \n",
       "6           8        3  "
      ]
     },
     "metadata": {},
     "output_type": "display_data"
    },
    {
     "data": {
      "text/html": [
       "<div>\n",
       "<style scoped>\n",
       "    .dataframe tbody tr th:only-of-type {\n",
       "        vertical-align: middle;\n",
       "    }\n",
       "\n",
       "    .dataframe tbody tr th {\n",
       "        vertical-align: top;\n",
       "    }\n",
       "\n",
       "    .dataframe thead th {\n",
       "        text-align: right;\n",
       "    }\n",
       "</style>\n",
       "<table border=\"1\" class=\"dataframe\">\n",
       "  <thead>\n",
       "    <tr style=\"text-align: right;\">\n",
       "      <th></th>\n",
       "      <th>transactionid</th>\n",
       "      <th>visitorid</th>\n",
       "      <th>date</th>\n",
       "      <th>revenue</th>\n",
       "      <th>group</th>\n",
       "    </tr>\n",
       "  </thead>\n",
       "  <tbody>\n",
       "    <tr>\n",
       "      <th>54</th>\n",
       "      <td>4159234359</td>\n",
       "      <td>3660046170</td>\n",
       "      <td>2019-08-16</td>\n",
       "      <td>100</td>\n",
       "      <td>A</td>\n",
       "    </tr>\n",
       "    <tr>\n",
       "      <th>513</th>\n",
       "      <td>3944922068</td>\n",
       "      <td>1474473704</td>\n",
       "      <td>2019-08-06</td>\n",
       "      <td>6930</td>\n",
       "      <td>B</td>\n",
       "    </tr>\n",
       "    <tr>\n",
       "      <th>694</th>\n",
       "      <td>3165578945</td>\n",
       "      <td>1253818784</td>\n",
       "      <td>2019-08-09</td>\n",
       "      <td>9290</td>\n",
       "      <td>B</td>\n",
       "    </tr>\n",
       "    <tr>\n",
       "      <th>148</th>\n",
       "      <td>4238948438</td>\n",
       "      <td>363280180</td>\n",
       "      <td>2019-08-01</td>\n",
       "      <td>300</td>\n",
       "      <td>B</td>\n",
       "    </tr>\n",
       "    <tr>\n",
       "      <th>879</th>\n",
       "      <td>1197739160</td>\n",
       "      <td>1801183820</td>\n",
       "      <td>2019-08-05</td>\n",
       "      <td>390</td>\n",
       "      <td>A</td>\n",
       "    </tr>\n",
       "  </tbody>\n",
       "</table>\n",
       "</div>"
      ],
      "text/plain": [
       "     transactionid   visitorid        date  revenue group\n",
       "54      4159234359  3660046170  2019-08-16      100     A\n",
       "513     3944922068  1474473704  2019-08-06     6930     B\n",
       "694     3165578945  1253818784  2019-08-09     9290     B\n",
       "148     4238948438   363280180  2019-08-01      300     B\n",
       "879     1197739160  1801183820  2019-08-05      390     A"
      ]
     },
     "metadata": {},
     "output_type": "display_data"
    },
    {
     "data": {
      "text/html": [
       "<div>\n",
       "<style scoped>\n",
       "    .dataframe tbody tr th:only-of-type {\n",
       "        vertical-align: middle;\n",
       "    }\n",
       "\n",
       "    .dataframe tbody tr th {\n",
       "        vertical-align: top;\n",
       "    }\n",
       "\n",
       "    .dataframe thead th {\n",
       "        text-align: right;\n",
       "    }\n",
       "</style>\n",
       "<table border=\"1\" class=\"dataframe\">\n",
       "  <thead>\n",
       "    <tr style=\"text-align: right;\">\n",
       "      <th></th>\n",
       "      <th>date</th>\n",
       "      <th>group</th>\n",
       "      <th>visitors</th>\n",
       "    </tr>\n",
       "  </thead>\n",
       "  <tbody>\n",
       "    <tr>\n",
       "      <th>41</th>\n",
       "      <td>2019-08-11</td>\n",
       "      <td>B</td>\n",
       "      <td>721</td>\n",
       "    </tr>\n",
       "    <tr>\n",
       "      <th>52</th>\n",
       "      <td>2019-08-22</td>\n",
       "      <td>B</td>\n",
       "      <td>650</td>\n",
       "    </tr>\n",
       "    <tr>\n",
       "      <th>13</th>\n",
       "      <td>2019-08-14</td>\n",
       "      <td>A</td>\n",
       "      <td>735</td>\n",
       "    </tr>\n",
       "    <tr>\n",
       "      <th>18</th>\n",
       "      <td>2019-08-19</td>\n",
       "      <td>A</td>\n",
       "      <td>502</td>\n",
       "    </tr>\n",
       "    <tr>\n",
       "      <th>11</th>\n",
       "      <td>2019-08-12</td>\n",
       "      <td>A</td>\n",
       "      <td>595</td>\n",
       "    </tr>\n",
       "  </tbody>\n",
       "</table>\n",
       "</div>"
      ],
      "text/plain": [
       "          date group  visitors\n",
       "41  2019-08-11     B       721\n",
       "52  2019-08-22     B       650\n",
       "13  2019-08-14     A       735\n",
       "18  2019-08-19     A       502\n",
       "11  2019-08-12     A       595"
      ]
     },
     "metadata": {},
     "output_type": "display_data"
    }
   ],
   "source": [
    "# проверим изменения\n",
    "display(hypothesis.sample(5))\n",
    "display(orders.sample(5))\n",
    "display(visitors.sample(5))"
   ]
  },
  {
   "cell_type": "code",
   "execution_count": 9,
   "metadata": {},
   "outputs": [],
   "source": [
    "# преобразуем название столбцов\n",
    "orders = orders.rename(columns={'transactionid': 'transaction_id', 'visitorid': 'visitor_id'}) "
   ]
  },
  {
   "cell_type": "code",
   "execution_count": 10,
   "metadata": {},
   "outputs": [
    {
     "data": {
      "text/html": [
       "<div>\n",
       "<style scoped>\n",
       "    .dataframe tbody tr th:only-of-type {\n",
       "        vertical-align: middle;\n",
       "    }\n",
       "\n",
       "    .dataframe tbody tr th {\n",
       "        vertical-align: top;\n",
       "    }\n",
       "\n",
       "    .dataframe thead th {\n",
       "        text-align: right;\n",
       "    }\n",
       "</style>\n",
       "<table border=\"1\" class=\"dataframe\">\n",
       "  <thead>\n",
       "    <tr style=\"text-align: right;\">\n",
       "      <th></th>\n",
       "      <th>transaction_id</th>\n",
       "      <th>visitor_id</th>\n",
       "      <th>date</th>\n",
       "      <th>revenue</th>\n",
       "      <th>group</th>\n",
       "    </tr>\n",
       "  </thead>\n",
       "  <tbody>\n",
       "    <tr>\n",
       "      <th>0</th>\n",
       "      <td>3667963787</td>\n",
       "      <td>3312258926</td>\n",
       "      <td>2019-08-15</td>\n",
       "      <td>1650</td>\n",
       "      <td>B</td>\n",
       "    </tr>\n",
       "    <tr>\n",
       "      <th>1</th>\n",
       "      <td>2804400009</td>\n",
       "      <td>3642806036</td>\n",
       "      <td>2019-08-15</td>\n",
       "      <td>730</td>\n",
       "      <td>B</td>\n",
       "    </tr>\n",
       "    <tr>\n",
       "      <th>2</th>\n",
       "      <td>2961555356</td>\n",
       "      <td>4069496402</td>\n",
       "      <td>2019-08-15</td>\n",
       "      <td>400</td>\n",
       "      <td>A</td>\n",
       "    </tr>\n",
       "    <tr>\n",
       "      <th>3</th>\n",
       "      <td>3797467345</td>\n",
       "      <td>1196621759</td>\n",
       "      <td>2019-08-15</td>\n",
       "      <td>9759</td>\n",
       "      <td>B</td>\n",
       "    </tr>\n",
       "    <tr>\n",
       "      <th>4</th>\n",
       "      <td>2282983706</td>\n",
       "      <td>2322279887</td>\n",
       "      <td>2019-08-15</td>\n",
       "      <td>2308</td>\n",
       "      <td>B</td>\n",
       "    </tr>\n",
       "  </tbody>\n",
       "</table>\n",
       "</div>"
      ],
      "text/plain": [
       "   transaction_id  visitor_id        date  revenue group\n",
       "0      3667963787  3312258926  2019-08-15     1650     B\n",
       "1      2804400009  3642806036  2019-08-15      730     B\n",
       "2      2961555356  4069496402  2019-08-15      400     A\n",
       "3      3797467345  1196621759  2019-08-15     9759     B\n",
       "4      2282983706  2322279887  2019-08-15     2308     B"
      ]
     },
     "execution_count": 10,
     "metadata": {},
     "output_type": "execute_result"
    }
   ],
   "source": [
    "# посмотрим изменения\n",
    "orders.head()"
   ]
  },
  {
   "cell_type": "code",
   "execution_count": 11,
   "metadata": {},
   "outputs": [],
   "source": [
    "# приведем данные нужных столбцов к типу datetime\n",
    "orders['date'] = pd.to_datetime(orders['date'])\n",
    "visitors['date'] = pd.to_datetime(visitors['date'])"
   ]
  },
  {
   "cell_type": "code",
   "execution_count": 12,
   "metadata": {},
   "outputs": [
    {
     "name": "stdout",
     "output_type": "stream",
     "text": [
      "datetime64[ns]\n",
      "datetime64[ns]\n"
     ]
    }
   ],
   "source": [
    "# посмотрим изменения\n",
    "print(orders['date'].dtype)\n",
    "print(visitors['date'].dtype)"
   ]
  },
  {
   "cell_type": "markdown",
   "metadata": {},
   "source": [
    "<font color='green'>**Вывод:**</font>\n",
    "\n",
    "На первом этапе мы сохранили данные о визитах, заказах и гипотизах в переменные и подготовили их к анализу. Проверили на отсутствие пропусков, привели столбцы к нижнему регистру и змеиному стилю. Также было проверено, что отсутствуют явные дубликаты, а также что тип данных во всех колонках соответствует значениям."
   ]
  },
  {
   "cell_type": "markdown",
   "metadata": {},
   "source": [
    "### Приоритизация гипотез"
   ]
  },
  {
   "cell_type": "markdown",
   "metadata": {},
   "source": [
    "- Применим фреймворк ICE для приоритизации гипотез. Отсортируем их по убыванию приоритета;\n",
    "- Применим фреймворк RICE для приоритизации гипотез. Отсортируем их по убыванию приоритета;\n",
    "- Укажем, как изменилась приоритизация гипотез при применении RICE вместо ICE. Объясним, почему так произошло."
   ]
  },
  {
   "cell_type": "markdown",
   "metadata": {},
   "source": [
    "Фреймворки ICE И RICE расчитываются по следующим формулам:\n",
    "\n",
    "\n",
    "$$ICE = \\frac{Impact * Confidence}{Efforts}$$\n",
    "\n",
    "$$RICE = \\frac{Rearch * Impact * Confidence}{Efforts}$$"
   ]
  },
  {
   "cell_type": "code",
   "execution_count": 13,
   "metadata": {},
   "outputs": [],
   "source": [
    "# сделаем чтобы текст в таблице отображался полностью\n",
    "pd.set_option('display.max_colwidth', None)"
   ]
  },
  {
   "cell_type": "code",
   "execution_count": 14,
   "metadata": {},
   "outputs": [
    {
     "data": {
      "text/html": [
       "<div>\n",
       "<style scoped>\n",
       "    .dataframe tbody tr th:only-of-type {\n",
       "        vertical-align: middle;\n",
       "    }\n",
       "\n",
       "    .dataframe tbody tr th {\n",
       "        vertical-align: top;\n",
       "    }\n",
       "\n",
       "    .dataframe thead th {\n",
       "        text-align: right;\n",
       "    }\n",
       "</style>\n",
       "<table border=\"1\" class=\"dataframe\">\n",
       "  <thead>\n",
       "    <tr style=\"text-align: right;\">\n",
       "      <th></th>\n",
       "      <th>hypothesis</th>\n",
       "      <th>ice</th>\n",
       "    </tr>\n",
       "  </thead>\n",
       "  <tbody>\n",
       "    <tr>\n",
       "      <th>8</th>\n",
       "      <td>Запустить акцию, дающую скидку на товар в день рождения</td>\n",
       "      <td>16.200</td>\n",
       "    </tr>\n",
       "    <tr>\n",
       "      <th>0</th>\n",
       "      <td>Добавить два новых канала привлечения трафика, что позволит привлекать на 30% больше пользователей</td>\n",
       "      <td>13.333</td>\n",
       "    </tr>\n",
       "    <tr>\n",
       "      <th>7</th>\n",
       "      <td>Добавить форму подписки на все основные страницы, чтобы собрать базу клиентов для email-рассылок</td>\n",
       "      <td>11.200</td>\n",
       "    </tr>\n",
       "    <tr>\n",
       "      <th>6</th>\n",
       "      <td>Показать на главной странице баннеры с актуальными акциями и распродажами, чтобы увеличить конверсию</td>\n",
       "      <td>8.000</td>\n",
       "    </tr>\n",
       "    <tr>\n",
       "      <th>2</th>\n",
       "      <td>Добавить блоки рекомендаций товаров на сайт интернет магазина, чтобы повысить конверсию и средний чек заказа</td>\n",
       "      <td>7.000</td>\n",
       "    </tr>\n",
       "    <tr>\n",
       "      <th>1</th>\n",
       "      <td>Запустить собственную службу доставки, что сократит срок доставки заказов</td>\n",
       "      <td>2.000</td>\n",
       "    </tr>\n",
       "    <tr>\n",
       "      <th>5</th>\n",
       "      <td>Добавить страницу отзывов клиентов о магазине, что позволит увеличить количество заказов</td>\n",
       "      <td>1.333</td>\n",
       "    </tr>\n",
       "    <tr>\n",
       "      <th>3</th>\n",
       "      <td>Изменить структура категорий, что увеличит конверсию, т.к. пользователи быстрее найдут нужный товар</td>\n",
       "      <td>1.125</td>\n",
       "    </tr>\n",
       "    <tr>\n",
       "      <th>4</th>\n",
       "      <td>Изменить цвет фона главной страницы, чтобы увеличить вовлеченность пользователей</td>\n",
       "      <td>1.000</td>\n",
       "    </tr>\n",
       "  </tbody>\n",
       "</table>\n",
       "</div>"
      ],
      "text/plain": [
       "                                                                                                     hypothesis  \\\n",
       "8                                                       Запустить акцию, дающую скидку на товар в день рождения   \n",
       "0            Добавить два новых канала привлечения трафика, что позволит привлекать на 30% больше пользователей   \n",
       "7              Добавить форму подписки на все основные страницы, чтобы собрать базу клиентов для email-рассылок   \n",
       "6          Показать на главной странице баннеры с актуальными акциями и распродажами, чтобы увеличить конверсию   \n",
       "2  Добавить блоки рекомендаций товаров на сайт интернет магазина, чтобы повысить конверсию и средний чек заказа   \n",
       "1                                     Запустить собственную службу доставки, что сократит срок доставки заказов   \n",
       "5                      Добавить страницу отзывов клиентов о магазине, что позволит увеличить количество заказов   \n",
       "3           Изменить структура категорий, что увеличит конверсию, т.к. пользователи быстрее найдут нужный товар   \n",
       "4                              Изменить цвет фона главной страницы, чтобы увеличить вовлеченность пользователей   \n",
       "\n",
       "      ice  \n",
       "8  16.200  \n",
       "0  13.333  \n",
       "7  11.200  \n",
       "6   8.000  \n",
       "2   7.000  \n",
       "1   2.000  \n",
       "5   1.333  \n",
       "3   1.125  \n",
       "4   1.000  "
      ]
     },
     "metadata": {},
     "output_type": "display_data"
    }
   ],
   "source": [
    "# создаем новый столбец ice и cортируем по убыванию приоритета\n",
    "hypothesis['ice'] = round((hypothesis['impact'] * hypothesis['confidence'])/hypothesis['efforts'], 3)\n",
    "display(hypothesis[['hypothesis', 'ice']].sort_values(by='ice', ascending=False))"
   ]
  },
  {
   "cell_type": "markdown",
   "metadata": {},
   "source": [
    "<font color='green'>**Вывод:**</font> \n",
    "\n",
    "Приоритетные гипотезы по ICE:\n",
    "\n",
    "- Запустить акцию, дающую скидку на товар в день рождения;\n",
    "- Добавить два новых канала привлечения трафика, что позволит привлекать на 30% больше пользователей;\n",
    "- Добавить форму подписки на все основные страницы, чтобы собрать базу клиентов для email-рассылок.\n"
   ]
  },
  {
   "cell_type": "code",
   "execution_count": 15,
   "metadata": {},
   "outputs": [
    {
     "data": {
      "text/html": [
       "<div>\n",
       "<style scoped>\n",
       "    .dataframe tbody tr th:only-of-type {\n",
       "        vertical-align: middle;\n",
       "    }\n",
       "\n",
       "    .dataframe tbody tr th {\n",
       "        vertical-align: top;\n",
       "    }\n",
       "\n",
       "    .dataframe thead th {\n",
       "        text-align: right;\n",
       "    }\n",
       "</style>\n",
       "<table border=\"1\" class=\"dataframe\">\n",
       "  <thead>\n",
       "    <tr style=\"text-align: right;\">\n",
       "      <th></th>\n",
       "      <th>hypothesis</th>\n",
       "      <th>rice</th>\n",
       "    </tr>\n",
       "  </thead>\n",
       "  <tbody>\n",
       "    <tr>\n",
       "      <th>7</th>\n",
       "      <td>Добавить форму подписки на все основные страницы, чтобы собрать базу клиентов для email-рассылок</td>\n",
       "      <td>112.0</td>\n",
       "    </tr>\n",
       "    <tr>\n",
       "      <th>2</th>\n",
       "      <td>Добавить блоки рекомендаций товаров на сайт интернет магазина, чтобы повысить конверсию и средний чек заказа</td>\n",
       "      <td>56.0</td>\n",
       "    </tr>\n",
       "    <tr>\n",
       "      <th>0</th>\n",
       "      <td>Добавить два новых канала привлечения трафика, что позволит привлекать на 30% больше пользователей</td>\n",
       "      <td>40.0</td>\n",
       "    </tr>\n",
       "    <tr>\n",
       "      <th>6</th>\n",
       "      <td>Показать на главной странице баннеры с актуальными акциями и распродажами, чтобы увеличить конверсию</td>\n",
       "      <td>40.0</td>\n",
       "    </tr>\n",
       "    <tr>\n",
       "      <th>8</th>\n",
       "      <td>Запустить акцию, дающую скидку на товар в день рождения</td>\n",
       "      <td>16.2</td>\n",
       "    </tr>\n",
       "    <tr>\n",
       "      <th>3</th>\n",
       "      <td>Изменить структура категорий, что увеличит конверсию, т.к. пользователи быстрее найдут нужный товар</td>\n",
       "      <td>9.0</td>\n",
       "    </tr>\n",
       "    <tr>\n",
       "      <th>1</th>\n",
       "      <td>Запустить собственную службу доставки, что сократит срок доставки заказов</td>\n",
       "      <td>4.0</td>\n",
       "    </tr>\n",
       "    <tr>\n",
       "      <th>5</th>\n",
       "      <td>Добавить страницу отзывов клиентов о магазине, что позволит увеличить количество заказов</td>\n",
       "      <td>4.0</td>\n",
       "    </tr>\n",
       "    <tr>\n",
       "      <th>4</th>\n",
       "      <td>Изменить цвет фона главной страницы, чтобы увеличить вовлеченность пользователей</td>\n",
       "      <td>3.0</td>\n",
       "    </tr>\n",
       "  </tbody>\n",
       "</table>\n",
       "</div>"
      ],
      "text/plain": [
       "                                                                                                     hypothesis  \\\n",
       "7              Добавить форму подписки на все основные страницы, чтобы собрать базу клиентов для email-рассылок   \n",
       "2  Добавить блоки рекомендаций товаров на сайт интернет магазина, чтобы повысить конверсию и средний чек заказа   \n",
       "0            Добавить два новых канала привлечения трафика, что позволит привлекать на 30% больше пользователей   \n",
       "6          Показать на главной странице баннеры с актуальными акциями и распродажами, чтобы увеличить конверсию   \n",
       "8                                                       Запустить акцию, дающую скидку на товар в день рождения   \n",
       "3           Изменить структура категорий, что увеличит конверсию, т.к. пользователи быстрее найдут нужный товар   \n",
       "1                                     Запустить собственную службу доставки, что сократит срок доставки заказов   \n",
       "5                      Добавить страницу отзывов клиентов о магазине, что позволит увеличить количество заказов   \n",
       "4                              Изменить цвет фона главной страницы, чтобы увеличить вовлеченность пользователей   \n",
       "\n",
       "    rice  \n",
       "7  112.0  \n",
       "2   56.0  \n",
       "0   40.0  \n",
       "6   40.0  \n",
       "8   16.2  \n",
       "3    9.0  \n",
       "1    4.0  \n",
       "5    4.0  \n",
       "4    3.0  "
      ]
     },
     "metadata": {},
     "output_type": "display_data"
    }
   ],
   "source": [
    "# создаем новый столбец rice и сортируем по убыванию приоритета\n",
    "hypothesis['rice'] = round((hypothesis['reach'] * hypothesis['impact'] * hypothesis['confidence'])/hypothesis['efforts'], 3)\n",
    "display(hypothesis[['hypothesis', 'rice']].sort_values(by='rice', ascending=False))"
   ]
  },
  {
   "cell_type": "markdown",
   "metadata": {},
   "source": [
    "<font color='green'>**Вывод:**</font> \n",
    "\n",
    "Приоритетные гипотезы по RICE:\n",
    "\n",
    "- Добавить форму подписки на все основные страницы, чтобы собрать базу клиентов для email-рассылок;\n",
    "- Добавить блоки рекомендаций товаров на сайт интернет магазина, чтобы повысить конверсию и средний чек заказа;\n",
    "- Добавить два новых канала привлечения трафика, что позволит привлекать на 30% больше пользователей."
   ]
  },
  {
   "cell_type": "markdown",
   "metadata": {},
   "source": [
    "<font color='green'>**Вывод:**</font>  \n",
    "\n",
    "Наболее перспективная гипотеза по ICE под номером 8 оказалась на пятом месте при расчете RICE. Это объясняется показателем reach - количество пользователей, которое затронет изменение(в 8 гипотезе затронет всего 1-го пользователя). Этот показатель также оказал влияние и на другие гипотезы. Учитывая результаты обеих приоритизаций гипотез наиболее важными из них являются:\n",
    "\n",
    "- 7 - Добавить форму подписки на все основные страницы, чтобы собрать базу клиентов для email-рассылок;\n",
    "- 0 - Добавить два новых канала привлечения трафика, что позволит привлекать на 30% больше пользователей;\n",
    "- 6 - Показать на главной странице баннеры с актуальными акциями и распродажами, чтобы увеличить конверсию."
   ]
  },
  {
   "cell_type": "markdown",
   "metadata": {},
   "source": [
    "### Анализ A/B-теста"
   ]
  },
  {
   "cell_type": "markdown",
   "metadata": {},
   "source": [
    "1. Построим график кумулятивной выручки по группам. Сделаем выводы и предположения;\n",
    "2. Построим график кумулятивного среднего чека по группам. Сделаем выводы и предположения;\n",
    "3. Построим график относительного изменения кумулятивного среднего чека группы B к группе A. Сделаем выводы и предположения;\n",
    "4. Построим график кумулятивной конверсии по группам. Сделаем выводы и предположения;\n",
    "5. Построим график относительного изменения кумулятивной конверсии группы B к группе A. Сделаем выводы и предположения;\n",
    "6. Построим точечный график количества заказов по пользователям. Сделаем выводы и предположения;\n",
    "7. Посчитаем 95-й и 99-й перцентили количества заказов на пользователя. Выберем границу для определения аномальных пользователей;\n",
    "8. Построим точечный график стоимостей заказов. Сделаем выводы и предположения;\n",
    "9. Посчитаем 95-й и 99-й перцентили стоимости заказов. Выберем границу для определения аномальных заказов;\n",
    "10. Посчитаем статистическую значимость различий в конверсии между группами по «сырым» данным. Сделаем выводы и предположения;\n",
    "11. Посчитаем статистическую значимость различий в среднем чеке заказа между группами по «сырым» данным. Сделаем выводы и предположения;\n",
    "12. Посчитаем статистическую значимость различий в конверсии между группами по «очищенным» данным. Сделаем выводы и предположения;\n",
    "13. Посчитаем статистическую значимость различий в среднем чеке заказа между группами по «очищенным» данным. Сделаем выводы и предположения;\n",
    "14. Примем решение по результатам теста и объясним его. Варианты решений:\n",
    "\n",
    "   - Остановить тест, зафиксировать победу одной из групп.\n",
    "\n",
    "   - Остановить тест, зафиксировать отсутствие различий между группами.\n",
    "\n",
    "   - Продолжить тест."
   ]
  },
  {
   "cell_type": "code",
   "execution_count": 16,
   "metadata": {},
   "outputs": [
    {
     "name": "stdout",
     "output_type": "stream",
     "text": [
      "Количество пользователей, попавших в обе группы =  58\n",
      "Доля пользователей, попавших в обе группы =  0.05\n"
     ]
    }
   ],
   "source": [
    "# посмотрим пересечение пользователей между группами\n",
    "# отбираем группы  \n",
    "group_a=orders.query('group == \"A\"') \n",
    "group_b=orders.query('group == \"B\"') \n",
    "  \n",
    "# получаем пользователей, попавших в обе группы \n",
    "group_intersections=list(np.intersect1d(group_a['visitor_id'], group_b['visitor_id']))\n",
    "print('Количество пользователей, попавших в обе группы = ', len(group_intersections))\n",
    "print('Доля пользователей, попавших в обе группы = ', round(len(group_intersections)/orders.shape[0],2))"
   ]
  },
  {
   "cell_type": "code",
   "execution_count": 17,
   "metadata": {},
   "outputs": [
    {
     "name": "stdout",
     "output_type": "stream",
     "text": [
      "Количество пользователей в группе A =  557\n",
      "Количество пользователей в группе B =  640\n"
     ]
    }
   ],
   "source": [
    "# посмотрим количество пользователей в каждой группе\n",
    "print('Количество пользователей в группе A = ', len(orders.query('group == \"A\"')))\n",
    "print('Количество пользователей в группе B = ', len(orders.query('group == \"B\"')))"
   ]
  },
  {
   "cell_type": "markdown",
   "metadata": {},
   "source": [
    "#### Построим график кумулятивной выручки по группам"
   ]
  },
  {
   "cell_type": "code",
   "execution_count": 18,
   "metadata": {},
   "outputs": [
    {
     "data": {
      "text/html": [
       "<div>\n",
       "<style scoped>\n",
       "    .dataframe tbody tr th:only-of-type {\n",
       "        vertical-align: middle;\n",
       "    }\n",
       "\n",
       "    .dataframe tbody tr th {\n",
       "        vertical-align: top;\n",
       "    }\n",
       "\n",
       "    .dataframe thead th {\n",
       "        text-align: right;\n",
       "    }\n",
       "</style>\n",
       "<table border=\"1\" class=\"dataframe\">\n",
       "  <thead>\n",
       "    <tr style=\"text-align: right;\">\n",
       "      <th></th>\n",
       "      <th>date</th>\n",
       "      <th>group</th>\n",
       "      <th>orders</th>\n",
       "      <th>buyers</th>\n",
       "      <th>revenue</th>\n",
       "      <th>visitors</th>\n",
       "    </tr>\n",
       "  </thead>\n",
       "  <tbody>\n",
       "    <tr>\n",
       "      <th>0</th>\n",
       "      <td>2019-08-01</td>\n",
       "      <td>A</td>\n",
       "      <td>24</td>\n",
       "      <td>20</td>\n",
       "      <td>148579</td>\n",
       "      <td>719</td>\n",
       "    </tr>\n",
       "    <tr>\n",
       "      <th>1</th>\n",
       "      <td>2019-08-01</td>\n",
       "      <td>B</td>\n",
       "      <td>21</td>\n",
       "      <td>20</td>\n",
       "      <td>101217</td>\n",
       "      <td>713</td>\n",
       "    </tr>\n",
       "    <tr>\n",
       "      <th>2</th>\n",
       "      <td>2019-08-02</td>\n",
       "      <td>A</td>\n",
       "      <td>44</td>\n",
       "      <td>38</td>\n",
       "      <td>242401</td>\n",
       "      <td>1338</td>\n",
       "    </tr>\n",
       "    <tr>\n",
       "      <th>3</th>\n",
       "      <td>2019-08-02</td>\n",
       "      <td>B</td>\n",
       "      <td>45</td>\n",
       "      <td>43</td>\n",
       "      <td>266748</td>\n",
       "      <td>1294</td>\n",
       "    </tr>\n",
       "    <tr>\n",
       "      <th>4</th>\n",
       "      <td>2019-08-03</td>\n",
       "      <td>A</td>\n",
       "      <td>68</td>\n",
       "      <td>62</td>\n",
       "      <td>354874</td>\n",
       "      <td>1845</td>\n",
       "    </tr>\n",
       "  </tbody>\n",
       "</table>\n",
       "</div>"
      ],
      "text/plain": [
       "        date group  orders  buyers  revenue  visitors\n",
       "0 2019-08-01     A      24      20   148579       719\n",
       "1 2019-08-01     B      21      20   101217       713\n",
       "2 2019-08-02     A      44      38   242401      1338\n",
       "3 2019-08-02     B      45      43   266748      1294\n",
       "4 2019-08-03     A      68      62   354874      1845"
      ]
     },
     "metadata": {},
     "output_type": "display_data"
    }
   ],
   "source": [
    "# создаем массив уникальных пар значений дат и групп теста\n",
    "datesGroups = orders[['date', 'group']].drop_duplicates()\n",
    "\n",
    "# получаем агрегированные кумулятивные по дням данные о заказах \n",
    "ordersAggregated = datesGroups.apply(\n",
    "    lambda x: orders[\n",
    "        np.logical_and(\n",
    "            orders['date'] <= x['date'], orders['group'] == x['group']\n",
    "        )\n",
    "    ].agg(\n",
    "        {\n",
    "            'date': 'max',\n",
    "            'group': 'max',\n",
    "            'transaction_id': 'nunique',\n",
    "            'visitor_id': 'nunique',\n",
    "            'revenue': 'sum',\n",
    "        }\n",
    "    ),\n",
    "    axis=1,\n",
    ").sort_values(by=['date', 'group'])\n",
    "\n",
    "# получаем агрегированные кумулятивные по дням данные о посетителях \n",
    "visitorsAggregated = datesGroups.apply(\n",
    "    lambda x: visitors[\n",
    "        np.logical_and(\n",
    "            visitors['date'] <= x['date'], visitors['group'] == x['group']\n",
    "        )\n",
    "    ].agg({'date': 'max', 'group': 'max', 'visitors': 'sum'}),\n",
    "    axis=1,\n",
    ").sort_values(by=['date', 'group'])\n",
    "\n",
    "# объединяем кумулятивные данные в одной таблице\n",
    "cumulativeData = ordersAggregated.merge(\n",
    "    visitorsAggregated, left_on=['date', 'group'], right_on=['date', 'group']\n",
    ")\n",
    "cumulativeData.columns = [\n",
    "    'date',\n",
    "    'group',\n",
    "    'orders',\n",
    "    'buyers',\n",
    "    'revenue',\n",
    "    'visitors',\n",
    "]\n",
    "\n",
    "display(cumulativeData.head())"
   ]
  },
  {
   "cell_type": "code",
   "execution_count": 19,
   "metadata": {},
   "outputs": [
    {
     "data": {
      "image/png": "[encoded data removed]",
      "text/plain": [
       "<Figure size 1500x1000 with 1 Axes>"
      ]
     },
     "metadata": {},
     "output_type": "display_data"
    }
   ],
   "source": [
    "# датафрейм с кумулятивным количеством заказов и кумулятивной выручкой по дням в группе А\n",
    "cumulative_revenue_a = cumulativeData[cumulativeData['group']=='A'][['date', 'revenue', 'orders']]\n",
    "\n",
    "# датафрейм с кумулятивным количеством заказов и кумулятивной выручкой по дням в группе B\n",
    "cumulative_revenue_b = cumulativeData[cumulativeData['group']=='B'][['date', 'revenue', 'orders']]\n",
    "\n",
    "# задаём размер для графиков\n",
    "plt.figure(figsize=(15, 10))\n",
    "\n",
    "# строим график выручки группы А\n",
    "plt.plot(cumulative_revenue_a['date'], cumulative_revenue_a['revenue'], label='A')\n",
    "\n",
    "# строим график выручки группы B\n",
    "plt.plot(cumulative_revenue_b['date'], cumulative_revenue_b['revenue'], label='B')\n",
    "\n",
    "plt.grid(visible=True)\n",
    "plt.title('Графики кумулятивной выручки по дням и группам A/B-теста', fontsize=14)\n",
    "plt.xlabel('Дата', fontsize=12)\n",
    "plt.ylabel('Выручка, ₽', fontsize=12)\n",
    "plt.legend() \n",
    "plt.show()"
   ]
  },
  {
   "cell_type": "markdown",
   "metadata": {},
   "source": [
    "<font color='green'>**Вывод:**</font>  \n",
    "\n",
    "Выручка почти равномерно увеличивается в течение всего теста. Однако графики выручки обеих групп в нескольких точках резко растут. Это может сигнализировать о всплесках числа заказов, либо о появлении очень дорогих заказов в выборке."
   ]
  },
  {
   "cell_type": "markdown",
   "metadata": {},
   "source": [
    "#### Построим график кумулятивного среднего чека по группам"
   ]
  },
  {
   "cell_type": "code",
   "execution_count": 20,
   "metadata": {},
   "outputs": [
    {
     "data": {
      "image/png": "[encoded data removed]",
      "text/plain": [
       "<Figure size 1500x1000 with 1 Axes>"
      ]
     },
     "metadata": {},
     "output_type": "display_data"
    }
   ],
   "source": [
    "# построим графики среднего чека по группам — разделим кумулятивную выручку на кумулятивное число заказов\n",
    "plt.figure(figsize=(15, 10))\n",
    "plt.plot(cumulative_revenue_a['date'], cumulative_revenue_a['revenue']/cumulative_revenue_a['orders'], label='A')\n",
    "plt.plot(cumulative_revenue_b['date'], cumulative_revenue_b['revenue']/cumulative_revenue_b['orders'], label='B')\n",
    "\n",
    "plt.grid(visible=True)\n",
    "plt.title('Графики кумулятивного среднего чека по дням и группам A/B-тестирования', fontsize=14)\n",
    "plt.xlabel('Дата', fontsize=12)\n",
    "plt.ylabel('Средний чек, ₽', fontsize=12)\n",
    "plt.legend() \n",
    "plt.show()"
   ]
  },
  {
   "cell_type": "markdown",
   "metadata": {},
   "source": [
    "<font color='green'>**Вывод:**</font>\n",
    "\n",
    "- Группа А - средний чек после падения в начале и резкого скачка после, стабилизировался в значениях с тенденцией к росту.\n",
    "- Группа В - средний чек в группе B в одной точке резко вырос, как и выручка. Далее видна тенденция к снижению среднего чека в этой группе. Величины среднего чека в группе В выше, чем в группе А."
   ]
  },
  {
   "cell_type": "markdown",
   "metadata": {},
   "source": [
    "#### Построим график относительного изменения кумулятивного среднего чека группы B к группе A"
   ]
  },
  {
   "cell_type": "code",
   "execution_count": 21,
   "metadata": {},
   "outputs": [
    {
     "data": {
      "image/png": "[encoded data removed]",
      "text/plain": [
       "<Figure size 1500x1000 with 1 Axes>"
      ]
     },
     "metadata": {},
     "output_type": "display_data"
    }
   ],
   "source": [
    "# собираем данные в одном датафрейме\n",
    "merged_cumulative_revenue = cumulative_revenue_a.merge(\n",
    "    cumulative_revenue_b,\n",
    "    left_on='date',\n",
    "    right_on='date',\n",
    "    how='left',\n",
    "    suffixes=['A', 'B'])\n",
    "\n",
    "# задаём размер для графика\n",
    "plt.figure(figsize=(15, 10))\n",
    "\n",
    "# cтроим отношение средних чеков\n",
    "plt.plot(merged_cumulative_revenue['date'],\n",
    "         (merged_cumulative_revenue['revenueB']/\n",
    "          merged_cumulative_revenue['ordersB'])/\n",
    "         (merged_cumulative_revenue['revenueA']/\n",
    "          merged_cumulative_revenue['ordersA'])-1)\n",
    "\n",
    "# добавляем ось X\n",
    "plt.axhline(y=0, color='red', linestyle='--')\n",
    "\n",
    "plt.grid(visible=True)\n",
    "plt.title('График относительного изменения кумулятивного среднего чека группы B к группе A', fontsize=14)\n",
    "plt.xlabel('Дата', fontsize=12)\n",
    "plt.ylabel('Отношение средних чеков', fontsize=12)\n",
    "plt.show()"
   ]
  },
  {
   "cell_type": "markdown",
   "metadata": {},
   "source": [
    "<font color='green'>**Вывод:**</font>\n",
    "\n",
    "В нескольких точках график различия между сегментами резко «скачет», это говорит о наличии крупных заказов и выбросов!"
   ]
  },
  {
   "cell_type": "markdown",
   "metadata": {},
   "source": [
    "#### Построим график кумулятивного среднего количества заказов на посетителя по группам"
   ]
  },
  {
   "cell_type": "code",
   "execution_count": 22,
   "metadata": {},
   "outputs": [
    {
     "data": {
      "image/png": "[encoded data removed]",
      "text/plain": [
       "<Figure size 1500x1000 with 1 Axes>"
      ]
     },
     "metadata": {},
     "output_type": "display_data"
    }
   ],
   "source": [
    "# конвертеры, которые позволяют использовать типы pandas в matplotlib  \n",
    "register_matplotlib_converters()\n",
    "\n",
    "# считаем кумулятивную конверсию\n",
    "cumulativeData['conversion'] = cumulativeData['orders']/cumulativeData['visitors']\n",
    "\n",
    "# отделяем данные по группе A\n",
    "cumulative_data_a = cumulativeData[cumulativeData['group']=='A']\n",
    "\n",
    "# отделяем данные по группе B\n",
    "cumulative_data_b = cumulativeData[cumulativeData['group']=='B']\n",
    "\n",
    "# задаём размер для графиков\n",
    "plt.figure(figsize=(15, 10))\n",
    "\n",
    "# строим графики\n",
    "plt.plot(cumulative_data_a['date'], cumulative_data_a['conversion'], label='A')\n",
    "plt.plot(cumulative_data_b['date'], cumulative_data_b['conversion'], label='B')\n",
    "\n",
    "# задаем масштаб осей\n",
    "plt.axis([dt.datetime(2019, 8, 1), dt.datetime(2019, 8, 31), 0, 0.05]) \n",
    "\n",
    "plt.grid(visible=True)\n",
    "plt.title('График кумулятивного среднего количества заказов на посетителя по группам', fontsize=14)\n",
    "plt.xlabel('Дата', fontsize=12)\n",
    "plt.ylabel('Конверсия', fontsize=12)\n",
    "plt.legend()\n",
    "plt.show()"
   ]
  },
  {
   "cell_type": "markdown",
   "metadata": {},
   "source": [
    "<font color='green'>**Вывод:**</font>\n",
    "\n",
    "Группы колеблятся около одного значения, но затем конверсия группы В вырвалась вперёд и зафиксировалась, а конверсия группы А просела и также зафиксировалась."
   ]
  },
  {
   "cell_type": "markdown",
   "metadata": {},
   "source": [
    "#### Построим график относительного изменения кумулятивного среднего количества заказов на посетителя группы B к группе A"
   ]
  },
  {
   "cell_type": "code",
   "execution_count": 23,
   "metadata": {},
   "outputs": [
    {
     "data": {
      "image/png": "[encoded data removed]",
      "text/plain": [
       "<Figure size 1500x1000 with 1 Axes>"
      ]
     },
     "metadata": {},
     "output_type": "display_data"
    }
   ],
   "source": [
    "# соединяем\n",
    "merged_cumulative_conversions = cumulative_data_a[['date','conversion']].merge(\n",
    "    cumulative_data_b[['date','conversion']],\n",
    "    left_on='date',\n",
    "    right_on='date',\n",
    "    how='left',\n",
    "    suffixes=['A', 'B'])\n",
    "\n",
    "# задаём размер для графика\n",
    "plt.figure(figsize=(15, 10))\n",
    "\n",
    "# cтроим отношение конверсий\n",
    "plt.plot(merged_cumulative_conversions['date'],\n",
    "         merged_cumulative_conversions['conversionB']/\n",
    "         merged_cumulative_conversions['conversionA']-1)\n",
    "\n",
    "# добавляем оси X\n",
    "plt.axhline(y=0, color='green', linestyle='--')\n",
    "plt.axhline(y=0.14, color='red', linestyle='--')\n",
    "\n",
    "# задаем масштаб осей\n",
    "plt.axis([dt.datetime(2019, 8, 1), dt.datetime(2019, 8, 31), -0.12, 0.22])\n",
    "\n",
    "plt.grid(visible=True)\n",
    "plt.title('График относительного изменения кумулятивной конверсии группы B к группе A', fontsize=14)\n",
    "plt.xlabel('Дата', fontsize=12)\n",
    "plt.ylabel('Отношение конверсий', fontsize=12)\n",
    "plt.show()"
   ]
  },
  {
   "cell_type": "markdown",
   "metadata": {},
   "source": [
    "<font color='green'>**Вывод:**</font>\n",
    "\n",
    "В начале теста группа B значительно проигрывала группе A, затем вырвалась вперёд и стабилизруется.\n",
    "Сейчас делать какие-либо выводы по тесту нельзя, сперва стоит проанализировать аномалии, возможно, они изменят картину."
   ]
  },
  {
   "cell_type": "markdown",
   "metadata": {},
   "source": [
    "#### Построим точечный график количества заказов по пользователям"
   ]
  },
  {
   "cell_type": "code",
   "execution_count": 24,
   "metadata": {},
   "outputs": [
    {
     "data": {
      "text/html": [
       "<div>\n",
       "<style scoped>\n",
       "    .dataframe tbody tr th:only-of-type {\n",
       "        vertical-align: middle;\n",
       "    }\n",
       "\n",
       "    .dataframe tbody tr th {\n",
       "        vertical-align: top;\n",
       "    }\n",
       "\n",
       "    .dataframe thead th {\n",
       "        text-align: right;\n",
       "    }\n",
       "</style>\n",
       "<table border=\"1\" class=\"dataframe\">\n",
       "  <thead>\n",
       "    <tr style=\"text-align: right;\">\n",
       "      <th></th>\n",
       "      <th>visitor_id</th>\n",
       "      <th>orders</th>\n",
       "    </tr>\n",
       "  </thead>\n",
       "  <tbody>\n",
       "    <tr>\n",
       "      <th>1023</th>\n",
       "      <td>4256040402</td>\n",
       "      <td>11</td>\n",
       "    </tr>\n",
       "    <tr>\n",
       "      <th>591</th>\n",
       "      <td>2458001652</td>\n",
       "      <td>11</td>\n",
       "    </tr>\n",
       "    <tr>\n",
       "      <th>569</th>\n",
       "      <td>2378935119</td>\n",
       "      <td>9</td>\n",
       "    </tr>\n",
       "    <tr>\n",
       "      <th>487</th>\n",
       "      <td>2038680547</td>\n",
       "      <td>8</td>\n",
       "    </tr>\n",
       "    <tr>\n",
       "      <th>44</th>\n",
       "      <td>199603092</td>\n",
       "      <td>5</td>\n",
       "    </tr>\n",
       "    <tr>\n",
       "      <th>744</th>\n",
       "      <td>3062433592</td>\n",
       "      <td>5</td>\n",
       "    </tr>\n",
       "    <tr>\n",
       "      <th>55</th>\n",
       "      <td>237748145</td>\n",
       "      <td>5</td>\n",
       "    </tr>\n",
       "    <tr>\n",
       "      <th>917</th>\n",
       "      <td>3803269165</td>\n",
       "      <td>5</td>\n",
       "    </tr>\n",
       "    <tr>\n",
       "      <th>299</th>\n",
       "      <td>1230306981</td>\n",
       "      <td>5</td>\n",
       "    </tr>\n",
       "    <tr>\n",
       "      <th>897</th>\n",
       "      <td>3717692402</td>\n",
       "      <td>5</td>\n",
       "    </tr>\n",
       "  </tbody>\n",
       "</table>\n",
       "</div>"
      ],
      "text/plain": [
       "      visitor_id  orders\n",
       "1023  4256040402      11\n",
       "591   2458001652      11\n",
       "569   2378935119       9\n",
       "487   2038680547       8\n",
       "44     199603092       5\n",
       "744   3062433592       5\n",
       "55     237748145       5\n",
       "917   3803269165       5\n",
       "299   1230306981       5\n",
       "897   3717692402       5"
      ]
     },
     "metadata": {},
     "output_type": "display_data"
    }
   ],
   "source": [
    "# посмотреть число заказов по пользователям\n",
    "orders_users = (\n",
    "    orders.groupby('visitor_id', as_index=False)\n",
    "    .agg({'transaction_id': 'nunique'})\n",
    "    .sort_values(by='transaction_id', ascending=False)\n",
    "    .rename(columns={'transaction_id': 'orders'})\n",
    ")\n",
    "\n",
    "display(orders_users.head(10))"
   ]
  },
  {
   "cell_type": "code",
   "execution_count": 25,
   "metadata": {},
   "outputs": [
    {
     "data": {
      "image/png": "[encoded data removed]",
      "text/plain": [
       "<Figure size 1000x500 with 1 Axes>"
      ]
     },
     "metadata": {},
     "output_type": "display_data"
    }
   ],
   "source": [
    "# построим гистограмму распределения заказов на одного пользователя\n",
    "plt.figure(figsize=(10, 5))\n",
    "plt.hist(orders_users['orders']) \n",
    "plt.title('Гистрограмма распределения количества заказов на одного пользователя', fontsize=14)\n",
    "plt.ylabel('Количество заказов', fontsize=12)\n",
    "plt.show()"
   ]
  },
  {
   "cell_type": "markdown",
   "metadata": {},
   "source": [
    "<font color='green'>**Вывод:**</font>\n",
    "\n",
    "Можем заметить присутствие нескольких пользователей с большим количеством заказов. В основном пользователи делают один заказ, но так же присутствуют те, кто сделали 10 заказов."
   ]
  },
  {
   "cell_type": "code",
   "execution_count": 26,
   "metadata": {},
   "outputs": [
    {
     "data": {
      "image/png": "[encoded data removed]",
      "text/plain": [
       "<Figure size 1000x500 with 1 Axes>"
      ]
     },
     "metadata": {},
     "output_type": "display_data"
    }
   ],
   "source": [
    "# построим точечный график кол-ва заказов по пользователям \n",
    "x_values = pd.Series(range(0,len(orders_users)))\n",
    "plt.figure(figsize=(10, 5))\n",
    "plt.scatter(x_values, orders_users['orders'], alpha=0.2)\n",
    "plt.title('Точечный график количества заказов по пользователям', fontsize=14)\n",
    "plt.ylabel('Количество заказов', fontsize=12)\n",
    "plt.show()"
   ]
  },
  {
   "cell_type": "markdown",
   "metadata": {},
   "source": [
    "<font color='green'>**Вывод:**</font>\n",
    "\n",
    "Мы видим, что есть пользователей которые сделал от 2-5 заказов. Непонятно, брать такие заказы за аномалии или нет. Однако принято отсеивать от 1% до 5% наблюдений с крайними значениями."
   ]
  },
  {
   "cell_type": "markdown",
   "metadata": {},
   "source": [
    "#### Посчитаем 95-й и 99-й перцентили количества заказов на пользователя. Выберем границу для определения аномальных пользователей"
   ]
  },
  {
   "cell_type": "code",
   "execution_count": 27,
   "metadata": {},
   "outputs": [
    {
     "name": "stdout",
     "output_type": "stream",
     "text": [
      "[2. 4.]\n"
     ]
    }
   ],
   "source": [
    "# применим метод percentile() библиотеки Numpy для подсчёта перцентилей\n",
    "print(np.percentile(orders_users['orders'], [95, 99]))"
   ]
  },
  {
   "cell_type": "markdown",
   "metadata": {},
   "source": [
    "<font color='green'>**Вывод:**</font>\n",
    "\n",
    "Не более 1% пользователей совершали больше 4-х заказов и не больше 5% пользоваетелей совершали больше 2-х заказов. Выберем 4 заказа на пользователя как нижнюю границу, остальные будем считать аномалиями."
   ]
  },
  {
   "cell_type": "markdown",
   "metadata": {},
   "source": [
    "#### Построим точечный график стоимостей заказов"
   ]
  },
  {
   "cell_type": "code",
   "execution_count": 28,
   "metadata": {},
   "outputs": [
    {
     "data": {
      "text/html": [
       "<div>\n",
       "<style scoped>\n",
       "    .dataframe tbody tr th:only-of-type {\n",
       "        vertical-align: middle;\n",
       "    }\n",
       "\n",
       "    .dataframe tbody tr th {\n",
       "        vertical-align: top;\n",
       "    }\n",
       "\n",
       "    .dataframe thead th {\n",
       "        text-align: right;\n",
       "    }\n",
       "</style>\n",
       "<table border=\"1\" class=\"dataframe\">\n",
       "  <thead>\n",
       "    <tr style=\"text-align: right;\">\n",
       "      <th></th>\n",
       "      <th>transaction_id</th>\n",
       "      <th>visitor_id</th>\n",
       "      <th>date</th>\n",
       "      <th>revenue</th>\n",
       "      <th>group</th>\n",
       "    </tr>\n",
       "  </thead>\n",
       "  <tbody>\n",
       "    <tr>\n",
       "      <th>425</th>\n",
       "      <td>590470918</td>\n",
       "      <td>1920142716</td>\n",
       "      <td>2019-08-19</td>\n",
       "      <td>1294500</td>\n",
       "      <td>B</td>\n",
       "    </tr>\n",
       "    <tr>\n",
       "      <th>1196</th>\n",
       "      <td>3936777065</td>\n",
       "      <td>2108080724</td>\n",
       "      <td>2019-08-15</td>\n",
       "      <td>202740</td>\n",
       "      <td>B</td>\n",
       "    </tr>\n",
       "    <tr>\n",
       "      <th>858</th>\n",
       "      <td>192721366</td>\n",
       "      <td>1316129916</td>\n",
       "      <td>2019-08-27</td>\n",
       "      <td>93940</td>\n",
       "      <td>A</td>\n",
       "    </tr>\n",
       "    <tr>\n",
       "      <th>1136</th>\n",
       "      <td>666610489</td>\n",
       "      <td>1307669133</td>\n",
       "      <td>2019-08-13</td>\n",
       "      <td>92550</td>\n",
       "      <td>A</td>\n",
       "    </tr>\n",
       "    <tr>\n",
       "      <th>744</th>\n",
       "      <td>3668308183</td>\n",
       "      <td>888512513</td>\n",
       "      <td>2019-08-27</td>\n",
       "      <td>86620</td>\n",
       "      <td>B</td>\n",
       "    </tr>\n",
       "  </tbody>\n",
       "</table>\n",
       "</div>"
      ],
      "text/plain": [
       "      transaction_id  visitor_id       date  revenue group\n",
       "425        590470918  1920142716 2019-08-19  1294500     B\n",
       "1196      3936777065  2108080724 2019-08-15   202740     B\n",
       "858        192721366  1316129916 2019-08-27    93940     A\n",
       "1136       666610489  1307669133 2019-08-13    92550     A\n",
       "744       3668308183   888512513 2019-08-27    86620     B"
      ]
     },
     "metadata": {},
     "output_type": "display_data"
    }
   ],
   "source": [
    "# посмотрим на топ-5 самых дорогих заказов\n",
    "display(orders.sort_values(by='revenue', ascending=False).head())"
   ]
  },
  {
   "cell_type": "code",
   "execution_count": 29,
   "metadata": {},
   "outputs": [
    {
     "data": {
      "image/png": "[encoded data removed]",
      "text/plain": [
       "<Figure size 1000x500 with 1 Axes>"
      ]
     },
     "metadata": {},
     "output_type": "display_data"
    }
   ],
   "source": [
    "# строим точечный график стоимостей заказов\n",
    "x_values = pd.Series(range(0,len(orders['revenue'])))\n",
    "plt.figure(figsize=(10, 5))\n",
    "plt.scatter(x_values, orders['revenue'], alpha=0.3)\n",
    "plt.title('Точечный график распределения стоимостей заказов', fontsize=14)\n",
    "plt.ylabel('Стоимость заказа, ₽', fontsize=12)\n",
    "plt.ylim(0, 210000)\n",
    "plt.show()"
   ]
  },
  {
   "cell_type": "markdown",
   "metadata": {},
   "source": [
    "<font color='green'>**Вывод:**</font>\n",
    "\n",
    "Мы видим, что присутствуют некоторое количество дорогих заказов. Нужно посчитать перцентили чтобы понять какие заказы счить за аномалии."
   ]
  },
  {
   "cell_type": "markdown",
   "metadata": {},
   "source": [
    "#### Посчитаем 95-й и 99-й перцентили стоимости заказов. Выберем границу для определения аномальных заказов"
   ]
  },
  {
   "cell_type": "code",
   "execution_count": 30,
   "metadata": {},
   "outputs": [
    {
     "name": "stdout",
     "output_type": "stream",
     "text": [
      "[28000.  58233.2]\n"
     ]
    }
   ],
   "source": [
    "# применим метод percentile() библиотеки Numpy для подсчёта перцентилей\n",
    "print(np.percentile(orders['revenue'], [95, 99]))"
   ]
  },
  {
   "cell_type": "markdown",
   "metadata": {},
   "source": [
    "<font color='green'>**Вывод:**</font>\n",
    "\n",
    "5% заказов имеют стоимость 28000 руб и более, а 1% заказов имеют стоимость 58233 руб и более. Можем выбрать нижнию границу стоимости заказов в 28000 руб , а остальные заказы посчитать за аномальные."
   ]
  },
  {
   "cell_type": "markdown",
   "metadata": {},
   "source": [
    "#### Посчитаем статистическую значимость различий в среднем количестве заказов на посетителя между группами по «сырым» данным"
   ]
  },
  {
   "cell_type": "markdown",
   "metadata": {},
   "source": [
    "**Сформулируем гипотезы:**\n",
    "\n",
    "- H₀ - различий в среднем количестве заказов на посетителя между группами нет;\n",
    "- H₁ - различия в среднем количестве заказов на посетителя между группами есть."
   ]
  },
  {
   "cell_type": "markdown",
   "metadata": {},
   "source": [
    "**Сформируем новые столбцы с данными:**\n",
    "\n",
    "- date - дата;\n",
    "- orders_per_date_a - количество заказов в выбранную дату в группе A;\n",
    "- revenue_per_date_a - суммарная выручка в выбранную дату в группе A;\n",
    "- orders_per_date_b - количество заказов в выбранную дату в группе B;\n",
    "- revenue_per_date_b - суммарная выручка в выбранную дату в группе B;\n",
    "- orders_cummulative_a - суммарное число заказов до выбранной даты включительно в группе A;\n",
    "- revenue_cummulative_a - суммарная выручка до выбранной даты включительно в группе A;\n",
    "- orders_cummulative_b - суммарное число заказов до выбранной даты включительно в группе B;\n",
    "- revenue_cummulative_b - суммарная выручка до выбранной даты включительно в группе B;\n",
    "- visitors_per_date_a - количество пользователей в выбранную дату в группе A;\n",
    "- visitors_cummulative_a - количество пользователей до выбранной даты включительно в группе A;\n",
    "- visitors_per_date_b - количество пользователей в выбранную дату в группе B;\n",
    "- visitors_cummulative_b - количество пользователей до выбранной даты включительно в группе B."
   ]
  },
  {
   "cell_type": "code",
   "execution_count": 31,
   "metadata": {},
   "outputs": [
    {
     "data": {
      "text/html": [
       "<div>\n",
       "<style scoped>\n",
       "    .dataframe tbody tr th:only-of-type {\n",
       "        vertical-align: middle;\n",
       "    }\n",
       "\n",
       "    .dataframe tbody tr th {\n",
       "        vertical-align: top;\n",
       "    }\n",
       "\n",
       "    .dataframe thead th {\n",
       "        text-align: right;\n",
       "    }\n",
       "</style>\n",
       "<table border=\"1\" class=\"dataframe\">\n",
       "  <thead>\n",
       "    <tr style=\"text-align: right;\">\n",
       "      <th></th>\n",
       "      <th>date</th>\n",
       "      <th>orders_per_date_a</th>\n",
       "      <th>revenue_per_date_a</th>\n",
       "      <th>orders_per_date_b</th>\n",
       "      <th>revenue_per_date_b</th>\n",
       "      <th>orders_cummulative_a</th>\n",
       "      <th>revenue_cummulative_a</th>\n",
       "      <th>orders_cummulative_b</th>\n",
       "      <th>revenue_cummulative_b</th>\n",
       "      <th>visitors_per_date_a</th>\n",
       "      <th>visitors_per_date_b</th>\n",
       "      <th>visitors_cummulative_a</th>\n",
       "      <th>visitors_cummulative_b</th>\n",
       "    </tr>\n",
       "  </thead>\n",
       "  <tbody>\n",
       "    <tr>\n",
       "      <th>0</th>\n",
       "      <td>2019-08-01</td>\n",
       "      <td>24</td>\n",
       "      <td>148579</td>\n",
       "      <td>21</td>\n",
       "      <td>101217</td>\n",
       "      <td>24</td>\n",
       "      <td>148579</td>\n",
       "      <td>21</td>\n",
       "      <td>101217</td>\n",
       "      <td>719</td>\n",
       "      <td>713</td>\n",
       "      <td>719</td>\n",
       "      <td>713</td>\n",
       "    </tr>\n",
       "    <tr>\n",
       "      <th>1</th>\n",
       "      <td>2019-08-02</td>\n",
       "      <td>20</td>\n",
       "      <td>93822</td>\n",
       "      <td>24</td>\n",
       "      <td>165531</td>\n",
       "      <td>44</td>\n",
       "      <td>242401</td>\n",
       "      <td>45</td>\n",
       "      <td>266748</td>\n",
       "      <td>619</td>\n",
       "      <td>581</td>\n",
       "      <td>1338</td>\n",
       "      <td>1294</td>\n",
       "    </tr>\n",
       "    <tr>\n",
       "      <th>2</th>\n",
       "      <td>2019-08-03</td>\n",
       "      <td>24</td>\n",
       "      <td>112473</td>\n",
       "      <td>16</td>\n",
       "      <td>114248</td>\n",
       "      <td>68</td>\n",
       "      <td>354874</td>\n",
       "      <td>61</td>\n",
       "      <td>380996</td>\n",
       "      <td>507</td>\n",
       "      <td>509</td>\n",
       "      <td>1845</td>\n",
       "      <td>1803</td>\n",
       "    </tr>\n",
       "    <tr>\n",
       "      <th>3</th>\n",
       "      <td>2019-08-04</td>\n",
       "      <td>16</td>\n",
       "      <td>70825</td>\n",
       "      <td>17</td>\n",
       "      <td>108571</td>\n",
       "      <td>84</td>\n",
       "      <td>425699</td>\n",
       "      <td>78</td>\n",
       "      <td>489567</td>\n",
       "      <td>717</td>\n",
       "      <td>770</td>\n",
       "      <td>2562</td>\n",
       "      <td>2573</td>\n",
       "    </tr>\n",
       "    <tr>\n",
       "      <th>4</th>\n",
       "      <td>2019-08-05</td>\n",
       "      <td>25</td>\n",
       "      <td>124218</td>\n",
       "      <td>23</td>\n",
       "      <td>92428</td>\n",
       "      <td>109</td>\n",
       "      <td>549917</td>\n",
       "      <td>101</td>\n",
       "      <td>581995</td>\n",
       "      <td>756</td>\n",
       "      <td>707</td>\n",
       "      <td>3318</td>\n",
       "      <td>3280</td>\n",
       "    </tr>\n",
       "  </tbody>\n",
       "</table>\n",
       "</div>"
      ],
      "text/plain": [
       "        date  orders_per_date_a  revenue_per_date_a  orders_per_date_b  \\\n",
       "0 2019-08-01                 24              148579                 21   \n",
       "1 2019-08-02                 20               93822                 24   \n",
       "2 2019-08-03                 24              112473                 16   \n",
       "3 2019-08-04                 16               70825                 17   \n",
       "4 2019-08-05                 25              124218                 23   \n",
       "\n",
       "   revenue_per_date_b  orders_cummulative_a  revenue_cummulative_a  \\\n",
       "0              101217                    24                 148579   \n",
       "1              165531                    44                 242401   \n",
       "2              114248                    68                 354874   \n",
       "3              108571                    84                 425699   \n",
       "4               92428                   109                 549917   \n",
       "\n",
       "   orders_cummulative_b  revenue_cummulative_b  visitors_per_date_a  \\\n",
       "0                    21                 101217                  719   \n",
       "1                    45                 266748                  619   \n",
       "2                    61                 380996                  507   \n",
       "3                    78                 489567                  717   \n",
       "4                   101                 581995                  756   \n",
       "\n",
       "   visitors_per_date_b  visitors_cummulative_a  visitors_cummulative_b  \n",
       "0                  713                     719                     713  \n",
       "1                  581                    1338                    1294  \n",
       "2                  509                    1845                    1803  \n",
       "3                  770                    2562                    2573  \n",
       "4                  707                    3318                    3280  "
      ]
     },
     "metadata": {},
     "output_type": "display_data"
    }
   ],
   "source": [
    "# расчет количества пользователей в выбранную дату в группе А\n",
    "visitors_a_daily = visitors[visitors['group'] == 'A'][['date', 'visitors']]\n",
    "visitors_a_daily.columns = ['date', 'visitors_per_date_a']\n",
    "\n",
    "# расчет количества пользователей до выбранной даты включительно в группе А\n",
    "visitors_a_cummulative = visitors_a_daily.apply(\n",
    "    lambda x: visitors_a_daily[visitors_a_daily['date'] <= x['date']].agg(\n",
    "        {'date': 'max', 'visitors_per_date_a': 'sum'}\n",
    "    ),\n",
    "    axis=1,\n",
    ")\n",
    "visitors_a_cummulative.columns = ['date', 'visitors_cummulative_a']\n",
    "\n",
    "# расчет количества пользователей в выбранную дату в группе В\n",
    "visitors_b_daily = visitors[visitors['group'] == 'B'][['date', 'visitors']]\n",
    "visitors_b_daily.columns = ['date', 'visitors_per_date_b']\n",
    "\n",
    "# расчет количества пользователей до выбранной даты включительно в группе В\n",
    "visitors_b_cummulative = visitors_b_daily.apply(\n",
    "    lambda x: visitors_b_daily[visitors_b_daily['date'] <= x['date']].agg(\n",
    "        {'date': 'max', 'visitors_per_date_b': 'sum'}\n",
    "    ),\n",
    "    axis=1,\n",
    ")\n",
    "visitors_b_cummulative.columns = ['date', 'visitors_cummulative_b']\n",
    "\n",
    "# расчет количества заказов и суммарной выручки в выбранную дату в группе A\n",
    "orders_a_daily = (\n",
    "    orders[orders['group'] == 'A'][['date', 'transaction_id', 'visitor_id', 'revenue']]\n",
    "    .groupby('date', as_index=False)\n",
    "    .agg({'transaction_id': pd.Series.nunique, 'revenue': 'sum'})\n",
    ")\n",
    "orders_a_daily.columns = ['date', 'orders_per_date_a', 'revenue_per_date_a']\n",
    "\n",
    "# расчет суммарного числа заказов до выбранной даты включительно в группе A\n",
    "orders_a_cummulative = orders_a_daily.apply(\n",
    "    lambda x: orders_a_daily[orders_a_daily['date'] <= x['date']].agg(\n",
    "        {'date': 'max', 'orders_per_date_a': 'sum', 'revenue_per_date_a': 'sum'}\n",
    "    ),\n",
    "    axis=1,\n",
    ").sort_values(by=['date'])\n",
    "orders_a_cummulative.columns = [\n",
    "    'date',\n",
    "    'orders_cummulative_a',\n",
    "    'revenue_cummulative_a',\n",
    "]\n",
    "\n",
    "# расчет количества заказов и суммарной выручки в выбранную дату в группе В\n",
    "orders_b_daily = (\n",
    "    orders[orders['group'] == 'B'][['date', 'transaction_id', 'visitor_id', 'revenue']]\n",
    "    .groupby('date', as_index=False)\n",
    "    .agg({'transaction_id': pd.Series.nunique, 'revenue': 'sum'})\n",
    ")\n",
    "orders_b_daily.columns = ['date', 'orders_per_date_b', 'revenue_per_date_b']\n",
    "\n",
    "# расчет суммарного числа заказов до выбранной даты включительно в группе В\n",
    "orders_b_cummulative = orders_b_daily.apply(\n",
    "    lambda x: orders_b_daily[orders_b_daily['date'] <= x['date']].agg(\n",
    "        {'date': 'max', 'orders_per_date_b': 'sum', 'revenue_per_date_b': 'sum'}\n",
    "    ),\n",
    "    axis=1,\n",
    ").sort_values(by=['date'])\n",
    "orders_b_cummulative.columns = [\n",
    "    'date',\n",
    "    'orders_cummulative_b',\n",
    "    'revenue_cummulative_b',\n",
    "]\n",
    "\n",
    "# объединение датафреймов в один общий\n",
    "data = (\n",
    "    orders_a_daily.merge(\n",
    "        orders_b_daily, left_on='date', right_on='date', how='left'\n",
    "    )\n",
    "    .merge(orders_a_cummulative, left_on='date', right_on='date', how='left')\n",
    "    .merge(orders_b_cummulative, left_on='date', right_on='date', how='left')\n",
    "    .merge(visitors_a_daily, left_on='date', right_on='date', how='left')\n",
    "    .merge(visitors_b_daily, left_on='date', right_on='date', how='left')\n",
    "    .merge(visitors_a_cummulative, left_on='date', right_on='date', how='left')\n",
    "    .merge(visitors_b_cummulative, left_on='date', right_on='date', how='left')\n",
    ")\n",
    "\n",
    "display(data.head())"
   ]
  },
  {
   "cell_type": "markdown",
   "metadata": {},
   "source": [
    "- Создадим переменные orders_by_users_a и orders_by_users_b со столбцами ['visitor_id', 'orders']. В них для пользователей, которые заказывали хотя бы 1 раз, укажем число совершённых заказов.\n",
    "- Объявим переменные sample_a и sample_b, в которых пользователям с заказами будет соответствовать число заказов пользователя, а тем, кто ничего не заказал, будут соответствовать нули. Это нужно, чтобы подготовить выборки к проверке критерием Манна-Уитни.\n",
    "- Посчитаем статистическую значимость различия конверсии по результатам месяца теста.\n",
    "- Выведем p-value для сравнения конверсии между группами.\n",
    "- Вычислим относительное различие в конверсии между группами."
   ]
  },
  {
   "cell_type": "code",
   "execution_count": 32,
   "metadata": {},
   "outputs": [
    {
     "name": "stdout",
     "output_type": "stream",
     "text": [
      "p-value = 0.017\n",
      "Относительное различие в средней конверсии между группами по «сырым» данным: 0.138\n"
     ]
    }
   ],
   "source": [
    "# формирование датафреймов в которых указано число совершённых заказов\n",
    "# для пользователей, которые заказывали хотя бы 1 раз\n",
    "orders_by_users_a = (\n",
    "    orders[orders['group'] == 'A']\n",
    "    .groupby('visitor_id', as_index=False)\n",
    "    .agg({'transaction_id': pd.Series.nunique})\n",
    ")\n",
    "orders_by_users_a.columns = ['visitor_id', 'orders']\n",
    "\n",
    "orders_by_users_b = (\n",
    "    orders[orders['group'] == 'B']\n",
    "    .groupby('visitor_id', as_index=False)\n",
    "    .agg({'transaction_id': pd.Series.nunique})\n",
    ")\n",
    "orders_by_users_b.columns = ['visitor_id', 'orders']\n",
    "\n",
    "# формирование переменных в которых пользователям с заказами\n",
    "# будет соответствовать число заказов пользователя,\n",
    "# а пользователям без заказов — нули\n",
    "sample_a = pd.concat([orders_by_users_a['orders'],\n",
    "                      pd.Series(0, index=np.arange(\n",
    "                          data['visitors_per_date_a'].sum() -\n",
    "                          len(orders_by_users_a['orders'])), name='orders')], axis=0)\n",
    "\n",
    "sample_b = pd.concat([orders_by_users_b['orders'],\n",
    "                      pd.Series(0, index=np.arange(\n",
    "                          data['visitors_per_date_b'].sum() -\n",
    "                          len(orders_by_users_b['orders'])), name='orders')], axis=0)\n",
    "\n",
    "# рассчет статистической значимости различия конверсии по результатам теста Манна-Уитни\n",
    "print('p-value =', '{0:.3f}'.format(stats.mannwhitneyu(sample_a, sample_b)[1]))\n",
    "\n",
    "# рассчет относительного различия в конверсии между группами\n",
    "print('Относительное различие в средней конверсии между группами по «сырым» данным:',\n",
    "      '{0:.3f}'.format(sample_b.mean() / sample_a.mean() - 1))"
   ]
  },
  {
   "cell_type": "markdown",
   "metadata": {},
   "source": [
    "<font color='green'>**Вывод:**</font>\n",
    "\n",
    "Нулевую гипотезу об отсутствии различий по «сырым» данным в конверсии между группами можно отвергнуть, так как p-value = 0.017, что меньше 0.05. Средняя конверсия группы В больше средней конверсии группы А."
   ]
  },
  {
   "cell_type": "markdown",
   "metadata": {},
   "source": [
    "#### Посчитаем статистическую значимость различий в среднем чеке заказа между группами по «сырым» данным"
   ]
  },
  {
   "cell_type": "markdown",
   "metadata": {},
   "source": [
    "**Сформулируем гипотезы:**\n",
    "\n",
    "- H₀ - различий в среднем чеке между группами нет;\n",
    "- H₁ - различия в среднем чеке между группами есть."
   ]
  },
  {
   "cell_type": "markdown",
   "metadata": {},
   "source": [
    "Чтобы рассчитать статистическую значимость различий в среднем чеке, передадим критерию mannwhitneyu() данные о выручке с заказов и найдём относительные различия в среднем чеке между группами."
   ]
  },
  {
   "cell_type": "code",
   "execution_count": 33,
   "metadata": {},
   "outputs": [
    {
     "name": "stdout",
     "output_type": "stream",
     "text": [
      "p-value = 0.729\n",
      "Относительное различие в среднем чеке между группами по «сырым» данным: 0.259\n"
     ]
    }
   ],
   "source": [
    "# рассчет статистической значимости различия среднего чека по результатам теста Манна-Уитни\n",
    "print('p-value =', '{0:.3f}'.format(stats.mannwhitneyu(\n",
    "    orders[orders['group']=='A']['revenue'],\n",
    "    orders[orders['group']=='B']['revenue'])[1]))\n",
    "\n",
    "# рассчет относительного различия в среднем чеке между группами\n",
    "print('Относительное различие в среднем чеке между группами по «сырым» данным:',\n",
    "      '{0:.3f}'.format(\n",
    "          orders[orders['group']=='B']['revenue'].mean()/\n",
    "          orders[orders['group']=='A']['revenue'].mean()-1)) "
   ]
  },
  {
   "cell_type": "markdown",
   "metadata": {},
   "source": [
    "<font color='green'>**Вывод:**</font>\n",
    "\n",
    "Относительное различие в среднем чеке между группами по «сырым» данным, нет, p-value = 0.729, что больше 0.05, нулевую гипотезу не можем отвергнуть. Средний чек группы В сильно больше среднего чека группы А."
   ]
  },
  {
   "cell_type": "markdown",
   "metadata": {},
   "source": [
    "#### Посчитаем статистическую значимость различий в среднем количестве заказов на посетителя между группами по «очищенным» данным."
   ]
  },
  {
   "cell_type": "markdown",
   "metadata": {},
   "source": [
    "Возьмем за аномальных пользователей тех, кто совершил от 2 заказов или совершил заказ дороже 28 000 рублей и запишем это в переменных many_orders и expensive_orders. Так мы уберём 5% пользователей с наибольшим числом заказов и от 1% до 5% пользователей с дорогими заказами. Сделаем срезы пользователей с числом заказов больше 2 — users_with_many_orders и пользователей, совершивших заказы дороже 28 000 — users_with_expensive_orders. Объединим их в таблице abnormal_users. А также узнаем, сколько всего аномальных пользователей методом shape()."
   ]
  },
  {
   "cell_type": "code",
   "execution_count": 34,
   "metadata": {},
   "outputs": [
    {
     "name": "stdout",
     "output_type": "stream",
     "text": [
      "1099    148427295\n",
      "18      199603092\n",
      "928     204675465\n",
      "23      237748145\n",
      "37      249864742\n",
      "Name: visitor_id, dtype: int64\n",
      "\n",
      "\n",
      "Количество аномальных пользователей: 74\n"
     ]
    }
   ],
   "source": [
    "many_orders = np.percentile(orders_users['orders'], 95)\n",
    "expensive_orders = np.percentile(orders['revenue'], 95)\n",
    "users_with_many_orders = pd.concat([\n",
    "    orders_by_users_a[orders_by_users_a['orders'] > many_orders]['visitor_id'],\n",
    "    orders_by_users_b[orders_by_users_b['orders'] > many_orders]['visitor_id']], axis=0)\n",
    "users_with_expensive_orders = orders[orders['revenue'] > expensive_orders]['visitor_id']\n",
    "abnormal_users = (pd.concat([\n",
    "    users_with_many_orders,\n",
    "    users_with_expensive_orders], axis=0)\n",
    "                  .drop_duplicates()\n",
    "                  .sort_values())\n",
    "\n",
    "print(abnormal_users.head())\n",
    "print('\\n')\n",
    "print('Количество аномальных пользователей:', abnormal_users.shape[0])"
   ]
  },
  {
   "cell_type": "markdown",
   "metadata": {},
   "source": [
    "<font color='green'>**Вывод:**</font>\n",
    "\n",
    "Количество аномальных пользователей - 74. Нужно понять, как они повлияли на результаты теста. Посчитаем статистическую значимость различий в конверсии между группами теста по очищенным данным. Подготовим выборки количества заказов по пользователям по группам теста и применим статистический критерий Манна-Уитни к полученным выборкам."
   ]
  },
  {
   "cell_type": "markdown",
   "metadata": {},
   "source": [
    "**Сформулируем гипотезы:**\n",
    "\n",
    "- H₀ - различий в конверсии между группами нет;\n",
    "- H₁ - различия в конверсии между группами есть."
   ]
  },
  {
   "cell_type": "code",
   "execution_count": 35,
   "metadata": {},
   "outputs": [
    {
     "name": "stdout",
     "output_type": "stream",
     "text": [
      "p-value = 0.013\n",
      "Относительное различие в средней конверсии между группами по «очищенным» данным: 0.173\n"
     ]
    }
   ],
   "source": [
    "sample_a_filtered = pd.concat([\n",
    "    orders_by_users_a[np.logical_not(\n",
    "        orders_by_users_a['visitor_id']\n",
    "        .isin(abnormal_users))]['orders'],\n",
    "    pd.Series(0, index=np.arange(data['visitors_per_date_a'].sum() -\n",
    "                                 len(orders_by_users_a['orders'])), name='orders')], axis=0)\n",
    "\n",
    "sample_b_filtered = pd.concat([\n",
    "    orders_by_users_b[np.logical_not(\n",
    "        orders_by_users_b['visitor_id']\n",
    "        .isin(abnormal_users))]['orders'],\n",
    "    pd.Series(0, index=np.arange(data['visitors_per_date_b'].sum() -\n",
    "                                 len(orders_by_users_b['orders'])), name='orders')], axis=0)\n",
    "\n",
    "# рассчет статистической значимости различия конверсии по результатам теста Манна-Уитни\n",
    "print('p-value =', '{0:.3f}'.format(stats.mannwhitneyu(sample_a_filtered, sample_b_filtered)[1]))\n",
    "\n",
    "# рассчет относительного различия в конверсии между группами\n",
    "print('Относительное различие в средней конверсии между группами по «очищенным» данным:',\n",
    "      '{0:.3f}'.format(sample_b_filtered.mean()/sample_a_filtered.mean()-1))"
   ]
  },
  {
   "cell_type": "markdown",
   "metadata": {},
   "source": [
    "<font color='green'>**Вывод:**</font>\n",
    "\n",
    "Нулевую гипотезу об отсутствии различий по «очищенным» данным в конверсии между группами можно отвергнуть, так как p-value = 0.013, что меньше 0.05 По «сырым» данным p-value был равен 0.017. Средняя конверсия группы В больше средней конверсии группы А. Относительное различие в конверсии между группами по «сырым» данным было равно 0.138. Результаты по «очищенным» данным незначительно отличаются от результатов по «сырым» данным."
   ]
  },
  {
   "cell_type": "markdown",
   "metadata": {},
   "source": [
    "#### Посчитаем статистическую значимость различий в среднем чеке заказа между группами по «очищенным» данным"
   ]
  },
  {
   "cell_type": "markdown",
   "metadata": {},
   "source": [
    "**Сформулируем гипотезы:**\n",
    "\n",
    "- H₀ - различий в среднем чеке между группами нет;\n",
    "- H₁ - различия в среднем чеке между группами есть."
   ]
  },
  {
   "cell_type": "code",
   "execution_count": 36,
   "metadata": {},
   "outputs": [
    {
     "name": "stdout",
     "output_type": "stream",
     "text": [
      "p-value = 0.738\n",
      "Относительное различие в среднем чеке между группами по «очищенным» данным: -0.020\n"
     ]
    }
   ],
   "source": [
    "print('p-value =',\n",
    "      '{0:.3f}'.format(stats.mannwhitneyu(\n",
    "    orders[np.logical_and(\n",
    "        orders['group'] == 'A',\n",
    "        np.logical_not(orders['visitor_id']\n",
    "                       .isin(abnormal_users)))]['revenue'], \n",
    "    orders[np.logical_and(\n",
    "        orders['group'] == 'B',\n",
    "        np.logical_not(orders['visitor_id']\n",
    "                       .isin(abnormal_users)))]['revenue'])[1]))\n",
    "\n",
    "print('Относительное различие в среднем чеке между группами по «очищенным» данным:',\n",
    "      '{0:.3f}'.format(\n",
    "    orders[np.logical_and(\n",
    "        orders['group'] == 'B',\n",
    "        np.logical_not(orders['visitor_id']\n",
    "                       .isin(abnormal_users)))]['revenue'].mean() /\n",
    "    orders[np.logical_and(\n",
    "        orders['group'] == 'A',\n",
    "        np.logical_not(orders['visitor_id']\n",
    "                       .isin(abnormal_users)))]['revenue'].mean() - 1))"
   ]
  },
  {
   "cell_type": "markdown",
   "metadata": {},
   "source": [
    "<font color='green'>**Вывод:**</font>\n",
    "\n",
    "Относительное различие в среднем чеке между группами по «очищенным» данным, нет, p-value = 0.738, что значительно больше 0.05,\n",
    "отвергнуть нулевую гипотезу не можем. По «сырым» данным p-value был равен 0.729. Однако по «очищенным» данным средний чек группы А больше среднего чека группы В. По «сырым» данным было наоборот, относительное различие в среднем чеке между группами составляло 0.259."
   ]
  },
  {
   "cell_type": "code",
   "execution_count": 37,
   "metadata": {},
   "outputs": [
    {
     "data": {
      "text/html": [
       "<div>\n",
       "<style scoped>\n",
       "    .dataframe tbody tr th:only-of-type {\n",
       "        vertical-align: middle;\n",
       "    }\n",
       "\n",
       "    .dataframe tbody tr th {\n",
       "        vertical-align: top;\n",
       "    }\n",
       "\n",
       "    .dataframe thead th {\n",
       "        text-align: right;\n",
       "    }\n",
       "</style>\n",
       "<table border=\"1\" class=\"dataframe\">\n",
       "  <thead>\n",
       "    <tr style=\"text-align: right;\">\n",
       "      <th></th>\n",
       "      <th>transaction_id</th>\n",
       "      <th>visitor_id</th>\n",
       "      <th>date</th>\n",
       "      <th>revenue</th>\n",
       "      <th>group</th>\n",
       "    </tr>\n",
       "  </thead>\n",
       "  <tbody>\n",
       "    <tr>\n",
       "      <th>0</th>\n",
       "      <td>3667963787</td>\n",
       "      <td>3312258926</td>\n",
       "      <td>2019-08-15</td>\n",
       "      <td>1650</td>\n",
       "      <td>B</td>\n",
       "    </tr>\n",
       "    <tr>\n",
       "      <th>1</th>\n",
       "      <td>2804400009</td>\n",
       "      <td>3642806036</td>\n",
       "      <td>2019-08-15</td>\n",
       "      <td>730</td>\n",
       "      <td>B</td>\n",
       "    </tr>\n",
       "    <tr>\n",
       "      <th>2</th>\n",
       "      <td>2961555356</td>\n",
       "      <td>4069496402</td>\n",
       "      <td>2019-08-15</td>\n",
       "      <td>400</td>\n",
       "      <td>A</td>\n",
       "    </tr>\n",
       "    <tr>\n",
       "      <th>3</th>\n",
       "      <td>3797467345</td>\n",
       "      <td>1196621759</td>\n",
       "      <td>2019-08-15</td>\n",
       "      <td>9759</td>\n",
       "      <td>B</td>\n",
       "    </tr>\n",
       "    <tr>\n",
       "      <th>4</th>\n",
       "      <td>2282983706</td>\n",
       "      <td>2322279887</td>\n",
       "      <td>2019-08-15</td>\n",
       "      <td>2308</td>\n",
       "      <td>B</td>\n",
       "    </tr>\n",
       "    <tr>\n",
       "      <th>...</th>\n",
       "      <td>...</td>\n",
       "      <td>...</td>\n",
       "      <td>...</td>\n",
       "      <td>...</td>\n",
       "      <td>...</td>\n",
       "    </tr>\n",
       "    <tr>\n",
       "      <th>1190</th>\n",
       "      <td>38478481</td>\n",
       "      <td>1197745035</td>\n",
       "      <td>2019-08-14</td>\n",
       "      <td>8600</td>\n",
       "      <td>B</td>\n",
       "    </tr>\n",
       "    <tr>\n",
       "      <th>1191</th>\n",
       "      <td>3592955527</td>\n",
       "      <td>608641596</td>\n",
       "      <td>2019-08-14</td>\n",
       "      <td>16490</td>\n",
       "      <td>B</td>\n",
       "    </tr>\n",
       "    <tr>\n",
       "      <th>1192</th>\n",
       "      <td>2662137336</td>\n",
       "      <td>3733762160</td>\n",
       "      <td>2019-08-14</td>\n",
       "      <td>6490</td>\n",
       "      <td>B</td>\n",
       "    </tr>\n",
       "    <tr>\n",
       "      <th>1193</th>\n",
       "      <td>2203539145</td>\n",
       "      <td>370388673</td>\n",
       "      <td>2019-08-14</td>\n",
       "      <td>3190</td>\n",
       "      <td>A</td>\n",
       "    </tr>\n",
       "    <tr>\n",
       "      <th>1194</th>\n",
       "      <td>1807773912</td>\n",
       "      <td>573423106</td>\n",
       "      <td>2019-08-14</td>\n",
       "      <td>10550</td>\n",
       "      <td>A</td>\n",
       "    </tr>\n",
       "  </tbody>\n",
       "</table>\n",
       "<p>1033 rows × 5 columns</p>\n",
       "</div>"
      ],
      "text/plain": [
       "      transaction_id  visitor_id       date  revenue group\n",
       "0         3667963787  3312258926 2019-08-15     1650     B\n",
       "1         2804400009  3642806036 2019-08-15      730     B\n",
       "2         2961555356  4069496402 2019-08-15      400     A\n",
       "3         3797467345  1196621759 2019-08-15     9759     B\n",
       "4         2282983706  2322279887 2019-08-15     2308     B\n",
       "...              ...         ...        ...      ...   ...\n",
       "1190        38478481  1197745035 2019-08-14     8600     B\n",
       "1191      3592955527   608641596 2019-08-14    16490     B\n",
       "1192      2662137336  3733762160 2019-08-14     6490     B\n",
       "1193      2203539145   370388673 2019-08-14     3190     A\n",
       "1194      1807773912   573423106 2019-08-14    10550     A\n",
       "\n",
       "[1033 rows x 5 columns]"
      ]
     },
     "execution_count": 37,
     "metadata": {},
     "output_type": "execute_result"
    }
   ],
   "source": [
    "#CODE REVIEW\n",
    "# вот так будет очищенная таблица\n",
    "orders_2 = orders.loc[~orders['visitor_id'].isin(set(abnormal_users))]\n",
    "orders_2"
   ]
  },
  {
   "cell_type": "markdown",
   "metadata": {},
   "source": [
    "<hr style=\"border: 2px solid orange;\" />"
   ]
  },
  {
   "cell_type": "code",
   "execution_count": 38,
   "metadata": {},
   "outputs": [
    {
     "data": {
      "text/html": [
       "<div>\n",
       "<style scoped>\n",
       "    .dataframe tbody tr th:only-of-type {\n",
       "        vertical-align: middle;\n",
       "    }\n",
       "\n",
       "    .dataframe tbody tr th {\n",
       "        vertical-align: top;\n",
       "    }\n",
       "\n",
       "    .dataframe thead th {\n",
       "        text-align: right;\n",
       "    }\n",
       "</style>\n",
       "<table border=\"1\" class=\"dataframe\">\n",
       "  <thead>\n",
       "    <tr style=\"text-align: right;\">\n",
       "      <th></th>\n",
       "      <th>date</th>\n",
       "      <th>group</th>\n",
       "      <th>orders</th>\n",
       "      <th>buyers</th>\n",
       "      <th>revenue</th>\n",
       "      <th>visitors</th>\n",
       "      <th>conversion</th>\n",
       "    </tr>\n",
       "  </thead>\n",
       "  <tbody>\n",
       "    <tr>\n",
       "      <th>0</th>\n",
       "      <td>2019-08-01</td>\n",
       "      <td>A</td>\n",
       "      <td>24</td>\n",
       "      <td>20</td>\n",
       "      <td>148579</td>\n",
       "      <td>719</td>\n",
       "      <td>0.033380</td>\n",
       "    </tr>\n",
       "    <tr>\n",
       "      <th>1</th>\n",
       "      <td>2019-08-01</td>\n",
       "      <td>B</td>\n",
       "      <td>21</td>\n",
       "      <td>20</td>\n",
       "      <td>101217</td>\n",
       "      <td>713</td>\n",
       "      <td>0.029453</td>\n",
       "    </tr>\n",
       "    <tr>\n",
       "      <th>2</th>\n",
       "      <td>2019-08-02</td>\n",
       "      <td>A</td>\n",
       "      <td>44</td>\n",
       "      <td>38</td>\n",
       "      <td>242401</td>\n",
       "      <td>1338</td>\n",
       "      <td>0.032885</td>\n",
       "    </tr>\n",
       "    <tr>\n",
       "      <th>3</th>\n",
       "      <td>2019-08-02</td>\n",
       "      <td>B</td>\n",
       "      <td>45</td>\n",
       "      <td>43</td>\n",
       "      <td>266748</td>\n",
       "      <td>1294</td>\n",
       "      <td>0.034776</td>\n",
       "    </tr>\n",
       "    <tr>\n",
       "      <th>4</th>\n",
       "      <td>2019-08-03</td>\n",
       "      <td>A</td>\n",
       "      <td>68</td>\n",
       "      <td>62</td>\n",
       "      <td>354874</td>\n",
       "      <td>1845</td>\n",
       "      <td>0.036856</td>\n",
       "    </tr>\n",
       "  </tbody>\n",
       "</table>\n",
       "</div>"
      ],
      "text/plain": [
       "        date group  orders  buyers  revenue  visitors  conversion\n",
       "0 2019-08-01     A      24      20   148579       719    0.033380\n",
       "1 2019-08-01     B      21      20   101217       713    0.029453\n",
       "2 2019-08-02     A      44      38   242401      1338    0.032885\n",
       "3 2019-08-02     B      45      43   266748      1294    0.034776\n",
       "4 2019-08-03     A      68      62   354874      1845    0.036856"
      ]
     },
     "metadata": {},
     "output_type": "display_data"
    }
   ],
   "source": [
    "# создаем массив уникальных пар значений дат и групп теста\n",
    "datesGroups_2 = orders_2[['date', 'group']].drop_duplicates()\n",
    "\n",
    "# получаем агрегированные кумулятивные по дням данные о заказах \n",
    "ordersAggregated_2 = datesGroups_2.apply(\n",
    "    lambda x: orders_2[\n",
    "        np.logical_and(\n",
    "            orders_2['date'] <= x['date'], orders_2['group'] == x['group']\n",
    "        )\n",
    "    ].agg(\n",
    "        {\n",
    "            'date': 'max',\n",
    "            'group': 'max',\n",
    "            'transaction_id': 'nunique',\n",
    "            'visitor_id': 'nunique',\n",
    "            'revenue': 'sum',\n",
    "        }\n",
    "    ),\n",
    "    axis=1,\n",
    ").sort_values(by=['date', 'group'])\n",
    "\n",
    "# получаем агрегированные кумулятивные по дням данные о посетителях \n",
    "visitorsAggregated_2 = datesGroups_2.apply(\n",
    "    lambda x: visitors[\n",
    "        np.logical_and(\n",
    "            visitors['date'] <= x['date'], visitors['group'] == x['group']\n",
    "        )\n",
    "    ].agg({'date': 'max', 'group': 'max', 'visitors': 'sum'}),\n",
    "    axis=1,\n",
    ").sort_values(by=['date', 'group'])\n",
    "\n",
    "# объединяем кумулятивные данные в одной таблице\n",
    "cumulativeData_2 = ordersAggregated_2.merge(\n",
    "    visitorsAggregated_2, left_on=['date', 'group'], right_on=['date', 'group']\n",
    ")\n",
    "cumulativeData_2.columns = [\n",
    "    'date',\n",
    "    'group',\n",
    "    'orders',\n",
    "    'buyers',\n",
    "    'revenue',\n",
    "    'visitors',\n",
    "]\n",
    "\n",
    "display(cumulativeData.head())"
   ]
  },
  {
   "cell_type": "code",
   "execution_count": 39,
   "metadata": {},
   "outputs": [],
   "source": [
    "# датафрейм с кумулятивным количеством заказов и кумулятивной выручкой по дням в группе А\n",
    "cumulative_revenue_a_2 = cumulativeData_2[cumulativeData_2['group']=='A'][['date', 'revenue', 'orders']]\n",
    "\n",
    "# датафрейм с кумулятивным количеством заказов и кумулятивной выручкой по дням в группе B\n",
    "cumulative_revenue_b_2 = cumulativeData_2[cumulativeData_2['group']=='B'][['date', 'revenue', 'orders']]\n"
   ]
  },
  {
   "cell_type": "code",
   "execution_count": 40,
   "metadata": {},
   "outputs": [
    {
     "data": {
      "image/png": "[encoded data removed]",
      "text/plain": [
       "<Figure size 1500x1000 with 1 Axes>"
      ]
     },
     "metadata": {},
     "output_type": "display_data"
    }
   ],
   "source": [
    "# строим график кумулятивного среднего чека по дням и группам A/B-тестирования по 'очищенным' данным\n",
    "plt.figure(figsize=(15, 10))\n",
    "plt.plot(cumulative_revenue_a_2['date'], cumulative_revenue_a_2['revenue']/cumulative_revenue_a_2['orders'], label='A')\n",
    "plt.plot(cumulative_revenue_b_2['date'], cumulative_revenue_b_2['revenue']/cumulative_revenue_b_2['orders'], label='B')\n",
    "\n",
    "plt.grid(visible=True)\n",
    "plt.title('Графики кумулятивного среднего чека по дням и группам A/B-тестирования по \"очищенным\" данным', fontsize=14)\n",
    "plt.xlabel('Дата', fontsize=12)\n",
    "plt.ylabel('Средний чек, ₽', fontsize=12)\n",
    "plt.legend() \n",
    "plt.show()"
   ]
  },
  {
   "cell_type": "markdown",
   "metadata": {},
   "source": [
    "<font color='green'>**Вывод:**</font>\n",
    "\n",
    "Мы видим, что после роста и падений в начале теста группа А стабилизировалась и превышает значения группы В. Группа В имеет меньшее значение среднего чека в отличие от 'сырых' данных, но наблюдается тенденция к росту."
   ]
  },
  {
   "cell_type": "code",
   "execution_count": 41,
   "metadata": {},
   "outputs": [
    {
     "data": {
      "image/png": "[encoded data removed]",
      "text/plain": [
       "<Figure size 1500x1000 with 1 Axes>"
      ]
     },
     "metadata": {},
     "output_type": "display_data"
    }
   ],
   "source": [
    "# строим график относительного изменения кумулятивного среднего чека группы B к группе A по \"очищенным\" данным\n",
    "# собираем данные в одном датафрейме\n",
    "merged_cumulative_revenue_2 = cumulative_revenue_a_2.merge(\n",
    "    cumulative_revenue_b_2,\n",
    "    left_on='date',\n",
    "    right_on='date',\n",
    "    how='left',\n",
    "    suffixes=['A', 'B'])\n",
    "\n",
    "# задаём размер для графика\n",
    "plt.figure(figsize=(15, 10))\n",
    "\n",
    "# cтроим отношение средних чеков\n",
    "plt.plot(merged_cumulative_revenue_2['date'],\n",
    "         (merged_cumulative_revenue_2['revenueB']/\n",
    "          merged_cumulative_revenue_2['ordersB'])/\n",
    "         (merged_cumulative_revenue_2['revenueA']/\n",
    "          merged_cumulative_revenue_2['ordersA'])-1)\n",
    "\n",
    "# добавляем ось X\n",
    "plt.axhline(y=0, color='red', linestyle='--')\n",
    "\n",
    "plt.grid(visible=True)\n",
    "plt.title('График относительного изменения кумулятивного среднего чека группы B к группе A по \"очищенным\" данным ', fontsize=14)\n",
    "plt.xlabel('Дата', fontsize=12)\n",
    "plt.ylabel('Отношение средних чеков', fontsize=12)\n",
    "plt.show()"
   ]
  },
  {
   "cell_type": "markdown",
   "metadata": {},
   "source": [
    "<font color='green'>**Вывод:**</font>\n",
    "\n",
    "После построения графика мы наблюдаем в некоторых точнах резкие скачки и падения, в конце теста видим, что отношения средних чеков группы В к группе А меньше (на 2%), но наблюдается рост значения группы В"
   ]
  },
  {
   "cell_type": "markdown",
   "metadata": {},
   "source": [
    " # Общий вывод\n",
    "\n",
    "**Для корретного анализа была вополнена предобработка данных:**\n",
    "\n",
    "- Замена названия столбцов, приведение их к нижнему регистру и правильному стилю;\n",
    "- Приведение к правильному типу данных в столбцах, содержащих информацию о дате и времени.\n",
    "\n",
    "**В ходе приоритизирования гипотез по фреймворкам ICE и RICE удалось определить наиболее важные из них:**\n",
    "\n",
    "- Добавить форму подписки на все основные страницы, чтобы собрать базу клиентов для email-рассылок(гипотеза №7);\n",
    "- Добавить два новых канала привлечения трафика, что позволит привлекать на 30% больше пользователей(гипотеза №0);\n",
    "- Показать на главной странице баннеры с актуальными акциями и распродажами, чтобы увеличить конверсию(гипотеза №6).\n",
    "\n",
    "**Основные положения анализа результатов A/B-теста:**\n",
    "\n",
    "- Кумулятивный средний чек группы В выше среднего чека группы А на 25.9% к концу теста;\n",
    "- Кумулятивная конверсия группы В выше конверсии группы А на 13.8% к концу теста;\n",
    "- Не более 5% от всех пользователей оформляли больше чем 2 заказа, 1% пользователей оформляли заказ более 4 раз;\n",
    "- Не более 5% от всех заказов имеют стоимость больше чем 28 000 рублей, 1% заказов - более 58 233 рублей;\n",
    "\n",
    "**Статистически значимое различие по конверсии между группами присутствует как по «сырым» данным, так и по данным после фильтрации аномалий.**\n",
    "\n",
    "- Относительное различие в средней конверсии между группами (отношение средней конверсии группы В к средней конверсии группы А): 0.138 по «сырым» данным и 0.173 по «очищенным» данным;\n",
    "\n",
    "**Нет статистически значимого различия по среднему чеку между группами ни по «сырым», ни по данным после фильтрации аномалий.**\n",
    "\n",
    "- Относительное различие в среднем чеке между группами (отношение среднего чека группы В к среднему чеку группы А): 0.259 по «сырым» данным и -0.020 по «очищенным» данным;\n",
    "- График различия конверсии между группами сообщает, что результаты группы B лучше группы A и есть значительная тенденция к улучшению.\n",
    "\n",
    "- График различия среднего чека говорит о том, что результаты группы B несмотря на попытки роста имеют некоторую тенденцию к снижению, сказалось в том числе влияние крупных заказов. По «очищенным» данным средний чек группы А оказался больше среднего чека группы В.\n",
    "\n",
    "**Варианты решений:** \n",
    "- Исходя из обнаруженных фактов, тест следует продолжить. Конверсия сегмента B лучше сегмента A, однако, есть основания полагать, что пристутствует тенденция к снижению среднего чека сегмента В. Необходимо понаблюдать за этим показателем, соответственно нужно больше времени."
   ]
  }
 ],
 "metadata": {
  "ExecuteTimeLog": [
   {
    "duration": 1556,
    "start_time": "2023-05-16T13:59:04.446Z"
   },
   {
    "duration": 254,
    "start_time": "2023-05-16T14:00:02.450Z"
   },
   {
    "duration": 391,
    "start_time": "2023-05-16T14:00:38.819Z"
   },
   {
    "duration": 7,
    "start_time": "2023-05-16T14:01:48.203Z"
   },
   {
    "duration": 48,
    "start_time": "2023-05-16T14:02:09.249Z"
   },
   {
    "duration": 37,
    "start_time": "2023-05-16T14:02:59.156Z"
   },
   {
    "duration": 38,
    "start_time": "2023-05-16T14:03:20.965Z"
   },
   {
    "duration": 12,
    "start_time": "2023-05-16T14:11:24.976Z"
   },
   {
    "duration": 32,
    "start_time": "2023-05-16T14:12:42.753Z"
   },
   {
    "duration": 28,
    "start_time": "2023-05-16T14:12:53.216Z"
   },
   {
    "duration": 5,
    "start_time": "2023-05-16T14:15:03.799Z"
   },
   {
    "duration": 10,
    "start_time": "2023-05-16T14:15:12.492Z"
   },
   {
    "duration": 13,
    "start_time": "2023-05-16T14:15:56.791Z"
   },
   {
    "duration": 6,
    "start_time": "2023-05-16T14:17:22.247Z"
   },
   {
    "duration": 7,
    "start_time": "2023-05-16T14:17:34.248Z"
   },
   {
    "duration": 7,
    "start_time": "2023-05-16T14:17:44.027Z"
   },
   {
    "duration": 18,
    "start_time": "2023-05-16T14:17:52.704Z"
   },
   {
    "duration": 6,
    "start_time": "2023-05-16T14:18:01.212Z"
   },
   {
    "duration": 30,
    "start_time": "2023-05-16T14:23:45.507Z"
   },
   {
    "duration": 145,
    "start_time": "2023-05-16T14:23:59.224Z"
   },
   {
    "duration": 23,
    "start_time": "2023-05-16T14:24:33.840Z"
   },
   {
    "duration": 35,
    "start_time": "2023-05-16T14:24:47.401Z"
   },
   {
    "duration": 23,
    "start_time": "2023-05-16T14:24:50.935Z"
   },
   {
    "duration": 20,
    "start_time": "2023-05-16T14:25:01.131Z"
   },
   {
    "duration": 1931,
    "start_time": "2023-05-16T14:26:53.807Z"
   },
   {
    "duration": 1810,
    "start_time": "2023-05-16T14:27:03.207Z"
   },
   {
    "duration": 1271,
    "start_time": "2023-05-16T14:27:24.111Z"
   },
   {
    "duration": 114,
    "start_time": "2023-05-16T14:27:25.398Z"
   },
   {
    "duration": 4,
    "start_time": "2023-05-16T14:27:25.514Z"
   },
   {
    "duration": 26,
    "start_time": "2023-05-16T14:27:25.520Z"
   },
   {
    "duration": 23,
    "start_time": "2023-05-16T14:27:25.548Z"
   },
   {
    "duration": 26,
    "start_time": "2023-05-16T14:27:25.572Z"
   },
   {
    "duration": 5,
    "start_time": "2023-05-16T14:27:25.609Z"
   },
   {
    "duration": 33,
    "start_time": "2023-05-16T14:27:25.616Z"
   },
   {
    "duration": 4,
    "start_time": "2023-05-16T14:27:25.651Z"
   },
   {
    "duration": 21,
    "start_time": "2023-05-16T14:27:25.657Z"
   },
   {
    "duration": 12,
    "start_time": "2023-05-16T14:27:25.680Z"
   },
   {
    "duration": 10,
    "start_time": "2023-05-16T14:27:25.696Z"
   },
   {
    "duration": 25,
    "start_time": "2023-05-16T14:27:25.711Z"
   },
   {
    "duration": 15,
    "start_time": "2023-05-16T14:27:31.107Z"
   },
   {
    "duration": 11,
    "start_time": "2023-05-16T14:27:36.636Z"
   },
   {
    "duration": 15,
    "start_time": "2023-05-16T14:27:54.526Z"
   },
   {
    "duration": 12,
    "start_time": "2023-05-16T14:28:02.116Z"
   },
   {
    "duration": 25,
    "start_time": "2023-05-16T14:31:29.797Z"
   },
   {
    "duration": 4,
    "start_time": "2023-05-16T14:31:42.717Z"
   },
   {
    "duration": 17,
    "start_time": "2023-05-16T14:31:44.123Z"
   },
   {
    "duration": 3,
    "start_time": "2023-05-16T14:32:41.331Z"
   },
   {
    "duration": 18,
    "start_time": "2023-05-16T14:35:30.318Z"
   },
   {
    "duration": 22,
    "start_time": "2023-05-16T14:39:20.509Z"
   },
   {
    "duration": 425,
    "start_time": "2023-05-16T14:47:01.900Z"
   },
   {
    "duration": 573,
    "start_time": "2023-05-16T14:47:21.314Z"
   },
   {
    "duration": 455,
    "start_time": "2023-05-16T14:56:19.667Z"
   },
   {
    "duration": 436,
    "start_time": "2023-05-16T15:02:09.507Z"
   },
   {
    "duration": 393,
    "start_time": "2023-05-16T15:07:16.128Z"
   },
   {
    "duration": 547,
    "start_time": "2023-05-16T15:07:52.511Z"
   },
   {
    "duration": 435,
    "start_time": "2023-05-16T15:08:07.483Z"
   },
   {
    "duration": 428,
    "start_time": "2023-05-16T15:12:32.840Z"
   },
   {
    "duration": 45,
    "start_time": "2023-05-16T15:22:33.892Z"
   },
   {
    "duration": 46,
    "start_time": "2023-05-16T15:23:39.490Z"
   },
   {
    "duration": 322,
    "start_time": "2023-05-16T15:23:58.149Z"
   },
   {
    "duration": 170,
    "start_time": "2023-05-16T15:24:07.008Z"
   },
   {
    "duration": 218,
    "start_time": "2023-05-16T15:29:02.553Z"
   },
   {
    "duration": 202,
    "start_time": "2023-05-16T15:31:24.452Z"
   },
   {
    "duration": 205,
    "start_time": "2023-05-16T15:31:27.725Z"
   },
   {
    "duration": 15,
    "start_time": "2023-05-16T15:37:22.956Z"
   },
   {
    "duration": 8,
    "start_time": "2023-05-16T15:40:16.854Z"
   },
   {
    "duration": 13,
    "start_time": "2023-05-16T15:43:16.595Z"
   },
   {
    "duration": 238,
    "start_time": "2023-05-16T15:43:28.527Z"
   },
   {
    "duration": 233,
    "start_time": "2023-05-16T15:43:51.459Z"
   },
   {
    "duration": 4,
    "start_time": "2023-05-16T15:48:43.719Z"
   },
   {
    "duration": 67,
    "start_time": "2023-05-17T13:38:40.803Z"
   },
   {
    "duration": 1452,
    "start_time": "2023-05-17T13:39:20.603Z"
   },
   {
    "duration": 340,
    "start_time": "2023-05-17T13:39:22.058Z"
   },
   {
    "duration": 4,
    "start_time": "2023-05-17T13:39:22.403Z"
   },
   {
    "duration": 23,
    "start_time": "2023-05-17T13:39:22.409Z"
   },
   {
    "duration": 35,
    "start_time": "2023-05-17T13:39:22.435Z"
   },
   {
    "duration": 43,
    "start_time": "2023-05-17T13:39:22.473Z"
   },
   {
    "duration": 5,
    "start_time": "2023-05-17T13:39:22.523Z"
   },
   {
    "duration": 42,
    "start_time": "2023-05-17T13:39:22.530Z"
   },
   {
    "duration": 5,
    "start_time": "2023-05-17T13:39:22.575Z"
   },
   {
    "duration": 20,
    "start_time": "2023-05-17T13:39:22.582Z"
   },
   {
    "duration": 7,
    "start_time": "2023-05-17T13:39:22.604Z"
   },
   {
    "duration": 10,
    "start_time": "2023-05-17T13:39:22.613Z"
   },
   {
    "duration": 3,
    "start_time": "2023-05-17T13:39:22.625Z"
   },
   {
    "duration": 13,
    "start_time": "2023-05-17T13:39:22.630Z"
   },
   {
    "duration": 22,
    "start_time": "2023-05-17T13:39:22.644Z"
   },
   {
    "duration": 344,
    "start_time": "2023-05-17T13:39:22.671Z"
   },
   {
    "duration": 378,
    "start_time": "2023-05-17T13:39:23.016Z"
   },
   {
    "duration": 310,
    "start_time": "2023-05-17T13:39:23.396Z"
   },
   {
    "duration": 409,
    "start_time": "2023-05-17T13:39:23.709Z"
   },
   {
    "duration": 315,
    "start_time": "2023-05-17T13:39:24.120Z"
   },
   {
    "duration": 460,
    "start_time": "2023-05-17T13:39:24.438Z"
   },
   {
    "duration": 17,
    "start_time": "2023-05-17T13:39:24.910Z"
   },
   {
    "duration": 171,
    "start_time": "2023-05-17T13:39:24.928Z"
   },
   {
    "duration": 128,
    "start_time": "2023-05-17T13:39:25.101Z"
   },
   {
    "duration": 0,
    "start_time": "2023-05-17T13:39:25.231Z"
   },
   {
    "duration": 0,
    "start_time": "2023-05-17T13:39:25.232Z"
   },
   {
    "duration": 0,
    "start_time": "2023-05-17T13:39:25.234Z"
   },
   {
    "duration": 0,
    "start_time": "2023-05-17T13:39:25.235Z"
   },
   {
    "duration": 0,
    "start_time": "2023-05-17T13:39:25.236Z"
   },
   {
    "duration": 251,
    "start_time": "2023-05-17T13:40:04.013Z"
   },
   {
    "duration": 1127,
    "start_time": "2023-05-17T13:40:08.407Z"
   },
   {
    "duration": 125,
    "start_time": "2023-05-17T13:40:09.536Z"
   },
   {
    "duration": 9,
    "start_time": "2023-05-17T13:40:09.663Z"
   },
   {
    "duration": 35,
    "start_time": "2023-05-17T13:40:09.674Z"
   },
   {
    "duration": 17,
    "start_time": "2023-05-17T13:40:09.713Z"
   },
   {
    "duration": 25,
    "start_time": "2023-05-17T13:40:09.732Z"
   },
   {
    "duration": 5,
    "start_time": "2023-05-17T13:40:09.762Z"
   },
   {
    "duration": 30,
    "start_time": "2023-05-17T13:40:09.771Z"
   },
   {
    "duration": 7,
    "start_time": "2023-05-17T13:40:09.805Z"
   },
   {
    "duration": 7,
    "start_time": "2023-05-17T13:40:09.814Z"
   },
   {
    "duration": 6,
    "start_time": "2023-05-17T13:40:09.823Z"
   },
   {
    "duration": 4,
    "start_time": "2023-05-17T13:40:09.831Z"
   },
   {
    "duration": 4,
    "start_time": "2023-05-17T13:40:09.837Z"
   },
   {
    "duration": 25,
    "start_time": "2023-05-17T13:40:09.844Z"
   },
   {
    "duration": 21,
    "start_time": "2023-05-17T13:40:09.871Z"
   },
   {
    "duration": 307,
    "start_time": "2023-05-17T13:40:09.895Z"
   },
   {
    "duration": 391,
    "start_time": "2023-05-17T13:40:10.204Z"
   },
   {
    "duration": 289,
    "start_time": "2023-05-17T13:40:10.597Z"
   },
   {
    "duration": 412,
    "start_time": "2023-05-17T13:40:10.893Z"
   },
   {
    "duration": 337,
    "start_time": "2023-05-17T13:40:11.311Z"
   },
   {
    "duration": 434,
    "start_time": "2023-05-17T13:40:11.650Z"
   },
   {
    "duration": 22,
    "start_time": "2023-05-17T13:40:12.089Z"
   },
   {
    "duration": 160,
    "start_time": "2023-05-17T13:40:12.118Z"
   },
   {
    "duration": 156,
    "start_time": "2023-05-17T13:40:12.279Z"
   },
   {
    "duration": 24,
    "start_time": "2023-05-17T13:40:12.437Z"
   },
   {
    "duration": 37,
    "start_time": "2023-05-17T13:40:12.462Z"
   },
   {
    "duration": 351,
    "start_time": "2023-05-17T13:40:12.501Z"
   },
   {
    "duration": 7,
    "start_time": "2023-05-17T13:40:12.854Z"
   },
   {
    "duration": 274,
    "start_time": "2023-05-17T13:40:12.863Z"
   },
   {
    "duration": 198,
    "start_time": "2023-05-17T13:52:20.133Z"
   },
   {
    "duration": 55,
    "start_time": "2023-05-17T15:59:27.892Z"
   },
   {
    "duration": 1384,
    "start_time": "2023-05-17T15:59:42.518Z"
   },
   {
    "duration": 217,
    "start_time": "2023-05-17T15:59:43.904Z"
   },
   {
    "duration": 5,
    "start_time": "2023-05-17T15:59:44.123Z"
   },
   {
    "duration": 34,
    "start_time": "2023-05-17T15:59:44.131Z"
   },
   {
    "duration": 22,
    "start_time": "2023-05-17T15:59:44.167Z"
   },
   {
    "duration": 18,
    "start_time": "2023-05-17T15:59:44.190Z"
   },
   {
    "duration": 4,
    "start_time": "2023-05-17T15:59:44.210Z"
   },
   {
    "duration": 57,
    "start_time": "2023-05-17T15:59:44.216Z"
   },
   {
    "duration": 4,
    "start_time": "2023-05-17T15:59:44.274Z"
   },
   {
    "duration": 11,
    "start_time": "2023-05-17T15:59:44.281Z"
   },
   {
    "duration": 7,
    "start_time": "2023-05-17T15:59:44.293Z"
   },
   {
    "duration": 7,
    "start_time": "2023-05-17T15:59:44.302Z"
   },
   {
    "duration": 5,
    "start_time": "2023-05-17T15:59:44.311Z"
   },
   {
    "duration": 42,
    "start_time": "2023-05-17T15:59:44.318Z"
   },
   {
    "duration": 13,
    "start_time": "2023-05-17T15:59:44.362Z"
   },
   {
    "duration": 302,
    "start_time": "2023-05-17T15:59:44.377Z"
   },
   {
    "duration": 345,
    "start_time": "2023-05-17T15:59:44.681Z"
   },
   {
    "duration": 279,
    "start_time": "2023-05-17T15:59:45.028Z"
   },
   {
    "duration": 422,
    "start_time": "2023-05-17T15:59:45.309Z"
   },
   {
    "duration": 241,
    "start_time": "2023-05-17T15:59:45.733Z"
   },
   {
    "duration": 353,
    "start_time": "2023-05-17T15:59:45.976Z"
   },
   {
    "duration": 14,
    "start_time": "2023-05-17T15:59:46.331Z"
   },
   {
    "duration": 142,
    "start_time": "2023-05-17T15:59:46.357Z"
   },
   {
    "duration": 146,
    "start_time": "2023-05-17T15:59:46.500Z"
   },
   {
    "duration": 11,
    "start_time": "2023-05-17T15:59:46.648Z"
   },
   {
    "duration": 16,
    "start_time": "2023-05-17T15:59:46.661Z"
   },
   {
    "duration": 265,
    "start_time": "2023-05-17T15:59:46.679Z"
   },
   {
    "duration": 4,
    "start_time": "2023-05-17T15:59:46.948Z"
   },
   {
    "duration": 259,
    "start_time": "2023-05-17T15:59:46.957Z"
   },
   {
    "duration": 205,
    "start_time": "2023-05-17T15:59:47.217Z"
   },
   {
    "duration": 11,
    "start_time": "2023-05-17T15:59:47.424Z"
   },
   {
    "duration": 14,
    "start_time": "2023-05-17T16:08:01.911Z"
   },
   {
    "duration": 1438,
    "start_time": "2023-05-17T16:10:18.971Z"
   },
   {
    "duration": 101,
    "start_time": "2023-05-17T16:10:20.412Z"
   },
   {
    "duration": 5,
    "start_time": "2023-05-17T16:10:20.514Z"
   },
   {
    "duration": 73,
    "start_time": "2023-05-17T16:10:20.521Z"
   },
   {
    "duration": 24,
    "start_time": "2023-05-17T16:10:20.596Z"
   },
   {
    "duration": 46,
    "start_time": "2023-05-17T16:10:20.622Z"
   },
   {
    "duration": 14,
    "start_time": "2023-05-17T16:10:20.670Z"
   },
   {
    "duration": 46,
    "start_time": "2023-05-17T16:10:20.686Z"
   },
   {
    "duration": 5,
    "start_time": "2023-05-17T16:10:20.733Z"
   },
   {
    "duration": 33,
    "start_time": "2023-05-17T16:10:20.740Z"
   },
   {
    "duration": 19,
    "start_time": "2023-05-17T16:10:20.776Z"
   },
   {
    "duration": 58,
    "start_time": "2023-05-17T16:10:20.797Z"
   },
   {
    "duration": 25,
    "start_time": "2023-05-17T16:10:20.857Z"
   },
   {
    "duration": 23,
    "start_time": "2023-05-17T16:10:20.886Z"
   },
   {
    "duration": 54,
    "start_time": "2023-05-17T16:10:20.911Z"
   },
   {
    "duration": 397,
    "start_time": "2023-05-17T16:10:20.967Z"
   },
   {
    "duration": 435,
    "start_time": "2023-05-17T16:10:21.366Z"
   },
   {
    "duration": 296,
    "start_time": "2023-05-17T16:10:21.803Z"
   },
   {
    "duration": 427,
    "start_time": "2023-05-17T16:10:22.101Z"
   },
   {
    "duration": 369,
    "start_time": "2023-05-17T16:10:22.530Z"
   },
   {
    "duration": 427,
    "start_time": "2023-05-17T16:10:22.901Z"
   },
   {
    "duration": 29,
    "start_time": "2023-05-17T16:10:23.330Z"
   },
   {
    "duration": 227,
    "start_time": "2023-05-17T16:10:23.361Z"
   },
   {
    "duration": 222,
    "start_time": "2023-05-17T16:10:23.590Z"
   },
   {
    "duration": 5,
    "start_time": "2023-05-17T16:10:23.814Z"
   },
   {
    "duration": 15,
    "start_time": "2023-05-17T16:10:23.821Z"
   },
   {
    "duration": 346,
    "start_time": "2023-05-17T16:10:23.865Z"
   },
   {
    "duration": 5,
    "start_time": "2023-05-17T16:10:24.213Z"
   },
   {
    "duration": 302,
    "start_time": "2023-05-17T16:10:24.219Z"
   },
   {
    "duration": 222,
    "start_time": "2023-05-17T16:10:24.524Z"
   },
   {
    "duration": 22,
    "start_time": "2023-05-17T16:10:24.749Z"
   },
   {
    "duration": 13,
    "start_time": "2023-05-17T16:10:24.773Z"
   },
   {
    "duration": 40,
    "start_time": "2023-05-17T16:13:45.299Z"
   },
   {
    "duration": 20,
    "start_time": "2023-05-17T16:20:42.191Z"
   },
   {
    "duration": 1875,
    "start_time": "2023-05-17T16:38:28.493Z"
   },
   {
    "duration": 164,
    "start_time": "2023-05-17T16:38:30.370Z"
   },
   {
    "duration": 7,
    "start_time": "2023-05-17T16:38:30.536Z"
   },
   {
    "duration": 102,
    "start_time": "2023-05-17T16:38:30.545Z"
   },
   {
    "duration": 88,
    "start_time": "2023-05-17T16:38:30.653Z"
   },
   {
    "duration": 46,
    "start_time": "2023-05-17T16:38:30.744Z"
   },
   {
    "duration": 74,
    "start_time": "2023-05-17T16:38:30.793Z"
   },
   {
    "duration": 151,
    "start_time": "2023-05-17T16:38:30.875Z"
   },
   {
    "duration": 14,
    "start_time": "2023-05-17T16:38:31.037Z"
   },
   {
    "duration": 30,
    "start_time": "2023-05-17T16:38:31.066Z"
   },
   {
    "duration": 19,
    "start_time": "2023-05-17T16:38:31.104Z"
   },
   {
    "duration": 26,
    "start_time": "2023-05-17T16:38:31.131Z"
   },
   {
    "duration": 18,
    "start_time": "2023-05-17T16:38:31.163Z"
   },
   {
    "duration": 90,
    "start_time": "2023-05-17T16:38:31.195Z"
   },
   {
    "duration": 37,
    "start_time": "2023-05-17T16:38:31.294Z"
   },
   {
    "duration": 550,
    "start_time": "2023-05-17T16:38:31.337Z"
   },
   {
    "duration": 528,
    "start_time": "2023-05-17T16:38:31.894Z"
   },
   {
    "duration": 401,
    "start_time": "2023-05-17T16:38:32.424Z"
   },
   {
    "duration": 632,
    "start_time": "2023-05-17T16:38:32.831Z"
   },
   {
    "duration": 409,
    "start_time": "2023-05-17T16:38:33.470Z"
   },
   {
    "duration": 534,
    "start_time": "2023-05-17T16:38:33.887Z"
   },
   {
    "duration": 23,
    "start_time": "2023-05-17T16:38:34.427Z"
   },
   {
    "duration": 217,
    "start_time": "2023-05-17T16:38:34.455Z"
   },
   {
    "duration": 201,
    "start_time": "2023-05-17T16:38:34.682Z"
   },
   {
    "duration": 9,
    "start_time": "2023-05-17T16:38:34.890Z"
   },
   {
    "duration": 24,
    "start_time": "2023-05-17T16:38:34.901Z"
   },
   {
    "duration": 403,
    "start_time": "2023-05-17T16:38:34.927Z"
   },
   {
    "duration": 4,
    "start_time": "2023-05-17T16:38:35.332Z"
   },
   {
    "duration": 468,
    "start_time": "2023-05-17T16:38:35.339Z"
   },
   {
    "duration": 438,
    "start_time": "2023-05-17T16:38:35.810Z"
   },
   {
    "duration": 21,
    "start_time": "2023-05-17T16:38:36.256Z"
   },
   {
    "duration": 23,
    "start_time": "2023-05-17T16:38:36.284Z"
   },
   {
    "duration": 57,
    "start_time": "2023-05-17T16:38:36.317Z"
   },
   {
    "duration": 33,
    "start_time": "2023-05-17T16:38:36.383Z"
   },
   {
    "duration": 1199,
    "start_time": "2023-05-18T08:03:33.276Z"
   },
   {
    "duration": 334,
    "start_time": "2023-05-18T08:03:34.477Z"
   },
   {
    "duration": 7,
    "start_time": "2023-05-18T08:03:34.813Z"
   },
   {
    "duration": 76,
    "start_time": "2023-05-18T08:03:34.822Z"
   },
   {
    "duration": 22,
    "start_time": "2023-05-18T08:03:34.900Z"
   },
   {
    "duration": 36,
    "start_time": "2023-05-18T08:03:34.928Z"
   },
   {
    "duration": 23,
    "start_time": "2023-05-18T08:03:34.966Z"
   },
   {
    "duration": 28,
    "start_time": "2023-05-18T08:03:34.991Z"
   },
   {
    "duration": 10,
    "start_time": "2023-05-18T08:03:35.021Z"
   },
   {
    "duration": 74,
    "start_time": "2023-05-18T08:03:35.033Z"
   },
   {
    "duration": 48,
    "start_time": "2023-05-18T08:03:35.109Z"
   },
   {
    "duration": 19,
    "start_time": "2023-05-18T08:03:35.162Z"
   },
   {
    "duration": 11,
    "start_time": "2023-05-18T08:03:35.183Z"
   },
   {
    "duration": 27,
    "start_time": "2023-05-18T08:03:35.196Z"
   },
   {
    "duration": 48,
    "start_time": "2023-05-18T08:03:35.228Z"
   },
   {
    "duration": 317,
    "start_time": "2023-05-18T08:03:35.278Z"
   },
   {
    "duration": 390,
    "start_time": "2023-05-18T08:03:35.598Z"
   },
   {
    "duration": 289,
    "start_time": "2023-05-18T08:03:35.990Z"
   },
   {
    "duration": 339,
    "start_time": "2023-05-18T08:03:36.281Z"
   },
   {
    "duration": 256,
    "start_time": "2023-05-18T08:03:36.622Z"
   },
   {
    "duration": 324,
    "start_time": "2023-05-18T08:03:36.880Z"
   },
   {
    "duration": 21,
    "start_time": "2023-05-18T08:03:37.205Z"
   },
   {
    "duration": 151,
    "start_time": "2023-05-18T08:03:37.228Z"
   },
   {
    "duration": 149,
    "start_time": "2023-05-18T08:03:37.380Z"
   },
   {
    "duration": 10,
    "start_time": "2023-05-18T08:03:37.536Z"
   },
   {
    "duration": 30,
    "start_time": "2023-05-18T08:03:37.551Z"
   },
   {
    "duration": 242,
    "start_time": "2023-05-18T08:03:37.582Z"
   },
   {
    "duration": 7,
    "start_time": "2023-05-18T08:03:37.829Z"
   },
   {
    "duration": 256,
    "start_time": "2023-05-18T08:03:37.837Z"
   },
   {
    "duration": 179,
    "start_time": "2023-05-18T08:03:38.095Z"
   },
   {
    "duration": 13,
    "start_time": "2023-05-18T08:03:38.276Z"
   },
   {
    "duration": 9,
    "start_time": "2023-05-18T08:03:38.290Z"
   },
   {
    "duration": 102,
    "start_time": "2023-05-18T08:03:38.301Z"
   },
   {
    "duration": 13,
    "start_time": "2023-05-18T08:03:38.405Z"
   },
   {
    "duration": 1500,
    "start_time": "2023-05-18T09:46:39.801Z"
   },
   {
    "duration": 183,
    "start_time": "2023-05-18T09:46:41.311Z"
   },
   {
    "duration": 5,
    "start_time": "2023-05-18T09:46:41.496Z"
   },
   {
    "duration": 56,
    "start_time": "2023-05-18T09:46:41.504Z"
   },
   {
    "duration": 83,
    "start_time": "2023-05-18T09:46:41.563Z"
   },
   {
    "duration": 58,
    "start_time": "2023-05-18T09:46:41.665Z"
   },
   {
    "duration": 5,
    "start_time": "2023-05-18T09:46:41.730Z"
   },
   {
    "duration": 92,
    "start_time": "2023-05-18T09:46:41.738Z"
   },
   {
    "duration": 77,
    "start_time": "2023-05-18T09:46:41.831Z"
   },
   {
    "duration": 108,
    "start_time": "2023-05-18T09:46:41.920Z"
   },
   {
    "duration": 70,
    "start_time": "2023-05-18T09:46:42.030Z"
   },
   {
    "duration": 31,
    "start_time": "2023-05-18T09:46:42.102Z"
   },
   {
    "duration": 75,
    "start_time": "2023-05-18T09:46:42.135Z"
   },
   {
    "duration": 87,
    "start_time": "2023-05-18T09:46:42.212Z"
   },
   {
    "duration": 13,
    "start_time": "2023-05-18T09:46:42.301Z"
   },
   {
    "duration": 408,
    "start_time": "2023-05-18T09:46:42.316Z"
   },
   {
    "duration": 427,
    "start_time": "2023-05-18T09:46:42.726Z"
   },
   {
    "duration": 337,
    "start_time": "2023-05-18T09:46:43.155Z"
   },
   {
    "duration": 496,
    "start_time": "2023-05-18T09:46:43.494Z"
   },
   {
    "duration": 348,
    "start_time": "2023-05-18T09:46:43.997Z"
   },
   {
    "duration": 448,
    "start_time": "2023-05-18T09:46:44.350Z"
   },
   {
    "duration": 18,
    "start_time": "2023-05-18T09:46:44.801Z"
   },
   {
    "duration": 287,
    "start_time": "2023-05-18T09:46:44.821Z"
   },
   {
    "duration": 216,
    "start_time": "2023-05-18T09:46:45.111Z"
   },
   {
    "duration": 8,
    "start_time": "2023-05-18T09:46:45.331Z"
   },
   {
    "duration": 148,
    "start_time": "2023-05-18T09:46:45.341Z"
   },
   {
    "duration": 511,
    "start_time": "2023-05-18T09:46:45.493Z"
   },
   {
    "duration": 8,
    "start_time": "2023-05-18T09:46:46.008Z"
   },
   {
    "duration": 368,
    "start_time": "2023-05-18T09:46:46.018Z"
   },
   {
    "duration": 233,
    "start_time": "2023-05-18T09:46:46.389Z"
   },
   {
    "duration": 26,
    "start_time": "2023-05-18T09:46:46.624Z"
   },
   {
    "duration": 118,
    "start_time": "2023-05-18T09:46:46.652Z"
   },
   {
    "duration": 103,
    "start_time": "2023-05-18T09:46:46.774Z"
   },
   {
    "duration": 118,
    "start_time": "2023-05-18T09:46:46.879Z"
   },
   {
    "duration": 51,
    "start_time": "2023-05-18T16:45:05.604Z"
   },
   {
    "duration": 1371,
    "start_time": "2023-05-18T16:45:12.922Z"
   },
   {
    "duration": 200,
    "start_time": "2023-05-18T16:45:14.295Z"
   },
   {
    "duration": 4,
    "start_time": "2023-05-18T16:45:14.496Z"
   },
   {
    "duration": 26,
    "start_time": "2023-05-18T16:45:14.502Z"
   },
   {
    "duration": 17,
    "start_time": "2023-05-18T16:45:14.529Z"
   },
   {
    "duration": 15,
    "start_time": "2023-05-18T16:45:14.548Z"
   },
   {
    "duration": 4,
    "start_time": "2023-05-18T16:45:14.564Z"
   },
   {
    "duration": 24,
    "start_time": "2023-05-18T16:45:14.569Z"
   },
   {
    "duration": 32,
    "start_time": "2023-05-18T16:45:14.594Z"
   },
   {
    "duration": 9,
    "start_time": "2023-05-18T16:45:14.628Z"
   },
   {
    "duration": 6,
    "start_time": "2023-05-18T16:45:14.639Z"
   },
   {
    "duration": 7,
    "start_time": "2023-05-18T16:45:14.647Z"
   },
   {
    "duration": 4,
    "start_time": "2023-05-18T16:45:14.655Z"
   },
   {
    "duration": 13,
    "start_time": "2023-05-18T16:45:14.660Z"
   },
   {
    "duration": 11,
    "start_time": "2023-05-18T16:45:14.674Z"
   },
   {
    "duration": 320,
    "start_time": "2023-05-18T16:45:14.686Z"
   },
   {
    "duration": 346,
    "start_time": "2023-05-18T16:45:15.008Z"
   },
   {
    "duration": 264,
    "start_time": "2023-05-18T16:45:15.356Z"
   },
   {
    "duration": 412,
    "start_time": "2023-05-18T16:45:15.625Z"
   },
   {
    "duration": 262,
    "start_time": "2023-05-18T16:45:16.039Z"
   },
   {
    "duration": 371,
    "start_time": "2023-05-18T16:45:16.303Z"
   },
   {
    "duration": 12,
    "start_time": "2023-05-18T16:45:16.676Z"
   },
   {
    "duration": 166,
    "start_time": "2023-05-18T16:45:16.690Z"
   },
   {
    "duration": 144,
    "start_time": "2023-05-18T16:45:16.859Z"
   },
   {
    "duration": 20,
    "start_time": "2023-05-18T16:45:17.005Z"
   },
   {
    "duration": 9,
    "start_time": "2023-05-18T16:45:17.027Z"
   },
   {
    "duration": 256,
    "start_time": "2023-05-18T16:45:17.037Z"
   },
   {
    "duration": 5,
    "start_time": "2023-05-18T16:45:17.297Z"
   },
   {
    "duration": 268,
    "start_time": "2023-05-18T16:45:17.304Z"
   },
   {
    "duration": 172,
    "start_time": "2023-05-18T16:45:17.574Z"
   },
   {
    "duration": 11,
    "start_time": "2023-05-18T16:45:17.749Z"
   },
   {
    "duration": 25,
    "start_time": "2023-05-18T16:45:17.762Z"
   },
   {
    "duration": 39,
    "start_time": "2023-05-18T16:45:17.789Z"
   },
   {
    "duration": 15,
    "start_time": "2023-05-18T16:45:17.830Z"
   },
   {
    "duration": 101,
    "start_time": "2023-05-18T17:15:08.704Z"
   },
   {
    "duration": 10,
    "start_time": "2023-05-18T17:15:21.216Z"
   },
   {
    "duration": 1189,
    "start_time": "2023-05-18T17:15:31.108Z"
   },
   {
    "duration": 92,
    "start_time": "2023-05-18T17:15:32.299Z"
   },
   {
    "duration": 3,
    "start_time": "2023-05-18T17:15:32.393Z"
   },
   {
    "duration": 32,
    "start_time": "2023-05-18T17:15:32.398Z"
   },
   {
    "duration": 24,
    "start_time": "2023-05-18T17:15:32.432Z"
   },
   {
    "duration": 23,
    "start_time": "2023-05-18T17:15:32.457Z"
   },
   {
    "duration": 4,
    "start_time": "2023-05-18T17:15:32.482Z"
   },
   {
    "duration": 51,
    "start_time": "2023-05-18T17:15:32.488Z"
   },
   {
    "duration": 3,
    "start_time": "2023-05-18T17:15:32.542Z"
   },
   {
    "duration": 8,
    "start_time": "2023-05-18T17:15:32.549Z"
   },
   {
    "duration": 7,
    "start_time": "2023-05-18T17:15:32.559Z"
   },
   {
    "duration": 4,
    "start_time": "2023-05-18T17:15:32.568Z"
   },
   {
    "duration": 3,
    "start_time": "2023-05-18T17:15:32.574Z"
   },
   {
    "duration": 13,
    "start_time": "2023-05-18T17:15:32.579Z"
   },
   {
    "duration": 42,
    "start_time": "2023-05-18T17:15:32.593Z"
   },
   {
    "duration": 307,
    "start_time": "2023-05-18T17:15:32.637Z"
   },
   {
    "duration": 359,
    "start_time": "2023-05-18T17:15:32.945Z"
   },
   {
    "duration": 282,
    "start_time": "2023-05-18T17:15:33.305Z"
   },
   {
    "duration": 417,
    "start_time": "2023-05-18T17:15:33.589Z"
   },
   {
    "duration": 266,
    "start_time": "2023-05-18T17:15:34.008Z"
   },
   {
    "duration": 404,
    "start_time": "2023-05-18T17:15:34.276Z"
   },
   {
    "duration": 12,
    "start_time": "2023-05-18T17:15:34.682Z"
   },
   {
    "duration": 168,
    "start_time": "2023-05-18T17:15:34.695Z"
   },
   {
    "duration": 147,
    "start_time": "2023-05-18T17:15:34.865Z"
   },
   {
    "duration": 15,
    "start_time": "2023-05-18T17:15:35.013Z"
   },
   {
    "duration": 11,
    "start_time": "2023-05-18T17:15:35.029Z"
   },
   {
    "duration": 275,
    "start_time": "2023-05-18T17:15:35.042Z"
   },
   {
    "duration": 5,
    "start_time": "2023-05-18T17:15:35.325Z"
   },
   {
    "duration": 238,
    "start_time": "2023-05-18T17:15:35.332Z"
   },
   {
    "duration": 189,
    "start_time": "2023-05-18T17:15:35.572Z"
   },
   {
    "duration": 11,
    "start_time": "2023-05-18T17:15:35.763Z"
   },
   {
    "duration": 17,
    "start_time": "2023-05-18T17:15:35.776Z"
   },
   {
    "duration": 56,
    "start_time": "2023-05-18T17:15:35.795Z"
   },
   {
    "duration": 14,
    "start_time": "2023-05-18T17:15:35.853Z"
   },
   {
    "duration": 12,
    "start_time": "2023-05-18T17:28:47.863Z"
   },
   {
    "duration": 51,
    "start_time": "2023-05-19T13:58:55.888Z"
   },
   {
    "duration": 7,
    "start_time": "2023-05-19T13:59:39.971Z"
   },
   {
    "duration": 1365,
    "start_time": "2023-05-19T13:59:48.255Z"
   },
   {
    "duration": 211,
    "start_time": "2023-05-19T13:59:49.622Z"
   },
   {
    "duration": 4,
    "start_time": "2023-05-19T13:59:49.834Z"
   },
   {
    "duration": 45,
    "start_time": "2023-05-19T13:59:49.841Z"
   },
   {
    "duration": 23,
    "start_time": "2023-05-19T13:59:49.888Z"
   },
   {
    "duration": 43,
    "start_time": "2023-05-19T13:59:49.913Z"
   },
   {
    "duration": 4,
    "start_time": "2023-05-19T13:59:49.959Z"
   },
   {
    "duration": 25,
    "start_time": "2023-05-19T13:59:49.965Z"
   },
   {
    "duration": 5,
    "start_time": "2023-05-19T13:59:49.992Z"
   },
   {
    "duration": 9,
    "start_time": "2023-05-19T13:59:50.000Z"
   },
   {
    "duration": 59,
    "start_time": "2023-05-19T13:59:50.011Z"
   },
   {
    "duration": 20,
    "start_time": "2023-05-19T13:59:50.072Z"
   },
   {
    "duration": 6,
    "start_time": "2023-05-19T13:59:50.095Z"
   },
   {
    "duration": 23,
    "start_time": "2023-05-19T13:59:50.103Z"
   },
   {
    "duration": 21,
    "start_time": "2023-05-19T13:59:50.131Z"
   },
   {
    "duration": 370,
    "start_time": "2023-05-19T13:59:50.155Z"
   },
   {
    "duration": 426,
    "start_time": "2023-05-19T13:59:50.527Z"
   },
   {
    "duration": 280,
    "start_time": "2023-05-19T13:59:50.955Z"
   },
   {
    "duration": 434,
    "start_time": "2023-05-19T13:59:51.237Z"
   },
   {
    "duration": 264,
    "start_time": "2023-05-19T13:59:51.673Z"
   },
   {
    "duration": 369,
    "start_time": "2023-05-19T13:59:51.940Z"
   },
   {
    "duration": 12,
    "start_time": "2023-05-19T13:59:52.312Z"
   },
   {
    "duration": 169,
    "start_time": "2023-05-19T13:59:52.326Z"
   },
   {
    "duration": 205,
    "start_time": "2023-05-19T13:59:52.500Z"
   },
   {
    "duration": 7,
    "start_time": "2023-05-19T13:59:52.707Z"
   },
   {
    "duration": 21,
    "start_time": "2023-05-19T13:59:52.716Z"
   },
   {
    "duration": 328,
    "start_time": "2023-05-19T13:59:52.751Z"
   },
   {
    "duration": 4,
    "start_time": "2023-05-19T13:59:53.083Z"
   },
   {
    "duration": 292,
    "start_time": "2023-05-19T13:59:53.090Z"
   },
   {
    "duration": 234,
    "start_time": "2023-05-19T13:59:53.384Z"
   },
   {
    "duration": 30,
    "start_time": "2023-05-19T13:59:53.620Z"
   },
   {
    "duration": 18,
    "start_time": "2023-05-19T13:59:53.652Z"
   },
   {
    "duration": 40,
    "start_time": "2023-05-19T13:59:53.672Z"
   },
   {
    "duration": 15,
    "start_time": "2023-05-19T13:59:53.713Z"
   },
   {
    "duration": 337,
    "start_time": "2023-05-19T13:59:53.752Z"
   },
   {
    "duration": 130,
    "start_time": "2023-05-19T13:59:54.091Z"
   },
   {
    "duration": 9,
    "start_time": "2023-05-19T14:00:14.903Z"
   },
   {
    "duration": 14,
    "start_time": "2023-05-19T14:00:50.840Z"
   },
   {
    "duration": 4,
    "start_time": "2023-05-19T14:01:17.756Z"
   },
   {
    "duration": 9,
    "start_time": "2023-05-19T14:01:26.371Z"
   },
   {
    "duration": 5,
    "start_time": "2023-05-19T14:01:34.204Z"
   },
   {
    "duration": 9,
    "start_time": "2023-05-19T14:01:47.536Z"
   },
   {
    "duration": 10,
    "start_time": "2023-05-19T14:03:33.432Z"
   },
   {
    "duration": 4,
    "start_time": "2023-05-19T14:03:37.922Z"
   },
   {
    "duration": 11,
    "start_time": "2023-05-19T14:04:31.314Z"
   },
   {
    "duration": 11,
    "start_time": "2023-05-19T14:04:35.514Z"
   },
   {
    "duration": 5,
    "start_time": "2023-05-19T14:04:39.499Z"
   },
   {
    "duration": 177,
    "start_time": "2023-05-19T14:10:49.154Z"
   },
   {
    "duration": 251,
    "start_time": "2023-05-19T14:15:15.436Z"
   },
   {
    "duration": 264,
    "start_time": "2023-05-19T14:15:24.891Z"
   },
   {
    "duration": 244,
    "start_time": "2023-05-19T14:15:49.206Z"
   },
   {
    "duration": 336,
    "start_time": "2023-05-19T14:16:56.312Z"
   },
   {
    "duration": 292,
    "start_time": "2023-05-19T14:17:04.331Z"
   },
   {
    "duration": 300,
    "start_time": "2023-05-19T14:20:07.450Z"
   },
   {
    "duration": 270,
    "start_time": "2023-05-19T14:20:11.341Z"
   },
   {
    "duration": 155,
    "start_time": "2023-05-19T14:20:37.253Z"
   },
   {
    "duration": 1251,
    "start_time": "2023-05-19T14:32:08.110Z"
   },
   {
    "duration": 10,
    "start_time": "2023-05-19T14:32:43.306Z"
   },
   {
    "duration": 12,
    "start_time": "2023-05-19T14:34:15.696Z"
   },
   {
    "duration": 10,
    "start_time": "2023-05-19T14:34:59.541Z"
   },
   {
    "duration": 174,
    "start_time": "2023-05-19T14:35:52.976Z"
   },
   {
    "duration": 282,
    "start_time": "2023-05-19T14:36:24.843Z"
   },
   {
    "duration": 8,
    "start_time": "2023-05-19T14:42:48.707Z"
   },
   {
    "duration": 13,
    "start_time": "2023-05-19T14:43:20.919Z"
   },
   {
    "duration": 15,
    "start_time": "2023-05-19T14:53:48.875Z"
   },
   {
    "duration": 10,
    "start_time": "2023-05-19T14:53:57.403Z"
   },
   {
    "duration": 10,
    "start_time": "2023-05-19T14:54:18.170Z"
   },
   {
    "duration": 127,
    "start_time": "2023-05-19T14:55:50.077Z"
   },
   {
    "duration": 239,
    "start_time": "2023-05-19T14:56:26.137Z"
   },
   {
    "duration": 226,
    "start_time": "2023-05-19T14:56:31.975Z"
   },
   {
    "duration": 251,
    "start_time": "2023-05-19T14:56:42.474Z"
   },
   {
    "duration": 231,
    "start_time": "2023-05-19T14:56:50.501Z"
   },
   {
    "duration": 12,
    "start_time": "2023-05-19T14:57:20.919Z"
   },
   {
    "duration": 241,
    "start_time": "2023-05-19T14:57:48.170Z"
   },
   {
    "duration": 171,
    "start_time": "2023-05-19T14:58:27.197Z"
   },
   {
    "duration": 156,
    "start_time": "2023-05-19T14:58:46.404Z"
   },
   {
    "duration": 151,
    "start_time": "2023-05-19T14:58:51.005Z"
   },
   {
    "duration": 150,
    "start_time": "2023-05-19T14:58:55.071Z"
   },
   {
    "duration": 162,
    "start_time": "2023-05-19T14:58:59.977Z"
   },
   {
    "duration": 1238,
    "start_time": "2023-05-19T15:09:03.787Z"
   },
   {
    "duration": 84,
    "start_time": "2023-05-19T15:09:05.027Z"
   },
   {
    "duration": 4,
    "start_time": "2023-05-19T15:09:05.113Z"
   },
   {
    "duration": 28,
    "start_time": "2023-05-19T15:09:05.119Z"
   },
   {
    "duration": 29,
    "start_time": "2023-05-19T15:09:05.149Z"
   },
   {
    "duration": 18,
    "start_time": "2023-05-19T15:09:05.180Z"
   },
   {
    "duration": 4,
    "start_time": "2023-05-19T15:09:05.200Z"
   },
   {
    "duration": 53,
    "start_time": "2023-05-19T15:09:05.205Z"
   },
   {
    "duration": 4,
    "start_time": "2023-05-19T15:09:05.262Z"
   },
   {
    "duration": 16,
    "start_time": "2023-05-19T15:09:05.269Z"
   },
   {
    "duration": 7,
    "start_time": "2023-05-19T15:09:05.286Z"
   },
   {
    "duration": 5,
    "start_time": "2023-05-19T15:09:05.295Z"
   },
   {
    "duration": 21,
    "start_time": "2023-05-19T15:09:05.302Z"
   },
   {
    "duration": 24,
    "start_time": "2023-05-19T15:09:05.325Z"
   },
   {
    "duration": 17,
    "start_time": "2023-05-19T15:09:05.353Z"
   },
   {
    "duration": 19,
    "start_time": "2023-05-19T15:09:05.372Z"
   },
   {
    "duration": 8,
    "start_time": "2023-05-19T15:09:05.393Z"
   },
   {
    "duration": 342,
    "start_time": "2023-05-19T15:09:05.403Z"
   },
   {
    "duration": 383,
    "start_time": "2023-05-19T15:09:05.746Z"
   },
   {
    "duration": 301,
    "start_time": "2023-05-19T15:09:06.131Z"
   },
   {
    "duration": 403,
    "start_time": "2023-05-19T15:09:06.434Z"
   },
   {
    "duration": 269,
    "start_time": "2023-05-19T15:09:06.839Z"
   },
   {
    "duration": 374,
    "start_time": "2023-05-19T15:09:07.110Z"
   },
   {
    "duration": 14,
    "start_time": "2023-05-19T15:09:07.486Z"
   },
   {
    "duration": 178,
    "start_time": "2023-05-19T15:09:07.502Z"
   },
   {
    "duration": 149,
    "start_time": "2023-05-19T15:09:07.682Z"
   },
   {
    "duration": 5,
    "start_time": "2023-05-19T15:09:07.833Z"
   },
   {
    "duration": 16,
    "start_time": "2023-05-19T15:09:07.853Z"
   },
   {
    "duration": 273,
    "start_time": "2023-05-19T15:09:07.871Z"
   },
   {
    "duration": 6,
    "start_time": "2023-05-19T15:09:08.146Z"
   },
   {
    "duration": 288,
    "start_time": "2023-05-19T15:09:08.157Z"
   },
   {
    "duration": 219,
    "start_time": "2023-05-19T15:09:08.446Z"
   },
   {
    "duration": 15,
    "start_time": "2023-05-19T15:09:08.667Z"
   },
   {
    "duration": 11,
    "start_time": "2023-05-19T15:09:08.685Z"
   },
   {
    "duration": 27,
    "start_time": "2023-05-19T15:09:08.697Z"
   },
   {
    "duration": 30,
    "start_time": "2023-05-19T15:09:08.749Z"
   },
   {
    "duration": 319,
    "start_time": "2023-05-19T15:09:08.781Z"
   },
   {
    "duration": 292,
    "start_time": "2023-05-19T15:09:09.103Z"
   },
   {
    "duration": 6397,
    "start_time": "2023-05-20T06:44:50.189Z"
   },
   {
    "duration": 303,
    "start_time": "2023-05-20T06:44:56.588Z"
   },
   {
    "duration": 94,
    "start_time": "2023-05-20T06:44:56.893Z"
   },
   {
    "duration": 313,
    "start_time": "2023-05-20T06:44:56.988Z"
   },
   {
    "duration": 392,
    "start_time": "2023-05-20T06:44:57.304Z"
   },
   {
    "duration": 95,
    "start_time": "2023-05-20T06:44:57.699Z"
   },
   {
    "duration": 188,
    "start_time": "2023-05-20T06:44:57.799Z"
   },
   {
    "duration": 323,
    "start_time": "2023-05-20T06:44:57.989Z"
   },
   {
    "duration": 96,
    "start_time": "2023-05-20T06:44:58.393Z"
   },
   {
    "duration": 405,
    "start_time": "2023-05-20T06:44:58.490Z"
   },
   {
    "duration": 389,
    "start_time": "2023-05-20T06:44:58.900Z"
   },
   {
    "duration": 404,
    "start_time": "2023-05-20T06:44:59.291Z"
   },
   {
    "duration": 296,
    "start_time": "2023-05-20T06:44:59.696Z"
   },
   {
    "duration": 413,
    "start_time": "2023-05-20T06:44:59.995Z"
   },
   {
    "duration": 290,
    "start_time": "2023-05-20T06:45:00.416Z"
   },
   {
    "duration": 394,
    "start_time": "2023-05-20T06:45:00.707Z"
   },
   {
    "duration": 593,
    "start_time": "2023-05-20T06:45:01.103Z"
   },
   {
    "duration": 2704,
    "start_time": "2023-05-20T06:45:01.702Z"
   },
   {
    "duration": 1904,
    "start_time": "2023-05-20T06:45:04.410Z"
   },
   {
    "duration": 1271,
    "start_time": "2023-05-20T06:45:06.316Z"
   },
   {
    "duration": 1805,
    "start_time": "2023-05-20T06:45:07.593Z"
   },
   {
    "duration": 1492,
    "start_time": "2023-05-20T06:45:09.400Z"
   },
   {
    "duration": 1492,
    "start_time": "2023-05-20T06:45:10.902Z"
   },
   {
    "duration": 33,
    "start_time": "2023-05-20T06:45:12.395Z"
   },
   {
    "duration": 1266,
    "start_time": "2023-05-20T06:45:12.429Z"
   },
   {
    "duration": 1023,
    "start_time": "2023-05-20T06:45:13.697Z"
   },
   {
    "duration": 66,
    "start_time": "2023-05-20T06:45:14.722Z"
   },
   {
    "duration": 206,
    "start_time": "2023-05-20T06:45:14.789Z"
   },
   {
    "duration": 1791,
    "start_time": "2023-05-20T06:45:14.999Z"
   },
   {
    "duration": 20,
    "start_time": "2023-05-20T06:45:16.792Z"
   },
   {
    "duration": 1782,
    "start_time": "2023-05-20T06:45:16.821Z"
   },
   {
    "duration": 1296,
    "start_time": "2023-05-20T06:45:18.614Z"
   },
   {
    "duration": 93,
    "start_time": "2023-05-20T06:45:19.918Z"
   },
   {
    "duration": 92,
    "start_time": "2023-05-20T06:45:20.020Z"
   },
   {
    "duration": 577,
    "start_time": "2023-05-20T06:45:20.120Z"
   },
   {
    "duration": 101,
    "start_time": "2023-05-20T06:45:20.708Z"
   },
   {
    "duration": 108,
    "start_time": "2023-05-20T06:53:51.391Z"
   },
   {
    "duration": 3598,
    "start_time": "2023-05-20T06:54:08.993Z"
   },
   {
    "duration": 14,
    "start_time": "2023-05-20T06:54:16.391Z"
   },
   {
    "duration": 96,
    "start_time": "2023-05-20T06:54:22.090Z"
   },
   {
    "duration": 197,
    "start_time": "2023-05-20T06:54:53.989Z"
   },
   {
    "duration": 1409,
    "start_time": "2023-05-20T06:54:58.085Z"
   },
   {
    "duration": 206,
    "start_time": "2023-05-20T06:55:48.389Z"
   },
   {
    "duration": 53,
    "start_time": "2023-05-20T09:00:20.122Z"
   },
   {
    "duration": 1243,
    "start_time": "2023-05-20T09:00:34.022Z"
   },
   {
    "duration": 186,
    "start_time": "2023-05-20T09:00:35.267Z"
   },
   {
    "duration": 3,
    "start_time": "2023-05-20T09:00:35.455Z"
   },
   {
    "duration": 36,
    "start_time": "2023-05-20T09:00:35.460Z"
   },
   {
    "duration": 17,
    "start_time": "2023-05-20T09:00:35.497Z"
   },
   {
    "duration": 14,
    "start_time": "2023-05-20T09:00:35.516Z"
   },
   {
    "duration": 15,
    "start_time": "2023-05-20T09:00:35.532Z"
   },
   {
    "duration": 22,
    "start_time": "2023-05-20T09:00:35.548Z"
   },
   {
    "duration": 12,
    "start_time": "2023-05-20T09:00:35.572Z"
   },
   {
    "duration": 34,
    "start_time": "2023-05-20T09:00:35.587Z"
   },
   {
    "duration": 21,
    "start_time": "2023-05-20T09:00:35.623Z"
   },
   {
    "duration": 19,
    "start_time": "2023-05-20T09:00:35.645Z"
   },
   {
    "duration": 4,
    "start_time": "2023-05-20T09:00:35.666Z"
   },
   {
    "duration": 14,
    "start_time": "2023-05-20T09:00:35.671Z"
   },
   {
    "duration": 11,
    "start_time": "2023-05-20T09:00:35.687Z"
   },
   {
    "duration": 10,
    "start_time": "2023-05-20T09:00:35.699Z"
   },
   {
    "duration": 11,
    "start_time": "2023-05-20T09:00:35.711Z"
   },
   {
    "duration": 276,
    "start_time": "2023-05-20T09:00:35.724Z"
   },
   {
    "duration": 314,
    "start_time": "2023-05-20T09:00:36.007Z"
   },
   {
    "duration": 246,
    "start_time": "2023-05-20T09:00:36.322Z"
   },
   {
    "duration": 407,
    "start_time": "2023-05-20T09:00:36.570Z"
   },
   {
    "duration": 223,
    "start_time": "2023-05-20T09:00:36.978Z"
   },
   {
    "duration": 332,
    "start_time": "2023-05-20T09:00:37.202Z"
   },
   {
    "duration": 10,
    "start_time": "2023-05-20T09:00:37.536Z"
   },
   {
    "duration": 133,
    "start_time": "2023-05-20T09:00:37.548Z"
   },
   {
    "duration": 130,
    "start_time": "2023-05-20T09:00:37.683Z"
   },
   {
    "duration": 4,
    "start_time": "2023-05-20T09:00:37.814Z"
   },
   {
    "duration": 9,
    "start_time": "2023-05-20T09:00:37.820Z"
   },
   {
    "duration": 220,
    "start_time": "2023-05-20T09:00:37.831Z"
   },
   {
    "duration": 3,
    "start_time": "2023-05-20T09:00:38.053Z"
   },
   {
    "duration": 207,
    "start_time": "2023-05-20T09:00:38.057Z"
   },
   {
    "duration": 156,
    "start_time": "2023-05-20T09:00:38.266Z"
   },
   {
    "duration": 8,
    "start_time": "2023-05-20T09:00:38.424Z"
   },
   {
    "duration": 8,
    "start_time": "2023-05-20T09:00:38.434Z"
   },
   {
    "duration": 22,
    "start_time": "2023-05-20T09:00:38.443Z"
   },
   {
    "duration": 11,
    "start_time": "2023-05-20T09:00:38.466Z"
   },
   {
    "duration": 37,
    "start_time": "2023-05-20T09:00:38.479Z"
   },
   {
    "duration": 7,
    "start_time": "2023-05-20T09:01:21.745Z"
   },
   {
    "duration": 8,
    "start_time": "2023-05-20T09:01:29.470Z"
   },
   {
    "duration": 262,
    "start_time": "2023-05-20T09:12:31.218Z"
   },
   {
    "duration": 5,
    "start_time": "2023-05-20T09:13:31.445Z"
   },
   {
    "duration": 12,
    "start_time": "2023-05-20T09:13:39.827Z"
   },
   {
    "duration": 302,
    "start_time": "2023-05-20T09:14:33.851Z"
   },
   {
    "duration": 236,
    "start_time": "2023-05-20T09:16:20.015Z"
   },
   {
    "duration": 6,
    "start_time": "2023-05-20T09:16:54.136Z"
   },
   {
    "duration": 233,
    "start_time": "2023-05-20T09:18:24.037Z"
   },
   {
    "duration": 324,
    "start_time": "2023-05-20T09:19:49.476Z"
   },
   {
    "duration": 72,
    "start_time": "2023-05-20T09:21:19.921Z"
   },
   {
    "duration": 381,
    "start_time": "2023-05-20T09:21:36.391Z"
   },
   {
    "duration": 226,
    "start_time": "2023-05-20T09:21:51.847Z"
   },
   {
    "duration": 1018,
    "start_time": "2023-05-20T09:23:04.423Z"
   },
   {
    "duration": 76,
    "start_time": "2023-05-20T09:23:05.443Z"
   },
   {
    "duration": 3,
    "start_time": "2023-05-20T09:23:05.521Z"
   },
   {
    "duration": 27,
    "start_time": "2023-05-20T09:23:05.525Z"
   },
   {
    "duration": 22,
    "start_time": "2023-05-20T09:23:05.554Z"
   },
   {
    "duration": 22,
    "start_time": "2023-05-20T09:23:05.578Z"
   },
   {
    "duration": 4,
    "start_time": "2023-05-20T09:23:05.602Z"
   },
   {
    "duration": 28,
    "start_time": "2023-05-20T09:23:05.607Z"
   },
   {
    "duration": 3,
    "start_time": "2023-05-20T09:23:05.637Z"
   },
   {
    "duration": 25,
    "start_time": "2023-05-20T09:23:05.641Z"
   },
   {
    "duration": 9,
    "start_time": "2023-05-20T09:23:05.668Z"
   },
   {
    "duration": 15,
    "start_time": "2023-05-20T09:23:05.678Z"
   },
   {
    "duration": 4,
    "start_time": "2023-05-20T09:23:05.695Z"
   },
   {
    "duration": 24,
    "start_time": "2023-05-20T09:23:05.701Z"
   },
   {
    "duration": 10,
    "start_time": "2023-05-20T09:23:05.726Z"
   },
   {
    "duration": 9,
    "start_time": "2023-05-20T09:23:05.738Z"
   },
   {
    "duration": 7,
    "start_time": "2023-05-20T09:23:05.750Z"
   },
   {
    "duration": 298,
    "start_time": "2023-05-20T09:23:05.759Z"
   },
   {
    "duration": 338,
    "start_time": "2023-05-20T09:23:06.059Z"
   },
   {
    "duration": 246,
    "start_time": "2023-05-20T09:23:06.399Z"
   },
   {
    "duration": 347,
    "start_time": "2023-05-20T09:23:06.647Z"
   },
   {
    "duration": 242,
    "start_time": "2023-05-20T09:23:06.995Z"
   },
   {
    "duration": 322,
    "start_time": "2023-05-20T09:23:07.239Z"
   },
   {
    "duration": 10,
    "start_time": "2023-05-20T09:23:07.562Z"
   },
   {
    "duration": 146,
    "start_time": "2023-05-20T09:23:07.574Z"
   },
   {
    "duration": 133,
    "start_time": "2023-05-20T09:23:07.722Z"
   },
   {
    "duration": 3,
    "start_time": "2023-05-20T09:23:07.857Z"
   },
   {
    "duration": 11,
    "start_time": "2023-05-20T09:23:07.862Z"
   },
   {
    "duration": 229,
    "start_time": "2023-05-20T09:23:07.875Z"
   },
   {
    "duration": 14,
    "start_time": "2023-05-20T09:23:08.105Z"
   },
   {
    "duration": 213,
    "start_time": "2023-05-20T09:23:08.121Z"
   },
   {
    "duration": 160,
    "start_time": "2023-05-20T09:23:08.336Z"
   },
   {
    "duration": 19,
    "start_time": "2023-05-20T09:23:08.497Z"
   },
   {
    "duration": 15,
    "start_time": "2023-05-20T09:23:08.520Z"
   },
   {
    "duration": 24,
    "start_time": "2023-05-20T09:23:08.537Z"
   },
   {
    "duration": 12,
    "start_time": "2023-05-20T09:23:08.563Z"
   },
   {
    "duration": 60,
    "start_time": "2023-05-20T09:23:08.576Z"
   },
   {
    "duration": 253,
    "start_time": "2023-05-20T09:23:08.638Z"
   },
   {
    "duration": 6,
    "start_time": "2023-05-20T09:23:08.892Z"
   },
   {
    "duration": 240,
    "start_time": "2023-05-20T09:23:08.907Z"
   },
   {
    "duration": 303,
    "start_time": "2023-05-20T09:23:09.150Z"
   },
   {
    "duration": 1072,
    "start_time": "2023-05-20T10:04:04.002Z"
   },
   {
    "duration": 72,
    "start_time": "2023-05-20T10:04:05.076Z"
   },
   {
    "duration": 4,
    "start_time": "2023-05-20T10:04:05.149Z"
   },
   {
    "duration": 29,
    "start_time": "2023-05-20T10:04:05.156Z"
   },
   {
    "duration": 20,
    "start_time": "2023-05-20T10:04:05.187Z"
   },
   {
    "duration": 20,
    "start_time": "2023-05-20T10:04:05.208Z"
   },
   {
    "duration": 5,
    "start_time": "2023-05-20T10:04:05.229Z"
   },
   {
    "duration": 21,
    "start_time": "2023-05-20T10:04:05.236Z"
   },
   {
    "duration": 3,
    "start_time": "2023-05-20T10:04:05.259Z"
   },
   {
    "duration": 9,
    "start_time": "2023-05-20T10:04:05.264Z"
   },
   {
    "duration": 31,
    "start_time": "2023-05-20T10:04:05.275Z"
   },
   {
    "duration": 4,
    "start_time": "2023-05-20T10:04:05.308Z"
   },
   {
    "duration": 5,
    "start_time": "2023-05-20T10:04:05.314Z"
   },
   {
    "duration": 12,
    "start_time": "2023-05-20T10:04:05.320Z"
   },
   {
    "duration": 10,
    "start_time": "2023-05-20T10:04:05.334Z"
   },
   {
    "duration": 9,
    "start_time": "2023-05-20T10:04:05.346Z"
   },
   {
    "duration": 14,
    "start_time": "2023-05-20T10:04:05.356Z"
   },
   {
    "duration": 305,
    "start_time": "2023-05-20T10:04:05.371Z"
   },
   {
    "duration": 315,
    "start_time": "2023-05-20T10:04:05.678Z"
   },
   {
    "duration": 237,
    "start_time": "2023-05-20T10:04:05.995Z"
   },
   {
    "duration": 318,
    "start_time": "2023-05-20T10:04:06.233Z"
   },
   {
    "duration": 229,
    "start_time": "2023-05-20T10:04:06.553Z"
   },
   {
    "duration": 339,
    "start_time": "2023-05-20T10:04:06.784Z"
   },
   {
    "duration": 10,
    "start_time": "2023-05-20T10:04:07.125Z"
   },
   {
    "duration": 129,
    "start_time": "2023-05-20T10:04:07.136Z"
   },
   {
    "duration": 132,
    "start_time": "2023-05-20T10:04:07.266Z"
   },
   {
    "duration": 4,
    "start_time": "2023-05-20T10:04:07.405Z"
   },
   {
    "duration": 9,
    "start_time": "2023-05-20T10:04:07.412Z"
   },
   {
    "duration": 237,
    "start_time": "2023-05-20T10:04:07.423Z"
   },
   {
    "duration": 4,
    "start_time": "2023-05-20T10:04:07.661Z"
   },
   {
    "duration": 228,
    "start_time": "2023-05-20T10:04:07.666Z"
   },
   {
    "duration": 155,
    "start_time": "2023-05-20T10:04:07.896Z"
   },
   {
    "duration": 10,
    "start_time": "2023-05-20T10:04:08.052Z"
   },
   {
    "duration": 11,
    "start_time": "2023-05-20T10:04:08.064Z"
   },
   {
    "duration": 41,
    "start_time": "2023-05-20T10:04:08.077Z"
   },
   {
    "duration": 12,
    "start_time": "2023-05-20T10:04:08.120Z"
   },
   {
    "duration": 32,
    "start_time": "2023-05-20T10:04:08.133Z"
   },
   {
    "duration": 251,
    "start_time": "2023-05-20T10:04:08.167Z"
   },
   {
    "duration": 5,
    "start_time": "2023-05-20T10:04:08.420Z"
   },
   {
    "duration": 240,
    "start_time": "2023-05-20T10:04:08.427Z"
   },
   {
    "duration": 313,
    "start_time": "2023-05-20T10:04:08.669Z"
   },
   {
    "duration": 1395,
    "start_time": "2023-05-20T21:18:52.656Z"
   },
   {
    "duration": 268,
    "start_time": "2023-05-20T21:18:54.062Z"
   },
   {
    "duration": 10,
    "start_time": "2023-05-20T21:18:54.335Z"
   },
   {
    "duration": 105,
    "start_time": "2023-05-20T21:18:54.350Z"
   },
   {
    "duration": 37,
    "start_time": "2023-05-20T21:18:54.462Z"
   },
   {
    "duration": 114,
    "start_time": "2023-05-20T21:18:54.507Z"
   },
   {
    "duration": 67,
    "start_time": "2023-05-20T21:18:54.630Z"
   },
   {
    "duration": 104,
    "start_time": "2023-05-20T21:18:54.699Z"
   },
   {
    "duration": 7,
    "start_time": "2023-05-20T21:18:54.805Z"
   },
   {
    "duration": 95,
    "start_time": "2023-05-20T21:18:54.815Z"
   },
   {
    "duration": 71,
    "start_time": "2023-05-20T21:18:54.911Z"
   },
   {
    "duration": 56,
    "start_time": "2023-05-20T21:18:54.985Z"
   },
   {
    "duration": 61,
    "start_time": "2023-05-20T21:18:55.046Z"
   },
   {
    "duration": 85,
    "start_time": "2023-05-20T21:18:55.110Z"
   },
   {
    "duration": 106,
    "start_time": "2023-05-20T21:18:55.197Z"
   },
   {
    "duration": 74,
    "start_time": "2023-05-20T21:18:55.305Z"
   },
   {
    "duration": 13,
    "start_time": "2023-05-20T21:18:55.381Z"
   },
   {
    "duration": 465,
    "start_time": "2023-05-20T21:18:55.397Z"
   },
   {
    "duration": 506,
    "start_time": "2023-05-20T21:18:55.864Z"
   },
   {
    "duration": 296,
    "start_time": "2023-05-20T21:18:56.372Z"
   },
   {
    "duration": 358,
    "start_time": "2023-05-20T21:18:56.670Z"
   },
   {
    "duration": 267,
    "start_time": "2023-05-20T21:18:57.030Z"
   },
   {
    "duration": 362,
    "start_time": "2023-05-20T21:18:57.299Z"
   },
   {
    "duration": 13,
    "start_time": "2023-05-20T21:18:57.668Z"
   },
   {
    "duration": 213,
    "start_time": "2023-05-20T21:18:57.683Z"
   },
   {
    "duration": 171,
    "start_time": "2023-05-20T21:18:57.898Z"
   },
   {
    "duration": 5,
    "start_time": "2023-05-20T21:18:58.071Z"
   },
   {
    "duration": 16,
    "start_time": "2023-05-20T21:18:58.080Z"
   },
   {
    "duration": 275,
    "start_time": "2023-05-20T21:18:58.099Z"
   },
   {
    "duration": 5,
    "start_time": "2023-05-20T21:18:58.375Z"
   },
   {
    "duration": 252,
    "start_time": "2023-05-20T21:18:58.381Z"
   },
   {
    "duration": 243,
    "start_time": "2023-05-20T21:18:58.640Z"
   },
   {
    "duration": 11,
    "start_time": "2023-05-20T21:18:58.884Z"
   },
   {
    "duration": 37,
    "start_time": "2023-05-20T21:18:58.896Z"
   },
   {
    "duration": 38,
    "start_time": "2023-05-20T21:18:58.940Z"
   },
   {
    "duration": 16,
    "start_time": "2023-05-20T21:18:58.981Z"
   },
   {
    "duration": 18,
    "start_time": "2023-05-20T21:18:58.999Z"
   },
   {
    "duration": 520,
    "start_time": "2023-05-20T21:18:59.024Z"
   },
   {
    "duration": 8,
    "start_time": "2023-05-20T21:18:59.546Z"
   },
   {
    "duration": 335,
    "start_time": "2023-05-20T21:18:59.555Z"
   },
   {
    "duration": 405,
    "start_time": "2023-05-20T21:18:59.891Z"
   }
  ],
  "kernelspec": {
   "display_name": "Python 3 (ipykernel)",
   "language": "python",
   "name": "python3"
  },
  "language_info": {
   "codemirror_mode": {
    "name": "ipython",
    "version": 3
   },
   "file_extension": ".py",
   "mimetype": "text/x-python",
   "name": "python",
   "nbconvert_exporter": "python",
   "pygments_lexer": "ipython3",
   "version": "3.10.9"
  },
  "toc": {
   "base_numbering": 1,
   "nav_menu": {},
   "number_sections": true,
   "sideBar": true,
   "skip_h1_title": true,
   "title_cell": "Table of Contents",
   "title_sidebar": "Contents",
   "toc_cell": false,
   "toc_position": {},
   "toc_section_display": true,
   "toc_window_display": false
  }
 },
 "nbformat": 4,
 "nbformat_minor": 2
}
