{
 "cells": [
  {
   "cell_type": "markdown",
   "id": "4f11de00",
   "metadata": {
    "deletable": false,
    "editable": false,
    "id": "4f11de00"
   },
   "source": [
    "# Исследование надежности заемщиков"
   ]
  },
  {
   "cell_type": "markdown",
   "id": "f09d6878",
   "metadata": {
    "deletable": false,
    "editable": false,
    "id": "f09d6878"
   },
   "source": [
    "Это первая часть проекта, она будет проверена автоматически. Вторую часть проверит ревьюер. "
   ]
  },
  {
   "cell_type": "markdown",
   "id": "516620ee",
   "metadata": {
    "deletable": false,
    "editable": false,
    "id": "516620ee"
   },
   "source": [
    "## Откройте таблицу и изучите общую информацию о данных"
   ]
  },
  {
   "cell_type": "markdown",
   "id": "76a8a9ce",
   "metadata": {
    "deletable": false,
    "editable": false,
    "id": "76a8a9ce",
    "tags": [
     "start_task"
    ]
   },
   "source": [
    "**Задание 1. Импортируйте библиотеку pandas. Считайте данные из csv-файла в датафрейм и сохраните в переменную `data`. Путь к файлу:**\n",
    "\n",
    "`/datasets/data.csv`"
   ]
  },
  {
   "cell_type": "code",
   "execution_count": 55,
   "id": "fab207d0",
   "metadata": {
    "id": "fab207d0"
   },
   "outputs": [],
   "source": [
    "import pandas as pd# импортируйте библиотеку pandas"
   ]
  },
  {
   "cell_type": "code",
   "execution_count": 56,
   "id": "6c82b607",
   "metadata": {
    "id": "6c82b607"
   },
   "outputs": [],
   "source": [
    "data = pd.read_csv('/datasets/data.csv')# прочитайте csv-файл"
   ]
  },
  {
   "cell_type": "markdown",
   "id": "08bbb5b3",
   "metadata": {
    "deletable": false,
    "editable": false,
    "id": "08bbb5b3",
    "tags": [
     "start_task"
    ]
   },
   "source": [
    "**Задание 2. Выведите первые 20 строчек датафрейма `data` на экран.**"
   ]
  },
  {
   "cell_type": "code",
   "execution_count": 57,
   "id": "4ff33b36",
   "metadata": {
    "id": "4ff33b36"
   },
   "outputs": [
    {
     "data": {
      "text/html": [
       "<div>\n",
       "<style scoped>\n",
       "    .dataframe tbody tr th:only-of-type {\n",
       "        vertical-align: middle;\n",
       "    }\n",
       "\n",
       "    .dataframe tbody tr th {\n",
       "        vertical-align: top;\n",
       "    }\n",
       "\n",
       "    .dataframe thead th {\n",
       "        text-align: right;\n",
       "    }\n",
       "</style>\n",
       "<table border=\"1\" class=\"dataframe\">\n",
       "  <thead>\n",
       "    <tr style=\"text-align: right;\">\n",
       "      <th></th>\n",
       "      <th>children</th>\n",
       "      <th>days_employed</th>\n",
       "      <th>dob_years</th>\n",
       "      <th>education</th>\n",
       "      <th>education_id</th>\n",
       "      <th>family_status</th>\n",
       "      <th>family_status_id</th>\n",
       "      <th>gender</th>\n",
       "      <th>income_type</th>\n",
       "      <th>debt</th>\n",
       "      <th>total_income</th>\n",
       "      <th>purpose</th>\n",
       "    </tr>\n",
       "  </thead>\n",
       "  <tbody>\n",
       "    <tr>\n",
       "      <th>0</th>\n",
       "      <td>1</td>\n",
       "      <td>-8437.673028</td>\n",
       "      <td>42</td>\n",
       "      <td>высшее</td>\n",
       "      <td>0</td>\n",
       "      <td>женат / замужем</td>\n",
       "      <td>0</td>\n",
       "      <td>F</td>\n",
       "      <td>сотрудник</td>\n",
       "      <td>0</td>\n",
       "      <td>253875.639453</td>\n",
       "      <td>покупка жилья</td>\n",
       "    </tr>\n",
       "    <tr>\n",
       "      <th>1</th>\n",
       "      <td>1</td>\n",
       "      <td>-4024.803754</td>\n",
       "      <td>36</td>\n",
       "      <td>среднее</td>\n",
       "      <td>1</td>\n",
       "      <td>женат / замужем</td>\n",
       "      <td>0</td>\n",
       "      <td>F</td>\n",
       "      <td>сотрудник</td>\n",
       "      <td>0</td>\n",
       "      <td>112080.014102</td>\n",
       "      <td>приобретение автомобиля</td>\n",
       "    </tr>\n",
       "    <tr>\n",
       "      <th>2</th>\n",
       "      <td>0</td>\n",
       "      <td>-5623.422610</td>\n",
       "      <td>33</td>\n",
       "      <td>Среднее</td>\n",
       "      <td>1</td>\n",
       "      <td>женат / замужем</td>\n",
       "      <td>0</td>\n",
       "      <td>M</td>\n",
       "      <td>сотрудник</td>\n",
       "      <td>0</td>\n",
       "      <td>145885.952297</td>\n",
       "      <td>покупка жилья</td>\n",
       "    </tr>\n",
       "    <tr>\n",
       "      <th>3</th>\n",
       "      <td>3</td>\n",
       "      <td>-4124.747207</td>\n",
       "      <td>32</td>\n",
       "      <td>среднее</td>\n",
       "      <td>1</td>\n",
       "      <td>женат / замужем</td>\n",
       "      <td>0</td>\n",
       "      <td>M</td>\n",
       "      <td>сотрудник</td>\n",
       "      <td>0</td>\n",
       "      <td>267628.550329</td>\n",
       "      <td>дополнительное образование</td>\n",
       "    </tr>\n",
       "    <tr>\n",
       "      <th>4</th>\n",
       "      <td>0</td>\n",
       "      <td>340266.072047</td>\n",
       "      <td>53</td>\n",
       "      <td>среднее</td>\n",
       "      <td>1</td>\n",
       "      <td>гражданский брак</td>\n",
       "      <td>1</td>\n",
       "      <td>F</td>\n",
       "      <td>пенсионер</td>\n",
       "      <td>0</td>\n",
       "      <td>158616.077870</td>\n",
       "      <td>сыграть свадьбу</td>\n",
       "    </tr>\n",
       "    <tr>\n",
       "      <th>5</th>\n",
       "      <td>0</td>\n",
       "      <td>-926.185831</td>\n",
       "      <td>27</td>\n",
       "      <td>высшее</td>\n",
       "      <td>0</td>\n",
       "      <td>гражданский брак</td>\n",
       "      <td>1</td>\n",
       "      <td>M</td>\n",
       "      <td>компаньон</td>\n",
       "      <td>0</td>\n",
       "      <td>255763.565419</td>\n",
       "      <td>покупка жилья</td>\n",
       "    </tr>\n",
       "    <tr>\n",
       "      <th>6</th>\n",
       "      <td>0</td>\n",
       "      <td>-2879.202052</td>\n",
       "      <td>43</td>\n",
       "      <td>высшее</td>\n",
       "      <td>0</td>\n",
       "      <td>женат / замужем</td>\n",
       "      <td>0</td>\n",
       "      <td>F</td>\n",
       "      <td>компаньон</td>\n",
       "      <td>0</td>\n",
       "      <td>240525.971920</td>\n",
       "      <td>операции с жильем</td>\n",
       "    </tr>\n",
       "    <tr>\n",
       "      <th>7</th>\n",
       "      <td>0</td>\n",
       "      <td>-152.779569</td>\n",
       "      <td>50</td>\n",
       "      <td>СРЕДНЕЕ</td>\n",
       "      <td>1</td>\n",
       "      <td>женат / замужем</td>\n",
       "      <td>0</td>\n",
       "      <td>M</td>\n",
       "      <td>сотрудник</td>\n",
       "      <td>0</td>\n",
       "      <td>135823.934197</td>\n",
       "      <td>образование</td>\n",
       "    </tr>\n",
       "    <tr>\n",
       "      <th>8</th>\n",
       "      <td>2</td>\n",
       "      <td>-6929.865299</td>\n",
       "      <td>35</td>\n",
       "      <td>ВЫСШЕЕ</td>\n",
       "      <td>0</td>\n",
       "      <td>гражданский брак</td>\n",
       "      <td>1</td>\n",
       "      <td>F</td>\n",
       "      <td>сотрудник</td>\n",
       "      <td>0</td>\n",
       "      <td>95856.832424</td>\n",
       "      <td>на проведение свадьбы</td>\n",
       "    </tr>\n",
       "    <tr>\n",
       "      <th>9</th>\n",
       "      <td>0</td>\n",
       "      <td>-2188.756445</td>\n",
       "      <td>41</td>\n",
       "      <td>среднее</td>\n",
       "      <td>1</td>\n",
       "      <td>женат / замужем</td>\n",
       "      <td>0</td>\n",
       "      <td>M</td>\n",
       "      <td>сотрудник</td>\n",
       "      <td>0</td>\n",
       "      <td>144425.938277</td>\n",
       "      <td>покупка жилья для семьи</td>\n",
       "    </tr>\n",
       "    <tr>\n",
       "      <th>10</th>\n",
       "      <td>2</td>\n",
       "      <td>-4171.483647</td>\n",
       "      <td>36</td>\n",
       "      <td>высшее</td>\n",
       "      <td>0</td>\n",
       "      <td>женат / замужем</td>\n",
       "      <td>0</td>\n",
       "      <td>M</td>\n",
       "      <td>компаньон</td>\n",
       "      <td>0</td>\n",
       "      <td>113943.491460</td>\n",
       "      <td>покупка недвижимости</td>\n",
       "    </tr>\n",
       "    <tr>\n",
       "      <th>11</th>\n",
       "      <td>0</td>\n",
       "      <td>-792.701887</td>\n",
       "      <td>40</td>\n",
       "      <td>среднее</td>\n",
       "      <td>1</td>\n",
       "      <td>женат / замужем</td>\n",
       "      <td>0</td>\n",
       "      <td>F</td>\n",
       "      <td>сотрудник</td>\n",
       "      <td>0</td>\n",
       "      <td>77069.234271</td>\n",
       "      <td>покупка коммерческой недвижимости</td>\n",
       "    </tr>\n",
       "    <tr>\n",
       "      <th>12</th>\n",
       "      <td>0</td>\n",
       "      <td>NaN</td>\n",
       "      <td>65</td>\n",
       "      <td>среднее</td>\n",
       "      <td>1</td>\n",
       "      <td>гражданский брак</td>\n",
       "      <td>1</td>\n",
       "      <td>M</td>\n",
       "      <td>пенсионер</td>\n",
       "      <td>0</td>\n",
       "      <td>NaN</td>\n",
       "      <td>сыграть свадьбу</td>\n",
       "    </tr>\n",
       "    <tr>\n",
       "      <th>13</th>\n",
       "      <td>0</td>\n",
       "      <td>-1846.641941</td>\n",
       "      <td>54</td>\n",
       "      <td>неоконченное высшее</td>\n",
       "      <td>2</td>\n",
       "      <td>женат / замужем</td>\n",
       "      <td>0</td>\n",
       "      <td>F</td>\n",
       "      <td>сотрудник</td>\n",
       "      <td>0</td>\n",
       "      <td>130458.228857</td>\n",
       "      <td>приобретение автомобиля</td>\n",
       "    </tr>\n",
       "    <tr>\n",
       "      <th>14</th>\n",
       "      <td>0</td>\n",
       "      <td>-1844.956182</td>\n",
       "      <td>56</td>\n",
       "      <td>высшее</td>\n",
       "      <td>0</td>\n",
       "      <td>гражданский брак</td>\n",
       "      <td>1</td>\n",
       "      <td>F</td>\n",
       "      <td>компаньон</td>\n",
       "      <td>1</td>\n",
       "      <td>165127.911772</td>\n",
       "      <td>покупка жилой недвижимости</td>\n",
       "    </tr>\n",
       "    <tr>\n",
       "      <th>15</th>\n",
       "      <td>1</td>\n",
       "      <td>-972.364419</td>\n",
       "      <td>26</td>\n",
       "      <td>среднее</td>\n",
       "      <td>1</td>\n",
       "      <td>женат / замужем</td>\n",
       "      <td>0</td>\n",
       "      <td>F</td>\n",
       "      <td>сотрудник</td>\n",
       "      <td>0</td>\n",
       "      <td>116820.904450</td>\n",
       "      <td>строительство собственной недвижимости</td>\n",
       "    </tr>\n",
       "    <tr>\n",
       "      <th>16</th>\n",
       "      <td>0</td>\n",
       "      <td>-1719.934226</td>\n",
       "      <td>35</td>\n",
       "      <td>среднее</td>\n",
       "      <td>1</td>\n",
       "      <td>женат / замужем</td>\n",
       "      <td>0</td>\n",
       "      <td>F</td>\n",
       "      <td>сотрудник</td>\n",
       "      <td>0</td>\n",
       "      <td>289202.704229</td>\n",
       "      <td>недвижимость</td>\n",
       "    </tr>\n",
       "    <tr>\n",
       "      <th>17</th>\n",
       "      <td>0</td>\n",
       "      <td>-2369.999720</td>\n",
       "      <td>33</td>\n",
       "      <td>высшее</td>\n",
       "      <td>0</td>\n",
       "      <td>гражданский брак</td>\n",
       "      <td>1</td>\n",
       "      <td>M</td>\n",
       "      <td>сотрудник</td>\n",
       "      <td>0</td>\n",
       "      <td>90410.586745</td>\n",
       "      <td>строительство недвижимости</td>\n",
       "    </tr>\n",
       "    <tr>\n",
       "      <th>18</th>\n",
       "      <td>0</td>\n",
       "      <td>400281.136913</td>\n",
       "      <td>53</td>\n",
       "      <td>среднее</td>\n",
       "      <td>1</td>\n",
       "      <td>вдовец / вдова</td>\n",
       "      <td>2</td>\n",
       "      <td>F</td>\n",
       "      <td>пенсионер</td>\n",
       "      <td>0</td>\n",
       "      <td>56823.777243</td>\n",
       "      <td>на покупку подержанного автомобиля</td>\n",
       "    </tr>\n",
       "    <tr>\n",
       "      <th>19</th>\n",
       "      <td>0</td>\n",
       "      <td>-10038.818549</td>\n",
       "      <td>48</td>\n",
       "      <td>СРЕДНЕЕ</td>\n",
       "      <td>1</td>\n",
       "      <td>в разводе</td>\n",
       "      <td>3</td>\n",
       "      <td>F</td>\n",
       "      <td>сотрудник</td>\n",
       "      <td>0</td>\n",
       "      <td>242831.107982</td>\n",
       "      <td>на покупку своего автомобиля</td>\n",
       "    </tr>\n",
       "  </tbody>\n",
       "</table>\n",
       "</div>"
      ],
      "text/plain": [
       "    children  days_employed  dob_years            education  education_id  \\\n",
       "0          1   -8437.673028         42               высшее             0   \n",
       "1          1   -4024.803754         36              среднее             1   \n",
       "2          0   -5623.422610         33              Среднее             1   \n",
       "3          3   -4124.747207         32              среднее             1   \n",
       "4          0  340266.072047         53              среднее             1   \n",
       "5          0    -926.185831         27               высшее             0   \n",
       "6          0   -2879.202052         43               высшее             0   \n",
       "7          0    -152.779569         50              СРЕДНЕЕ             1   \n",
       "8          2   -6929.865299         35               ВЫСШЕЕ             0   \n",
       "9          0   -2188.756445         41              среднее             1   \n",
       "10         2   -4171.483647         36               высшее             0   \n",
       "11         0    -792.701887         40              среднее             1   \n",
       "12         0            NaN         65              среднее             1   \n",
       "13         0   -1846.641941         54  неоконченное высшее             2   \n",
       "14         0   -1844.956182         56               высшее             0   \n",
       "15         1    -972.364419         26              среднее             1   \n",
       "16         0   -1719.934226         35              среднее             1   \n",
       "17         0   -2369.999720         33               высшее             0   \n",
       "18         0  400281.136913         53              среднее             1   \n",
       "19         0  -10038.818549         48              СРЕДНЕЕ             1   \n",
       "\n",
       "       family_status  family_status_id gender income_type  debt  \\\n",
       "0    женат / замужем                 0      F   сотрудник     0   \n",
       "1    женат / замужем                 0      F   сотрудник     0   \n",
       "2    женат / замужем                 0      M   сотрудник     0   \n",
       "3    женат / замужем                 0      M   сотрудник     0   \n",
       "4   гражданский брак                 1      F   пенсионер     0   \n",
       "5   гражданский брак                 1      M   компаньон     0   \n",
       "6    женат / замужем                 0      F   компаньон     0   \n",
       "7    женат / замужем                 0      M   сотрудник     0   \n",
       "8   гражданский брак                 1      F   сотрудник     0   \n",
       "9    женат / замужем                 0      M   сотрудник     0   \n",
       "10   женат / замужем                 0      M   компаньон     0   \n",
       "11   женат / замужем                 0      F   сотрудник     0   \n",
       "12  гражданский брак                 1      M   пенсионер     0   \n",
       "13   женат / замужем                 0      F   сотрудник     0   \n",
       "14  гражданский брак                 1      F   компаньон     1   \n",
       "15   женат / замужем                 0      F   сотрудник     0   \n",
       "16   женат / замужем                 0      F   сотрудник     0   \n",
       "17  гражданский брак                 1      M   сотрудник     0   \n",
       "18    вдовец / вдова                 2      F   пенсионер     0   \n",
       "19         в разводе                 3      F   сотрудник     0   \n",
       "\n",
       "     total_income                                 purpose  \n",
       "0   253875.639453                           покупка жилья  \n",
       "1   112080.014102                 приобретение автомобиля  \n",
       "2   145885.952297                           покупка жилья  \n",
       "3   267628.550329              дополнительное образование  \n",
       "4   158616.077870                         сыграть свадьбу  \n",
       "5   255763.565419                           покупка жилья  \n",
       "6   240525.971920                       операции с жильем  \n",
       "7   135823.934197                             образование  \n",
       "8    95856.832424                   на проведение свадьбы  \n",
       "9   144425.938277                 покупка жилья для семьи  \n",
       "10  113943.491460                    покупка недвижимости  \n",
       "11   77069.234271       покупка коммерческой недвижимости  \n",
       "12            NaN                         сыграть свадьбу  \n",
       "13  130458.228857                 приобретение автомобиля  \n",
       "14  165127.911772              покупка жилой недвижимости  \n",
       "15  116820.904450  строительство собственной недвижимости  \n",
       "16  289202.704229                            недвижимость  \n",
       "17   90410.586745              строительство недвижимости  \n",
       "18   56823.777243      на покупку подержанного автомобиля  \n",
       "19  242831.107982            на покупку своего автомобиля  "
      ]
     },
     "execution_count": 57,
     "metadata": {},
     "output_type": "execute_result"
    }
   ],
   "source": [
    "data.head(20)# ваш код здесь"
   ]
  },
  {
   "cell_type": "markdown",
   "id": "c8f382ae",
   "metadata": {
    "deletable": false,
    "editable": false,
    "id": "c8f382ae",
    "tags": [
     "start_task"
    ]
   },
   "source": [
    "**Задание 3. Выведите основную информацию о датафрейме с помощью метода `info()`.**"
   ]
  },
  {
   "cell_type": "code",
   "execution_count": 58,
   "id": "e1ed9908",
   "metadata": {
    "id": "e1ed9908"
   },
   "outputs": [
    {
     "name": "stdout",
     "output_type": "stream",
     "text": [
      "<class 'pandas.core.frame.DataFrame'>\n",
      "RangeIndex: 21525 entries, 0 to 21524\n",
      "Data columns (total 12 columns):\n",
      " #   Column            Non-Null Count  Dtype  \n",
      "---  ------            --------------  -----  \n",
      " 0   children          21525 non-null  int64  \n",
      " 1   days_employed     19351 non-null  float64\n",
      " 2   dob_years         21525 non-null  int64  \n",
      " 3   education         21525 non-null  object \n",
      " 4   education_id      21525 non-null  int64  \n",
      " 5   family_status     21525 non-null  object \n",
      " 6   family_status_id  21525 non-null  int64  \n",
      " 7   gender            21525 non-null  object \n",
      " 8   income_type       21525 non-null  object \n",
      " 9   debt              21525 non-null  int64  \n",
      " 10  total_income      19351 non-null  float64\n",
      " 11  purpose           21525 non-null  object \n",
      "dtypes: float64(2), int64(5), object(5)\n",
      "memory usage: 2.0+ MB\n"
     ]
    }
   ],
   "source": [
    "data.info()# ваш код здесь"
   ]
  },
  {
   "cell_type": "markdown",
   "id": "f969a1cd",
   "metadata": {
    "deletable": false,
    "editable": false,
    "id": "f969a1cd"
   },
   "source": [
    "## Предобработка данных"
   ]
  },
  {
   "cell_type": "markdown",
   "id": "7283e864",
   "metadata": {
    "deletable": false,
    "editable": false,
    "id": "7283e864"
   },
   "source": [
    "### Удаление пропусков"
   ]
  },
  {
   "cell_type": "markdown",
   "id": "c9a0745e",
   "metadata": {
    "deletable": false,
    "editable": false,
    "id": "c9a0745e",
    "tags": [
     "start_task"
    ]
   },
   "source": [
    "**Задание 4. Выведите количество пропущенных значений для каждого столбца. Используйте комбинацию двух методов.**"
   ]
  },
  {
   "cell_type": "code",
   "execution_count": 59,
   "id": "b7a096e1",
   "metadata": {
    "id": "b7a096e1"
   },
   "outputs": [
    {
     "data": {
      "text/plain": [
       "children               0\n",
       "days_employed       2174\n",
       "dob_years              0\n",
       "education              0\n",
       "education_id           0\n",
       "family_status          0\n",
       "family_status_id       0\n",
       "gender                 0\n",
       "income_type            0\n",
       "debt                   0\n",
       "total_income        2174\n",
       "purpose                0\n",
       "dtype: int64"
      ]
     },
     "execution_count": 59,
     "metadata": {},
     "output_type": "execute_result"
    }
   ],
   "source": [
    "data.isna().sum()# ваш код здесь"
   ]
  },
  {
   "cell_type": "markdown",
   "id": "c2578616",
   "metadata": {
    "deletable": false,
    "editable": false,
    "id": "c2578616",
    "tags": [
     "start_task"
    ]
   },
   "source": [
    "**Задание 5. В двух столбцах есть пропущенные значения. Один из них — `days_employed`. Пропуски в этом столбце вы обработаете на следующем этапе. Другой столбец с пропущенными значениями — `total_income` — хранит данные о доходах. На сумму дохода сильнее всего влияет тип занятости, поэтому заполнить пропуски в этом столбце нужно медианным значением по каждому типу из столбца `income_type`. Например, у человека с типом занятости `сотрудник` пропуск в столбце `total_income` должен быть заполнен медианным доходом среди всех записей с тем же типом.**"
   ]
  },
  {
   "cell_type": "code",
   "execution_count": 60,
   "id": "e8afc4bc",
   "metadata": {
    "id": "e8afc4bc"
   },
   "outputs": [],
   "source": [
    "data['total_income'] = (\n",
    "  data.groupby('income_type')['total_income']\n",
    "    .transform(lambda g: g.fillna(g.median()))\n",
    ")\n",
    "# ваш код здесь"
   ]
  },
  {
   "cell_type": "markdown",
   "id": "ae986d46",
   "metadata": {
    "deletable": false,
    "editable": false,
    "id": "ae986d46"
   },
   "source": [
    "### Обработка аномальных значений"
   ]
  },
  {
   "cell_type": "markdown",
   "id": "b049cbae",
   "metadata": {
    "deletable": false,
    "editable": false,
    "id": "b049cbae",
    "tags": [
     "start_task"
    ]
   },
   "source": [
    "**Задание 6. В данных могут встречаться артефакты (аномалии) — значения, которые не отражают действительность и появились по какой-то ошибке. Таким артефактом будет отрицательное количество дней трудового стажа в столбце `days_employed`. Для реальных данных это нормально. Обработайте значения в этом столбце: замените все отрицательные значения положительными с помощью метода `abs()`.**"
   ]
  },
  {
   "cell_type": "code",
   "execution_count": 61,
   "id": "187779b0",
   "metadata": {
    "id": "187779b0"
   },
   "outputs": [],
   "source": [
    "data['days_employed'] = data['days_employed'].abs()# ваш код здесь"
   ]
  },
  {
   "cell_type": "markdown",
   "id": "a13054c2",
   "metadata": {
    "deletable": false,
    "editable": false,
    "id": "a13054c2",
    "tags": [
     "start_task"
    ]
   },
   "source": [
    "**Задание 7. Для каждого типа занятости выведите медианное значение трудового стажа `days_employed` в днях.**"
   ]
  },
  {
   "cell_type": "code",
   "execution_count": 62,
   "id": "f3f5810c",
   "metadata": {
    "id": "f3f5810c"
   },
   "outputs": [
    {
     "data": {
      "text/plain": [
       "income_type\n",
       "безработный        366413.652744\n",
       "в декрете            3296.759962\n",
       "госслужащий          2689.368353\n",
       "компаньон            1547.382223\n",
       "пенсионер          365213.306266\n",
       "предприниматель       520.848083\n",
       "сотрудник            1574.202821\n",
       "студент               578.751554\n",
       "Name: days_employed, dtype: float64"
      ]
     },
     "execution_count": 62,
     "metadata": {},
     "output_type": "execute_result"
    }
   ],
   "source": [
    "data.groupby('income_type')['days_employed'].median()# ваш код здесь"
   ]
  },
  {
   "cell_type": "markdown",
   "id": "dbc3168c",
   "metadata": {
    "deletable": false,
    "editable": false,
    "id": "dbc3168c"
   },
   "source": [
    "У двух типов (безработные и пенсионеры) получатся аномально большие значения. Исправить такие значения сложно, поэтому оставьте их как есть."
   ]
  },
  {
   "cell_type": "markdown",
   "id": "ff4378c2",
   "metadata": {
    "deletable": false,
    "editable": false,
    "id": "ff4378c2",
    "tags": [
     "start_task"
    ]
   },
   "source": [
    "**Задание 8. Выведите перечень уникальных значений столбца `children`.**"
   ]
  },
  {
   "cell_type": "code",
   "execution_count": 63,
   "id": "9bd0c232",
   "metadata": {
    "id": "9bd0c232"
   },
   "outputs": [
    {
     "data": {
      "text/plain": [
       "array([ 1,  0,  3,  2, -1,  4, 20,  5])"
      ]
     },
     "execution_count": 63,
     "metadata": {},
     "output_type": "execute_result"
    }
   ],
   "source": [
    "data['children'].unique()# ваш код здесь"
   ]
  },
  {
   "cell_type": "markdown",
   "id": "8e911990",
   "metadata": {
    "deletable": false,
    "editable": false,
    "id": "8e911990",
    "tags": [
     "start_task"
    ]
   },
   "source": [
    "**Задание 9. В столбце `children` есть два аномальных значения. Удалите строки, в которых встречаются такие аномальные значения из датафрейма `data`.**"
   ]
  },
  {
   "cell_type": "code",
   "execution_count": 64,
   "id": "6d5ba289",
   "metadata": {
    "id": "6d5ba289"
   },
   "outputs": [],
   "source": [
    "data = data[(data['children']!=-1)&(data['children']!=20)]# ваш код здесь"
   ]
  },
  {
   "cell_type": "markdown",
   "id": "18d77455",
   "metadata": {
    "deletable": false,
    "editable": false,
    "id": "18d77455",
    "tags": [
     "start_task"
    ]
   },
   "source": [
    "**Задание 10. Ещё раз выведите перечень уникальных значений столбца `children`, чтобы убедиться, что артефакты удалены.**"
   ]
  },
  {
   "cell_type": "code",
   "execution_count": 65,
   "id": "2c5fa92c",
   "metadata": {
    "id": "2c5fa92c"
   },
   "outputs": [
    {
     "data": {
      "text/plain": [
       "array([1, 0, 3, 2, 4, 5])"
      ]
     },
     "execution_count": 65,
     "metadata": {},
     "output_type": "execute_result"
    }
   ],
   "source": [
    "data['children'].unique()# ваш код здесь"
   ]
  },
  {
   "cell_type": "markdown",
   "id": "0ec07dee",
   "metadata": {
    "deletable": false,
    "editable": false,
    "id": "0ec07dee"
   },
   "source": [
    "### Удаление пропусков (продолжение)"
   ]
  },
  {
   "cell_type": "markdown",
   "id": "0fc3ae3f",
   "metadata": {
    "deletable": false,
    "editable": false,
    "id": "0fc3ae3f",
    "tags": [
     "start_task"
    ]
   },
   "source": [
    "**Задание 11. Заполните пропуски в столбце `days_employed` медианными значениями по каждому типу занятости `income_type`.**"
   ]
  },
  {
   "cell_type": "code",
   "execution_count": 66,
   "id": "e2aea7ac",
   "metadata": {
    "id": "e2aea7ac"
   },
   "outputs": [],
   "source": [
    "data['days_employed'] = (\n",
    "  data.groupby('income_type')['days_employed']\n",
    "    .transform(lambda g: g.fillna(g.median()))\n",
    ")# ваш код здесь"
   ]
  },
  {
   "cell_type": "markdown",
   "id": "97b0b795",
   "metadata": {
    "deletable": false,
    "editable": false,
    "id": "97b0b795",
    "tags": [
     "start_task"
    ]
   },
   "source": [
    "**Задание 12. Убедитесь, что все пропуски заполнены. Проверьте себя и ещё раз выведите количество пропущенных значений для каждого столбца с помощью двух методов.**"
   ]
  },
  {
   "cell_type": "code",
   "execution_count": 67,
   "id": "79632a21",
   "metadata": {
    "id": "79632a21"
   },
   "outputs": [
    {
     "data": {
      "text/plain": [
       "children            0\n",
       "days_employed       0\n",
       "dob_years           0\n",
       "education           0\n",
       "education_id        0\n",
       "family_status       0\n",
       "family_status_id    0\n",
       "gender              0\n",
       "income_type         0\n",
       "debt                0\n",
       "total_income        0\n",
       "purpose             0\n",
       "dtype: int64"
      ]
     },
     "execution_count": 67,
     "metadata": {},
     "output_type": "execute_result"
    }
   ],
   "source": [
    "data.isna().sum()# ваш код здесь"
   ]
  },
  {
   "cell_type": "markdown",
   "id": "bd4aeb20",
   "metadata": {
    "deletable": false,
    "editable": false,
    "id": "bd4aeb20"
   },
   "source": [
    "### Изменение типов данных"
   ]
  },
  {
   "cell_type": "markdown",
   "id": "963bfa58",
   "metadata": {
    "deletable": false,
    "editable": false,
    "id": "963bfa58",
    "tags": [
     "start_task"
    ]
   },
   "source": [
    "**Задание 13. Замените вещественный тип данных в столбце `total_income` на целочисленный с помощью метода `astype()`.**"
   ]
  },
  {
   "cell_type": "code",
   "execution_count": 68,
   "id": "73da6ea0",
   "metadata": {
    "id": "73da6ea0"
   },
   "outputs": [],
   "source": [
    "data['total_income'] = data['total_income'].astype(int)# ваш код здесь"
   ]
  },
  {
   "cell_type": "markdown",
   "id": "d290239e",
   "metadata": {
    "deletable": false,
    "editable": false,
    "id": "d290239e"
   },
   "source": [
    "### Обработка дубликатов"
   ]
  },
  {
   "cell_type": "markdown",
   "id": "1b5844fd",
   "metadata": {
    "deletable": false,
    "editable": false,
    "id": "1b5844fd",
    "tags": [
     "start_task"
    ]
   },
   "source": [
    "**Задание 14. Обработайте неявные дубликаты в столбце `education`. В этом столбце есть одни и те же значения, но записанные по-разному: с использованием заглавных и строчных букв. Приведите их к нижнему регистру.**"
   ]
  },
  {
   "cell_type": "code",
   "execution_count": 69,
   "id": "3f2504b3",
   "metadata": {
    "id": "3f2504b3"
   },
   "outputs": [],
   "source": [
    "data['education'] = data['education'].str.lower()# ваш код здесь"
   ]
  },
  {
   "cell_type": "markdown",
   "id": "4c22acbc",
   "metadata": {
    "deletable": false,
    "editable": false,
    "id": "4c22acbc",
    "tags": [
     "start_task"
    ]
   },
   "source": [
    "**Задание 15. Выведите на экран количество строк-дубликатов в данных. Если такие строки присутствуют, удалите их.**"
   ]
  },
  {
   "cell_type": "code",
   "execution_count": 70,
   "id": "d34a4325",
   "metadata": {
    "id": "d34a4325"
   },
   "outputs": [
    {
     "data": {
      "text/plain": [
       "71"
      ]
     },
     "execution_count": 70,
     "metadata": {},
     "output_type": "execute_result"
    }
   ],
   "source": [
    "data.duplicated().sum()# посчитайте дубликаты"
   ]
  },
  {
   "cell_type": "code",
   "execution_count": 71,
   "id": "6e1a6499",
   "metadata": {
    "id": "6e1a6499"
   },
   "outputs": [
    {
     "data": {
      "text/html": [
       "<div>\n",
       "<style scoped>\n",
       "    .dataframe tbody tr th:only-of-type {\n",
       "        vertical-align: middle;\n",
       "    }\n",
       "\n",
       "    .dataframe tbody tr th {\n",
       "        vertical-align: top;\n",
       "    }\n",
       "\n",
       "    .dataframe thead th {\n",
       "        text-align: right;\n",
       "    }\n",
       "</style>\n",
       "<table border=\"1\" class=\"dataframe\">\n",
       "  <thead>\n",
       "    <tr style=\"text-align: right;\">\n",
       "      <th></th>\n",
       "      <th>children</th>\n",
       "      <th>days_employed</th>\n",
       "      <th>dob_years</th>\n",
       "      <th>education</th>\n",
       "      <th>education_id</th>\n",
       "      <th>family_status</th>\n",
       "      <th>family_status_id</th>\n",
       "      <th>gender</th>\n",
       "      <th>income_type</th>\n",
       "      <th>debt</th>\n",
       "      <th>total_income</th>\n",
       "      <th>purpose</th>\n",
       "    </tr>\n",
       "  </thead>\n",
       "  <tbody>\n",
       "    <tr>\n",
       "      <th>0</th>\n",
       "      <td>1</td>\n",
       "      <td>8437.673028</td>\n",
       "      <td>42</td>\n",
       "      <td>высшее</td>\n",
       "      <td>0</td>\n",
       "      <td>женат / замужем</td>\n",
       "      <td>0</td>\n",
       "      <td>F</td>\n",
       "      <td>сотрудник</td>\n",
       "      <td>0</td>\n",
       "      <td>253875</td>\n",
       "      <td>покупка жилья</td>\n",
       "    </tr>\n",
       "    <tr>\n",
       "      <th>1</th>\n",
       "      <td>1</td>\n",
       "      <td>4024.803754</td>\n",
       "      <td>36</td>\n",
       "      <td>среднее</td>\n",
       "      <td>1</td>\n",
       "      <td>женат / замужем</td>\n",
       "      <td>0</td>\n",
       "      <td>F</td>\n",
       "      <td>сотрудник</td>\n",
       "      <td>0</td>\n",
       "      <td>112080</td>\n",
       "      <td>приобретение автомобиля</td>\n",
       "    </tr>\n",
       "    <tr>\n",
       "      <th>2</th>\n",
       "      <td>0</td>\n",
       "      <td>5623.422610</td>\n",
       "      <td>33</td>\n",
       "      <td>среднее</td>\n",
       "      <td>1</td>\n",
       "      <td>женат / замужем</td>\n",
       "      <td>0</td>\n",
       "      <td>M</td>\n",
       "      <td>сотрудник</td>\n",
       "      <td>0</td>\n",
       "      <td>145885</td>\n",
       "      <td>покупка жилья</td>\n",
       "    </tr>\n",
       "    <tr>\n",
       "      <th>3</th>\n",
       "      <td>3</td>\n",
       "      <td>4124.747207</td>\n",
       "      <td>32</td>\n",
       "      <td>среднее</td>\n",
       "      <td>1</td>\n",
       "      <td>женат / замужем</td>\n",
       "      <td>0</td>\n",
       "      <td>M</td>\n",
       "      <td>сотрудник</td>\n",
       "      <td>0</td>\n",
       "      <td>267628</td>\n",
       "      <td>дополнительное образование</td>\n",
       "    </tr>\n",
       "    <tr>\n",
       "      <th>4</th>\n",
       "      <td>0</td>\n",
       "      <td>340266.072047</td>\n",
       "      <td>53</td>\n",
       "      <td>среднее</td>\n",
       "      <td>1</td>\n",
       "      <td>гражданский брак</td>\n",
       "      <td>1</td>\n",
       "      <td>F</td>\n",
       "      <td>пенсионер</td>\n",
       "      <td>0</td>\n",
       "      <td>158616</td>\n",
       "      <td>сыграть свадьбу</td>\n",
       "    </tr>\n",
       "    <tr>\n",
       "      <th>...</th>\n",
       "      <td>...</td>\n",
       "      <td>...</td>\n",
       "      <td>...</td>\n",
       "      <td>...</td>\n",
       "      <td>...</td>\n",
       "      <td>...</td>\n",
       "      <td>...</td>\n",
       "      <td>...</td>\n",
       "      <td>...</td>\n",
       "      <td>...</td>\n",
       "      <td>...</td>\n",
       "      <td>...</td>\n",
       "    </tr>\n",
       "    <tr>\n",
       "      <th>21520</th>\n",
       "      <td>1</td>\n",
       "      <td>4529.316663</td>\n",
       "      <td>43</td>\n",
       "      <td>среднее</td>\n",
       "      <td>1</td>\n",
       "      <td>гражданский брак</td>\n",
       "      <td>1</td>\n",
       "      <td>F</td>\n",
       "      <td>компаньон</td>\n",
       "      <td>0</td>\n",
       "      <td>224791</td>\n",
       "      <td>операции с жильем</td>\n",
       "    </tr>\n",
       "    <tr>\n",
       "      <th>21521</th>\n",
       "      <td>0</td>\n",
       "      <td>343937.404131</td>\n",
       "      <td>67</td>\n",
       "      <td>среднее</td>\n",
       "      <td>1</td>\n",
       "      <td>женат / замужем</td>\n",
       "      <td>0</td>\n",
       "      <td>F</td>\n",
       "      <td>пенсионер</td>\n",
       "      <td>0</td>\n",
       "      <td>155999</td>\n",
       "      <td>сделка с автомобилем</td>\n",
       "    </tr>\n",
       "    <tr>\n",
       "      <th>21522</th>\n",
       "      <td>1</td>\n",
       "      <td>2113.346888</td>\n",
       "      <td>38</td>\n",
       "      <td>среднее</td>\n",
       "      <td>1</td>\n",
       "      <td>гражданский брак</td>\n",
       "      <td>1</td>\n",
       "      <td>M</td>\n",
       "      <td>сотрудник</td>\n",
       "      <td>1</td>\n",
       "      <td>89672</td>\n",
       "      <td>недвижимость</td>\n",
       "    </tr>\n",
       "    <tr>\n",
       "      <th>21523</th>\n",
       "      <td>3</td>\n",
       "      <td>3112.481705</td>\n",
       "      <td>38</td>\n",
       "      <td>среднее</td>\n",
       "      <td>1</td>\n",
       "      <td>женат / замужем</td>\n",
       "      <td>0</td>\n",
       "      <td>M</td>\n",
       "      <td>сотрудник</td>\n",
       "      <td>1</td>\n",
       "      <td>244093</td>\n",
       "      <td>на покупку своего автомобиля</td>\n",
       "    </tr>\n",
       "    <tr>\n",
       "      <th>21524</th>\n",
       "      <td>2</td>\n",
       "      <td>1984.507589</td>\n",
       "      <td>40</td>\n",
       "      <td>среднее</td>\n",
       "      <td>1</td>\n",
       "      <td>женат / замужем</td>\n",
       "      <td>0</td>\n",
       "      <td>F</td>\n",
       "      <td>сотрудник</td>\n",
       "      <td>0</td>\n",
       "      <td>82047</td>\n",
       "      <td>на покупку автомобиля</td>\n",
       "    </tr>\n",
       "  </tbody>\n",
       "</table>\n",
       "<p>21331 rows × 12 columns</p>\n",
       "</div>"
      ],
      "text/plain": [
       "       children  days_employed  dob_years education  education_id  \\\n",
       "0             1    8437.673028         42    высшее             0   \n",
       "1             1    4024.803754         36   среднее             1   \n",
       "2             0    5623.422610         33   среднее             1   \n",
       "3             3    4124.747207         32   среднее             1   \n",
       "4             0  340266.072047         53   среднее             1   \n",
       "...         ...            ...        ...       ...           ...   \n",
       "21520         1    4529.316663         43   среднее             1   \n",
       "21521         0  343937.404131         67   среднее             1   \n",
       "21522         1    2113.346888         38   среднее             1   \n",
       "21523         3    3112.481705         38   среднее             1   \n",
       "21524         2    1984.507589         40   среднее             1   \n",
       "\n",
       "          family_status  family_status_id gender income_type  debt  \\\n",
       "0       женат / замужем                 0      F   сотрудник     0   \n",
       "1       женат / замужем                 0      F   сотрудник     0   \n",
       "2       женат / замужем                 0      M   сотрудник     0   \n",
       "3       женат / замужем                 0      M   сотрудник     0   \n",
       "4      гражданский брак                 1      F   пенсионер     0   \n",
       "...                 ...               ...    ...         ...   ...   \n",
       "21520  гражданский брак                 1      F   компаньон     0   \n",
       "21521   женат / замужем                 0      F   пенсионер     0   \n",
       "21522  гражданский брак                 1      M   сотрудник     1   \n",
       "21523   женат / замужем                 0      M   сотрудник     1   \n",
       "21524   женат / замужем                 0      F   сотрудник     0   \n",
       "\n",
       "       total_income                       purpose  \n",
       "0            253875                 покупка жилья  \n",
       "1            112080       приобретение автомобиля  \n",
       "2            145885                 покупка жилья  \n",
       "3            267628    дополнительное образование  \n",
       "4            158616               сыграть свадьбу  \n",
       "...             ...                           ...  \n",
       "21520        224791             операции с жильем  \n",
       "21521        155999          сделка с автомобилем  \n",
       "21522         89672                  недвижимость  \n",
       "21523        244093  на покупку своего автомобиля  \n",
       "21524         82047         на покупку автомобиля  \n",
       "\n",
       "[21331 rows x 12 columns]"
      ]
     },
     "execution_count": 71,
     "metadata": {},
     "output_type": "execute_result"
    }
   ],
   "source": [
    "data = data.drop_duplicates()\n",
    "data# удалите дубликаты"
   ]
  },
  {
   "cell_type": "markdown",
   "id": "e5686ccc",
   "metadata": {
    "deletable": false,
    "editable": false,
    "id": "e5686ccc"
   },
   "source": [
    "### Категоризация данных"
   ]
  },
  {
   "cell_type": "markdown",
   "id": "636e9acd",
   "metadata": {
    "deletable": false,
    "editable": false,
    "id": "636e9acd",
    "tags": [
     "start_task"
    ]
   },
   "source": [
    "**Задание 16. На основании диапазонов, указанных ниже, создайте в датафрейме `data` столбец `total_income_category` с категориями:**\n",
    "\n",
    "- 0–30000 — `'E'`;\n",
    "- 30001–50000 — `'D'`;\n",
    "- 50001–200000 — `'C'`;\n",
    "- 200001–1000000 — `'B'`;\n",
    "- 1000001 и выше — `'A'`.\n",
    "\n",
    "\n",
    "**Например, кредитополучателю с доходом 25000 нужно назначить категорию `'E'`, а клиенту, получающему 235000, — `'B'`. Используйте собственную функцию с именем `categorize_income()` и метод `apply()`.**"
   ]
  },
  {
   "cell_type": "code",
   "execution_count": 72,
   "id": "880a77e5",
   "metadata": {
    "id": "880a77e5"
   },
   "outputs": [],
   "source": [
    "def categorize_income(income):\n",
    "    if income <= 30000:\n",
    "        return 'E'\n",
    "    elif income <= 50000:\n",
    "        return 'D'\n",
    "    elif income <= 200000:\n",
    "        return 'C'\n",
    "    elif income <= 1000000:\n",
    "        return 'B'\n",
    "    else:\n",
    "        return 'A'# создайте функцию categorize_income()"
   ]
  },
  {
   "cell_type": "code",
   "execution_count": 73,
   "id": "6f25f161",
   "metadata": {
    "id": "6f25f161"
   },
   "outputs": [
    {
     "data": {
      "text/plain": [
       "0        B\n",
       "1        C\n",
       "2        C\n",
       "3        B\n",
       "4        C\n",
       "        ..\n",
       "21520    B\n",
       "21521    C\n",
       "21522    C\n",
       "21523    B\n",
       "21524    C\n",
       "Name: total_income_category, Length: 21331, dtype: object"
      ]
     },
     "execution_count": 73,
     "metadata": {},
     "output_type": "execute_result"
    }
   ],
   "source": [
    "data['total_income_category'] = data['total_income'].apply(categorize_income)\n",
    "data['total_income_category']# примените функцию методом apply()"
   ]
  },
  {
   "cell_type": "markdown",
   "id": "3363b685",
   "metadata": {
    "deletable": false,
    "editable": false,
    "id": "3363b685",
    "tags": [
     "start_task"
    ]
   },
   "source": [
    "**Задание 17. Выведите на экран перечень уникальных целей взятия кредита из столбца `purpose`.**"
   ]
  },
  {
   "cell_type": "code",
   "execution_count": 74,
   "id": "e59f2c15",
   "metadata": {
    "id": "e59f2c15"
   },
   "outputs": [
    {
     "data": {
      "text/plain": [
       "array(['покупка жилья', 'приобретение автомобиля',\n",
       "       'дополнительное образование', 'сыграть свадьбу',\n",
       "       'операции с жильем', 'образование', 'на проведение свадьбы',\n",
       "       'покупка жилья для семьи', 'покупка недвижимости',\n",
       "       'покупка коммерческой недвижимости', 'покупка жилой недвижимости',\n",
       "       'строительство собственной недвижимости', 'недвижимость',\n",
       "       'строительство недвижимости', 'на покупку подержанного автомобиля',\n",
       "       'на покупку своего автомобиля',\n",
       "       'операции с коммерческой недвижимостью',\n",
       "       'строительство жилой недвижимости', 'жилье',\n",
       "       'операции со своей недвижимостью', 'автомобили',\n",
       "       'заняться образованием', 'сделка с подержанным автомобилем',\n",
       "       'получение образования', 'автомобиль', 'свадьба',\n",
       "       'получение дополнительного образования', 'покупка своего жилья',\n",
       "       'операции с недвижимостью', 'получение высшего образования',\n",
       "       'свой автомобиль', 'сделка с автомобилем',\n",
       "       'профильное образование', 'высшее образование',\n",
       "       'покупка жилья для сдачи', 'на покупку автомобиля', 'ремонт жилью',\n",
       "       'заняться высшим образованием'], dtype=object)"
      ]
     },
     "execution_count": 74,
     "metadata": {},
     "output_type": "execute_result"
    }
   ],
   "source": [
    "data['purpose'].unique()# ваш код здесь"
   ]
  },
  {
   "cell_type": "markdown",
   "id": "bb33e847",
   "metadata": {
    "deletable": false,
    "editable": false,
    "id": "bb33e847",
    "tags": [
     "start_task"
    ]
   },
   "source": [
    "**Задание 18. Создайте функцию, которая на основании данных из столбца `purpose` сформирует новый столбец `purpose_category`, в который войдут следующие категории:**\n",
    "\n",
    "- `'операции с автомобилем'`,\n",
    "- `'операции с недвижимостью'`,\n",
    "- `'проведение свадьбы'`,\n",
    "- `'получение образования'`.\n",
    "\n",
    "**Например, если в столбце `purpose` находится подстрока `'на покупку автомобиля'`, то в столбце `purpose_category` должна появиться строка `'операции с автомобилем'`.**\n",
    "\n",
    "**Используйте собственную функцию с именем `categorize_purpose()` и метод `apply()`. Изучите данные в столбце `purpose` и определите, какие подстроки помогут вам правильно определить категорию.**"
   ]
  },
  {
   "cell_type": "code",
   "execution_count": 80,
   "id": "63909b83",
   "metadata": {
    "id": "63909b83"
   },
   "outputs": [
    {
     "name": "stdout",
     "output_type": "stream",
     "text": [
      "операция с недвижимостью\n"
     ]
    }
   ],
   "source": [
    "def categorize_purpose(row):\n",
    "    if 'автомобил' in row:\n",
    "        return 'операции с автомобилем'\n",
    "    elif 'недвиж' in row or 'жиль' in row:\n",
    "        return 'операции с недвижимостью'\n",
    "    elif 'свадь' in row:\n",
    "        return 'проведение свадьбы'\n",
    "    elif 'образов' in row:\n",
    "        return 'получение образования'\n",
    "    else:\n",
    "        return 'другое'\n",
    "    # создайте функцию categorize_purpose()\n",
    "print(categorize_purpose('жилье'))\n"
   ]
  },
  {
   "cell_type": "code",
   "execution_count": 76,
   "id": "7cb4a81d",
   "metadata": {
    "id": "7cb4a81d"
   },
   "outputs": [],
   "source": [
    "data['purpose_category'] = data['purpose'].apply(categorize_purpose)# примените функцию методом apply()"
   ]
  },
  {
   "cell_type": "code",
   "execution_count": null,
   "id": "bcdcf98b",
   "metadata": {},
   "outputs": [],
   "source": []
  },
  {
   "cell_type": "code",
   "execution_count": null,
   "id": "0de8df4c",
   "metadata": {},
   "outputs": [],
   "source": []
  }
 ],
 "metadata": {
  "ExecuteTimeLog": [
   {
    "duration": 45,
    "start_time": "2023-02-02T15:57:31.616Z"
   },
   {
    "duration": 6,
    "start_time": "2023-02-02T15:58:20.840Z"
   },
   {
    "duration": 5,
    "start_time": "2023-02-02T15:58:47.651Z"
   },
   {
    "duration": 6,
    "start_time": "2023-02-02T15:59:04.220Z"
   },
   {
    "duration": 425,
    "start_time": "2023-02-02T15:59:19.361Z"
   },
   {
    "duration": 316,
    "start_time": "2023-02-02T15:59:19.789Z"
   },
   {
    "duration": 19,
    "start_time": "2023-02-02T15:59:20.106Z"
   },
   {
    "duration": 3,
    "start_time": "2023-02-02T15:59:54.509Z"
   },
   {
    "duration": 69,
    "start_time": "2023-02-02T15:59:54.516Z"
   },
   {
    "duration": 15,
    "start_time": "2023-02-02T15:59:54.587Z"
   },
   {
    "duration": 437,
    "start_time": "2023-02-02T16:00:05.089Z"
   },
   {
    "duration": 89,
    "start_time": "2023-02-02T16:00:05.528Z"
   },
   {
    "duration": 23,
    "start_time": "2023-02-02T16:00:05.619Z"
   },
   {
    "duration": 22,
    "start_time": "2023-02-02T16:00:05.645Z"
   },
   {
    "duration": 22,
    "start_time": "2023-02-02T16:00:05.669Z"
   },
   {
    "duration": 10,
    "start_time": "2023-02-02T16:00:05.692Z"
   },
   {
    "duration": 15,
    "start_time": "2023-02-02T16:00:05.703Z"
   },
   {
    "duration": 18,
    "start_time": "2023-02-02T16:00:05.720Z"
   },
   {
    "duration": 36,
    "start_time": "2023-02-02T16:00:05.740Z"
   },
   {
    "duration": 11,
    "start_time": "2023-02-02T16:00:05.778Z"
   },
   {
    "duration": 20,
    "start_time": "2023-02-02T16:00:05.790Z"
   },
   {
    "duration": 15,
    "start_time": "2023-02-02T16:00:05.812Z"
   },
   {
    "duration": 28,
    "start_time": "2023-02-02T16:00:05.829Z"
   },
   {
    "duration": 12,
    "start_time": "2023-02-02T16:00:05.859Z"
   },
   {
    "duration": 17,
    "start_time": "2023-02-02T16:00:05.873Z"
   },
   {
    "duration": 27,
    "start_time": "2023-02-02T16:00:05.892Z"
   },
   {
    "duration": 16,
    "start_time": "2023-02-02T16:00:05.920Z"
   },
   {
    "duration": 22,
    "start_time": "2023-02-02T16:00:05.937Z"
   },
   {
    "duration": 16,
    "start_time": "2023-02-02T16:00:05.960Z"
   },
   {
    "duration": 9,
    "start_time": "2023-02-02T16:00:05.977Z"
   },
   {
    "duration": 20,
    "start_time": "2023-02-02T16:00:05.987Z"
   },
   {
    "duration": 17,
    "start_time": "2023-02-02T16:00:06.008Z"
   },
   {
    "duration": 10,
    "start_time": "2023-02-02T16:02:44.423Z"
   },
   {
    "duration": 45,
    "start_time": "2023-02-02T16:55:04.914Z"
   },
   {
    "duration": 389,
    "start_time": "2023-02-02T16:55:08.220Z"
   },
   {
    "duration": 125,
    "start_time": "2023-02-02T16:55:08.611Z"
   },
   {
    "duration": 26,
    "start_time": "2023-02-02T16:55:08.738Z"
   },
   {
    "duration": 21,
    "start_time": "2023-02-02T16:55:08.765Z"
   },
   {
    "duration": 9,
    "start_time": "2023-02-02T16:55:08.788Z"
   },
   {
    "duration": 40,
    "start_time": "2023-02-02T16:55:08.798Z"
   },
   {
    "duration": 4,
    "start_time": "2023-02-02T17:14:30.103Z"
   },
   {
    "duration": 8,
    "start_time": "2023-02-02T17:14:35.735Z"
   },
   {
    "duration": 62,
    "start_time": "2023-02-03T13:34:11.144Z"
   },
   {
    "duration": 7,
    "start_time": "2023-02-03T13:35:22.462Z"
   },
   {
    "duration": 385,
    "start_time": "2023-02-03T13:35:25.770Z"
   },
   {
    "duration": 140,
    "start_time": "2023-02-03T13:35:26.157Z"
   },
   {
    "duration": 25,
    "start_time": "2023-02-03T13:35:26.299Z"
   },
   {
    "duration": 41,
    "start_time": "2023-02-03T13:35:26.327Z"
   },
   {
    "duration": 44,
    "start_time": "2023-02-03T13:35:26.371Z"
   },
   {
    "duration": 50,
    "start_time": "2023-02-03T13:35:26.417Z"
   },
   {
    "duration": 5,
    "start_time": "2023-02-03T13:35:26.469Z"
   },
   {
    "duration": 36,
    "start_time": "2023-02-03T13:35:26.476Z"
   },
   {
    "duration": 37,
    "start_time": "2023-02-03T13:35:26.514Z"
   },
   {
    "duration": 21,
    "start_time": "2023-02-03T13:35:26.553Z"
   },
   {
    "duration": 7,
    "start_time": "2023-02-03T13:35:29.269Z"
   },
   {
    "duration": 7,
    "start_time": "2023-02-03T13:35:32.659Z"
   },
   {
    "duration": 5,
    "start_time": "2023-02-03T13:35:45.279Z"
   },
   {
    "duration": 12,
    "start_time": "2023-02-03T14:02:01.280Z"
   },
   {
    "duration": 10,
    "start_time": "2023-02-03T14:11:52.055Z"
   },
   {
    "duration": 5,
    "start_time": "2023-02-03T14:16:40.405Z"
   },
   {
    "duration": 16,
    "start_time": "2023-02-03T14:31:41.087Z"
   },
   {
    "duration": 34,
    "start_time": "2023-02-03T14:32:04.078Z"
   },
   {
    "duration": 17,
    "start_time": "2023-02-03T14:33:19.756Z"
   },
   {
    "duration": 16,
    "start_time": "2023-02-03T14:33:24.010Z"
   },
   {
    "duration": 3,
    "start_time": "2023-02-03T14:33:26.920Z"
   },
   {
    "duration": 67,
    "start_time": "2023-02-03T14:33:26.924Z"
   },
   {
    "duration": 15,
    "start_time": "2023-02-03T14:33:26.993Z"
   },
   {
    "duration": 17,
    "start_time": "2023-02-03T14:33:27.010Z"
   },
   {
    "duration": 10,
    "start_time": "2023-02-03T14:33:27.029Z"
   },
   {
    "duration": 28,
    "start_time": "2023-02-03T14:33:27.040Z"
   },
   {
    "duration": 4,
    "start_time": "2023-02-03T14:33:27.069Z"
   },
   {
    "duration": 13,
    "start_time": "2023-02-03T14:33:27.074Z"
   },
   {
    "duration": 4,
    "start_time": "2023-02-03T14:33:27.088Z"
   },
   {
    "duration": 27,
    "start_time": "2023-02-03T14:33:27.093Z"
   },
   {
    "duration": 9,
    "start_time": "2023-02-03T14:33:27.122Z"
   },
   {
    "duration": 13,
    "start_time": "2023-02-03T14:33:27.132Z"
   },
   {
    "duration": 10,
    "start_time": "2023-02-03T14:33:27.146Z"
   },
   {
    "duration": 5,
    "start_time": "2023-02-03T14:33:27.157Z"
   },
   {
    "duration": 12,
    "start_time": "2023-02-03T14:33:27.163Z"
   },
   {
    "duration": 17,
    "start_time": "2023-02-03T14:33:27.176Z"
   },
   {
    "duration": 42,
    "start_time": "2023-02-03T14:33:27.194Z"
   },
   {
    "duration": 17,
    "start_time": "2023-02-03T14:33:29.414Z"
   },
   {
    "duration": 32,
    "start_time": "2023-02-03T14:33:35.113Z"
   },
   {
    "duration": 19,
    "start_time": "2023-02-03T14:33:45.003Z"
   },
   {
    "duration": 39,
    "start_time": "2023-02-03T14:44:03.971Z"
   },
   {
    "duration": 3,
    "start_time": "2023-02-03T14:44:07.409Z"
   },
   {
    "duration": 70,
    "start_time": "2023-02-03T14:44:07.414Z"
   },
   {
    "duration": 15,
    "start_time": "2023-02-03T14:44:07.486Z"
   },
   {
    "duration": 35,
    "start_time": "2023-02-03T14:44:07.504Z"
   },
   {
    "duration": 13,
    "start_time": "2023-02-03T14:44:07.541Z"
   },
   {
    "duration": 13,
    "start_time": "2023-02-03T14:44:07.556Z"
   },
   {
    "duration": 3,
    "start_time": "2023-02-03T14:44:07.571Z"
   },
   {
    "duration": 14,
    "start_time": "2023-02-03T14:44:07.575Z"
   },
   {
    "duration": 6,
    "start_time": "2023-02-03T14:44:07.591Z"
   },
   {
    "duration": 30,
    "start_time": "2023-02-03T14:44:07.598Z"
   },
   {
    "duration": 5,
    "start_time": "2023-02-03T14:44:07.630Z"
   },
   {
    "duration": 17,
    "start_time": "2023-02-03T14:44:07.636Z"
   },
   {
    "duration": 10,
    "start_time": "2023-02-03T14:44:07.655Z"
   },
   {
    "duration": 4,
    "start_time": "2023-02-03T14:44:07.667Z"
   },
   {
    "duration": 18,
    "start_time": "2023-02-03T14:44:07.673Z"
   },
   {
    "duration": 42,
    "start_time": "2023-02-03T14:44:07.692Z"
   },
   {
    "duration": 34,
    "start_time": "2023-02-03T14:44:07.736Z"
   },
   {
    "duration": 4,
    "start_time": "2023-02-03T14:44:07.772Z"
   },
   {
    "duration": 17,
    "start_time": "2023-02-03T14:44:07.778Z"
   },
   {
    "duration": 8,
    "start_time": "2023-02-03T14:44:10.139Z"
   },
   {
    "duration": 9,
    "start_time": "2023-02-03T14:44:13.771Z"
   },
   {
    "duration": 11,
    "start_time": "2023-02-03T14:44:22.960Z"
   },
   {
    "duration": 7,
    "start_time": "2023-02-03T14:45:50.676Z"
   },
   {
    "duration": 11,
    "start_time": "2023-02-03T14:59:49.265Z"
   },
   {
    "duration": 3,
    "start_time": "2023-02-03T14:59:52.936Z"
   },
   {
    "duration": 73,
    "start_time": "2023-02-03T14:59:52.943Z"
   },
   {
    "duration": 17,
    "start_time": "2023-02-03T14:59:53.018Z"
   },
   {
    "duration": 30,
    "start_time": "2023-02-03T14:59:53.037Z"
   },
   {
    "duration": 10,
    "start_time": "2023-02-03T14:59:53.070Z"
   },
   {
    "duration": 14,
    "start_time": "2023-02-03T14:59:53.082Z"
   },
   {
    "duration": 3,
    "start_time": "2023-02-03T14:59:53.097Z"
   },
   {
    "duration": 30,
    "start_time": "2023-02-03T14:59:53.102Z"
   },
   {
    "duration": 5,
    "start_time": "2023-02-03T14:59:53.133Z"
   },
   {
    "duration": 24,
    "start_time": "2023-02-03T14:59:53.140Z"
   },
   {
    "duration": 8,
    "start_time": "2023-02-03T14:59:53.167Z"
   },
   {
    "duration": 26,
    "start_time": "2023-02-03T14:59:53.176Z"
   },
   {
    "duration": 10,
    "start_time": "2023-02-03T14:59:53.204Z"
   },
   {
    "duration": 10,
    "start_time": "2023-02-03T14:59:53.215Z"
   },
   {
    "duration": 27,
    "start_time": "2023-02-03T14:59:53.227Z"
   },
   {
    "duration": 26,
    "start_time": "2023-02-03T14:59:53.256Z"
   },
   {
    "duration": 31,
    "start_time": "2023-02-03T14:59:53.284Z"
   },
   {
    "duration": 3,
    "start_time": "2023-02-03T14:59:53.317Z"
   },
   {
    "duration": 31,
    "start_time": "2023-02-03T14:59:53.321Z"
   },
   {
    "duration": 14,
    "start_time": "2023-02-03T14:59:53.353Z"
   },
   {
    "duration": 19,
    "start_time": "2023-02-03T14:59:53.369Z"
   },
   {
    "duration": 11,
    "start_time": "2023-02-03T15:00:01.103Z"
   },
   {
    "duration": 10,
    "start_time": "2023-02-03T15:00:12.369Z"
   },
   {
    "duration": 2,
    "start_time": "2023-02-03T15:00:14.616Z"
   },
   {
    "duration": 79,
    "start_time": "2023-02-03T15:00:14.620Z"
   },
   {
    "duration": 16,
    "start_time": "2023-02-03T15:00:14.701Z"
   },
   {
    "duration": 23,
    "start_time": "2023-02-03T15:00:14.719Z"
   },
   {
    "duration": 9,
    "start_time": "2023-02-03T15:00:14.744Z"
   },
   {
    "duration": 13,
    "start_time": "2023-02-03T15:00:14.754Z"
   },
   {
    "duration": 3,
    "start_time": "2023-02-03T15:00:14.769Z"
   },
   {
    "duration": 9,
    "start_time": "2023-02-03T15:00:14.774Z"
   },
   {
    "duration": 5,
    "start_time": "2023-02-03T15:00:14.784Z"
   },
   {
    "duration": 37,
    "start_time": "2023-02-03T15:00:14.790Z"
   },
   {
    "duration": 4,
    "start_time": "2023-02-03T15:00:14.829Z"
   },
   {
    "duration": 14,
    "start_time": "2023-02-03T15:00:14.835Z"
   },
   {
    "duration": 8,
    "start_time": "2023-02-03T15:00:14.851Z"
   },
   {
    "duration": 5,
    "start_time": "2023-02-03T15:00:14.861Z"
   },
   {
    "duration": 15,
    "start_time": "2023-02-03T15:00:14.867Z"
   },
   {
    "duration": 19,
    "start_time": "2023-02-03T15:00:14.884Z"
   },
   {
    "duration": 41,
    "start_time": "2023-02-03T15:00:14.928Z"
   },
   {
    "duration": 3,
    "start_time": "2023-02-03T15:00:14.971Z"
   },
   {
    "duration": 23,
    "start_time": "2023-02-03T15:00:14.976Z"
   },
   {
    "duration": 17,
    "start_time": "2023-02-03T15:00:15.001Z"
   },
   {
    "duration": 12,
    "start_time": "2023-02-03T15:00:15.027Z"
   },
   {
    "duration": 10,
    "start_time": "2023-02-03T15:00:29.935Z"
   },
   {
    "duration": 2,
    "start_time": "2023-02-03T15:04:07.151Z"
   },
   {
    "duration": 72,
    "start_time": "2023-02-03T15:04:07.155Z"
   },
   {
    "duration": 15,
    "start_time": "2023-02-03T15:04:07.229Z"
   },
   {
    "duration": 24,
    "start_time": "2023-02-03T15:04:07.246Z"
   },
   {
    "duration": 10,
    "start_time": "2023-02-03T15:04:07.272Z"
   },
   {
    "duration": 15,
    "start_time": "2023-02-03T15:04:07.283Z"
   },
   {
    "duration": 3,
    "start_time": "2023-02-03T15:04:07.299Z"
   },
   {
    "duration": 27,
    "start_time": "2023-02-03T15:04:07.304Z"
   },
   {
    "duration": 4,
    "start_time": "2023-02-03T15:04:07.332Z"
   },
   {
    "duration": 7,
    "start_time": "2023-02-03T15:04:07.338Z"
   },
   {
    "duration": 10,
    "start_time": "2023-02-03T15:04:07.347Z"
   },
   {
    "duration": 15,
    "start_time": "2023-02-03T15:04:07.358Z"
   },
   {
    "duration": 11,
    "start_time": "2023-02-03T15:04:07.375Z"
   },
   {
    "duration": 4,
    "start_time": "2023-02-03T15:04:07.388Z"
   },
   {
    "duration": 41,
    "start_time": "2023-02-03T15:04:07.394Z"
   },
   {
    "duration": 20,
    "start_time": "2023-02-03T15:04:07.436Z"
   },
   {
    "duration": 33,
    "start_time": "2023-02-03T15:04:07.458Z"
   },
   {
    "duration": 3,
    "start_time": "2023-02-03T15:04:07.492Z"
   },
   {
    "duration": 36,
    "start_time": "2023-02-03T15:04:07.497Z"
   },
   {
    "duration": 9,
    "start_time": "2023-02-03T15:04:07.534Z"
   },
   {
    "duration": 3,
    "start_time": "2023-02-03T15:07:14.486Z"
   },
   {
    "duration": 117,
    "start_time": "2023-02-03T15:07:14.491Z"
   },
   {
    "duration": 16,
    "start_time": "2023-02-03T15:07:14.610Z"
   },
   {
    "duration": 20,
    "start_time": "2023-02-03T15:07:14.628Z"
   },
   {
    "duration": 10,
    "start_time": "2023-02-03T15:07:14.650Z"
   },
   {
    "duration": 13,
    "start_time": "2023-02-03T15:07:14.662Z"
   },
   {
    "duration": 3,
    "start_time": "2023-02-03T15:07:14.676Z"
   },
   {
    "duration": 11,
    "start_time": "2023-02-03T15:07:14.680Z"
   },
   {
    "duration": 8,
    "start_time": "2023-02-03T15:07:14.693Z"
   },
   {
    "duration": 25,
    "start_time": "2023-02-03T15:07:14.702Z"
   },
   {
    "duration": 11,
    "start_time": "2023-02-03T15:07:14.730Z"
   },
   {
    "duration": 25,
    "start_time": "2023-02-03T15:07:14.743Z"
   },
   {
    "duration": 9,
    "start_time": "2023-02-03T15:07:14.770Z"
   },
   {
    "duration": 5,
    "start_time": "2023-02-03T15:07:14.781Z"
   },
   {
    "duration": 17,
    "start_time": "2023-02-03T15:07:14.787Z"
   },
   {
    "duration": 27,
    "start_time": "2023-02-03T15:07:14.806Z"
   },
   {
    "duration": 29,
    "start_time": "2023-02-03T15:07:14.835Z"
   },
   {
    "duration": 14,
    "start_time": "2023-02-03T15:07:14.867Z"
   },
   {
    "duration": 20,
    "start_time": "2023-02-03T15:07:14.883Z"
   },
   {
    "duration": 13,
    "start_time": "2023-02-03T15:07:14.904Z"
   },
   {
    "duration": 418,
    "start_time": "2023-02-03T15:08:56.704Z"
   },
   {
    "duration": 68,
    "start_time": "2023-02-03T15:08:57.124Z"
   },
   {
    "duration": 22,
    "start_time": "2023-02-03T15:08:57.193Z"
   },
   {
    "duration": 14,
    "start_time": "2023-02-03T15:08:57.217Z"
   },
   {
    "duration": 9,
    "start_time": "2023-02-03T15:08:57.233Z"
   },
   {
    "duration": 13,
    "start_time": "2023-02-03T15:08:57.244Z"
   },
   {
    "duration": 3,
    "start_time": "2023-02-03T15:08:57.259Z"
   },
   {
    "duration": 12,
    "start_time": "2023-02-03T15:08:57.264Z"
   },
   {
    "duration": 4,
    "start_time": "2023-02-03T15:08:57.278Z"
   },
   {
    "duration": 6,
    "start_time": "2023-02-03T15:08:57.285Z"
   },
   {
    "duration": 36,
    "start_time": "2023-02-03T15:08:57.292Z"
   },
   {
    "duration": 13,
    "start_time": "2023-02-03T15:08:57.330Z"
   },
   {
    "duration": 10,
    "start_time": "2023-02-03T15:08:57.344Z"
   },
   {
    "duration": 6,
    "start_time": "2023-02-03T15:08:57.356Z"
   },
   {
    "duration": 12,
    "start_time": "2023-02-03T15:08:57.363Z"
   },
   {
    "duration": 19,
    "start_time": "2023-02-03T15:08:57.376Z"
   },
   {
    "duration": 59,
    "start_time": "2023-02-03T15:08:57.396Z"
   },
   {
    "duration": 3,
    "start_time": "2023-02-03T15:08:57.457Z"
   },
   {
    "duration": 13,
    "start_time": "2023-02-03T15:08:57.462Z"
   },
   {
    "duration": 5,
    "start_time": "2023-02-03T15:08:57.476Z"
   },
   {
    "duration": 3,
    "start_time": "2023-02-03T15:08:57.483Z"
   },
   {
    "duration": 11,
    "start_time": "2023-02-03T15:08:57.487Z"
   },
   {
    "duration": 4,
    "start_time": "2023-02-03T15:13:08.896Z"
   },
   {
    "duration": 4,
    "start_time": "2023-02-03T15:13:14.816Z"
   },
   {
    "duration": 76,
    "start_time": "2023-02-03T15:15:01.451Z"
   },
   {
    "duration": 72,
    "start_time": "2023-02-03T15:15:29.740Z"
   },
   {
    "duration": 69,
    "start_time": "2023-02-03T15:15:34.565Z"
   },
   {
    "duration": 76,
    "start_time": "2023-02-03T15:15:51.738Z"
   },
   {
    "duration": 9,
    "start_time": "2023-02-03T15:15:53.865Z"
   },
   {
    "duration": 3,
    "start_time": "2023-02-03T15:16:01.981Z"
   },
   {
    "duration": 80,
    "start_time": "2023-02-03T15:16:01.985Z"
   },
   {
    "duration": 15,
    "start_time": "2023-02-03T15:16:02.067Z"
   },
   {
    "duration": 17,
    "start_time": "2023-02-03T15:16:02.084Z"
   },
   {
    "duration": 27,
    "start_time": "2023-02-03T15:16:02.104Z"
   },
   {
    "duration": 14,
    "start_time": "2023-02-03T15:16:02.133Z"
   },
   {
    "duration": 4,
    "start_time": "2023-02-03T15:16:02.148Z"
   },
   {
    "duration": 11,
    "start_time": "2023-02-03T15:16:02.154Z"
   },
   {
    "duration": 5,
    "start_time": "2023-02-03T15:16:02.166Z"
   },
   {
    "duration": 8,
    "start_time": "2023-02-03T15:16:02.172Z"
   },
   {
    "duration": 4,
    "start_time": "2023-02-03T15:16:02.182Z"
   },
   {
    "duration": 48,
    "start_time": "2023-02-03T15:16:02.188Z"
   },
   {
    "duration": 10,
    "start_time": "2023-02-03T15:16:02.239Z"
   },
   {
    "duration": 6,
    "start_time": "2023-02-03T15:16:02.250Z"
   },
   {
    "duration": 11,
    "start_time": "2023-02-03T15:16:02.258Z"
   },
   {
    "duration": 20,
    "start_time": "2023-02-03T15:16:02.270Z"
   },
   {
    "duration": 57,
    "start_time": "2023-02-03T15:16:02.292Z"
   },
   {
    "duration": 3,
    "start_time": "2023-02-03T15:16:02.351Z"
   },
   {
    "duration": 15,
    "start_time": "2023-02-03T15:16:02.356Z"
   },
   {
    "duration": 6,
    "start_time": "2023-02-03T15:16:02.373Z"
   },
   {
    "duration": 71,
    "start_time": "2023-02-03T15:16:04.182Z"
   },
   {
    "duration": 401,
    "start_time": "2023-02-03T15:16:09.234Z"
   },
   {
    "duration": 67,
    "start_time": "2023-02-03T15:16:09.637Z"
   },
   {
    "duration": 22,
    "start_time": "2023-02-03T15:16:09.705Z"
   },
   {
    "duration": 13,
    "start_time": "2023-02-03T15:16:09.729Z"
   },
   {
    "duration": 9,
    "start_time": "2023-02-03T15:16:09.744Z"
   },
   {
    "duration": 15,
    "start_time": "2023-02-03T15:16:09.754Z"
   },
   {
    "duration": 3,
    "start_time": "2023-02-03T15:16:09.770Z"
   },
   {
    "duration": 11,
    "start_time": "2023-02-03T15:16:09.775Z"
   },
   {
    "duration": 5,
    "start_time": "2023-02-03T15:16:09.787Z"
   },
   {
    "duration": 8,
    "start_time": "2023-02-03T15:16:09.826Z"
   },
   {
    "duration": 6,
    "start_time": "2023-02-03T15:16:09.836Z"
   },
   {
    "duration": 19,
    "start_time": "2023-02-03T15:16:09.844Z"
   },
   {
    "duration": 10,
    "start_time": "2023-02-03T15:16:09.864Z"
   },
   {
    "duration": 7,
    "start_time": "2023-02-03T15:16:09.875Z"
   },
   {
    "duration": 33,
    "start_time": "2023-02-03T15:16:09.884Z"
   },
   {
    "duration": 19,
    "start_time": "2023-02-03T15:16:09.919Z"
   },
   {
    "duration": 31,
    "start_time": "2023-02-03T15:16:09.940Z"
   },
   {
    "duration": 4,
    "start_time": "2023-02-03T15:16:09.972Z"
   },
   {
    "duration": 16,
    "start_time": "2023-02-03T15:16:09.977Z"
   },
   {
    "duration": 12,
    "start_time": "2023-02-03T15:16:09.995Z"
   },
   {
    "duration": 74,
    "start_time": "2023-02-03T15:16:10.027Z"
   },
   {
    "duration": 0,
    "start_time": "2023-02-03T15:16:10.103Z"
   },
   {
    "duration": 92,
    "start_time": "2023-02-03T15:16:58.620Z"
   },
   {
    "duration": 4,
    "start_time": "2023-02-03T15:17:19.380Z"
   },
   {
    "duration": 5,
    "start_time": "2023-02-03T15:17:36.020Z"
   },
   {
    "duration": 4,
    "start_time": "2023-02-03T15:17:48.308Z"
   },
   {
    "duration": 4,
    "start_time": "2023-02-03T15:17:51.656Z"
   },
   {
    "duration": 3,
    "start_time": "2023-02-03T15:18:02.462Z"
   },
   {
    "duration": 7,
    "start_time": "2023-02-03T15:18:04.352Z"
   },
   {
    "duration": 3,
    "start_time": "2023-02-03T15:18:07.164Z"
   },
   {
    "duration": 4,
    "start_time": "2023-02-03T15:19:33.616Z"
   },
   {
    "duration": 4,
    "start_time": "2023-02-03T15:19:36.362Z"
   },
   {
    "duration": 60,
    "start_time": "2023-02-03T15:29:53.423Z"
   },
   {
    "duration": 2,
    "start_time": "2023-02-03T15:33:50.518Z"
   },
   {
    "duration": 64,
    "start_time": "2023-02-03T15:33:50.530Z"
   },
   {
    "duration": 15,
    "start_time": "2023-02-03T15:33:50.596Z"
   },
   {
    "duration": 14,
    "start_time": "2023-02-03T15:33:50.612Z"
   },
   {
    "duration": 9,
    "start_time": "2023-02-03T15:33:50.628Z"
   },
   {
    "duration": 18,
    "start_time": "2023-02-03T15:33:50.640Z"
   },
   {
    "duration": 4,
    "start_time": "2023-02-03T15:33:50.659Z"
   },
   {
    "duration": 11,
    "start_time": "2023-02-03T15:33:50.664Z"
   },
   {
    "duration": 4,
    "start_time": "2023-02-03T15:33:50.676Z"
   },
   {
    "duration": 6,
    "start_time": "2023-02-03T15:33:50.681Z"
   },
   {
    "duration": 6,
    "start_time": "2023-02-03T15:33:50.689Z"
   },
   {
    "duration": 43,
    "start_time": "2023-02-03T15:33:50.696Z"
   },
   {
    "duration": 9,
    "start_time": "2023-02-03T15:33:50.741Z"
   },
   {
    "duration": 4,
    "start_time": "2023-02-03T15:33:50.751Z"
   },
   {
    "duration": 11,
    "start_time": "2023-02-03T15:33:50.757Z"
   },
   {
    "duration": 19,
    "start_time": "2023-02-03T15:33:50.770Z"
   },
   {
    "duration": 60,
    "start_time": "2023-02-03T15:33:50.791Z"
   },
   {
    "duration": 3,
    "start_time": "2023-02-03T15:33:50.852Z"
   },
   {
    "duration": 12,
    "start_time": "2023-02-03T15:33:50.857Z"
   },
   {
    "duration": 7,
    "start_time": "2023-02-03T15:33:50.870Z"
   },
   {
    "duration": 394,
    "start_time": "2023-02-03T15:33:56.194Z"
   },
   {
    "duration": 79,
    "start_time": "2023-02-03T15:33:56.591Z"
   },
   {
    "duration": 25,
    "start_time": "2023-02-03T15:33:56.671Z"
   },
   {
    "duration": 15,
    "start_time": "2023-02-03T15:33:56.697Z"
   },
   {
    "duration": 20,
    "start_time": "2023-02-03T15:33:56.714Z"
   },
   {
    "duration": 13,
    "start_time": "2023-02-03T15:33:56.735Z"
   },
   {
    "duration": 3,
    "start_time": "2023-02-03T15:33:56.750Z"
   },
   {
    "duration": 13,
    "start_time": "2023-02-03T15:33:56.754Z"
   },
   {
    "duration": 4,
    "start_time": "2023-02-03T15:33:56.769Z"
   },
   {
    "duration": 10,
    "start_time": "2023-02-03T15:33:56.774Z"
   },
   {
    "duration": 4,
    "start_time": "2023-02-03T15:33:56.786Z"
   },
   {
    "duration": 38,
    "start_time": "2023-02-03T15:33:56.791Z"
   },
   {
    "duration": 8,
    "start_time": "2023-02-03T15:33:56.831Z"
   },
   {
    "duration": 12,
    "start_time": "2023-02-03T15:33:56.841Z"
   },
   {
    "duration": 16,
    "start_time": "2023-02-03T15:33:56.854Z"
   },
   {
    "duration": 21,
    "start_time": "2023-02-03T15:33:56.872Z"
   },
   {
    "duration": 50,
    "start_time": "2023-02-03T15:33:56.895Z"
   },
   {
    "duration": 4,
    "start_time": "2023-02-03T15:33:56.947Z"
   },
   {
    "duration": 31,
    "start_time": "2023-02-03T15:33:56.953Z"
   },
   {
    "duration": 17,
    "start_time": "2023-02-03T15:33:56.986Z"
   },
   {
    "duration": 11,
    "start_time": "2023-02-03T15:33:57.005Z"
   },
   {
    "duration": 19,
    "start_time": "2023-02-03T15:33:57.018Z"
   },
   {
    "duration": 4,
    "start_time": "2023-02-03T16:00:17.039Z"
   },
   {
    "duration": 13,
    "start_time": "2023-02-03T16:00:34.171Z"
   },
   {
    "duration": 73,
    "start_time": "2023-02-03T16:04:46.141Z"
   },
   {
    "duration": 393,
    "start_time": "2023-02-03T16:07:15.638Z"
   },
   {
    "duration": 71,
    "start_time": "2023-02-03T16:07:16.033Z"
   },
   {
    "duration": 26,
    "start_time": "2023-02-03T16:07:16.106Z"
   },
   {
    "duration": 14,
    "start_time": "2023-02-03T16:07:16.134Z"
   },
   {
    "duration": 15,
    "start_time": "2023-02-03T16:07:16.150Z"
   },
   {
    "duration": 13,
    "start_time": "2023-02-03T16:07:16.166Z"
   },
   {
    "duration": 5,
    "start_time": "2023-02-03T16:07:16.180Z"
   },
   {
    "duration": 23,
    "start_time": "2023-02-03T16:07:16.187Z"
   },
   {
    "duration": 11,
    "start_time": "2023-02-03T16:07:16.211Z"
   },
   {
    "duration": 16,
    "start_time": "2023-02-03T16:07:16.223Z"
   },
   {
    "duration": 18,
    "start_time": "2023-02-03T16:07:16.240Z"
   },
   {
    "duration": 50,
    "start_time": "2023-02-03T16:07:16.259Z"
   },
   {
    "duration": 35,
    "start_time": "2023-02-03T16:07:16.311Z"
   },
   {
    "duration": 14,
    "start_time": "2023-02-03T16:07:16.348Z"
   },
   {
    "duration": 24,
    "start_time": "2023-02-03T16:07:16.363Z"
   },
   {
    "duration": 34,
    "start_time": "2023-02-03T16:07:16.388Z"
   },
   {
    "duration": 33,
    "start_time": "2023-02-03T16:07:16.424Z"
   },
   {
    "duration": 3,
    "start_time": "2023-02-03T16:07:16.459Z"
   },
   {
    "duration": 31,
    "start_time": "2023-02-03T16:07:16.463Z"
   },
   {
    "duration": 15,
    "start_time": "2023-02-03T16:07:16.496Z"
   },
   {
    "duration": 13,
    "start_time": "2023-02-03T16:07:16.512Z"
   },
   {
    "duration": 26,
    "start_time": "2023-02-03T16:07:16.527Z"
   },
   {
    "duration": 12,
    "start_time": "2023-02-03T16:07:20.203Z"
   },
   {
    "duration": 404,
    "start_time": "2023-02-03T16:13:37.630Z"
   },
   {
    "duration": 70,
    "start_time": "2023-02-03T16:13:38.035Z"
   },
   {
    "duration": 22,
    "start_time": "2023-02-03T16:13:38.107Z"
   },
   {
    "duration": 17,
    "start_time": "2023-02-03T16:13:38.132Z"
   },
   {
    "duration": 9,
    "start_time": "2023-02-03T16:13:38.150Z"
   },
   {
    "duration": 12,
    "start_time": "2023-02-03T16:13:38.161Z"
   },
   {
    "duration": 3,
    "start_time": "2023-02-03T16:13:38.174Z"
   },
   {
    "duration": 11,
    "start_time": "2023-02-03T16:13:38.178Z"
   },
   {
    "duration": 4,
    "start_time": "2023-02-03T16:13:38.190Z"
   },
   {
    "duration": 34,
    "start_time": "2023-02-03T16:13:38.197Z"
   },
   {
    "duration": 5,
    "start_time": "2023-02-03T16:13:38.233Z"
   },
   {
    "duration": 13,
    "start_time": "2023-02-03T16:13:38.240Z"
   },
   {
    "duration": 8,
    "start_time": "2023-02-03T16:13:38.255Z"
   },
   {
    "duration": 3,
    "start_time": "2023-02-03T16:13:38.265Z"
   },
   {
    "duration": 12,
    "start_time": "2023-02-03T16:13:38.270Z"
   },
   {
    "duration": 48,
    "start_time": "2023-02-03T16:13:38.284Z"
   },
   {
    "duration": 32,
    "start_time": "2023-02-03T16:13:38.334Z"
   },
   {
    "duration": 3,
    "start_time": "2023-02-03T16:13:38.368Z"
   },
   {
    "duration": 13,
    "start_time": "2023-02-03T16:13:38.373Z"
   },
   {
    "duration": 5,
    "start_time": "2023-02-03T16:13:38.388Z"
   },
   {
    "duration": 3,
    "start_time": "2023-02-03T16:13:38.395Z"
   },
   {
    "duration": 9,
    "start_time": "2023-02-03T16:13:38.428Z"
   },
   {
    "duration": 4,
    "start_time": "2023-02-03T16:22:32.476Z"
   },
   {
    "duration": 4,
    "start_time": "2023-02-03T16:22:42.717Z"
   },
   {
    "duration": 4,
    "start_time": "2023-02-03T16:22:51.844Z"
   },
   {
    "duration": 4,
    "start_time": "2023-02-03T16:22:59.911Z"
   },
   {
    "duration": 3,
    "start_time": "2023-02-03T16:23:04.975Z"
   },
   {
    "duration": 4,
    "start_time": "2023-02-03T16:23:17.497Z"
   },
   {
    "duration": 5,
    "start_time": "2023-02-03T16:23:20.426Z"
   },
   {
    "duration": 4,
    "start_time": "2023-02-03T16:23:29.117Z"
   },
   {
    "duration": 5,
    "start_time": "2023-02-03T16:23:36.511Z"
   },
   {
    "duration": 4,
    "start_time": "2023-02-03T16:31:10.400Z"
   },
   {
    "duration": 4,
    "start_time": "2023-02-03T16:31:20.248Z"
   },
   {
    "duration": 4,
    "start_time": "2023-02-03T16:31:36.825Z"
   },
   {
    "duration": 3,
    "start_time": "2023-02-03T16:33:22.732Z"
   },
   {
    "duration": 78,
    "start_time": "2023-02-03T16:33:22.737Z"
   },
   {
    "duration": 15,
    "start_time": "2023-02-03T16:33:22.817Z"
   },
   {
    "duration": 14,
    "start_time": "2023-02-03T16:33:22.834Z"
   },
   {
    "duration": 9,
    "start_time": "2023-02-03T16:33:22.851Z"
   },
   {
    "duration": 13,
    "start_time": "2023-02-03T16:33:22.861Z"
   },
   {
    "duration": 4,
    "start_time": "2023-02-03T16:33:22.875Z"
   },
   {
    "duration": 8,
    "start_time": "2023-02-03T16:33:22.881Z"
   },
   {
    "duration": 5,
    "start_time": "2023-02-03T16:33:22.926Z"
   },
   {
    "duration": 7,
    "start_time": "2023-02-03T16:33:22.933Z"
   },
   {
    "duration": 4,
    "start_time": "2023-02-03T16:33:22.943Z"
   },
   {
    "duration": 13,
    "start_time": "2023-02-03T16:33:22.949Z"
   },
   {
    "duration": 9,
    "start_time": "2023-02-03T16:33:22.964Z"
   },
   {
    "duration": 6,
    "start_time": "2023-02-03T16:33:22.974Z"
   },
   {
    "duration": 45,
    "start_time": "2023-02-03T16:33:22.982Z"
   },
   {
    "duration": 20,
    "start_time": "2023-02-03T16:33:23.029Z"
   },
   {
    "duration": 30,
    "start_time": "2023-02-03T16:33:23.050Z"
   },
   {
    "duration": 3,
    "start_time": "2023-02-03T16:33:23.082Z"
   },
   {
    "duration": 14,
    "start_time": "2023-02-03T16:33:23.086Z"
   },
   {
    "duration": 27,
    "start_time": "2023-02-03T16:33:23.101Z"
   },
   {
    "duration": 2,
    "start_time": "2023-02-03T16:33:25.305Z"
   },
   {
    "duration": 64,
    "start_time": "2023-02-03T16:33:25.310Z"
   },
   {
    "duration": 16,
    "start_time": "2023-02-03T16:33:25.376Z"
   },
   {
    "duration": 16,
    "start_time": "2023-02-03T16:33:25.393Z"
   },
   {
    "duration": 10,
    "start_time": "2023-02-03T16:33:25.426Z"
   },
   {
    "duration": 11,
    "start_time": "2023-02-03T16:33:25.437Z"
   },
   {
    "duration": 3,
    "start_time": "2023-02-03T16:33:25.450Z"
   },
   {
    "duration": 9,
    "start_time": "2023-02-03T16:33:25.455Z"
   },
   {
    "duration": 5,
    "start_time": "2023-02-03T16:33:25.465Z"
   },
   {
    "duration": 5,
    "start_time": "2023-02-03T16:33:25.471Z"
   },
   {
    "duration": 7,
    "start_time": "2023-02-03T16:33:25.478Z"
   },
   {
    "duration": 51,
    "start_time": "2023-02-03T16:33:25.486Z"
   },
   {
    "duration": 8,
    "start_time": "2023-02-03T16:33:25.539Z"
   },
   {
    "duration": 3,
    "start_time": "2023-02-03T16:33:25.549Z"
   },
   {
    "duration": 11,
    "start_time": "2023-02-03T16:33:25.554Z"
   },
   {
    "duration": 20,
    "start_time": "2023-02-03T16:33:25.566Z"
   },
   {
    "duration": 54,
    "start_time": "2023-02-03T16:33:25.587Z"
   },
   {
    "duration": 4,
    "start_time": "2023-02-03T16:33:25.644Z"
   },
   {
    "duration": 21,
    "start_time": "2023-02-03T16:33:25.650Z"
   },
   {
    "duration": 6,
    "start_time": "2023-02-03T16:33:25.673Z"
   },
   {
    "duration": 5,
    "start_time": "2023-02-03T16:33:25.680Z"
   },
   {
    "duration": 11,
    "start_time": "2023-02-03T16:33:25.686Z"
   },
   {
    "duration": 5,
    "start_time": "2023-02-03T16:36:37.854Z"
   },
   {
    "duration": 3,
    "start_time": "2023-02-03T16:36:41.443Z"
   },
   {
    "duration": 4,
    "start_time": "2023-02-03T16:36:45.397Z"
   },
   {
    "duration": 4,
    "start_time": "2023-02-03T16:40:59.025Z"
   }
  ],
  "colab": {
   "provenance": []
  },
  "kernelspec": {
   "display_name": "Python 3 (ipykernel)",
   "language": "python",
   "name": "python3"
  },
  "language_info": {
   "codemirror_mode": {
    "name": "ipython",
    "version": 3
   },
   "file_extension": ".py",
   "mimetype": "text/x-python",
   "name": "python",
   "nbconvert_exporter": "python",
   "pygments_lexer": "ipython3",
   "version": "3.10.9"
  },
  "toc": {
   "base_numbering": 1,
   "nav_menu": {},
   "number_sections": true,
   "sideBar": true,
   "skip_h1_title": true,
   "title_cell": "Table of Contents",
   "title_sidebar": "Contents",
   "toc_cell": false,
   "toc_position": {},
   "toc_section_display": true,
   "toc_window_display": false
  }
 },
 "nbformat": 4,
 "nbformat_minor": 5
}
